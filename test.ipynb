{
 "cells": [
  {
   "cell_type": "code",
   "execution_count": 2,
   "id": "194ac355",
   "metadata": {},
   "outputs": [],
   "source": [
    "from inference_sdk import InferenceHTTPClient\n",
    "\n",
    "CLIENT = InferenceHTTPClient(\n",
    "    api_url=\"https://serverless.roboflow.com\",\n",
    "    api_key=\"zlgGRpGhzK0AKh182KWN\"\n",
    ")\n",
    "\n",
    "result = CLIENT.infer('D:/Workspace/Classes/TuDuyTinhToan/cleaning-service-recommendation/data/test/images/5_png.rf.6f6c8c7e556e613e727f62a70691dff1.jpg', model_id=\"mess-detection/1\")"
   ]
  },
  {
   "cell_type": "code",
   "execution_count": 3,
   "id": "73156252",
   "metadata": {},
   "outputs": [
    {
     "data": {
      "text/plain": [
       "{'inference_id': 'd88be687-89c1-4b3b-8ef8-1a8dad91ac79',\n",
       " 'time': 0.012163331000920152,\n",
       " 'image': {'width': 640, 'height': 640},\n",
       " 'predictions': [{'x': 359.5,\n",
       "   'y': 364.5,\n",
       "   'width': 115.0,\n",
       "   'height': 67.0,\n",
       "   'confidence': 0.7388848066329956,\n",
       "   'class': 'scattered-items',\n",
       "   'class_id': 1,\n",
       "   'detection_id': 'c6ffa35f-bc85-41af-82a8-d911c0389c9c'}]}"
      ]
     },
     "execution_count": 3,
     "metadata": {},
     "output_type": "execute_result"
    }
   ],
   "source": [
    "result"
   ]
  }
 ],
 "metadata": {
  "kernelspec": {
   "display_name": "Python 3",
   "language": "python",
   "name": "python3"
  },
  "language_info": {
   "codemirror_mode": {
    "name": "ipython",
    "version": 3
   },
   "file_extension": ".py",
   "mimetype": "text/x-python",
   "name": "python",
   "nbconvert_exporter": "python",
   "pygments_lexer": "ipython3",
   "version": "3.12.5"
  }
 },
 "nbformat": 4,
 "nbformat_minor": 5
}
