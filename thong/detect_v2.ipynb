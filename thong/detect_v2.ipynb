{
 "cells": [
  {
   "cell_type": "markdown",
   "id": "5ba55f67",
   "metadata": {},
   "source": [
    "### Thử trên YOLO nhó"
   ]
  },
  {
   "cell_type": "code",
   "execution_count": 1,
   "id": "73c326e2",
   "metadata": {},
   "outputs": [],
   "source": [
    "from ultralytics import YOLO"
   ]
  },
  {
   "cell_type": "code",
   "execution_count": 2,
   "id": "716a566c",
   "metadata": {},
   "outputs": [],
   "source": [
    "model = YOLO(\"weights/yolo11n.pt\")"
   ]
  },
  {
   "cell_type": "code",
   "execution_count": null,
   "id": "5746b090",
   "metadata": {},
   "outputs": [
    {
     "name": "stdout",
     "output_type": "stream",
     "text": [
      "Ultralytics 8.3.157  Python-3.10.11 torch-2.7.1+cu126 CUDA:0 (NVIDIA GeForce RTX 4050 Laptop GPU, 6140MiB)\n",
      "\u001b[34m\u001b[1mengine\\trainer: \u001b[0magnostic_nms=False, amp=False, augment=False, auto_augment=randaugment, batch=16, bgr=0.0, box=7.5, cache=False, cfg=None, classes=None, close_mosaic=10, cls=0.5, conf=None, copy_paste=0.0, copy_paste_mode=flip, cos_lr=False, cutmix=0.0, data=./data/data.yaml, degrees=0.0, deterministic=True, device=None, dfl=1.5, dnn=False, dropout=0.0, dynamic=False, embed=None, epochs=100, erasing=0.4, exist_ok=False, fliplr=0.5, flipud=0.0, format=torchscript, fraction=1.0, freeze=None, half=False, hsv_h=0.015, hsv_s=0.7, hsv_v=0.4, imgsz=640, int8=False, iou=0.7, keras=False, kobj=1.0, line_width=None, lr0=0.01, lrf=0.01, mask_ratio=4, max_det=300, mixup=0.0, mode=train, model=weights/yolo11n.pt, momentum=0.937, mosaic=1.0, multi_scale=False, name=train8, nbs=64, nms=False, opset=None, optimize=False, optimizer=auto, overlap_mask=True, patience=100, perspective=0.0, plots=True, pose=12.0, pretrained=True, profile=False, project=None, rect=False, resume=False, retina_masks=False, save=True, save_conf=False, save_crop=False, save_dir=c:\\Users\\mytho\\runs\\detect\\train8, save_frames=False, save_json=False, save_period=-1, save_txt=False, scale=0.5, seed=0, shear=0.0, show=False, show_boxes=True, show_conf=True, show_labels=True, simplify=True, single_cls=False, source=None, split=val, stream_buffer=False, task=detect, time=None, tracker=botsort.yaml, translate=0.1, val=True, verbose=True, vid_stride=1, visualize=False, warmup_bias_lr=0.1, warmup_epochs=3.0, warmup_momentum=0.8, weight_decay=0.0005, workers=8, workspace=None\n",
      "Overriding model.yaml nc=80 with nc=1\n",
      "\n",
      "                   from  n    params  module                                       arguments                     \n",
      "  0                  -1  1       464  ultralytics.nn.modules.conv.Conv             [3, 16, 3, 2]                 \n",
      "  1                  -1  1      4672  ultralytics.nn.modules.conv.Conv             [16, 32, 3, 2]                \n",
      "  2                  -1  1      6640  ultralytics.nn.modules.block.C3k2            [32, 64, 1, False, 0.25]      \n",
      "  3                  -1  1     36992  ultralytics.nn.modules.conv.Conv             [64, 64, 3, 2]                \n",
      "  4                  -1  1     26080  ultralytics.nn.modules.block.C3k2            [64, 128, 1, False, 0.25]     \n",
      "  5                  -1  1    147712  ultralytics.nn.modules.conv.Conv             [128, 128, 3, 2]              \n",
      "  6                  -1  1     87040  ultralytics.nn.modules.block.C3k2            [128, 128, 1, True]           \n",
      "  7                  -1  1    295424  ultralytics.nn.modules.conv.Conv             [128, 256, 3, 2]              \n",
      "  8                  -1  1    346112  ultralytics.nn.modules.block.C3k2            [256, 256, 1, True]           \n",
      "  9                  -1  1    164608  ultralytics.nn.modules.block.SPPF            [256, 256, 5]                 \n",
      " 10                  -1  1    249728  ultralytics.nn.modules.block.C2PSA           [256, 256, 1]                 \n",
      " 11                  -1  1         0  torch.nn.modules.upsampling.Upsample         [None, 2, 'nearest']          \n",
      " 12             [-1, 6]  1         0  ultralytics.nn.modules.conv.Concat           [1]                           \n",
      " 13                  -1  1    111296  ultralytics.nn.modules.block.C3k2            [384, 128, 1, False]          \n",
      " 14                  -1  1         0  torch.nn.modules.upsampling.Upsample         [None, 2, 'nearest']          \n",
      " 15             [-1, 4]  1         0  ultralytics.nn.modules.conv.Concat           [1]                           \n",
      " 16                  -1  1     32096  ultralytics.nn.modules.block.C3k2            [256, 64, 1, False]           \n",
      " 17                  -1  1     36992  ultralytics.nn.modules.conv.Conv             [64, 64, 3, 2]                \n",
      " 18            [-1, 13]  1         0  ultralytics.nn.modules.conv.Concat           [1]                           \n",
      " 19                  -1  1     86720  ultralytics.nn.modules.block.C3k2            [192, 128, 1, False]          \n",
      " 20                  -1  1    147712  ultralytics.nn.modules.conv.Conv             [128, 128, 3, 2]              \n",
      " 21            [-1, 10]  1         0  ultralytics.nn.modules.conv.Concat           [1]                           \n",
      " 22                  -1  1    378880  ultralytics.nn.modules.block.C3k2            [384, 256, 1, True]           \n",
      " 23        [16, 19, 22]  1    430867  ultralytics.nn.modules.head.Detect           [1, [64, 128, 256]]           \n",
      "YOLO11n summary: 181 layers, 2,590,035 parameters, 2,590,019 gradients, 6.4 GFLOPs\n",
      "\n",
      "Transferred 448/499 items from pretrained weights\n",
      "Freezing layer 'model.23.dfl.conv.weight'\n",
      "\u001b[34m\u001b[1mtrain: \u001b[0mFast image access  (ping: 0.00.0 ms, read: 112.028.6 MB/s, size: 43.8 KB)\n"
     ]
    },
    {
     "name": "stderr",
     "output_type": "stream",
     "text": [
      "\u001b[34m\u001b[1mtrain: \u001b[0mScanning D:\\Coding\\AI_MachineLearning\\cleaning-service-recommendation\\thong\\data\\train\\labels.cache... 618 images, 3 backgrounds, 0 corrupt: 100%|██████████| 618/618 [00:00<?, ?it/s]\n"
     ]
    },
    {
     "name": "stdout",
     "output_type": "stream",
     "text": [
      "\u001b[34m\u001b[1mval: \u001b[0mFast image access  (ping: 0.10.0 ms, read: 89.046.6 MB/s, size: 39.5 KB)\n"
     ]
    },
    {
     "name": "stderr",
     "output_type": "stream",
     "text": [
      "\u001b[34m\u001b[1mval: \u001b[0mScanning D:\\Coding\\AI_MachineLearning\\cleaning-service-recommendation\\thong\\data\\valid\\labels.cache... 58 images, 1 backgrounds, 0 corrupt: 100%|██████████| 58/58 [00:00<?, ?it/s]\n"
     ]
    },
    {
     "name": "stdout",
     "output_type": "stream",
     "text": [
      "Plotting labels to c:\\Users\\mytho\\runs\\detect\\train8\\labels.jpg... \n",
      "\u001b[34m\u001b[1moptimizer:\u001b[0m 'optimizer=auto' found, ignoring 'lr0=0.01' and 'momentum=0.937' and determining best 'optimizer', 'lr0' and 'momentum' automatically... \n",
      "\u001b[34m\u001b[1moptimizer:\u001b[0m AdamW(lr=0.002, momentum=0.9) with parameter groups 81 weight(decay=0.0), 88 weight(decay=0.0005), 87 bias(decay=0.0)\n",
      "Image sizes 640 train, 640 val\n",
      "Using 8 dataloader workers\n",
      "Logging results to \u001b[1mc:\\Users\\mytho\\runs\\detect\\train8\u001b[0m\n",
      "Starting training for 100 epochs...\n",
      "\n",
      "      Epoch    GPU_mem   box_loss   cls_loss   dfl_loss  Instances       Size\n"
     ]
    },
    {
     "name": "stderr",
     "output_type": "stream",
     "text": [
      "      1/100      4.58G      1.685      2.557      1.903         47        640: 100%|██████████| 39/39 [00:11<00:00,  3.48it/s]\n",
      "                 Class     Images  Instances      Box(P          R      mAP50  mAP50-95): 100%|██████████| 2/2 [00:00<00:00,  2.15it/s]"
     ]
    },
    {
     "name": "stdout",
     "output_type": "stream",
     "text": [
      "                   all         58        140     0.0104      0.693     0.0888     0.0247\n"
     ]
    },
    {
     "name": "stderr",
     "output_type": "stream",
     "text": [
      "\n"
     ]
    },
    {
     "name": "stdout",
     "output_type": "stream",
     "text": [
      "\n",
      "      Epoch    GPU_mem   box_loss   cls_loss   dfl_loss  Instances       Size\n"
     ]
    },
    {
     "name": "stderr",
     "output_type": "stream",
     "text": [
      "      2/100       4.3G      1.723      2.288      2.007         45        640: 100%|██████████| 39/39 [00:09<00:00,  4.23it/s]\n",
      "                 Class     Images  Instances      Box(P          R      mAP50  mAP50-95): 100%|██████████| 2/2 [00:00<00:00,  3.87it/s]"
     ]
    },
    {
     "name": "stdout",
     "output_type": "stream",
     "text": [
      "                   all         58        140      0.255      0.264      0.159     0.0498\n"
     ]
    },
    {
     "name": "stderr",
     "output_type": "stream",
     "text": [
      "\n"
     ]
    },
    {
     "name": "stdout",
     "output_type": "stream",
     "text": [
      "\n",
      "      Epoch    GPU_mem   box_loss   cls_loss   dfl_loss  Instances       Size\n"
     ]
    },
    {
     "name": "stderr",
     "output_type": "stream",
     "text": [
      "      3/100       4.3G      1.774      2.257      2.024         48        640: 100%|██████████| 39/39 [00:09<00:00,  4.24it/s]\n",
      "                 Class     Images  Instances      Box(P          R      mAP50  mAP50-95): 100%|██████████| 2/2 [00:00<00:00,  3.89it/s]"
     ]
    },
    {
     "name": "stdout",
     "output_type": "stream",
     "text": [
      "                   all         58        140      0.164      0.121     0.0826      0.023\n"
     ]
    },
    {
     "name": "stderr",
     "output_type": "stream",
     "text": [
      "\n"
     ]
    },
    {
     "name": "stdout",
     "output_type": "stream",
     "text": [
      "\n",
      "      Epoch    GPU_mem   box_loss   cls_loss   dfl_loss  Instances       Size\n"
     ]
    },
    {
     "name": "stderr",
     "output_type": "stream",
     "text": [
      "      4/100       4.3G      1.781      2.294      2.057         55        640: 100%|██████████| 39/39 [00:09<00:00,  4.27it/s]\n",
      "                 Class     Images  Instances      Box(P          R      mAP50  mAP50-95): 100%|██████████| 2/2 [00:00<00:00,  3.94it/s]"
     ]
    },
    {
     "name": "stdout",
     "output_type": "stream",
     "text": [
      "                   all         58        140      0.103      0.171     0.0684     0.0179\n"
     ]
    },
    {
     "name": "stderr",
     "output_type": "stream",
     "text": [
      "\n"
     ]
    },
    {
     "name": "stdout",
     "output_type": "stream",
     "text": [
      "\n",
      "      Epoch    GPU_mem   box_loss   cls_loss   dfl_loss  Instances       Size\n"
     ]
    },
    {
     "name": "stderr",
     "output_type": "stream",
     "text": [
      "      5/100      4.31G      1.757      2.258      2.044         47        640: 100%|██████████| 39/39 [00:09<00:00,  4.28it/s]\n",
      "                 Class     Images  Instances      Box(P          R      mAP50  mAP50-95): 100%|██████████| 2/2 [00:00<00:00,  3.97it/s]"
     ]
    },
    {
     "name": "stdout",
     "output_type": "stream",
     "text": [
      "                   all         58        140      0.179       0.25      0.135     0.0426\n"
     ]
    },
    {
     "name": "stderr",
     "output_type": "stream",
     "text": [
      "\n"
     ]
    },
    {
     "name": "stdout",
     "output_type": "stream",
     "text": [
      "\n",
      "      Epoch    GPU_mem   box_loss   cls_loss   dfl_loss  Instances       Size\n"
     ]
    },
    {
     "name": "stderr",
     "output_type": "stream",
     "text": [
      "      6/100       4.3G      1.711      2.167      1.986         28        640: 100%|██████████| 39/39 [00:09<00:00,  4.27it/s]\n",
      "                 Class     Images  Instances      Box(P          R      mAP50  mAP50-95): 100%|██████████| 2/2 [00:00<00:00,  4.02it/s]"
     ]
    },
    {
     "name": "stdout",
     "output_type": "stream",
     "text": [
      "                   all         58        140      0.382      0.343      0.245     0.0645\n"
     ]
    },
    {
     "name": "stderr",
     "output_type": "stream",
     "text": [
      "\n"
     ]
    },
    {
     "name": "stdout",
     "output_type": "stream",
     "text": [
      "\n",
      "      Epoch    GPU_mem   box_loss   cls_loss   dfl_loss  Instances       Size\n"
     ]
    },
    {
     "name": "stderr",
     "output_type": "stream",
     "text": [
      "      7/100       4.3G      1.688      2.094      1.963         50        640: 100%|██████████| 39/39 [00:09<00:00,  4.29it/s]\n",
      "                 Class     Images  Instances      Box(P          R      mAP50  mAP50-95): 100%|██████████| 2/2 [00:00<00:00,  3.99it/s]"
     ]
    },
    {
     "name": "stdout",
     "output_type": "stream",
     "text": [
      "                   all         58        140     0.0996      0.343     0.0892     0.0261\n"
     ]
    },
    {
     "name": "stderr",
     "output_type": "stream",
     "text": [
      "\n"
     ]
    },
    {
     "name": "stdout",
     "output_type": "stream",
     "text": [
      "\n",
      "      Epoch    GPU_mem   box_loss   cls_loss   dfl_loss  Instances       Size\n"
     ]
    },
    {
     "name": "stderr",
     "output_type": "stream",
     "text": [
      "      8/100       4.3G      1.679      2.073      1.955         43        640: 100%|██████████| 39/39 [00:09<00:00,  4.33it/s]\n",
      "                 Class     Images  Instances      Box(P          R      mAP50  mAP50-95): 100%|██████████| 2/2 [00:00<00:00,  3.90it/s]"
     ]
    },
    {
     "name": "stdout",
     "output_type": "stream",
     "text": [
      "                   all         58        140      0.122      0.164     0.0522     0.0135\n"
     ]
    },
    {
     "name": "stderr",
     "output_type": "stream",
     "text": [
      "\n"
     ]
    },
    {
     "name": "stdout",
     "output_type": "stream",
     "text": [
      "\n",
      "      Epoch    GPU_mem   box_loss   cls_loss   dfl_loss  Instances       Size\n"
     ]
    },
    {
     "name": "stderr",
     "output_type": "stream",
     "text": [
      "      9/100      4.31G      1.724      2.115       1.99         68        640: 100%|██████████| 39/39 [00:09<00:00,  4.28it/s]\n",
      "                 Class     Images  Instances      Box(P          R      mAP50  mAP50-95): 100%|██████████| 2/2 [00:00<00:00,  3.92it/s]"
     ]
    },
    {
     "name": "stdout",
     "output_type": "stream",
     "text": [
      "                   all         58        140      0.264      0.269      0.192     0.0622\n"
     ]
    },
    {
     "name": "stderr",
     "output_type": "stream",
     "text": [
      "\n"
     ]
    },
    {
     "name": "stdout",
     "output_type": "stream",
     "text": [
      "\n",
      "      Epoch    GPU_mem   box_loss   cls_loss   dfl_loss  Instances       Size\n"
     ]
    },
    {
     "name": "stderr",
     "output_type": "stream",
     "text": [
      "     10/100      4.32G      1.649      2.054      1.944         50        640: 100%|██████████| 39/39 [00:09<00:00,  4.26it/s]\n",
      "                 Class     Images  Instances      Box(P          R      mAP50  mAP50-95): 100%|██████████| 2/2 [00:00<00:00,  4.06it/s]"
     ]
    },
    {
     "name": "stdout",
     "output_type": "stream",
     "text": [
      "                   all         58        140      0.326      0.229      0.196     0.0649\n"
     ]
    },
    {
     "name": "stderr",
     "output_type": "stream",
     "text": [
      "\n"
     ]
    },
    {
     "name": "stdout",
     "output_type": "stream",
     "text": [
      "\n",
      "      Epoch    GPU_mem   box_loss   cls_loss   dfl_loss  Instances       Size\n"
     ]
    },
    {
     "name": "stderr",
     "output_type": "stream",
     "text": [
      "     11/100       4.3G       1.65      2.023      1.923         31        640: 100%|██████████| 39/39 [00:09<00:00,  4.31it/s]\n",
      "                 Class     Images  Instances      Box(P          R      mAP50  mAP50-95): 100%|██████████| 2/2 [00:00<00:00,  4.16it/s]"
     ]
    },
    {
     "name": "stdout",
     "output_type": "stream",
     "text": [
      "                   all         58        140      0.424      0.236      0.255     0.0863\n"
     ]
    },
    {
     "name": "stderr",
     "output_type": "stream",
     "text": [
      "\n"
     ]
    },
    {
     "name": "stdout",
     "output_type": "stream",
     "text": [
      "\n",
      "      Epoch    GPU_mem   box_loss   cls_loss   dfl_loss  Instances       Size\n"
     ]
    },
    {
     "name": "stderr",
     "output_type": "stream",
     "text": [
      "     12/100       4.3G      1.593      1.946      1.902         46        640: 100%|██████████| 39/39 [00:09<00:00,  4.32it/s]\n",
      "                 Class     Images  Instances      Box(P          R      mAP50  mAP50-95): 100%|██████████| 2/2 [00:00<00:00,  4.16it/s]"
     ]
    },
    {
     "name": "stdout",
     "output_type": "stream",
     "text": [
      "                   all         58        140      0.411      0.293      0.268     0.0829\n"
     ]
    },
    {
     "name": "stderr",
     "output_type": "stream",
     "text": [
      "\n"
     ]
    },
    {
     "name": "stdout",
     "output_type": "stream",
     "text": [
      "\n",
      "      Epoch    GPU_mem   box_loss   cls_loss   dfl_loss  Instances       Size\n"
     ]
    },
    {
     "name": "stderr",
     "output_type": "stream",
     "text": [
      "     13/100       4.3G      1.618      1.951      1.895         47        640: 100%|██████████| 39/39 [00:09<00:00,  4.30it/s]\n",
      "                 Class     Images  Instances      Box(P          R      mAP50  mAP50-95): 100%|██████████| 2/2 [00:00<00:00,  4.11it/s]"
     ]
    },
    {
     "name": "stdout",
     "output_type": "stream",
     "text": [
      "                   all         58        140      0.419        0.3       0.28     0.0967\n"
     ]
    },
    {
     "name": "stderr",
     "output_type": "stream",
     "text": [
      "\n"
     ]
    },
    {
     "name": "stdout",
     "output_type": "stream",
     "text": [
      "\n",
      "      Epoch    GPU_mem   box_loss   cls_loss   dfl_loss  Instances       Size\n"
     ]
    },
    {
     "name": "stderr",
     "output_type": "stream",
     "text": [
      "     14/100       4.3G      1.647      1.992      1.896         48        640: 100%|██████████| 39/39 [00:09<00:00,  4.33it/s]\n",
      "                 Class     Images  Instances      Box(P          R      mAP50  mAP50-95): 100%|██████████| 2/2 [00:00<00:00,  4.19it/s]"
     ]
    },
    {
     "name": "stdout",
     "output_type": "stream",
     "text": [
      "                   all         58        140      0.279      0.307      0.259     0.0939\n"
     ]
    },
    {
     "name": "stderr",
     "output_type": "stream",
     "text": [
      "\n"
     ]
    },
    {
     "name": "stdout",
     "output_type": "stream",
     "text": [
      "\n",
      "      Epoch    GPU_mem   box_loss   cls_loss   dfl_loss  Instances       Size\n"
     ]
    },
    {
     "name": "stderr",
     "output_type": "stream",
     "text": [
      "     15/100      4.28G      1.559      1.928      1.868         55        640: 100%|██████████| 39/39 [00:09<00:00,  4.31it/s]\n",
      "                 Class     Images  Instances      Box(P          R      mAP50  mAP50-95): 100%|██████████| 2/2 [00:00<00:00,  4.14it/s]"
     ]
    },
    {
     "name": "stdout",
     "output_type": "stream",
     "text": [
      "                   all         58        140      0.412      0.357      0.294      0.085\n"
     ]
    },
    {
     "name": "stderr",
     "output_type": "stream",
     "text": [
      "\n"
     ]
    },
    {
     "name": "stdout",
     "output_type": "stream",
     "text": [
      "\n",
      "      Epoch    GPU_mem   box_loss   cls_loss   dfl_loss  Instances       Size\n"
     ]
    },
    {
     "name": "stderr",
     "output_type": "stream",
     "text": [
      "     16/100       4.3G      1.571      1.905      1.858         65        640: 100%|██████████| 39/39 [00:09<00:00,  4.33it/s]\n",
      "                 Class     Images  Instances      Box(P          R      mAP50  mAP50-95): 100%|██████████| 2/2 [00:00<00:00,  4.11it/s]"
     ]
    },
    {
     "name": "stdout",
     "output_type": "stream",
     "text": [
      "                   all         58        140      0.426        0.3      0.295     0.0936\n"
     ]
    },
    {
     "name": "stderr",
     "output_type": "stream",
     "text": [
      "\n"
     ]
    },
    {
     "name": "stdout",
     "output_type": "stream",
     "text": [
      "\n",
      "      Epoch    GPU_mem   box_loss   cls_loss   dfl_loss  Instances       Size\n"
     ]
    },
    {
     "name": "stderr",
     "output_type": "stream",
     "text": [
      "     17/100       4.3G      1.552       1.86      1.842         56        640: 100%|██████████| 39/39 [00:09<00:00,  4.32it/s]\n",
      "                 Class     Images  Instances      Box(P          R      mAP50  mAP50-95): 100%|██████████| 2/2 [00:00<00:00,  4.13it/s]"
     ]
    },
    {
     "name": "stdout",
     "output_type": "stream",
     "text": [
      "                   all         58        140      0.419       0.25      0.248     0.0972\n"
     ]
    },
    {
     "name": "stderr",
     "output_type": "stream",
     "text": [
      "\n"
     ]
    },
    {
     "name": "stdout",
     "output_type": "stream",
     "text": [
      "\n",
      "      Epoch    GPU_mem   box_loss   cls_loss   dfl_loss  Instances       Size\n"
     ]
    },
    {
     "name": "stderr",
     "output_type": "stream",
     "text": [
      "     18/100      4.29G      1.562      1.818      1.849         37        640: 100%|██████████| 39/39 [00:09<00:00,  4.32it/s]\n",
      "                 Class     Images  Instances      Box(P          R      mAP50  mAP50-95): 100%|██████████| 2/2 [00:00<00:00,  4.09it/s]"
     ]
    },
    {
     "name": "stdout",
     "output_type": "stream",
     "text": [
      "                   all         58        140      0.422      0.364       0.36      0.122\n"
     ]
    },
    {
     "name": "stderr",
     "output_type": "stream",
     "text": [
      "\n"
     ]
    },
    {
     "name": "stdout",
     "output_type": "stream",
     "text": [
      "\n",
      "      Epoch    GPU_mem   box_loss   cls_loss   dfl_loss  Instances       Size\n"
     ]
    },
    {
     "name": "stderr",
     "output_type": "stream",
     "text": [
      "     19/100       4.3G      1.528      1.786      1.816         38        640: 100%|██████████| 39/39 [00:09<00:00,  4.31it/s]\n",
      "                 Class     Images  Instances      Box(P          R      mAP50  mAP50-95): 100%|██████████| 2/2 [00:00<00:00,  4.17it/s]"
     ]
    },
    {
     "name": "stdout",
     "output_type": "stream",
     "text": [
      "                   all         58        140      0.498      0.314      0.324      0.134\n"
     ]
    },
    {
     "name": "stderr",
     "output_type": "stream",
     "text": [
      "\n"
     ]
    },
    {
     "name": "stdout",
     "output_type": "stream",
     "text": [
      "\n",
      "      Epoch    GPU_mem   box_loss   cls_loss   dfl_loss  Instances       Size\n"
     ]
    },
    {
     "name": "stderr",
     "output_type": "stream",
     "text": [
      "     20/100      4.31G      1.516      1.745        1.8         62        640: 100%|██████████| 39/39 [00:09<00:00,  4.31it/s]\n",
      "                 Class     Images  Instances      Box(P          R      mAP50  mAP50-95): 100%|██████████| 2/2 [00:00<00:00,  4.17it/s]"
     ]
    },
    {
     "name": "stdout",
     "output_type": "stream",
     "text": [
      "                   all         58        140       0.36       0.35      0.287      0.112\n"
     ]
    },
    {
     "name": "stderr",
     "output_type": "stream",
     "text": [
      "\n"
     ]
    },
    {
     "name": "stdout",
     "output_type": "stream",
     "text": [
      "\n",
      "      Epoch    GPU_mem   box_loss   cls_loss   dfl_loss  Instances       Size\n"
     ]
    },
    {
     "name": "stderr",
     "output_type": "stream",
     "text": [
      "     21/100       4.3G      1.512       1.74      1.801         60        640: 100%|██████████| 39/39 [00:09<00:00,  4.31it/s]\n",
      "                 Class     Images  Instances      Box(P          R      mAP50  mAP50-95): 100%|██████████| 2/2 [00:00<00:00,  4.15it/s]"
     ]
    },
    {
     "name": "stdout",
     "output_type": "stream",
     "text": [
      "                   all         58        140      0.486      0.379      0.413      0.189\n"
     ]
    },
    {
     "name": "stderr",
     "output_type": "stream",
     "text": [
      "\n"
     ]
    },
    {
     "name": "stdout",
     "output_type": "stream",
     "text": [
      "\n",
      "      Epoch    GPU_mem   box_loss   cls_loss   dfl_loss  Instances       Size\n"
     ]
    },
    {
     "name": "stderr",
     "output_type": "stream",
     "text": [
      "     22/100       4.3G      1.494      1.738      1.788         54        640: 100%|██████████| 39/39 [00:09<00:00,  4.30it/s]\n",
      "                 Class     Images  Instances      Box(P          R      mAP50  mAP50-95): 100%|██████████| 2/2 [00:00<00:00,  4.14it/s]"
     ]
    },
    {
     "name": "stdout",
     "output_type": "stream",
     "text": [
      "                   all         58        140      0.389      0.364      0.356      0.141\n"
     ]
    },
    {
     "name": "stderr",
     "output_type": "stream",
     "text": [
      "\n"
     ]
    },
    {
     "name": "stdout",
     "output_type": "stream",
     "text": [
      "\n",
      "      Epoch    GPU_mem   box_loss   cls_loss   dfl_loss  Instances       Size\n"
     ]
    },
    {
     "name": "stderr",
     "output_type": "stream",
     "text": [
      "     23/100       4.3G      1.485      1.699      1.786         42        640: 100%|██████████| 39/39 [00:09<00:00,  4.29it/s]\n",
      "                 Class     Images  Instances      Box(P          R      mAP50  mAP50-95): 100%|██████████| 2/2 [00:00<00:00,  4.09it/s]"
     ]
    },
    {
     "name": "stdout",
     "output_type": "stream",
     "text": [
      "                   all         58        140      0.451      0.364      0.377      0.127\n"
     ]
    },
    {
     "name": "stderr",
     "output_type": "stream",
     "text": [
      "\n"
     ]
    },
    {
     "name": "stdout",
     "output_type": "stream",
     "text": [
      "\n",
      "      Epoch    GPU_mem   box_loss   cls_loss   dfl_loss  Instances       Size\n"
     ]
    },
    {
     "name": "stderr",
     "output_type": "stream",
     "text": [
      "     24/100       4.3G      1.489       1.69      1.788         53        640: 100%|██████████| 39/39 [00:09<00:00,  4.33it/s]\n",
      "                 Class     Images  Instances      Box(P          R      mAP50  mAP50-95): 100%|██████████| 2/2 [00:00<00:00,  4.17it/s]"
     ]
    },
    {
     "name": "stdout",
     "output_type": "stream",
     "text": [
      "                   all         58        140      0.609      0.407      0.434       0.17\n"
     ]
    },
    {
     "name": "stderr",
     "output_type": "stream",
     "text": [
      "\n"
     ]
    },
    {
     "name": "stdout",
     "output_type": "stream",
     "text": [
      "\n",
      "      Epoch    GPU_mem   box_loss   cls_loss   dfl_loss  Instances       Size\n"
     ]
    },
    {
     "name": "stderr",
     "output_type": "stream",
     "text": [
      "     25/100       4.3G       1.46       1.64      1.752         44        640: 100%|██████████| 39/39 [00:09<00:00,  4.31it/s]\n",
      "                 Class     Images  Instances      Box(P          R      mAP50  mAP50-95): 100%|██████████| 2/2 [00:00<00:00,  4.15it/s]"
     ]
    },
    {
     "name": "stdout",
     "output_type": "stream",
     "text": [
      "                   all         58        140      0.393       0.35      0.301      0.109\n"
     ]
    },
    {
     "name": "stderr",
     "output_type": "stream",
     "text": [
      "\n"
     ]
    },
    {
     "name": "stdout",
     "output_type": "stream",
     "text": [
      "\n",
      "      Epoch    GPU_mem   box_loss   cls_loss   dfl_loss  Instances       Size\n"
     ]
    },
    {
     "name": "stderr",
     "output_type": "stream",
     "text": [
      "     26/100      4.29G       1.49      1.649      1.765         43        640: 100%|██████████| 39/39 [00:09<00:00,  4.28it/s]\n",
      "                 Class     Images  Instances      Box(P          R      mAP50  mAP50-95): 100%|██████████| 2/2 [00:00<00:00,  4.10it/s]"
     ]
    },
    {
     "name": "stdout",
     "output_type": "stream",
     "text": [
      "                   all         58        140      0.505      0.414      0.401      0.149\n"
     ]
    },
    {
     "name": "stderr",
     "output_type": "stream",
     "text": [
      "\n"
     ]
    },
    {
     "name": "stdout",
     "output_type": "stream",
     "text": [
      "\n",
      "      Epoch    GPU_mem   box_loss   cls_loss   dfl_loss  Instances       Size\n"
     ]
    },
    {
     "name": "stderr",
     "output_type": "stream",
     "text": [
      "     27/100       4.3G      1.438      1.588      1.739         45        640: 100%|██████████| 39/39 [00:09<00:00,  4.32it/s]\n",
      "                 Class     Images  Instances      Box(P          R      mAP50  mAP50-95): 100%|██████████| 2/2 [00:00<00:00,  4.12it/s]"
     ]
    },
    {
     "name": "stdout",
     "output_type": "stream",
     "text": [
      "                   all         58        140      0.463      0.386      0.363      0.124\n"
     ]
    },
    {
     "name": "stderr",
     "output_type": "stream",
     "text": [
      "\n"
     ]
    },
    {
     "name": "stdout",
     "output_type": "stream",
     "text": [
      "\n",
      "      Epoch    GPU_mem   box_loss   cls_loss   dfl_loss  Instances       Size\n"
     ]
    },
    {
     "name": "stderr",
     "output_type": "stream",
     "text": [
      "     28/100       4.3G      1.432      1.573      1.725         49        640: 100%|██████████| 39/39 [00:09<00:00,  4.32it/s]\n",
      "                 Class     Images  Instances      Box(P          R      mAP50  mAP50-95): 100%|██████████| 2/2 [00:00<00:00,  4.16it/s]"
     ]
    },
    {
     "name": "stdout",
     "output_type": "stream",
     "text": [
      "                   all         58        140       0.54      0.393      0.385      0.143\n"
     ]
    },
    {
     "name": "stderr",
     "output_type": "stream",
     "text": [
      "\n"
     ]
    },
    {
     "name": "stdout",
     "output_type": "stream",
     "text": [
      "\n",
      "      Epoch    GPU_mem   box_loss   cls_loss   dfl_loss  Instances       Size\n"
     ]
    },
    {
     "name": "stderr",
     "output_type": "stream",
     "text": [
      "     29/100       4.3G      1.444      1.556      1.732         49        640: 100%|██████████| 39/39 [00:09<00:00,  4.30it/s]\n",
      "                 Class     Images  Instances      Box(P          R      mAP50  mAP50-95): 100%|██████████| 2/2 [00:00<00:00,  4.18it/s]"
     ]
    },
    {
     "name": "stdout",
     "output_type": "stream",
     "text": [
      "                   all         58        140      0.541      0.379      0.408      0.162\n"
     ]
    },
    {
     "name": "stderr",
     "output_type": "stream",
     "text": [
      "\n"
     ]
    },
    {
     "name": "stdout",
     "output_type": "stream",
     "text": [
      "\n",
      "      Epoch    GPU_mem   box_loss   cls_loss   dfl_loss  Instances       Size\n"
     ]
    },
    {
     "name": "stderr",
     "output_type": "stream",
     "text": [
      "     30/100      4.29G      1.439      1.558      1.717         45        640: 100%|██████████| 39/39 [00:09<00:00,  4.32it/s]\n",
      "                 Class     Images  Instances      Box(P          R      mAP50  mAP50-95): 100%|██████████| 2/2 [00:00<00:00,  4.06it/s]"
     ]
    },
    {
     "name": "stdout",
     "output_type": "stream",
     "text": [
      "                   all         58        140      0.507       0.45      0.442      0.171\n"
     ]
    },
    {
     "name": "stderr",
     "output_type": "stream",
     "text": [
      "\n"
     ]
    },
    {
     "name": "stdout",
     "output_type": "stream",
     "text": [
      "\n",
      "      Epoch    GPU_mem   box_loss   cls_loss   dfl_loss  Instances       Size\n"
     ]
    },
    {
     "name": "stderr",
     "output_type": "stream",
     "text": [
      "     31/100      4.32G      1.426      1.555      1.726         54        640: 100%|██████████| 39/39 [00:09<00:00,  4.30it/s]\n",
      "                 Class     Images  Instances      Box(P          R      mAP50  mAP50-95): 100%|██████████| 2/2 [00:00<00:00,  4.13it/s]"
     ]
    },
    {
     "name": "stdout",
     "output_type": "stream",
     "text": [
      "                   all         58        140      0.578        0.3      0.314      0.108\n"
     ]
    },
    {
     "name": "stderr",
     "output_type": "stream",
     "text": [
      "\n"
     ]
    },
    {
     "name": "stdout",
     "output_type": "stream",
     "text": [
      "\n",
      "      Epoch    GPU_mem   box_loss   cls_loss   dfl_loss  Instances       Size\n"
     ]
    },
    {
     "name": "stderr",
     "output_type": "stream",
     "text": [
      "     32/100       4.3G      1.398      1.497      1.711         44        640: 100%|██████████| 39/39 [00:08<00:00,  4.34it/s]\n",
      "                 Class     Images  Instances      Box(P          R      mAP50  mAP50-95): 100%|██████████| 2/2 [00:00<00:00,  4.17it/s]"
     ]
    },
    {
     "name": "stdout",
     "output_type": "stream",
     "text": [
      "                   all         58        140      0.467      0.388      0.356       0.12\n"
     ]
    },
    {
     "name": "stderr",
     "output_type": "stream",
     "text": [
      "\n"
     ]
    },
    {
     "name": "stdout",
     "output_type": "stream",
     "text": [
      "\n",
      "      Epoch    GPU_mem   box_loss   cls_loss   dfl_loss  Instances       Size\n"
     ]
    },
    {
     "name": "stderr",
     "output_type": "stream",
     "text": [
      "     33/100       4.3G      1.431      1.504      1.733         53        640: 100%|██████████| 39/39 [00:09<00:00,  4.32it/s]\n",
      "                 Class     Images  Instances      Box(P          R      mAP50  mAP50-95): 100%|██████████| 2/2 [00:00<00:00,  4.16it/s]"
     ]
    },
    {
     "name": "stdout",
     "output_type": "stream",
     "text": [
      "                   all         58        140      0.535      0.461      0.429      0.163\n"
     ]
    },
    {
     "name": "stderr",
     "output_type": "stream",
     "text": [
      "\n"
     ]
    },
    {
     "name": "stdout",
     "output_type": "stream",
     "text": [
      "\n",
      "      Epoch    GPU_mem   box_loss   cls_loss   dfl_loss  Instances       Size\n"
     ]
    },
    {
     "name": "stderr",
     "output_type": "stream",
     "text": [
      "     34/100       4.3G      1.398      1.496      1.688         47        640: 100%|██████████| 39/39 [00:09<00:00,  4.32it/s]\n",
      "                 Class     Images  Instances      Box(P          R      mAP50  mAP50-95): 100%|██████████| 2/2 [00:00<00:00,  4.06it/s]"
     ]
    },
    {
     "name": "stdout",
     "output_type": "stream",
     "text": [
      "                   all         58        140      0.594      0.393      0.435      0.186\n"
     ]
    },
    {
     "name": "stderr",
     "output_type": "stream",
     "text": [
      "\n"
     ]
    },
    {
     "name": "stdout",
     "output_type": "stream",
     "text": [
      "\n",
      "      Epoch    GPU_mem   box_loss   cls_loss   dfl_loss  Instances       Size\n"
     ]
    },
    {
     "name": "stderr",
     "output_type": "stream",
     "text": [
      "     35/100       4.3G      1.382      1.469      1.684         50        640: 100%|██████████| 39/39 [00:09<00:00,  4.32it/s]\n",
      "                 Class     Images  Instances      Box(P          R      mAP50  mAP50-95): 100%|██████████| 2/2 [00:00<00:00,  4.13it/s]"
     ]
    },
    {
     "name": "stdout",
     "output_type": "stream",
     "text": [
      "                   all         58        140      0.487      0.414      0.419      0.165\n"
     ]
    },
    {
     "name": "stderr",
     "output_type": "stream",
     "text": [
      "\n"
     ]
    },
    {
     "name": "stdout",
     "output_type": "stream",
     "text": [
      "\n",
      "      Epoch    GPU_mem   box_loss   cls_loss   dfl_loss  Instances       Size\n"
     ]
    },
    {
     "name": "stderr",
     "output_type": "stream",
     "text": [
      "     36/100      4.28G      1.374      1.443      1.674         42        640: 100%|██████████| 39/39 [00:09<00:00,  4.33it/s]\n",
      "                 Class     Images  Instances      Box(P          R      mAP50  mAP50-95): 100%|██████████| 2/2 [00:00<00:00,  4.15it/s]"
     ]
    },
    {
     "name": "stdout",
     "output_type": "stream",
     "text": [
      "                   all         58        140      0.509      0.386      0.425      0.162\n"
     ]
    },
    {
     "name": "stderr",
     "output_type": "stream",
     "text": [
      "\n"
     ]
    },
    {
     "name": "stdout",
     "output_type": "stream",
     "text": [
      "\n",
      "      Epoch    GPU_mem   box_loss   cls_loss   dfl_loss  Instances       Size\n"
     ]
    },
    {
     "name": "stderr",
     "output_type": "stream",
     "text": [
      "     37/100      4.31G      1.357      1.436      1.681         55        640: 100%|██████████| 39/39 [00:09<00:00,  4.30it/s]\n",
      "                 Class     Images  Instances      Box(P          R      mAP50  mAP50-95): 100%|██████████| 2/2 [00:00<00:00,  4.14it/s]"
     ]
    },
    {
     "name": "stdout",
     "output_type": "stream",
     "text": [
      "                   all         58        140       0.64        0.4      0.437      0.177\n"
     ]
    },
    {
     "name": "stderr",
     "output_type": "stream",
     "text": [
      "\n"
     ]
    },
    {
     "name": "stdout",
     "output_type": "stream",
     "text": [
      "\n",
      "      Epoch    GPU_mem   box_loss   cls_loss   dfl_loss  Instances       Size\n"
     ]
    },
    {
     "name": "stderr",
     "output_type": "stream",
     "text": [
      "     38/100       4.3G       1.33      1.377      1.638         47        640: 100%|██████████| 39/39 [00:09<00:00,  4.32it/s]\n",
      "                 Class     Images  Instances      Box(P          R      mAP50  mAP50-95): 100%|██████████| 2/2 [00:00<00:00,  4.13it/s]"
     ]
    },
    {
     "name": "stdout",
     "output_type": "stream",
     "text": [
      "                   all         58        140      0.504      0.471      0.468      0.184\n"
     ]
    },
    {
     "name": "stderr",
     "output_type": "stream",
     "text": [
      "\n"
     ]
    },
    {
     "name": "stdout",
     "output_type": "stream",
     "text": [
      "\n",
      "      Epoch    GPU_mem   box_loss   cls_loss   dfl_loss  Instances       Size\n"
     ]
    },
    {
     "name": "stderr",
     "output_type": "stream",
     "text": [
      "     39/100      4.33G      1.331      1.337      1.627         39        640: 100%|██████████| 39/39 [00:09<00:00,  4.31it/s]\n",
      "                 Class     Images  Instances      Box(P          R      mAP50  mAP50-95): 100%|██████████| 2/2 [00:00<00:00,  4.16it/s]"
     ]
    },
    {
     "name": "stdout",
     "output_type": "stream",
     "text": [
      "                   all         58        140       0.59      0.407      0.449      0.176\n"
     ]
    },
    {
     "name": "stderr",
     "output_type": "stream",
     "text": [
      "\n"
     ]
    },
    {
     "name": "stdout",
     "output_type": "stream",
     "text": [
      "\n",
      "      Epoch    GPU_mem   box_loss   cls_loss   dfl_loss  Instances       Size\n"
     ]
    },
    {
     "name": "stderr",
     "output_type": "stream",
     "text": [
      "     40/100       4.3G       1.33      1.335      1.622         37        640: 100%|██████████| 39/39 [00:09<00:00,  4.33it/s]\n",
      "                 Class     Images  Instances      Box(P          R      mAP50  mAP50-95): 100%|██████████| 2/2 [00:00<00:00,  4.15it/s]"
     ]
    },
    {
     "name": "stdout",
     "output_type": "stream",
     "text": [
      "                   all         58        140      0.565      0.357      0.402       0.15\n"
     ]
    },
    {
     "name": "stderr",
     "output_type": "stream",
     "text": [
      "\n"
     ]
    },
    {
     "name": "stdout",
     "output_type": "stream",
     "text": [
      "\n",
      "      Epoch    GPU_mem   box_loss   cls_loss   dfl_loss  Instances       Size\n"
     ]
    },
    {
     "name": "stderr",
     "output_type": "stream",
     "text": [
      "     41/100       4.3G      1.305      1.293       1.61         51        640: 100%|██████████| 39/39 [00:09<00:00,  4.31it/s]\n",
      "                 Class     Images  Instances      Box(P          R      mAP50  mAP50-95): 100%|██████████| 2/2 [00:00<00:00,  4.17it/s]"
     ]
    },
    {
     "name": "stdout",
     "output_type": "stream",
     "text": [
      "                   all         58        140      0.486       0.46      0.431      0.162\n"
     ]
    },
    {
     "name": "stderr",
     "output_type": "stream",
     "text": [
      "\n"
     ]
    },
    {
     "name": "stdout",
     "output_type": "stream",
     "text": [
      "\n",
      "      Epoch    GPU_mem   box_loss   cls_loss   dfl_loss  Instances       Size\n"
     ]
    },
    {
     "name": "stderr",
     "output_type": "stream",
     "text": [
      "     42/100      4.29G      1.313      1.309      1.602         51        640: 100%|██████████| 39/39 [00:09<00:00,  4.31it/s]\n",
      "                 Class     Images  Instances      Box(P          R      mAP50  mAP50-95): 100%|██████████| 2/2 [00:00<00:00,  4.14it/s]"
     ]
    },
    {
     "name": "stdout",
     "output_type": "stream",
     "text": [
      "                   all         58        140      0.595      0.409      0.437      0.173\n"
     ]
    },
    {
     "name": "stderr",
     "output_type": "stream",
     "text": [
      "\n"
     ]
    },
    {
     "name": "stdout",
     "output_type": "stream",
     "text": [
      "\n",
      "      Epoch    GPU_mem   box_loss   cls_loss   dfl_loss  Instances       Size\n"
     ]
    },
    {
     "name": "stderr",
     "output_type": "stream",
     "text": [
      "     43/100       4.3G      1.284      1.292       1.61         31        640: 100%|██████████| 39/39 [00:08<00:00,  4.33it/s]\n",
      "                 Class     Images  Instances      Box(P          R      mAP50  mAP50-95): 100%|██████████| 2/2 [00:00<00:00,  4.15it/s]"
     ]
    },
    {
     "name": "stdout",
     "output_type": "stream",
     "text": [
      "                   all         58        140      0.507      0.448       0.46      0.188\n"
     ]
    },
    {
     "name": "stderr",
     "output_type": "stream",
     "text": [
      "\n"
     ]
    },
    {
     "name": "stdout",
     "output_type": "stream",
     "text": [
      "\n",
      "      Epoch    GPU_mem   box_loss   cls_loss   dfl_loss  Instances       Size\n"
     ]
    },
    {
     "name": "stderr",
     "output_type": "stream",
     "text": [
      "     44/100       4.3G      1.279      1.281       1.59         52        640: 100%|██████████| 39/39 [00:08<00:00,  4.34it/s]\n",
      "                 Class     Images  Instances      Box(P          R      mAP50  mAP50-95): 100%|██████████| 2/2 [00:00<00:00,  4.16it/s]"
     ]
    },
    {
     "name": "stdout",
     "output_type": "stream",
     "text": [
      "                   all         58        140      0.471      0.436      0.451      0.205\n"
     ]
    },
    {
     "name": "stderr",
     "output_type": "stream",
     "text": [
      "\n"
     ]
    },
    {
     "name": "stdout",
     "output_type": "stream",
     "text": [
      "\n",
      "      Epoch    GPU_mem   box_loss   cls_loss   dfl_loss  Instances       Size\n"
     ]
    },
    {
     "name": "stderr",
     "output_type": "stream",
     "text": [
      "     45/100       4.3G       1.28      1.274      1.587         51        640: 100%|██████████| 39/39 [00:09<00:00,  4.32it/s]\n",
      "                 Class     Images  Instances      Box(P          R      mAP50  mAP50-95): 100%|██████████| 2/2 [00:00<00:00,  4.16it/s]"
     ]
    },
    {
     "name": "stdout",
     "output_type": "stream",
     "text": [
      "                   all         58        140      0.563      0.407       0.44      0.188\n"
     ]
    },
    {
     "name": "stderr",
     "output_type": "stream",
     "text": [
      "\n"
     ]
    },
    {
     "name": "stdout",
     "output_type": "stream",
     "text": [
      "\n",
      "      Epoch    GPU_mem   box_loss   cls_loss   dfl_loss  Instances       Size\n"
     ]
    },
    {
     "name": "stderr",
     "output_type": "stream",
     "text": [
      "     46/100      4.29G      1.228      1.211      1.546         50        640: 100%|██████████| 39/39 [00:09<00:00,  4.33it/s]\n",
      "                 Class     Images  Instances      Box(P          R      mAP50  mAP50-95): 100%|██████████| 2/2 [00:00<00:00,  4.19it/s]"
     ]
    },
    {
     "name": "stdout",
     "output_type": "stream",
     "text": [
      "                   all         58        140      0.575      0.407      0.438       0.19\n"
     ]
    },
    {
     "name": "stderr",
     "output_type": "stream",
     "text": [
      "\n"
     ]
    },
    {
     "name": "stdout",
     "output_type": "stream",
     "text": [
      "\n",
      "      Epoch    GPU_mem   box_loss   cls_loss   dfl_loss  Instances       Size\n"
     ]
    },
    {
     "name": "stderr",
     "output_type": "stream",
     "text": [
      "     47/100      4.31G      1.283      1.253      1.576         50        640: 100%|██████████| 39/39 [00:09<00:00,  4.33it/s]\n",
      "                 Class     Images  Instances      Box(P          R      mAP50  mAP50-95): 100%|██████████| 2/2 [00:00<00:00,  4.18it/s]"
     ]
    },
    {
     "name": "stdout",
     "output_type": "stream",
     "text": [
      "                   all         58        140      0.595      0.393      0.445      0.185\n"
     ]
    },
    {
     "name": "stderr",
     "output_type": "stream",
     "text": [
      "\n"
     ]
    },
    {
     "name": "stdout",
     "output_type": "stream",
     "text": [
      "\n",
      "      Epoch    GPU_mem   box_loss   cls_loss   dfl_loss  Instances       Size\n"
     ]
    },
    {
     "name": "stderr",
     "output_type": "stream",
     "text": [
      "     48/100      4.31G      1.243      1.179      1.554         59        640: 100%|██████████| 39/39 [00:09<00:00,  4.32it/s]\n",
      "                 Class     Images  Instances      Box(P          R      mAP50  mAP50-95): 100%|██████████| 2/2 [00:00<00:00,  4.19it/s]"
     ]
    },
    {
     "name": "stdout",
     "output_type": "stream",
     "text": [
      "                   all         58        140       0.65      0.398      0.424      0.187\n"
     ]
    },
    {
     "name": "stderr",
     "output_type": "stream",
     "text": [
      "\n"
     ]
    },
    {
     "name": "stdout",
     "output_type": "stream",
     "text": [
      "\n",
      "      Epoch    GPU_mem   box_loss   cls_loss   dfl_loss  Instances       Size\n"
     ]
    },
    {
     "name": "stderr",
     "output_type": "stream",
     "text": [
      "     49/100      4.31G      1.227      1.151       1.53         49        640: 100%|██████████| 39/39 [00:09<00:00,  4.32it/s]\n",
      "                 Class     Images  Instances      Box(P          R      mAP50  mAP50-95): 100%|██████████| 2/2 [00:00<00:00,  4.16it/s]"
     ]
    },
    {
     "name": "stdout",
     "output_type": "stream",
     "text": [
      "                   all         58        140      0.664      0.357      0.433      0.177\n"
     ]
    },
    {
     "name": "stderr",
     "output_type": "stream",
     "text": [
      "\n"
     ]
    },
    {
     "name": "stdout",
     "output_type": "stream",
     "text": [
      "\n",
      "      Epoch    GPU_mem   box_loss   cls_loss   dfl_loss  Instances       Size\n"
     ]
    },
    {
     "name": "stderr",
     "output_type": "stream",
     "text": [
      "     50/100       4.3G      1.217      1.156      1.537         33        640: 100%|██████████| 39/39 [00:09<00:00,  4.33it/s]\n",
      "                 Class     Images  Instances      Box(P          R      mAP50  mAP50-95): 100%|██████████| 2/2 [00:00<00:00,  4.16it/s]"
     ]
    },
    {
     "name": "stdout",
     "output_type": "stream",
     "text": [
      "                   all         58        140      0.576        0.4      0.457      0.173\n"
     ]
    },
    {
     "name": "stderr",
     "output_type": "stream",
     "text": [
      "\n"
     ]
    },
    {
     "name": "stdout",
     "output_type": "stream",
     "text": [
      "\n",
      "      Epoch    GPU_mem   box_loss   cls_loss   dfl_loss  Instances       Size\n"
     ]
    },
    {
     "name": "stderr",
     "output_type": "stream",
     "text": [
      "     51/100       4.3G      1.218      1.154      1.533         42        640: 100%|██████████| 39/39 [00:09<00:00,  4.31it/s]\n",
      "                 Class     Images  Instances      Box(P          R      mAP50  mAP50-95): 100%|██████████| 2/2 [00:00<00:00,  4.12it/s]"
     ]
    },
    {
     "name": "stdout",
     "output_type": "stream",
     "text": [
      "                   all         58        140      0.524      0.407      0.418      0.171\n"
     ]
    },
    {
     "name": "stderr",
     "output_type": "stream",
     "text": [
      "\n"
     ]
    },
    {
     "name": "stdout",
     "output_type": "stream",
     "text": [
      "\n",
      "      Epoch    GPU_mem   box_loss   cls_loss   dfl_loss  Instances       Size\n"
     ]
    },
    {
     "name": "stderr",
     "output_type": "stream",
     "text": [
      "     52/100       4.3G      1.216      1.128      1.523         55        640: 100%|██████████| 39/39 [00:08<00:00,  4.34it/s]\n",
      "                 Class     Images  Instances      Box(P          R      mAP50  mAP50-95): 100%|██████████| 2/2 [00:00<00:00,  4.14it/s]"
     ]
    },
    {
     "name": "stdout",
     "output_type": "stream",
     "text": [
      "                   all         58        140       0.58      0.443       0.47      0.177\n"
     ]
    },
    {
     "name": "stderr",
     "output_type": "stream",
     "text": [
      "\n"
     ]
    },
    {
     "name": "stdout",
     "output_type": "stream",
     "text": [
      "\n",
      "      Epoch    GPU_mem   box_loss   cls_loss   dfl_loss  Instances       Size\n"
     ]
    },
    {
     "name": "stderr",
     "output_type": "stream",
     "text": [
      "     53/100       4.3G      1.197      1.122      1.507         39        640: 100%|██████████| 39/39 [00:09<00:00,  4.32it/s]\n",
      "                 Class     Images  Instances      Box(P          R      mAP50  mAP50-95): 100%|██████████| 2/2 [00:00<00:00,  4.18it/s]"
     ]
    },
    {
     "name": "stdout",
     "output_type": "stream",
     "text": [
      "                   all         58        140      0.632      0.515      0.506      0.195\n"
     ]
    },
    {
     "name": "stderr",
     "output_type": "stream",
     "text": [
      "\n"
     ]
    },
    {
     "name": "stdout",
     "output_type": "stream",
     "text": [
      "\n",
      "      Epoch    GPU_mem   box_loss   cls_loss   dfl_loss  Instances       Size\n"
     ]
    },
    {
     "name": "stderr",
     "output_type": "stream",
     "text": [
      "     54/100       4.3G      1.213      1.124      1.505         53        640: 100%|██████████| 39/39 [00:09<00:00,  4.32it/s]\n",
      "                 Class     Images  Instances      Box(P          R      mAP50  mAP50-95): 100%|██████████| 2/2 [00:00<00:00,  4.17it/s]"
     ]
    },
    {
     "name": "stdout",
     "output_type": "stream",
     "text": [
      "                   all         58        140      0.454      0.476      0.461      0.176\n"
     ]
    },
    {
     "name": "stderr",
     "output_type": "stream",
     "text": [
      "\n"
     ]
    },
    {
     "name": "stdout",
     "output_type": "stream",
     "text": [
      "\n",
      "      Epoch    GPU_mem   box_loss   cls_loss   dfl_loss  Instances       Size\n"
     ]
    },
    {
     "name": "stderr",
     "output_type": "stream",
     "text": [
      "     55/100       4.3G      1.192      1.077      1.503         51        640: 100%|██████████| 39/39 [00:09<00:00,  4.32it/s]\n",
      "                 Class     Images  Instances      Box(P          R      mAP50  mAP50-95): 100%|██████████| 2/2 [00:00<00:00,  4.07it/s]"
     ]
    },
    {
     "name": "stdout",
     "output_type": "stream",
     "text": [
      "                   all         58        140      0.677      0.421        0.5      0.184\n"
     ]
    },
    {
     "name": "stderr",
     "output_type": "stream",
     "text": [
      "\n"
     ]
    },
    {
     "name": "stdout",
     "output_type": "stream",
     "text": [
      "\n",
      "      Epoch    GPU_mem   box_loss   cls_loss   dfl_loss  Instances       Size\n"
     ]
    },
    {
     "name": "stderr",
     "output_type": "stream",
     "text": [
      "     56/100       4.3G       1.18      1.101      1.501         65        640: 100%|██████████| 39/39 [00:08<00:00,  4.35it/s]\n",
      "                 Class     Images  Instances      Box(P          R      mAP50  mAP50-95): 100%|██████████| 2/2 [00:00<00:00,  4.16it/s]"
     ]
    },
    {
     "name": "stdout",
     "output_type": "stream",
     "text": [
      "                   all         58        140      0.557      0.464      0.473      0.182\n"
     ]
    },
    {
     "name": "stderr",
     "output_type": "stream",
     "text": [
      "\n"
     ]
    },
    {
     "name": "stdout",
     "output_type": "stream",
     "text": [
      "\n",
      "      Epoch    GPU_mem   box_loss   cls_loss   dfl_loss  Instances       Size\n"
     ]
    },
    {
     "name": "stderr",
     "output_type": "stream",
     "text": [
      "     57/100      4.31G      1.198       1.06      1.501         52        640: 100%|██████████| 39/39 [00:09<00:00,  4.28it/s]\n",
      "                 Class     Images  Instances      Box(P          R      mAP50  mAP50-95): 100%|██████████| 2/2 [00:00<00:00,  4.04it/s]"
     ]
    },
    {
     "name": "stdout",
     "output_type": "stream",
     "text": [
      "                   all         58        140      0.594        0.4      0.424      0.183\n"
     ]
    },
    {
     "name": "stderr",
     "output_type": "stream",
     "text": [
      "\n"
     ]
    },
    {
     "name": "stdout",
     "output_type": "stream",
     "text": [
      "\n",
      "      Epoch    GPU_mem   box_loss   cls_loss   dfl_loss  Instances       Size\n"
     ]
    },
    {
     "name": "stderr",
     "output_type": "stream",
     "text": [
      "     58/100      4.32G      1.175       1.03      1.479         50        640: 100%|██████████| 39/39 [00:09<00:00,  4.29it/s]\n",
      "                 Class     Images  Instances      Box(P          R      mAP50  mAP50-95): 100%|██████████| 2/2 [00:00<00:00,  4.18it/s]"
     ]
    },
    {
     "name": "stdout",
     "output_type": "stream",
     "text": [
      "                   all         58        140      0.584      0.411      0.444      0.189\n"
     ]
    },
    {
     "name": "stderr",
     "output_type": "stream",
     "text": [
      "\n"
     ]
    },
    {
     "name": "stdout",
     "output_type": "stream",
     "text": [
      "\n",
      "      Epoch    GPU_mem   box_loss   cls_loss   dfl_loss  Instances       Size\n"
     ]
    },
    {
     "name": "stderr",
     "output_type": "stream",
     "text": [
      "     59/100       4.3G      1.128      1.021      1.447         49        640: 100%|██████████| 39/39 [00:09<00:00,  4.30it/s]\n",
      "                 Class     Images  Instances      Box(P          R      mAP50  mAP50-95): 100%|██████████| 2/2 [00:00<00:00,  4.18it/s]"
     ]
    },
    {
     "name": "stdout",
     "output_type": "stream",
     "text": [
      "                   all         58        140      0.584      0.457      0.507        0.2\n"
     ]
    },
    {
     "name": "stderr",
     "output_type": "stream",
     "text": [
      "\n"
     ]
    },
    {
     "name": "stdout",
     "output_type": "stream",
     "text": [
      "\n",
      "      Epoch    GPU_mem   box_loss   cls_loss   dfl_loss  Instances       Size\n"
     ]
    },
    {
     "name": "stderr",
     "output_type": "stream",
     "text": [
      "     60/100      4.31G       1.13      1.021      1.443         34        640: 100%|██████████| 39/39 [00:09<00:00,  4.33it/s]\n",
      "                 Class     Images  Instances      Box(P          R      mAP50  mAP50-95): 100%|██████████| 2/2 [00:00<00:00,  4.18it/s]"
     ]
    },
    {
     "name": "stdout",
     "output_type": "stream",
     "text": [
      "                   all         58        140      0.567      0.457      0.451      0.177\n"
     ]
    },
    {
     "name": "stderr",
     "output_type": "stream",
     "text": [
      "\n"
     ]
    },
    {
     "name": "stdout",
     "output_type": "stream",
     "text": [
      "\n",
      "      Epoch    GPU_mem   box_loss   cls_loss   dfl_loss  Instances       Size\n"
     ]
    },
    {
     "name": "stderr",
     "output_type": "stream",
     "text": [
      "     61/100      4.34G      1.133     0.9876      1.447         38        640: 100%|██████████| 39/39 [00:09<00:00,  4.31it/s]\n",
      "                 Class     Images  Instances      Box(P          R      mAP50  mAP50-95): 100%|██████████| 2/2 [00:00<00:00,  4.17it/s]"
     ]
    },
    {
     "name": "stdout",
     "output_type": "stream",
     "text": [
      "                   all         58        140      0.673      0.464      0.482      0.203\n"
     ]
    },
    {
     "name": "stderr",
     "output_type": "stream",
     "text": [
      "\n"
     ]
    },
    {
     "name": "stdout",
     "output_type": "stream",
     "text": [
      "\n",
      "      Epoch    GPU_mem   box_loss   cls_loss   dfl_loss  Instances       Size\n"
     ]
    },
    {
     "name": "stderr",
     "output_type": "stream",
     "text": [
      "     62/100      4.29G      1.126     0.9896      1.443         37        640: 100%|██████████| 39/39 [00:09<00:00,  4.31it/s]\n",
      "                 Class     Images  Instances      Box(P          R      mAP50  mAP50-95): 100%|██████████| 2/2 [00:00<00:00,  4.18it/s]"
     ]
    },
    {
     "name": "stdout",
     "output_type": "stream",
     "text": [
      "                   all         58        140       0.59      0.422      0.443      0.163\n"
     ]
    },
    {
     "name": "stderr",
     "output_type": "stream",
     "text": [
      "\n"
     ]
    },
    {
     "name": "stdout",
     "output_type": "stream",
     "text": [
      "\n",
      "      Epoch    GPU_mem   box_loss   cls_loss   dfl_loss  Instances       Size\n"
     ]
    },
    {
     "name": "stderr",
     "output_type": "stream",
     "text": [
      "     63/100       4.3G      1.112     0.9675      1.422         71        640: 100%|██████████| 39/39 [00:09<00:00,  4.31it/s]\n",
      "                 Class     Images  Instances      Box(P          R      mAP50  mAP50-95): 100%|██████████| 2/2 [00:00<00:00,  4.18it/s]"
     ]
    },
    {
     "name": "stdout",
     "output_type": "stream",
     "text": [
      "                   all         58        140      0.632       0.45      0.461      0.192\n"
     ]
    },
    {
     "name": "stderr",
     "output_type": "stream",
     "text": [
      "\n"
     ]
    },
    {
     "name": "stdout",
     "output_type": "stream",
     "text": [
      "\n",
      "      Epoch    GPU_mem   box_loss   cls_loss   dfl_loss  Instances       Size\n"
     ]
    },
    {
     "name": "stderr",
     "output_type": "stream",
     "text": [
      "     64/100       4.3G      1.105     0.9893      1.443         38        640: 100%|██████████| 39/39 [00:09<00:00,  4.33it/s]\n",
      "                 Class     Images  Instances      Box(P          R      mAP50  mAP50-95): 100%|██████████| 2/2 [00:00<00:00,  4.20it/s]"
     ]
    },
    {
     "name": "stdout",
     "output_type": "stream",
     "text": [
      "                   all         58        140      0.654      0.414      0.466      0.195\n"
     ]
    },
    {
     "name": "stderr",
     "output_type": "stream",
     "text": [
      "\n"
     ]
    },
    {
     "name": "stdout",
     "output_type": "stream",
     "text": [
      "\n",
      "      Epoch    GPU_mem   box_loss   cls_loss   dfl_loss  Instances       Size\n"
     ]
    },
    {
     "name": "stderr",
     "output_type": "stream",
     "text": [
      "     65/100       4.3G      1.108     0.9465      1.416         33        640: 100%|██████████| 39/39 [00:09<00:00,  4.32it/s]\n",
      "                 Class     Images  Instances      Box(P          R      mAP50  mAP50-95): 100%|██████████| 2/2 [00:00<00:00,  4.18it/s]"
     ]
    },
    {
     "name": "stdout",
     "output_type": "stream",
     "text": [
      "                   all         58        140       0.65      0.386      0.441       0.19\n"
     ]
    },
    {
     "name": "stderr",
     "output_type": "stream",
     "text": [
      "\n"
     ]
    },
    {
     "name": "stdout",
     "output_type": "stream",
     "text": [
      "\n",
      "      Epoch    GPU_mem   box_loss   cls_loss   dfl_loss  Instances       Size\n"
     ]
    },
    {
     "name": "stderr",
     "output_type": "stream",
     "text": [
      "     66/100      4.29G      1.103     0.9622      1.419         45        640: 100%|██████████| 39/39 [00:09<00:00,  4.33it/s]\n",
      "                 Class     Images  Instances      Box(P          R      mAP50  mAP50-95): 100%|██████████| 2/2 [00:00<00:00,  4.19it/s]"
     ]
    },
    {
     "name": "stdout",
     "output_type": "stream",
     "text": [
      "                   all         58        140      0.543      0.399      0.434      0.184\n"
     ]
    },
    {
     "name": "stderr",
     "output_type": "stream",
     "text": [
      "\n"
     ]
    },
    {
     "name": "stdout",
     "output_type": "stream",
     "text": [
      "\n",
      "      Epoch    GPU_mem   box_loss   cls_loss   dfl_loss  Instances       Size\n"
     ]
    },
    {
     "name": "stderr",
     "output_type": "stream",
     "text": [
      "     67/100       4.3G      1.067     0.9305      1.399         48        640: 100%|██████████| 39/39 [00:09<00:00,  4.30it/s]\n",
      "                 Class     Images  Instances      Box(P          R      mAP50  mAP50-95): 100%|██████████| 2/2 [00:00<00:00,  4.18it/s]"
     ]
    },
    {
     "name": "stdout",
     "output_type": "stream",
     "text": [
      "                   all         58        140      0.506      0.425      0.418      0.172\n"
     ]
    },
    {
     "name": "stderr",
     "output_type": "stream",
     "text": [
      "\n"
     ]
    },
    {
     "name": "stdout",
     "output_type": "stream",
     "text": [
      "\n",
      "      Epoch    GPU_mem   box_loss   cls_loss   dfl_loss  Instances       Size\n"
     ]
    },
    {
     "name": "stderr",
     "output_type": "stream",
     "text": [
      "     68/100      4.32G      1.069     0.9249       1.39         55        640: 100%|██████████| 39/39 [00:09<00:00,  4.32it/s]\n",
      "                 Class     Images  Instances      Box(P          R      mAP50  mAP50-95): 100%|██████████| 2/2 [00:00<00:00,  4.21it/s]"
     ]
    },
    {
     "name": "stdout",
     "output_type": "stream",
     "text": [
      "                   all         58        140       0.54      0.464      0.453      0.184\n"
     ]
    },
    {
     "name": "stderr",
     "output_type": "stream",
     "text": [
      "\n"
     ]
    },
    {
     "name": "stdout",
     "output_type": "stream",
     "text": [
      "\n",
      "      Epoch    GPU_mem   box_loss   cls_loss   dfl_loss  Instances       Size\n"
     ]
    },
    {
     "name": "stderr",
     "output_type": "stream",
     "text": [
      "     69/100      4.29G      1.073     0.9188      1.404         44        640: 100%|██████████| 39/39 [00:09<00:00,  4.30it/s]\n",
      "                 Class     Images  Instances      Box(P          R      mAP50  mAP50-95): 100%|██████████| 2/2 [00:00<00:00,  4.18it/s]"
     ]
    },
    {
     "name": "stdout",
     "output_type": "stream",
     "text": [
      "                   all         58        140      0.387       0.45      0.383      0.167\n"
     ]
    },
    {
     "name": "stderr",
     "output_type": "stream",
     "text": [
      "\n"
     ]
    },
    {
     "name": "stdout",
     "output_type": "stream",
     "text": [
      "\n",
      "      Epoch    GPU_mem   box_loss   cls_loss   dfl_loss  Instances       Size\n"
     ]
    },
    {
     "name": "stderr",
     "output_type": "stream",
     "text": [
      "     70/100      4.34G      1.053     0.9126      1.372         43        640: 100%|██████████| 39/39 [00:09<00:00,  4.32it/s]\n",
      "                 Class     Images  Instances      Box(P          R      mAP50  mAP50-95): 100%|██████████| 2/2 [00:00<00:00,  4.17it/s]"
     ]
    },
    {
     "name": "stdout",
     "output_type": "stream",
     "text": [
      "                   all         58        140      0.515      0.514      0.481      0.202\n"
     ]
    },
    {
     "name": "stderr",
     "output_type": "stream",
     "text": [
      "\n"
     ]
    },
    {
     "name": "stdout",
     "output_type": "stream",
     "text": [
      "\n",
      "      Epoch    GPU_mem   box_loss   cls_loss   dfl_loss  Instances       Size\n"
     ]
    },
    {
     "name": "stderr",
     "output_type": "stream",
     "text": [
      "     71/100      4.31G      1.035     0.8904      1.363         37        640: 100%|██████████| 39/39 [00:09<00:00,  4.32it/s]\n",
      "                 Class     Images  Instances      Box(P          R      mAP50  mAP50-95): 100%|██████████| 2/2 [00:00<00:00,  4.18it/s]"
     ]
    },
    {
     "name": "stdout",
     "output_type": "stream",
     "text": [
      "                   all         58        140      0.487      0.421      0.423      0.182\n"
     ]
    },
    {
     "name": "stderr",
     "output_type": "stream",
     "text": [
      "\n"
     ]
    },
    {
     "name": "stdout",
     "output_type": "stream",
     "text": [
      "\n",
      "      Epoch    GPU_mem   box_loss   cls_loss   dfl_loss  Instances       Size\n"
     ]
    },
    {
     "name": "stderr",
     "output_type": "stream",
     "text": [
      "     72/100       4.3G      1.058     0.8732      1.383         34        640: 100%|██████████| 39/39 [00:09<00:00,  4.32it/s]\n",
      "                 Class     Images  Instances      Box(P          R      mAP50  mAP50-95): 100%|██████████| 2/2 [00:00<00:00,  4.13it/s]"
     ]
    },
    {
     "name": "stdout",
     "output_type": "stream",
     "text": [
      "                   all         58        140      0.552      0.486      0.479      0.205\n"
     ]
    },
    {
     "name": "stderr",
     "output_type": "stream",
     "text": [
      "\n"
     ]
    },
    {
     "name": "stdout",
     "output_type": "stream",
     "text": [
      "\n",
      "      Epoch    GPU_mem   box_loss   cls_loss   dfl_loss  Instances       Size\n"
     ]
    },
    {
     "name": "stderr",
     "output_type": "stream",
     "text": [
      "     73/100      4.32G       1.04     0.8728      1.371         39        640: 100%|██████████| 39/39 [00:09<00:00,  4.32it/s]\n",
      "                 Class     Images  Instances      Box(P          R      mAP50  mAP50-95): 100%|██████████| 2/2 [00:00<00:00,  4.18it/s]"
     ]
    },
    {
     "name": "stdout",
     "output_type": "stream",
     "text": [
      "                   all         58        140      0.674      0.407      0.472      0.214\n"
     ]
    },
    {
     "name": "stderr",
     "output_type": "stream",
     "text": [
      "\n"
     ]
    },
    {
     "name": "stdout",
     "output_type": "stream",
     "text": [
      "\n",
      "      Epoch    GPU_mem   box_loss   cls_loss   dfl_loss  Instances       Size\n"
     ]
    },
    {
     "name": "stderr",
     "output_type": "stream",
     "text": [
      "     74/100      4.29G      1.025     0.8747      1.356         58        640: 100%|██████████| 39/39 [00:09<00:00,  4.29it/s]\n",
      "                 Class     Images  Instances      Box(P          R      mAP50  mAP50-95): 100%|██████████| 2/2 [00:00<00:00,  4.17it/s]"
     ]
    },
    {
     "name": "stdout",
     "output_type": "stream",
     "text": [
      "                   all         58        140      0.662      0.436       0.47      0.201\n"
     ]
    },
    {
     "name": "stderr",
     "output_type": "stream",
     "text": [
      "\n"
     ]
    },
    {
     "name": "stdout",
     "output_type": "stream",
     "text": [
      "\n",
      "      Epoch    GPU_mem   box_loss   cls_loss   dfl_loss  Instances       Size\n"
     ]
    },
    {
     "name": "stderr",
     "output_type": "stream",
     "text": [
      "     75/100      4.33G      1.028      0.867      1.353         53        640: 100%|██████████| 39/39 [00:09<00:00,  4.30it/s]\n",
      "                 Class     Images  Instances      Box(P          R      mAP50  mAP50-95): 100%|██████████| 2/2 [00:00<00:00,  4.12it/s]"
     ]
    },
    {
     "name": "stdout",
     "output_type": "stream",
     "text": [
      "                   all         58        140      0.529      0.479      0.465        0.2\n"
     ]
    },
    {
     "name": "stderr",
     "output_type": "stream",
     "text": [
      "\n"
     ]
    },
    {
     "name": "stdout",
     "output_type": "stream",
     "text": [
      "\n",
      "      Epoch    GPU_mem   box_loss   cls_loss   dfl_loss  Instances       Size\n"
     ]
    },
    {
     "name": "stderr",
     "output_type": "stream",
     "text": [
      "     76/100      4.31G      1.004     0.8654      1.344         44        640: 100%|██████████| 39/39 [00:09<00:00,  4.33it/s]\n",
      "                 Class     Images  Instances      Box(P          R      mAP50  mAP50-95): 100%|██████████| 2/2 [00:00<00:00,  4.20it/s]"
     ]
    },
    {
     "name": "stdout",
     "output_type": "stream",
     "text": [
      "                   all         58        140      0.632      0.454      0.483      0.209\n"
     ]
    },
    {
     "name": "stderr",
     "output_type": "stream",
     "text": [
      "\n"
     ]
    },
    {
     "name": "stdout",
     "output_type": "stream",
     "text": [
      "\n",
      "      Epoch    GPU_mem   box_loss   cls_loss   dfl_loss  Instances       Size\n"
     ]
    },
    {
     "name": "stderr",
     "output_type": "stream",
     "text": [
      "     77/100       4.3G     0.9897     0.8405       1.33         62        640: 100%|██████████| 39/39 [00:09<00:00,  4.31it/s]\n",
      "                 Class     Images  Instances      Box(P          R      mAP50  mAP50-95): 100%|██████████| 2/2 [00:00<00:00,  4.21it/s]"
     ]
    },
    {
     "name": "stdout",
     "output_type": "stream",
     "text": [
      "                   all         58        140      0.755      0.419      0.494        0.2\n"
     ]
    },
    {
     "name": "stderr",
     "output_type": "stream",
     "text": [
      "\n"
     ]
    },
    {
     "name": "stdout",
     "output_type": "stream",
     "text": [
      "\n",
      "      Epoch    GPU_mem   box_loss   cls_loss   dfl_loss  Instances       Size\n"
     ]
    },
    {
     "name": "stderr",
     "output_type": "stream",
     "text": [
      "     78/100       4.3G      1.002     0.8302      1.329         37        640: 100%|██████████| 39/39 [00:09<00:00,  4.29it/s]\n",
      "                 Class     Images  Instances      Box(P          R      mAP50  mAP50-95): 100%|██████████| 2/2 [00:00<00:00,  4.18it/s]"
     ]
    },
    {
     "name": "stdout",
     "output_type": "stream",
     "text": [
      "                   all         58        140      0.614      0.471       0.47      0.203\n"
     ]
    },
    {
     "name": "stderr",
     "output_type": "stream",
     "text": [
      "\n"
     ]
    },
    {
     "name": "stdout",
     "output_type": "stream",
     "text": [
      "\n",
      "      Epoch    GPU_mem   box_loss   cls_loss   dfl_loss  Instances       Size\n"
     ]
    },
    {
     "name": "stderr",
     "output_type": "stream",
     "text": [
      "     79/100      4.33G     0.9926      0.837      1.331         79        640: 100%|██████████| 39/39 [00:09<00:00,  4.30it/s]\n",
      "                 Class     Images  Instances      Box(P          R      mAP50  mAP50-95): 100%|██████████| 2/2 [00:00<00:00,  4.21it/s]"
     ]
    },
    {
     "name": "stdout",
     "output_type": "stream",
     "text": [
      "                   all         58        140      0.587      0.414      0.461      0.203\n"
     ]
    },
    {
     "name": "stderr",
     "output_type": "stream",
     "text": [
      "\n"
     ]
    },
    {
     "name": "stdout",
     "output_type": "stream",
     "text": [
      "\n",
      "      Epoch    GPU_mem   box_loss   cls_loss   dfl_loss  Instances       Size\n"
     ]
    },
    {
     "name": "stderr",
     "output_type": "stream",
     "text": [
      "     80/100      4.33G     0.9816     0.8212      1.313         48        640: 100%|██████████| 39/39 [00:09<00:00,  4.30it/s]\n",
      "                 Class     Images  Instances      Box(P          R      mAP50  mAP50-95): 100%|██████████| 2/2 [00:00<00:00,  4.02it/s]"
     ]
    },
    {
     "name": "stdout",
     "output_type": "stream",
     "text": [
      "                   all         58        140      0.646      0.393      0.457      0.191\n"
     ]
    },
    {
     "name": "stderr",
     "output_type": "stream",
     "text": [
      "\n"
     ]
    },
    {
     "name": "stdout",
     "output_type": "stream",
     "text": [
      "\n",
      "      Epoch    GPU_mem   box_loss   cls_loss   dfl_loss  Instances       Size\n"
     ]
    },
    {
     "name": "stderr",
     "output_type": "stream",
     "text": [
      "     81/100      4.31G     0.9823     0.8216      1.325         42        640: 100%|██████████| 39/39 [00:09<00:00,  4.30it/s]\n",
      "                 Class     Images  Instances      Box(P          R      mAP50  mAP50-95): 100%|██████████| 2/2 [00:00<00:00,  4.16it/s]"
     ]
    },
    {
     "name": "stdout",
     "output_type": "stream",
     "text": [
      "                   all         58        140      0.574        0.4      0.446      0.196\n"
     ]
    },
    {
     "name": "stderr",
     "output_type": "stream",
     "text": [
      "\n"
     ]
    },
    {
     "name": "stdout",
     "output_type": "stream",
     "text": [
      "\n",
      "      Epoch    GPU_mem   box_loss   cls_loss   dfl_loss  Instances       Size\n"
     ]
    },
    {
     "name": "stderr",
     "output_type": "stream",
     "text": [
      "     82/100      4.29G     0.9709     0.8007       1.31         60        640: 100%|██████████| 39/39 [00:09<00:00,  4.30it/s]\n",
      "                 Class     Images  Instances      Box(P          R      mAP50  mAP50-95): 100%|██████████| 2/2 [00:00<00:00,  4.18it/s]"
     ]
    },
    {
     "name": "stdout",
     "output_type": "stream",
     "text": [
      "                   all         58        140      0.586      0.436      0.467      0.191\n"
     ]
    },
    {
     "name": "stderr",
     "output_type": "stream",
     "text": [
      "\n"
     ]
    },
    {
     "name": "stdout",
     "output_type": "stream",
     "text": [
      "\n",
      "      Epoch    GPU_mem   box_loss   cls_loss   dfl_loss  Instances       Size\n"
     ]
    },
    {
     "name": "stderr",
     "output_type": "stream",
     "text": [
      "     83/100       4.3G     0.9434     0.7964      1.292         63        640: 100%|██████████| 39/39 [00:09<00:00,  4.30it/s]\n",
      "                 Class     Images  Instances      Box(P          R      mAP50  mAP50-95): 100%|██████████| 2/2 [00:00<00:00,  4.22it/s]"
     ]
    },
    {
     "name": "stdout",
     "output_type": "stream",
     "text": [
      "                   all         58        140      0.653        0.4      0.459      0.186\n"
     ]
    },
    {
     "name": "stderr",
     "output_type": "stream",
     "text": [
      "\n"
     ]
    },
    {
     "name": "stdout",
     "output_type": "stream",
     "text": [
      "\n",
      "      Epoch    GPU_mem   box_loss   cls_loss   dfl_loss  Instances       Size\n"
     ]
    },
    {
     "name": "stderr",
     "output_type": "stream",
     "text": [
      "     84/100      4.31G     0.9712     0.7903      1.311         56        640: 100%|██████████| 39/39 [00:09<00:00,  4.33it/s]\n",
      "                 Class     Images  Instances      Box(P          R      mAP50  mAP50-95): 100%|██████████| 2/2 [00:00<00:00,  4.20it/s]"
     ]
    },
    {
     "name": "stdout",
     "output_type": "stream",
     "text": [
      "                   all         58        140      0.623      0.379       0.44      0.191\n"
     ]
    },
    {
     "name": "stderr",
     "output_type": "stream",
     "text": [
      "\n"
     ]
    },
    {
     "name": "stdout",
     "output_type": "stream",
     "text": [
      "\n",
      "      Epoch    GPU_mem   box_loss   cls_loss   dfl_loss  Instances       Size\n"
     ]
    },
    {
     "name": "stderr",
     "output_type": "stream",
     "text": [
      "     85/100      4.29G     0.9415     0.7886      1.286         51        640: 100%|██████████| 39/39 [00:09<00:00,  4.32it/s]\n",
      "                 Class     Images  Instances      Box(P          R      mAP50  mAP50-95): 100%|██████████| 2/2 [00:00<00:00,  4.20it/s]"
     ]
    },
    {
     "name": "stdout",
     "output_type": "stream",
     "text": [
      "                   all         58        140       0.64      0.379      0.399      0.188\n"
     ]
    },
    {
     "name": "stderr",
     "output_type": "stream",
     "text": [
      "\n"
     ]
    },
    {
     "name": "stdout",
     "output_type": "stream",
     "text": [
      "\n",
      "      Epoch    GPU_mem   box_loss   cls_loss   dfl_loss  Instances       Size\n"
     ]
    },
    {
     "name": "stderr",
     "output_type": "stream",
     "text": [
      "     86/100      4.29G     0.9275     0.7667      1.287         40        640: 100%|██████████| 39/39 [00:09<00:00,  4.31it/s]\n",
      "                 Class     Images  Instances      Box(P          R      mAP50  mAP50-95): 100%|██████████| 2/2 [00:00<00:00,  4.16it/s]"
     ]
    },
    {
     "name": "stdout",
     "output_type": "stream",
     "text": [
      "                   all         58        140      0.578      0.414      0.429      0.182\n"
     ]
    },
    {
     "name": "stderr",
     "output_type": "stream",
     "text": [
      "\n"
     ]
    },
    {
     "name": "stdout",
     "output_type": "stream",
     "text": [
      "\n",
      "      Epoch    GPU_mem   box_loss   cls_loss   dfl_loss  Instances       Size\n"
     ]
    },
    {
     "name": "stderr",
     "output_type": "stream",
     "text": [
      "     87/100       4.3G     0.9511     0.7963       1.31         44        640: 100%|██████████| 39/39 [00:09<00:00,  4.29it/s]\n",
      "                 Class     Images  Instances      Box(P          R      mAP50  mAP50-95): 100%|██████████| 2/2 [00:00<00:00,  4.18it/s]"
     ]
    },
    {
     "name": "stdout",
     "output_type": "stream",
     "text": [
      "                   all         58        140      0.702      0.387      0.466      0.201\n"
     ]
    },
    {
     "name": "stderr",
     "output_type": "stream",
     "text": [
      "\n"
     ]
    },
    {
     "name": "stdout",
     "output_type": "stream",
     "text": [
      "\n",
      "      Epoch    GPU_mem   box_loss   cls_loss   dfl_loss  Instances       Size\n"
     ]
    },
    {
     "name": "stderr",
     "output_type": "stream",
     "text": [
      "     88/100       4.3G     0.9036     0.7613      1.276         52        640: 100%|██████████| 39/39 [00:09<00:00,  4.32it/s]\n",
      "                 Class     Images  Instances      Box(P          R      mAP50  mAP50-95): 100%|██████████| 2/2 [00:00<00:00,  4.17it/s]"
     ]
    },
    {
     "name": "stdout",
     "output_type": "stream",
     "text": [
      "                   all         58        140        0.7      0.416       0.48      0.201\n"
     ]
    },
    {
     "name": "stderr",
     "output_type": "stream",
     "text": [
      "\n"
     ]
    },
    {
     "name": "stdout",
     "output_type": "stream",
     "text": [
      "\n",
      "      Epoch    GPU_mem   box_loss   cls_loss   dfl_loss  Instances       Size\n"
     ]
    },
    {
     "name": "stderr",
     "output_type": "stream",
     "text": [
      "     89/100      4.31G     0.9226      0.754      1.273         55        640: 100%|██████████| 39/39 [00:09<00:00,  4.32it/s]\n",
      "                 Class     Images  Instances      Box(P          R      mAP50  mAP50-95): 100%|██████████| 2/2 [00:00<00:00,  4.19it/s]"
     ]
    },
    {
     "name": "stdout",
     "output_type": "stream",
     "text": [
      "                   all         58        140      0.653       0.39      0.442      0.189\n"
     ]
    },
    {
     "name": "stderr",
     "output_type": "stream",
     "text": [
      "\n"
     ]
    },
    {
     "name": "stdout",
     "output_type": "stream",
     "text": [
      "\n",
      "      Epoch    GPU_mem   box_loss   cls_loss   dfl_loss  Instances       Size\n"
     ]
    },
    {
     "name": "stderr",
     "output_type": "stream",
     "text": [
      "     90/100       4.3G     0.9193     0.7404       1.28         61        640: 100%|██████████| 39/39 [00:09<00:00,  4.31it/s]\n",
      "                 Class     Images  Instances      Box(P          R      mAP50  mAP50-95): 100%|██████████| 2/2 [00:00<00:00,  4.19it/s]"
     ]
    },
    {
     "name": "stdout",
     "output_type": "stream",
     "text": [
      "                   all         58        140      0.684      0.402      0.449      0.193\n"
     ]
    },
    {
     "name": "stderr",
     "output_type": "stream",
     "text": [
      "\n"
     ]
    },
    {
     "name": "stdout",
     "output_type": "stream",
     "text": [
      "Closing dataloader mosaic\n",
      "\n",
      "      Epoch    GPU_mem   box_loss   cls_loss   dfl_loss  Instances       Size\n"
     ]
    },
    {
     "name": "stderr",
     "output_type": "stream",
     "text": [
      "     91/100      4.28G     0.8905      0.681      1.285         20        640: 100%|██████████| 39/39 [00:09<00:00,  4.12it/s]\n",
      "                 Class     Images  Instances      Box(P          R      mAP50  mAP50-95): 100%|██████████| 2/2 [00:00<00:00,  4.16it/s]"
     ]
    },
    {
     "name": "stdout",
     "output_type": "stream",
     "text": [
      "                   all         58        140      0.641      0.407      0.442      0.192\n"
     ]
    },
    {
     "name": "stderr",
     "output_type": "stream",
     "text": [
      "\n"
     ]
    },
    {
     "name": "stdout",
     "output_type": "stream",
     "text": [
      "\n",
      "      Epoch    GPU_mem   box_loss   cls_loss   dfl_loss  Instances       Size\n"
     ]
    },
    {
     "name": "stderr",
     "output_type": "stream",
     "text": [
      "     92/100      4.28G     0.9161      0.641      1.311         23        640: 100%|██████████| 39/39 [00:08<00:00,  4.36it/s]\n",
      "                 Class     Images  Instances      Box(P          R      mAP50  mAP50-95): 100%|██████████| 2/2 [00:00<00:00,  4.21it/s]"
     ]
    },
    {
     "name": "stdout",
     "output_type": "stream",
     "text": [
      "                   all         58        140      0.489      0.414      0.403      0.165\n"
     ]
    },
    {
     "name": "stderr",
     "output_type": "stream",
     "text": [
      "\n"
     ]
    },
    {
     "name": "stdout",
     "output_type": "stream",
     "text": [
      "\n",
      "      Epoch    GPU_mem   box_loss   cls_loss   dfl_loss  Instances       Size\n"
     ]
    },
    {
     "name": "stderr",
     "output_type": "stream",
     "text": [
      "     93/100      4.28G     0.8339     0.5891      1.236         30        640: 100%|██████████| 39/39 [00:08<00:00,  4.34it/s]\n",
      "                 Class     Images  Instances      Box(P          R      mAP50  mAP50-95): 100%|██████████| 2/2 [00:00<00:00,  4.17it/s]"
     ]
    },
    {
     "name": "stdout",
     "output_type": "stream",
     "text": [
      "                   all         58        140      0.714      0.357      0.448      0.184\n"
     ]
    },
    {
     "name": "stderr",
     "output_type": "stream",
     "text": [
      "\n"
     ]
    },
    {
     "name": "stdout",
     "output_type": "stream",
     "text": [
      "\n",
      "      Epoch    GPU_mem   box_loss   cls_loss   dfl_loss  Instances       Size\n"
     ]
    },
    {
     "name": "stderr",
     "output_type": "stream",
     "text": [
      "     94/100      4.29G      0.821     0.5679      1.227         14        640: 100%|██████████| 39/39 [00:08<00:00,  4.35it/s]\n",
      "                 Class     Images  Instances      Box(P          R      mAP50  mAP50-95): 100%|██████████| 2/2 [00:00<00:00,  4.17it/s]"
     ]
    },
    {
     "name": "stdout",
     "output_type": "stream",
     "text": [
      "                   all         58        140      0.767      0.357      0.462      0.188\n"
     ]
    },
    {
     "name": "stderr",
     "output_type": "stream",
     "text": [
      "\n"
     ]
    },
    {
     "name": "stdout",
     "output_type": "stream",
     "text": [
      "\n",
      "      Epoch    GPU_mem   box_loss   cls_loss   dfl_loss  Instances       Size\n"
     ]
    },
    {
     "name": "stderr",
     "output_type": "stream",
     "text": [
      "     95/100      4.28G     0.8419     0.5711      1.256         30        640: 100%|██████████| 39/39 [00:08<00:00,  4.33it/s]\n",
      "                 Class     Images  Instances      Box(P          R      mAP50  mAP50-95): 100%|██████████| 2/2 [00:00<00:00,  4.17it/s]"
     ]
    },
    {
     "name": "stdout",
     "output_type": "stream",
     "text": [
      "                   all         58        140      0.661      0.379      0.453      0.189\n"
     ]
    },
    {
     "name": "stderr",
     "output_type": "stream",
     "text": [
      "\n"
     ]
    },
    {
     "name": "stdout",
     "output_type": "stream",
     "text": [
      "\n",
      "      Epoch    GPU_mem   box_loss   cls_loss   dfl_loss  Instances       Size\n"
     ]
    },
    {
     "name": "stderr",
     "output_type": "stream",
     "text": [
      "     96/100      4.28G     0.7831     0.5532      1.212         22        640: 100%|██████████| 39/39 [00:08<00:00,  4.36it/s]\n",
      "                 Class     Images  Instances      Box(P          R      mAP50  mAP50-95): 100%|██████████| 2/2 [00:00<00:00,  4.12it/s]"
     ]
    },
    {
     "name": "stdout",
     "output_type": "stream",
     "text": [
      "                   all         58        140      0.732      0.357       0.46      0.188\n"
     ]
    },
    {
     "name": "stderr",
     "output_type": "stream",
     "text": [
      "\n"
     ]
    },
    {
     "name": "stdout",
     "output_type": "stream",
     "text": [
      "\n",
      "      Epoch    GPU_mem   box_loss   cls_loss   dfl_loss  Instances       Size\n"
     ]
    },
    {
     "name": "stderr",
     "output_type": "stream",
     "text": [
      "     97/100       4.3G     0.7715     0.5451      1.201         20        640: 100%|██████████| 39/39 [00:09<00:00,  4.33it/s]\n",
      "                 Class     Images  Instances      Box(P          R      mAP50  mAP50-95): 100%|██████████| 2/2 [00:00<00:00,  4.19it/s]"
     ]
    },
    {
     "name": "stdout",
     "output_type": "stream",
     "text": [
      "                   all         58        140      0.533      0.407      0.443      0.188\n"
     ]
    },
    {
     "name": "stderr",
     "output_type": "stream",
     "text": [
      "\n"
     ]
    },
    {
     "name": "stdout",
     "output_type": "stream",
     "text": [
      "\n",
      "      Epoch    GPU_mem   box_loss   cls_loss   dfl_loss  Instances       Size\n"
     ]
    },
    {
     "name": "stderr",
     "output_type": "stream",
     "text": [
      "     98/100       4.3G     0.7683      0.525      1.195         18        640: 100%|██████████| 39/39 [00:08<00:00,  4.35it/s]\n",
      "                 Class     Images  Instances      Box(P          R      mAP50  mAP50-95): 100%|██████████| 2/2 [00:00<00:00,  4.21it/s]"
     ]
    },
    {
     "name": "stdout",
     "output_type": "stream",
     "text": [
      "                   all         58        140      0.699      0.379       0.46      0.183\n"
     ]
    },
    {
     "name": "stderr",
     "output_type": "stream",
     "text": [
      "\n"
     ]
    },
    {
     "name": "stdout",
     "output_type": "stream",
     "text": [
      "\n",
      "      Epoch    GPU_mem   box_loss   cls_loss   dfl_loss  Instances       Size\n"
     ]
    },
    {
     "name": "stderr",
     "output_type": "stream",
     "text": [
      "     99/100      4.28G     0.7867     0.5432      1.205         23        640: 100%|██████████| 39/39 [00:08<00:00,  4.34it/s]\n",
      "                 Class     Images  Instances      Box(P          R      mAP50  mAP50-95): 100%|██████████| 2/2 [00:00<00:00,  4.20it/s]"
     ]
    },
    {
     "name": "stdout",
     "output_type": "stream",
     "text": [
      "                   all         58        140      0.725      0.377      0.467      0.189\n"
     ]
    },
    {
     "name": "stderr",
     "output_type": "stream",
     "text": [
      "\n"
     ]
    },
    {
     "name": "stdout",
     "output_type": "stream",
     "text": [
      "\n",
      "      Epoch    GPU_mem   box_loss   cls_loss   dfl_loss  Instances       Size\n"
     ]
    },
    {
     "name": "stderr",
     "output_type": "stream",
     "text": [
      "    100/100      4.29G     0.7622       0.53      1.194         23        640: 100%|██████████| 39/39 [00:08<00:00,  4.36it/s]\n",
      "                 Class     Images  Instances      Box(P          R      mAP50  mAP50-95): 100%|██████████| 2/2 [00:00<00:00,  4.14it/s]"
     ]
    },
    {
     "name": "stdout",
     "output_type": "stream",
     "text": [
      "                   all         58        140      0.718      0.379      0.461      0.189\n"
     ]
    },
    {
     "name": "stderr",
     "output_type": "stream",
     "text": [
      "\n"
     ]
    },
    {
     "name": "stdout",
     "output_type": "stream",
     "text": [
      "\n",
      "100 epochs completed in 0.282 hours.\n",
      "Optimizer stripped from c:\\Users\\mytho\\runs\\detect\\train8\\weights\\last.pt, 5.5MB\n",
      "Optimizer stripped from c:\\Users\\mytho\\runs\\detect\\train8\\weights\\best.pt, 5.5MB\n",
      "\n",
      "Validating c:\\Users\\mytho\\runs\\detect\\train8\\weights\\best.pt...\n",
      "Ultralytics 8.3.157  Python-3.10.11 torch-2.7.1+cu126 CUDA:0 (NVIDIA GeForce RTX 4050 Laptop GPU, 6140MiB)\n",
      "YOLO11n summary (fused): 100 layers, 2,582,347 parameters, 0 gradients, 6.3 GFLOPs\n"
     ]
    },
    {
     "name": "stderr",
     "output_type": "stream",
     "text": [
      "                 Class     Images  Instances      Box(P          R      mAP50  mAP50-95): 100%|██████████| 2/2 [00:00<00:00,  3.53it/s]\n"
     ]
    },
    {
     "name": "stdout",
     "output_type": "stream",
     "text": [
      "                   all         58        140      0.677      0.407      0.472      0.215\n",
      "Speed: 0.3ms preprocess, 4.2ms inference, 0.0ms loss, 1.8ms postprocess per image\n",
      "Results saved to \u001b[1mc:\\Users\\mytho\\runs\\detect\\train8\u001b[0m\n"
     ]
    },
    {
     "ename": "RuntimeError",
     "evalue": "Parent directory trained_models does not exist.",
     "output_type": "error",
     "traceback": [
      "\u001b[1;31m---------------------------------------------------------------------------\u001b[0m",
      "\u001b[1;31mRuntimeError\u001b[0m                              Traceback (most recent call last)",
      "Cell \u001b[1;32mIn[3], line 8\u001b[0m\n\u001b[0;32m      1\u001b[0m \u001b[38;5;66;03m# Data từ link \u001b[39;00m\n\u001b[0;32m      2\u001b[0m \u001b[38;5;66;03m# https://universe.roboflow.com/loc-60-9pvlt/unclean-room/browse?queryText=&pageSize=50&startingIndex=0&browseQuery=true\u001b[39;00m\n\u001b[0;32m      4\u001b[0m results \u001b[38;5;241m=\u001b[39m model\u001b[38;5;241m.\u001b[39mtrain(data\u001b[38;5;241m=\u001b[39m\u001b[38;5;124m\"\u001b[39m\u001b[38;5;124m./data/data.yaml\u001b[39m\u001b[38;5;124m\"\u001b[39m, \n\u001b[0;32m      5\u001b[0m                       epochs\u001b[38;5;241m=\u001b[39m\u001b[38;5;241m100\u001b[39m, \n\u001b[0;32m      6\u001b[0m                       amp\u001b[38;5;241m=\u001b[39m\u001b[38;5;28;01mFalse\u001b[39;00m)\n\u001b[1;32m----> 8\u001b[0m \u001b[43mmodel\u001b[49m\u001b[38;5;241;43m.\u001b[39;49m\u001b[43msave\u001b[49m\u001b[43m(\u001b[49m\u001b[38;5;124;43m\"\u001b[39;49m\u001b[38;5;124;43mtrained_models/mess_detector_best.pt\u001b[39;49m\u001b[38;5;124;43m\"\u001b[39;49m\u001b[43m)\u001b[49m\n",
      "File \u001b[1;32mc:\\Users\\mytho\\AppData\\Local\\Programs\\Python\\Python310\\lib\\site-packages\\ultralytics\\engine\\model.py:420\u001b[0m, in \u001b[0;36mModel.save\u001b[1;34m(self, filename)\u001b[0m\n\u001b[0;32m    411\u001b[0m \u001b[38;5;28;01mfrom\u001b[39;00m\u001b[38;5;250m \u001b[39m\u001b[38;5;21;01multralytics\u001b[39;00m\u001b[38;5;250m \u001b[39m\u001b[38;5;28;01mimport\u001b[39;00m __version__\n\u001b[0;32m    413\u001b[0m updates \u001b[38;5;241m=\u001b[39m {\n\u001b[0;32m    414\u001b[0m     \u001b[38;5;124m\"\u001b[39m\u001b[38;5;124mmodel\u001b[39m\u001b[38;5;124m\"\u001b[39m: deepcopy(\u001b[38;5;28mself\u001b[39m\u001b[38;5;241m.\u001b[39mmodel)\u001b[38;5;241m.\u001b[39mhalf() \u001b[38;5;28;01mif\u001b[39;00m \u001b[38;5;28misinstance\u001b[39m(\u001b[38;5;28mself\u001b[39m\u001b[38;5;241m.\u001b[39mmodel, torch\u001b[38;5;241m.\u001b[39mnn\u001b[38;5;241m.\u001b[39mModule) \u001b[38;5;28;01melse\u001b[39;00m \u001b[38;5;28mself\u001b[39m\u001b[38;5;241m.\u001b[39mmodel,\n\u001b[0;32m    415\u001b[0m     \u001b[38;5;124m\"\u001b[39m\u001b[38;5;124mdate\u001b[39m\u001b[38;5;124m\"\u001b[39m: datetime\u001b[38;5;241m.\u001b[39mnow()\u001b[38;5;241m.\u001b[39misoformat(),\n\u001b[1;32m   (...)\u001b[0m\n\u001b[0;32m    418\u001b[0m     \u001b[38;5;124m\"\u001b[39m\u001b[38;5;124mdocs\u001b[39m\u001b[38;5;124m\"\u001b[39m: \u001b[38;5;124m\"\u001b[39m\u001b[38;5;124mhttps://docs.ultralytics.com\u001b[39m\u001b[38;5;124m\"\u001b[39m,\n\u001b[0;32m    419\u001b[0m }\n\u001b[1;32m--> 420\u001b[0m \u001b[43mtorch\u001b[49m\u001b[38;5;241;43m.\u001b[39;49m\u001b[43msave\u001b[49m\u001b[43m(\u001b[49m\u001b[43m{\u001b[49m\u001b[38;5;241;43m*\u001b[39;49m\u001b[38;5;241;43m*\u001b[39;49m\u001b[38;5;28;43mself\u001b[39;49m\u001b[38;5;241;43m.\u001b[39;49m\u001b[43mckpt\u001b[49m\u001b[43m,\u001b[49m\u001b[43m \u001b[49m\u001b[38;5;241;43m*\u001b[39;49m\u001b[38;5;241;43m*\u001b[39;49m\u001b[43mupdates\u001b[49m\u001b[43m}\u001b[49m\u001b[43m,\u001b[49m\u001b[43m \u001b[49m\u001b[43mfilename\u001b[49m\u001b[43m)\u001b[49m\n",
      "File \u001b[1;32mc:\\Users\\mytho\\AppData\\Local\\Programs\\Python\\Python310\\lib\\site-packages\\ultralytics\\utils\\patches.py:142\u001b[0m, in \u001b[0;36mtorch_save\u001b[1;34m(*args, **kwargs)\u001b[0m\n\u001b[0;32m    140\u001b[0m \u001b[38;5;28;01mexcept\u001b[39;00m \u001b[38;5;167;01mRuntimeError\u001b[39;00m \u001b[38;5;28;01mas\u001b[39;00m e:  \u001b[38;5;66;03m# Unable to save, possibly waiting for device to flush or antivirus scan\u001b[39;00m\n\u001b[0;32m    141\u001b[0m     \u001b[38;5;28;01mif\u001b[39;00m i \u001b[38;5;241m==\u001b[39m \u001b[38;5;241m3\u001b[39m:\n\u001b[1;32m--> 142\u001b[0m         \u001b[38;5;28;01mraise\u001b[39;00m e\n\u001b[0;32m    143\u001b[0m     time\u001b[38;5;241m.\u001b[39msleep((\u001b[38;5;241m2\u001b[39m\u001b[38;5;241m*\u001b[39m\u001b[38;5;241m*\u001b[39mi) \u001b[38;5;241m/\u001b[39m \u001b[38;5;241m2\u001b[39m)\n",
      "File \u001b[1;32mc:\\Users\\mytho\\AppData\\Local\\Programs\\Python\\Python310\\lib\\site-packages\\ultralytics\\utils\\patches.py:139\u001b[0m, in \u001b[0;36mtorch_save\u001b[1;34m(*args, **kwargs)\u001b[0m\n\u001b[0;32m    137\u001b[0m \u001b[38;5;28;01mfor\u001b[39;00m i \u001b[38;5;129;01min\u001b[39;00m \u001b[38;5;28mrange\u001b[39m(\u001b[38;5;241m4\u001b[39m):  \u001b[38;5;66;03m# 3 retries\u001b[39;00m\n\u001b[0;32m    138\u001b[0m     \u001b[38;5;28;01mtry\u001b[39;00m:\n\u001b[1;32m--> 139\u001b[0m         \u001b[38;5;28;01mreturn\u001b[39;00m _torch_save(\u001b[38;5;241m*\u001b[39margs, \u001b[38;5;241m*\u001b[39m\u001b[38;5;241m*\u001b[39mkwargs)\n\u001b[0;32m    140\u001b[0m     \u001b[38;5;28;01mexcept\u001b[39;00m \u001b[38;5;167;01mRuntimeError\u001b[39;00m \u001b[38;5;28;01mas\u001b[39;00m e:  \u001b[38;5;66;03m# Unable to save, possibly waiting for device to flush or antivirus scan\u001b[39;00m\n\u001b[0;32m    141\u001b[0m         \u001b[38;5;28;01mif\u001b[39;00m i \u001b[38;5;241m==\u001b[39m \u001b[38;5;241m3\u001b[39m:\n",
      "File \u001b[1;32mc:\\Users\\mytho\\AppData\\Local\\Programs\\Python\\Python310\\lib\\site-packages\\torch\\serialization.py:964\u001b[0m, in \u001b[0;36msave\u001b[1;34m(obj, f, pickle_module, pickle_protocol, _use_new_zipfile_serialization, _disable_byteorder_record)\u001b[0m\n\u001b[0;32m    961\u001b[0m     f \u001b[38;5;241m=\u001b[39m os\u001b[38;5;241m.\u001b[39mfspath(f)\n\u001b[0;32m    963\u001b[0m \u001b[38;5;28;01mif\u001b[39;00m _use_new_zipfile_serialization:\n\u001b[1;32m--> 964\u001b[0m     \u001b[38;5;28;01mwith\u001b[39;00m \u001b[43m_open_zipfile_writer\u001b[49m\u001b[43m(\u001b[49m\u001b[43mf\u001b[49m\u001b[43m)\u001b[49m \u001b[38;5;28;01mas\u001b[39;00m opened_zipfile:\n\u001b[0;32m    965\u001b[0m         _save(\n\u001b[0;32m    966\u001b[0m             obj,\n\u001b[0;32m    967\u001b[0m             opened_zipfile,\n\u001b[1;32m   (...)\u001b[0m\n\u001b[0;32m    970\u001b[0m             _disable_byteorder_record,\n\u001b[0;32m    971\u001b[0m         )\n\u001b[0;32m    972\u001b[0m         \u001b[38;5;28;01mreturn\u001b[39;00m\n",
      "File \u001b[1;32mc:\\Users\\mytho\\AppData\\Local\\Programs\\Python\\Python310\\lib\\site-packages\\torch\\serialization.py:828\u001b[0m, in \u001b[0;36m_open_zipfile_writer\u001b[1;34m(name_or_buffer)\u001b[0m\n\u001b[0;32m    826\u001b[0m \u001b[38;5;28;01melse\u001b[39;00m:\n\u001b[0;32m    827\u001b[0m     container \u001b[38;5;241m=\u001b[39m _open_zipfile_writer_buffer\n\u001b[1;32m--> 828\u001b[0m \u001b[38;5;28;01mreturn\u001b[39;00m \u001b[43mcontainer\u001b[49m\u001b[43m(\u001b[49m\u001b[43mname_or_buffer\u001b[49m\u001b[43m)\u001b[49m\n",
      "File \u001b[1;32mc:\\Users\\mytho\\AppData\\Local\\Programs\\Python\\Python310\\lib\\site-packages\\torch\\serialization.py:792\u001b[0m, in \u001b[0;36m_open_zipfile_writer_file.__init__\u001b[1;34m(self, name)\u001b[0m\n\u001b[0;32m    785\u001b[0m     \u001b[38;5;28msuper\u001b[39m()\u001b[38;5;241m.\u001b[39m\u001b[38;5;21m__init__\u001b[39m(\n\u001b[0;32m    786\u001b[0m         torch\u001b[38;5;241m.\u001b[39m_C\u001b[38;5;241m.\u001b[39mPyTorchFileWriter(\n\u001b[0;32m    787\u001b[0m             \u001b[38;5;28mself\u001b[39m\u001b[38;5;241m.\u001b[39mfile_stream, get_crc32_options(), _get_storage_alignment()\n\u001b[0;32m    788\u001b[0m         )\n\u001b[0;32m    789\u001b[0m     )\n\u001b[0;32m    790\u001b[0m \u001b[38;5;28;01melse\u001b[39;00m:\n\u001b[0;32m    791\u001b[0m     \u001b[38;5;28msuper\u001b[39m()\u001b[38;5;241m.\u001b[39m\u001b[38;5;21m__init__\u001b[39m(\n\u001b[1;32m--> 792\u001b[0m         \u001b[43mtorch\u001b[49m\u001b[38;5;241;43m.\u001b[39;49m\u001b[43m_C\u001b[49m\u001b[38;5;241;43m.\u001b[39;49m\u001b[43mPyTorchFileWriter\u001b[49m\u001b[43m(\u001b[49m\n\u001b[0;32m    793\u001b[0m \u001b[43m            \u001b[49m\u001b[38;5;28;43mself\u001b[39;49m\u001b[38;5;241;43m.\u001b[39;49m\u001b[43mname\u001b[49m\u001b[43m,\u001b[49m\u001b[43m \u001b[49m\u001b[43mget_crc32_options\u001b[49m\u001b[43m(\u001b[49m\u001b[43m)\u001b[49m\u001b[43m,\u001b[49m\u001b[43m \u001b[49m\u001b[43m_get_storage_alignment\u001b[49m\u001b[43m(\u001b[49m\u001b[43m)\u001b[49m\n\u001b[0;32m    794\u001b[0m \u001b[43m        \u001b[49m\u001b[43m)\u001b[49m\n\u001b[0;32m    795\u001b[0m     )\n",
      "\u001b[1;31mRuntimeError\u001b[0m: Parent directory trained_models does not exist."
     ]
    }
   ],
   "source": [
    "# Data từ link \n",
    "# https://universe.roboflow.com/loc-60-9pvlt/unclean-room/browse?queryText=&pageSize=50&startingIndex=0&browseQuery=true\n",
    "\n",
    "results = model.train(data=\"./data/data.yaml\", \n",
    "                      epochs=100, \n",
    "                      amp=False)\n"
   ]
  },
  {
   "cell_type": "code",
   "execution_count": 4,
   "id": "711d0af7",
   "metadata": {},
   "outputs": [],
   "source": [
    "model.save(\"trained_models/mess_detector_best.pt\")"
   ]
  },
  {
   "cell_type": "code",
   "execution_count": 5,
   "id": "cab383db",
   "metadata": {},
   "outputs": [
    {
     "name": "stdout",
     "output_type": "stream",
     "text": [
      "\n",
      "0: 640x640 4 messs, 28.1ms\n",
      "Speed: 6.4ms preprocess, 28.1ms inference, 2.0ms postprocess per image at shape (1, 3, 640, 640)\n",
      "\n",
      "image 1/1 d:\\Coding\\AI_MachineLearning\\cleaning-service-recommendation\\thong\\data\\test\\images\\14_png.rf.9dc8f9b7dad6575180e1f105e5e963b9.jpg: 640x640 4 messs, 28.2ms\n",
      "Speed: 3.7ms preprocess, 28.2ms inference, 2.0ms postprocess per image at shape (1, 3, 640, 640)\n",
      "0.3692986011505127 0.23357315063476564 0.4116680145263672 0.41559638977050783\n",
      "0.551132345199585 0.6421163558959961 0.8934544563293457 0.7157672882080078\n",
      "0.34241361618041993 0.07526159286499023 0.44828405380249026 0.15052318572998047\n",
      "0.837339210510254 0.6212217330932617 0.3249362468719482 0.238482666015625\n",
      "\n",
      "0: 640x640 2 messs, 22.3ms\n",
      "Speed: 4.0ms preprocess, 22.3ms inference, 2.0ms postprocess per image at shape (1, 3, 640, 640)\n",
      "\n",
      "image 1/1 d:\\Coding\\AI_MachineLearning\\cleaning-service-recommendation\\thong\\data\\test\\images\\28_png.rf.9b9148b0f299387be2b640427ab861e1.jpg: 640x640 4 messs, 22.5ms\n",
      "Speed: 6.4ms preprocess, 22.5ms inference, 2.3ms postprocess per image at shape (1, 3, 640, 640)\n",
      "0.5 0.7978983879089355 1.0 0.2340412139892578\n",
      "0.6233926296234131 0.3363317012786865 0.554773998260498 0.514858341217041\n",
      "\n",
      "0: 640x640 2 messs, 22.2ms\n",
      "Speed: 3.4ms preprocess, 22.2ms inference, 2.0ms postprocess per image at shape (1, 3, 640, 640)\n",
      "\n",
      "image 1/1 d:\\Coding\\AI_MachineLearning\\cleaning-service-recommendation\\thong\\data\\test\\images\\43_png.rf.bbe9cf984b770cd964438d3098de2177.jpg: 640x640 5 messs, 22.1ms\n",
      "Speed: 2.9ms preprocess, 22.1ms inference, 2.1ms postprocess per image at shape (1, 3, 640, 640)\n",
      "0.7469530582427979 0.607728385925293 0.5040839195251465 0.5694877624511718\n",
      "0.24513669013977052 0.5080350399017334 0.48571138381958007 0.27558116912841796\n",
      "\n",
      "0: 640x640 3 messs, 22.2ms\n",
      "Speed: 3.4ms preprocess, 22.2ms inference, 2.1ms postprocess per image at shape (1, 3, 640, 640)\n",
      "\n",
      "image 1/1 d:\\Coding\\AI_MachineLearning\\cleaning-service-recommendation\\thong\\data\\test\\images\\45_png.rf.91069c57e68c478d18bec9024d1a2eff.jpg: 640x640 3 messs, 22.2ms\n",
      "Speed: 3.6ms preprocess, 22.2ms inference, 2.2ms postprocess per image at shape (1, 3, 640, 640)\n",
      "0.7268209457397461 0.39655399322509766 0.5434497833251953 0.3238842010498047\n",
      "0.8575954437255859 0.6634736061096191 0.28325619697570803 0.09572315216064453\n",
      "0.3215371608734131 0.2324676752090454 0.34223184585571287 0.0866666316986084\n",
      "\n",
      "0: 640x640 1 mess, 22.2ms\n",
      "Speed: 3.9ms preprocess, 22.2ms inference, 2.1ms postprocess per image at shape (1, 3, 640, 640)\n",
      "\n",
      "image 1/1 d:\\Coding\\AI_MachineLearning\\cleaning-service-recommendation\\thong\\data\\test\\images\\52_png.rf.192a084f97ce010eb2748d22a7ef06a6.jpg: 640x640 1 mess, 22.2ms\n",
      "Speed: 3.6ms preprocess, 22.2ms inference, 2.1ms postprocess per image at shape (1, 3, 640, 640)\n",
      "0.5003526687622071 0.6909937381744384 0.999294662475586 0.6176459312438964\n",
      "\n",
      "0: 640x640 1 mess, 22.2ms\n",
      "Speed: 3.6ms preprocess, 22.2ms inference, 2.0ms postprocess per image at shape (1, 3, 640, 640)\n",
      "\n",
      "image 1/1 d:\\Coding\\AI_MachineLearning\\cleaning-service-recommendation\\thong\\data\\test\\images\\56_png.rf.1ea3746c8059264a352bebe26f32db00.jpg: 640x640 2 messs, 22.2ms\n",
      "Speed: 3.4ms preprocess, 22.2ms inference, 2.1ms postprocess per image at shape (1, 3, 640, 640)\n",
      "0.4881291389465332 0.8722950935363769 0.9762582778930664 0.25505771636962893\n",
      "\n",
      "0: 640x640 1 mess, 22.1ms\n",
      "Speed: 3.5ms preprocess, 22.1ms inference, 2.1ms postprocess per image at shape (1, 3, 640, 640)\n",
      "\n",
      "image 1/1 d:\\Coding\\AI_MachineLearning\\cleaning-service-recommendation\\thong\\data\\test\\images\\58_png.rf.bf36016f3e896371150a1ed589a5fd6f.jpg: 640x640 2 messs, 22.2ms\n",
      "Speed: 4.4ms preprocess, 22.2ms inference, 2.2ms postprocess per image at shape (1, 3, 640, 640)\n",
      "0.8788183212280274 0.30564565658569337 0.24236326217651366 0.5140226364135743\n",
      "\n",
      "0: 640x640 1 mess, 22.2ms\n",
      "Speed: 3.4ms preprocess, 22.2ms inference, 2.0ms postprocess per image at shape (1, 3, 640, 640)\n",
      "\n",
      "image 1/1 d:\\Coding\\AI_MachineLearning\\cleaning-service-recommendation\\thong\\data\\test\\images\\69_png.rf.15f02ccb5ef4eeb6df1eeb7f68869431.jpg: 640x640 2 messs, 22.1ms\n",
      "Speed: 3.4ms preprocess, 22.1ms inference, 1.9ms postprocess per image at shape (1, 3, 640, 640)\n",
      "0.512541389465332 0.7293093204498291 0.9651887893676758 0.5413813591003418\n",
      "\n",
      "0: 640x640 4 messs, 22.3ms\n",
      "Speed: 3.3ms preprocess, 22.3ms inference, 2.0ms postprocess per image at shape (1, 3, 640, 640)\n",
      "\n",
      "image 1/1 d:\\Coding\\AI_MachineLearning\\cleaning-service-recommendation\\thong\\data\\test\\images\\86_png.rf.99f09b9cdbc66d51a19527489c7d06ca.jpg: 640x640 5 messs, 22.3ms\n",
      "Speed: 3.5ms preprocess, 22.3ms inference, 2.0ms postprocess per image at shape (1, 3, 640, 640)\n",
      "0.815494441986084 0.8401618003845215 0.3670602798461914 0.3196763515472412\n",
      "0.6524080753326416 0.3385988712310791 0.5516806602478027 0.18138341903686522\n",
      "0.33887338638305664 0.9131231307983398 0.6710126876831055 0.17348556518554686\n",
      "0.22068259716033936 0.6875993251800537 0.4413651943206787 0.21206703186035156\n",
      "\n",
      "0: 640x640 2 messs, 22.2ms\n",
      "Speed: 3.7ms preprocess, 22.2ms inference, 1.9ms postprocess per image at shape (1, 3, 640, 640)\n",
      "\n",
      "image 1/1 d:\\Coding\\AI_MachineLearning\\cleaning-service-recommendation\\thong\\data\\test\\images\\DSC_0913_JPG.rf.baa70a22817b7b3ffba3fae89e56eea7.jpg: 640x640 3 messs, 22.2ms\n",
      "Speed: 3.0ms preprocess, 22.2ms inference, 1.9ms postprocess per image at shape (1, 3, 640, 640)\n",
      "0.5539836883544922 0.7503978729248046 0.8884361267089844 0.4992042541503906\n",
      "0.8389307975769043 0.5939272880554199 0.3221384048461914 0.472412109375\n",
      "\n",
      "0: 640x640 1 mess, 22.2ms\n",
      "Speed: 3.8ms preprocess, 22.2ms inference, 1.9ms postprocess per image at shape (1, 3, 640, 640)\n",
      "\n",
      "image 1/1 d:\\Coding\\AI_MachineLearning\\cleaning-service-recommendation\\thong\\data\\test\\images\\DSC_0917_JPG.rf.7c183214ef5f210576e9a816eaa1463d.jpg: 640x640 2 messs, 22.4ms\n",
      "Speed: 3.2ms preprocess, 22.4ms inference, 2.0ms postprocess per image at shape (1, 3, 640, 640)\n",
      "0.4107189178466797 0.7621117115020752 0.8214378356933594 0.47577657699584963\n",
      "\n",
      "0: 640x640 1 mess, 22.8ms\n",
      "Speed: 3.2ms preprocess, 22.8ms inference, 2.0ms postprocess per image at shape (1, 3, 640, 640)\n",
      "\n",
      "image 1/1 d:\\Coding\\AI_MachineLearning\\cleaning-service-recommendation\\thong\\data\\test\\images\\DSC_0918_JPG.rf.549eeb77dc9e21fa7750b6230fa35506.jpg: 640x640 1 mess, 27.0ms\n",
      "Speed: 3.6ms preprocess, 27.0ms inference, 2.0ms postprocess per image at shape (1, 3, 640, 640)\n",
      "0.5117822170257569 0.7784711360931397 0.9392617225646973 0.4421168327331543\n",
      "\n",
      "0: 640x640 (no detections), 24.0ms\n",
      "Speed: 4.2ms preprocess, 24.0ms inference, 0.9ms postprocess per image at shape (1, 3, 640, 640)\n",
      "\n",
      "image 1/1 d:\\Coding\\AI_MachineLearning\\cleaning-service-recommendation\\thong\\data\\test\\images\\DSC_0921_JPG.rf.8134618206046670cfe6233752ff7c0f.jpg: 640x640 (no detections), 24.1ms\n",
      "Speed: 3.5ms preprocess, 24.1ms inference, 1.0ms postprocess per image at shape (1, 3, 640, 640)\n",
      "\n",
      "0: 640x640 1 mess, 21.4ms\n",
      "Speed: 3.6ms preprocess, 21.4ms inference, 2.0ms postprocess per image at shape (1, 3, 640, 640)\n",
      "\n",
      "image 1/1 d:\\Coding\\AI_MachineLearning\\cleaning-service-recommendation\\thong\\data\\test\\images\\DSC_0925_JPG.rf.0d0f74d7899ead7b14af754eb295d42b.jpg: 640x640 1 mess, 21.3ms\n",
      "Speed: 3.4ms preprocess, 21.3ms inference, 2.1ms postprocess per image at shape (1, 3, 640, 640)\n",
      "0.5061037540435791 0.4950514793395996 0.7116808891296387 0.5301491737365722\n",
      "\n",
      "0: 640x640 1 mess, 21.4ms\n",
      "Speed: 3.7ms preprocess, 21.4ms inference, 1.9ms postprocess per image at shape (1, 3, 640, 640)\n",
      "\n",
      "image 1/1 d:\\Coding\\AI_MachineLearning\\cleaning-service-recommendation\\thong\\data\\test\\images\\DSC_0928_JPG.rf.fbc1b50a40dc7eaea38010fe1e35a7db.jpg: 640x640 1 mess, 21.6ms\n",
      "Speed: 3.3ms preprocess, 21.6ms inference, 2.0ms postprocess per image at shape (1, 3, 640, 640)\n",
      "0.4749432563781738 0.7921678066253662 0.8085760116577149 0.4156643867492676\n",
      "\n",
      "0: 640x640 1 mess, 21.5ms\n",
      "Speed: 3.3ms preprocess, 21.5ms inference, 2.0ms postprocess per image at shape (1, 3, 640, 640)\n",
      "\n",
      "image 1/1 d:\\Coding\\AI_MachineLearning\\cleaning-service-recommendation\\thong\\data\\test\\images\\DSC_0936_JPG.rf.1faac2a2a3910351e6e9c7f83b761b99.jpg: 640x640 2 messs, 21.5ms\n",
      "Speed: 3.5ms preprocess, 21.5ms inference, 1.9ms postprocess per image at shape (1, 3, 640, 640)\n",
      "0.43334169387817384 0.6738125801086425 0.3584578514099121 0.3115224838256836\n",
      "\n",
      "0: 640x640 1 mess, 21.6ms\n",
      "Speed: 3.8ms preprocess, 21.6ms inference, 1.8ms postprocess per image at shape (1, 3, 640, 640)\n",
      "\n",
      "image 1/1 d:\\Coding\\AI_MachineLearning\\cleaning-service-recommendation\\thong\\data\\test\\images\\DSC_0947_JPG.rf.2d10590e963bb6bd765f0c1bf4d3ddfb.jpg: 640x640 1 mess, 21.4ms\n",
      "Speed: 3.6ms preprocess, 21.4ms inference, 2.0ms postprocess per image at shape (1, 3, 640, 640)\n",
      "0.5613865852355957 0.6303565979003907 0.7365449905395508 0.718577766418457\n",
      "\n",
      "0: 640x640 1 mess, 19.2ms\n",
      "Speed: 3.5ms preprocess, 19.2ms inference, 2.7ms postprocess per image at shape (1, 3, 640, 640)\n",
      "\n",
      "image 1/1 d:\\Coding\\AI_MachineLearning\\cleaning-service-recommendation\\thong\\data\\test\\images\\image_10_jpg.rf.19ea7eec49c3e354ae08e56e2c84fb06.jpg: 640x640 4 messs, 19.1ms\n",
      "Speed: 3.4ms preprocess, 19.1ms inference, 1.9ms postprocess per image at shape (1, 3, 640, 640)\n",
      "0.5559075355529786 0.6915163993835449 0.874168586730957 0.6169672012329102\n",
      "\n",
      "0: 640x640 2 messs, 19.1ms\n",
      "Speed: 3.4ms preprocess, 19.1ms inference, 1.9ms postprocess per image at shape (1, 3, 640, 640)\n",
      "\n",
      "image 1/1 d:\\Coding\\AI_MachineLearning\\cleaning-service-recommendation\\thong\\data\\test\\images\\image_20_jpg.rf.cfecddf2a45fe006762ce5d50456e056.jpg: 640x640 2 messs, 19.2ms\n",
      "Speed: 3.2ms preprocess, 19.2ms inference, 2.1ms postprocess per image at shape (1, 3, 640, 640)\n",
      "0.7184866905212403 0.8156370162963867 0.2924959182739258 0.36833629608154295\n",
      "0.7252975463867187 0.5526692390441894 0.45232067108154295 0.1700908660888672\n",
      "\n",
      "0: 640x640 1 mess, 19.1ms\n",
      "Speed: 3.2ms preprocess, 19.1ms inference, 2.2ms postprocess per image at shape (1, 3, 640, 640)\n",
      "\n",
      "image 1/1 d:\\Coding\\AI_MachineLearning\\cleaning-service-recommendation\\thong\\data\\test\\images\\image_3_jpg.rf.e9d346c7c0c8c7612f4db5af4fb6ceab.jpg: 640x640 1 mess, 19.1ms\n",
      "Speed: 3.7ms preprocess, 19.1ms inference, 1.8ms postprocess per image at shape (1, 3, 640, 640)\n",
      "0.5020920753479003 0.20752041339874266 0.9958158493041992 0.41211533546447754\n",
      "\n",
      "0: 640x640 1 mess, 19.1ms\n",
      "Speed: 3.5ms preprocess, 19.1ms inference, 1.8ms postprocess per image at shape (1, 3, 640, 640)\n",
      "\n",
      "image 1/1 d:\\Coding\\AI_MachineLearning\\cleaning-service-recommendation\\thong\\data\\test\\images\\image_7_jpg.rf.87df0d9613182e68e630cefc1967eecb.jpg: 640x640 1 mess, 19.1ms\n",
      "Speed: 3.5ms preprocess, 19.1ms inference, 1.9ms postprocess per image at shape (1, 3, 640, 640)\n",
      "0.3000960826873779 0.816316795349121 0.5979025840759278 0.3530616760253906\n",
      "\n",
      "0: 640x640 4 messs, 19.1ms\n",
      "Speed: 3.3ms preprocess, 19.1ms inference, 2.0ms postprocess per image at shape (1, 3, 640, 640)\n",
      "\n",
      "image 1/1 d:\\Coding\\AI_MachineLearning\\cleaning-service-recommendation\\thong\\data\\test\\images\\IMG_0545_png.rf.f888ac69fd7846bb226ce741b021f12a.jpg: 640x640 4 messs, 19.0ms\n",
      "Speed: 5.0ms preprocess, 19.0ms inference, 2.2ms postprocess per image at shape (1, 3, 640, 640)\n",
      "0.8051241874694824 0.7399990081787109 0.3836151123046875 0.439482307434082\n",
      "0.22508554458618163 0.6070413589477539 0.45017108917236326 0.25684356689453125\n",
      "0.789149284362793 0.8156782150268554 0.38614425659179685 0.2473388671875\n",
      "0.19007691144943237 0.9091197967529296 0.37823383808135985 0.18054237365722656\n",
      "\n",
      "0: 640x640 2 messs, 19.1ms\n",
      "Speed: 3.4ms preprocess, 19.1ms inference, 2.0ms postprocess per image at shape (1, 3, 640, 640)\n",
      "\n",
      "image 1/1 d:\\Coding\\AI_MachineLearning\\cleaning-service-recommendation\\thong\\data\\test\\images\\IMG_0558_png.rf.77171fd124aa83a415504effdb6491e9.jpg: 640x640 2 messs, 19.0ms\n",
      "Speed: 3.4ms preprocess, 19.0ms inference, 1.9ms postprocess per image at shape (1, 3, 640, 640)\n",
      "0.6399560451507569 0.636420726776123 0.7170220375061035 0.5331281661987305\n",
      "0.13827065229415894 0.49122047424316406 0.2765413045883179 0.17510108947753905\n",
      "\n",
      "0: 640x640 1 mess, 19.0ms\n",
      "Speed: 2.9ms preprocess, 19.0ms inference, 2.0ms postprocess per image at shape (1, 3, 640, 640)\n",
      "\n",
      "image 1/1 d:\\Coding\\AI_MachineLearning\\cleaning-service-recommendation\\thong\\data\\test\\images\\IMG_0562_png.rf.256c6cf525916d23b0be91528f351bca.jpg: 640x640 2 messs, 19.3ms\n",
      "Speed: 3.3ms preprocess, 19.3ms inference, 2.0ms postprocess per image at shape (1, 3, 640, 640)\n",
      "0.5085652351379395 0.65689697265625 0.9798727035522461 0.6112710952758789\n",
      "\n",
      "0: 640x640 1 mess, 19.1ms\n",
      "Speed: 3.4ms preprocess, 19.1ms inference, 2.0ms postprocess per image at shape (1, 3, 640, 640)\n",
      "\n",
      "image 1/1 d:\\Coding\\AI_MachineLearning\\cleaning-service-recommendation\\thong\\data\\test\\images\\IMG_0565_png.rf.8dab4ea272235567973b0649e3a07b68.jpg: 640x640 2 messs, 19.0ms\n",
      "Speed: 3.2ms preprocess, 19.0ms inference, 1.9ms postprocess per image at shape (1, 3, 640, 640)\n",
      "0.31815342903137206 0.7093946933746338 0.6354104042053222 0.5805853843688965\n",
      "\n",
      "0: 640x640 2 messs, 18.4ms\n",
      "Speed: 3.3ms preprocess, 18.4ms inference, 1.9ms postprocess per image at shape (1, 3, 640, 640)\n",
      "\n",
      "image 1/1 d:\\Coding\\AI_MachineLearning\\cleaning-service-recommendation\\thong\\data\\test\\images\\IMG_0579_png.rf.4f092a2b71af48c80ee813c141a1cddd.jpg: 640x640 4 messs, 18.5ms\n",
      "Speed: 3.3ms preprocess, 18.5ms inference, 1.7ms postprocess per image at shape (1, 3, 640, 640)\n",
      "0.35954437255859373 0.5131358623504638 0.7080856323242187 0.6440857887268067\n",
      "0.7964468002319336 0.5218975067138671 0.40688724517822267 0.5709863662719726\n",
      "\n",
      "0: 640x640 1 mess, 18.6ms\n",
      "Speed: 3.2ms preprocess, 18.6ms inference, 1.9ms postprocess per image at shape (1, 3, 640, 640)\n",
      "\n",
      "image 1/1 d:\\Coding\\AI_MachineLearning\\cleaning-service-recommendation\\thong\\data\\test\\images\\IMG_0584_png.rf.8a89a79c109e5b2feccde2c432fad62c.jpg: 640x640 1 mess, 18.5ms\n",
      "Speed: 3.7ms preprocess, 18.5ms inference, 2.1ms postprocess per image at shape (1, 3, 640, 640)\n",
      "0.4998732566833496 0.6947397708892822 0.9885431289672851 0.6091652870178222\n",
      "\n",
      "0: 640x640 1 mess, 18.4ms\n",
      "Speed: 3.0ms preprocess, 18.4ms inference, 1.9ms postprocess per image at shape (1, 3, 640, 640)\n",
      "\n",
      "image 1/1 d:\\Coding\\AI_MachineLearning\\cleaning-service-recommendation\\thong\\data\\test\\images\\IMG_0600_png.rf.1870f5b49975061af8aab68ac741797f.jpg: 640x640 1 mess, 18.4ms\n",
      "Speed: 3.5ms preprocess, 18.4ms inference, 2.0ms postprocess per image at shape (1, 3, 640, 640)\n",
      "0.5 0.6001163959503174 1.0 0.7997672080993652\n",
      "\n",
      "0: 640x640 2 messs, 18.6ms\n",
      "Speed: 3.6ms preprocess, 18.6ms inference, 1.9ms postprocess per image at shape (1, 3, 640, 640)\n",
      "\n",
      "image 1/1 d:\\Coding\\AI_MachineLearning\\cleaning-service-recommendation\\thong\\data\\test\\images\\IMG_0635_png.rf.ac044e3cef24f8e6944ec7f1c49d4e70.jpg: 640x640 2 messs, 18.5ms\n",
      "Speed: 3.3ms preprocess, 18.5ms inference, 2.0ms postprocess per image at shape (1, 3, 640, 640)\n",
      "0.36484560966491697 0.7742375373840332 0.4533674240112305 0.451068115234375\n",
      "0.6991837024688721 0.6923315525054932 0.5927004814147949 0.44651403427124026\n",
      "\n",
      "0: 640x640 1 mess, 18.5ms\n",
      "Speed: 4.4ms preprocess, 18.5ms inference, 1.9ms postprocess per image at shape (1, 3, 640, 640)\n",
      "\n",
      "image 1/1 d:\\Coding\\AI_MachineLearning\\cleaning-service-recommendation\\thong\\data\\test\\images\\IMG_0653_png.rf.63f1211be4c58f02e1e0c73670d6d947.jpg: 640x640 1 mess, 18.5ms\n",
      "Speed: 3.8ms preprocess, 18.5ms inference, 2.0ms postprocess per image at shape (1, 3, 640, 640)\n",
      "0.667562198638916 0.849610710144043 0.6617406845092774 0.3007785797119141\n"
     ]
    }
   ],
   "source": [
    "from pathlib import Path\n",
    "import ultralytics\n",
    "from ultralytics import YOLO\n",
    "from PIL import Image, ImageDraw\n",
    "from tqdm import tqdm\n",
    "import os\n",
    "\n",
    "list_data_test = list(Path(\"./data/test/images\").iterdir())\n",
    "labels_data_test = Path(\"./data/test/labels\")\n",
    "labels_data_test.mkdir(exist_ok=True)\n",
    "\n",
    "answer_path = Path(\"./answer.txt\")\n",
    "answer_path.touch(exist_ok=True)\n",
    "\n",
    "num = 0\n",
    "for img_path in list_data_test:\n",
    "    result = model([img_path], conf=0.4)[0]\n",
    "    predictions = model(img_path)\n",
    "    for r in predictions:\n",
    "        im_array = r.plot()  # plot a BGR numpy array of predictions\n",
    "        im = Image.fromarray(im_array[..., ::-1])  # RGB PIL image\n",
    "        im.save((\"./prediction/test\" + str(num) + \".png\"), \"PNG\") \n",
    "        num += 1\n",
    "    boxes = result.boxes\n",
    "    img = Image.open(img_path)\n",
    "    img_draw = ImageDraw.Draw(img)\n",
    "    width, height = img.size\n",
    "\n",
    "    with open(answer_path, \"a\") as file:\n",
    "        for bbox in boxes:\n",
    "            x, y, w, h = map(float, bbox.xywh[0].tolist())\n",
    "            x /= width\n",
    "            y /= height\n",
    "            w /= width\n",
    "            h /= height\n",
    "            print(x, y, w, h)\n",
    "            file.write(f\"{img_path.stem} 0 {x} {y} {w} {h}\\n\")"
   ]
  },
  {
   "cell_type": "code",
   "execution_count": 6,
   "id": "5559dbcf",
   "metadata": {},
   "outputs": [
    {
     "name": "stdout",
     "output_type": "stream",
     "text": [
      "Found 576 images to process\n"
     ]
    },
    {
     "name": "stderr",
     "output_type": "stream",
     "text": [
      "Processing images:   0%|          | 0/576 [00:00<?, ?it/s]"
     ]
    },
    {
     "name": "stdout",
     "output_type": "stream",
     "text": [
      "\n",
      "0: 640x640 3 messs, 28.6ms\n",
      "Speed: 3.9ms preprocess, 28.6ms inference, 1.9ms postprocess per image at shape (1, 3, 640, 640)\n"
     ]
    },
    {
     "name": "stderr",
     "output_type": "stream",
     "text": [
      "Processing images:   0%|          | 1/576 [00:00<03:07,  3.06it/s]"
     ]
    },
    {
     "name": "stdout",
     "output_type": "stream",
     "text": [
      "✓ 0_png.rf.131d5137c48e69694bbe80026e588ea6.jpg: Found 3 objects\n",
      "\n",
      "0: 640x640 3 messs, 28.7ms\n",
      "Speed: 3.2ms preprocess, 28.7ms inference, 2.0ms postprocess per image at shape (1, 3, 640, 640)\n"
     ]
    },
    {
     "name": "stderr",
     "output_type": "stream",
     "text": [
      "Processing images:   0%|          | 2/576 [00:00<02:13,  4.30it/s]"
     ]
    },
    {
     "name": "stdout",
     "output_type": "stream",
     "text": [
      "✓ 0_png.rf.228ae7fe2a13be2f3ec9076195429a34.jpg: Found 3 objects\n",
      "\n",
      "0: 640x640 3 messs, 28.5ms\n",
      "Speed: 3.6ms preprocess, 28.5ms inference, 1.9ms postprocess per image at shape (1, 3, 640, 640)\n"
     ]
    },
    {
     "name": "stderr",
     "output_type": "stream",
     "text": [
      "Processing images:   1%|          | 3/576 [00:00<01:57,  4.89it/s]"
     ]
    },
    {
     "name": "stdout",
     "output_type": "stream",
     "text": [
      "✓ 0_png.rf.38b697f0535e34242328e351468478e0.jpg: Found 3 objects\n",
      "\n",
      "0: 640x640 2 messs, 28.6ms\n",
      "Speed: 4.3ms preprocess, 28.6ms inference, 2.0ms postprocess per image at shape (1, 3, 640, 640)\n"
     ]
    },
    {
     "name": "stderr",
     "output_type": "stream",
     "text": [
      "Processing images:   1%|          | 4/576 [00:00<01:48,  5.26it/s]"
     ]
    },
    {
     "name": "stdout",
     "output_type": "stream",
     "text": [
      "✓ 0_png.rf.92a5faf899bd28e746f65a0dcf2d5e90.jpg: Found 2 objects\n",
      "\n",
      "0: 640x640 2 messs, 28.6ms\n",
      "Speed: 3.7ms preprocess, 28.6ms inference, 1.9ms postprocess per image at shape (1, 3, 640, 640)\n"
     ]
    },
    {
     "name": "stderr",
     "output_type": "stream",
     "text": [
      "Processing images:   1%|          | 5/576 [00:01<01:44,  5.49it/s]"
     ]
    },
    {
     "name": "stdout",
     "output_type": "stream",
     "text": [
      "✓ 0_png.rf.b8e835d1731192f0ee297189b6757ded.jpg: Found 2 objects\n",
      "\n",
      "0: 640x640 2 messs, 28.6ms\n",
      "Speed: 3.2ms preprocess, 28.6ms inference, 2.0ms postprocess per image at shape (1, 3, 640, 640)\n"
     ]
    },
    {
     "name": "stderr",
     "output_type": "stream",
     "text": [
      "Processing images:   1%|          | 6/576 [00:01<01:41,  5.61it/s]"
     ]
    },
    {
     "name": "stdout",
     "output_type": "stream",
     "text": [
      "✓ 0_png.rf.f0555dba8a0722c60ba5f23cde2d0cb2.jpg: Found 2 objects\n",
      "\n",
      "0: 640x640 3 messs, 28.5ms\n",
      "Speed: 3.3ms preprocess, 28.5ms inference, 2.0ms postprocess per image at shape (1, 3, 640, 640)\n"
     ]
    },
    {
     "name": "stderr",
     "output_type": "stream",
     "text": [
      "Processing images:   1%|          | 7/576 [00:01<01:35,  5.97it/s]"
     ]
    },
    {
     "name": "stdout",
     "output_type": "stream",
     "text": [
      "✓ 10_png.rf.3325d373756f60e2f409954dfb2c8fac.jpg: Found 3 objects\n",
      "\n",
      "0: 640x640 4 messs, 28.7ms\n",
      "Speed: 3.3ms preprocess, 28.7ms inference, 2.1ms postprocess per image at shape (1, 3, 640, 640)\n",
      "✓ 10_png.rf.afbd5c9a52fb84697a78c6474cebc646.jpg: Found 4 objects"
     ]
    },
    {
     "name": "stderr",
     "output_type": "stream",
     "text": [
      "Processing images:   1%|▏         | 8/576 [00:01<01:36,  5.89it/s]"
     ]
    },
    {
     "name": "stdout",
     "output_type": "stream",
     "text": [
      "\n",
      "\n",
      "0: 640x640 2 messs, 28.5ms\n",
      "Speed: 3.5ms preprocess, 28.5ms inference, 1.9ms postprocess per image at shape (1, 3, 640, 640)\n"
     ]
    },
    {
     "name": "stderr",
     "output_type": "stream",
     "text": [
      "Processing images:   2%|▏         | 9/576 [00:01<01:32,  6.13it/s]"
     ]
    },
    {
     "name": "stdout",
     "output_type": "stream",
     "text": [
      "✓ 10_png.rf.b2a4a7f34beb3ec7c4a46e8c1394206f.jpg: Found 2 objects\n",
      "\n",
      "0: 640x640 2 messs, 28.5ms\n",
      "Speed: 3.9ms preprocess, 28.5ms inference, 2.0ms postprocess per image at shape (1, 3, 640, 640)\n"
     ]
    },
    {
     "name": "stderr",
     "output_type": "stream",
     "text": [
      "Processing images:   2%|▏         | 10/576 [00:01<01:34,  5.99it/s]"
     ]
    },
    {
     "name": "stdout",
     "output_type": "stream",
     "text": [
      "✓ 10_png.rf.ce4550375404d3674bfe2a7ac9403931.jpg: Found 2 objects\n",
      "\n",
      "0: 640x640 2 messs, 28.7ms\n",
      "Speed: 4.6ms preprocess, 28.7ms inference, 2.5ms postprocess per image at shape (1, 3, 640, 640)\n"
     ]
    },
    {
     "name": "stderr",
     "output_type": "stream",
     "text": [
      "Processing images:   2%|▏         | 11/576 [00:01<01:35,  5.89it/s]"
     ]
    },
    {
     "name": "stdout",
     "output_type": "stream",
     "text": [
      "✓ 10_png.rf.ef53daf47a26223929e1c0053dfb5490.jpg: Found 2 objects\n",
      "\n",
      "0: 640x640 3 messs, 29.1ms\n",
      "Speed: 3.8ms preprocess, 29.1ms inference, 2.1ms postprocess per image at shape (1, 3, 640, 640)\n"
     ]
    },
    {
     "name": "stderr",
     "output_type": "stream",
     "text": [
      "Processing images:   2%|▏         | 12/576 [00:02<01:32,  6.08it/s]"
     ]
    },
    {
     "name": "stdout",
     "output_type": "stream",
     "text": [
      "✓ 10_png.rf.fd1313e601ca7a3ced561564fb54a4c6.jpg: Found 3 objects\n",
      "\n",
      "0: 640x640 1 mess, 28.6ms\n",
      "Speed: 3.4ms preprocess, 28.6ms inference, 2.3ms postprocess per image at shape (1, 3, 640, 640)\n"
     ]
    },
    {
     "name": "stderr",
     "output_type": "stream",
     "text": [
      "Processing images:   2%|▏         | 13/576 [00:02<01:31,  6.14it/s]"
     ]
    },
    {
     "name": "stdout",
     "output_type": "stream",
     "text": [
      "✓ 11_png.rf.04701ba574fc5f52322230bceb86ba28.jpg: Found 1 objects\n",
      "\n",
      "0: 640x640 1 mess, 28.6ms\n",
      "Speed: 3.7ms preprocess, 28.6ms inference, 2.1ms postprocess per image at shape (1, 3, 640, 640)\n"
     ]
    },
    {
     "name": "stderr",
     "output_type": "stream",
     "text": [
      "Processing images:   2%|▏         | 14/576 [00:02<01:30,  6.23it/s]"
     ]
    },
    {
     "name": "stdout",
     "output_type": "stream",
     "text": [
      "✓ 11_png.rf.25ddd0bebde1cdc798e62de2882ce964.jpg: Found 1 objects\n",
      "\n",
      "0: 640x640 1 mess, 28.7ms\n",
      "Speed: 4.5ms preprocess, 28.7ms inference, 2.0ms postprocess per image at shape (1, 3, 640, 640)\n"
     ]
    },
    {
     "name": "stderr",
     "output_type": "stream",
     "text": [
      "Processing images:   3%|▎         | 15/576 [00:02<01:29,  6.27it/s]"
     ]
    },
    {
     "name": "stdout",
     "output_type": "stream",
     "text": [
      "✓ 11_png.rf.b67040cb82bac8cb59acf1a8842e9e9f.jpg: Found 1 objects\n",
      "\n",
      "0: 640x640 1 mess, 28.7ms\n",
      "Speed: 3.5ms preprocess, 28.7ms inference, 2.2ms postprocess per image at shape (1, 3, 640, 640)\n"
     ]
    },
    {
     "name": "stderr",
     "output_type": "stream",
     "text": [
      "Processing images:   3%|▎         | 16/576 [00:02<01:31,  6.15it/s]"
     ]
    },
    {
     "name": "stdout",
     "output_type": "stream",
     "text": [
      "✓ 11_png.rf.d33ff17b3561d5cb544dff902fa6ddbe.jpg: Found 1 objects\n",
      "\n",
      "0: 640x640 1 mess, 28.6ms\n",
      "Speed: 4.2ms preprocess, 28.6ms inference, 2.0ms postprocess per image at shape (1, 3, 640, 640)\n"
     ]
    },
    {
     "name": "stderr",
     "output_type": "stream",
     "text": [
      "Processing images:   3%|▎         | 17/576 [00:02<01:32,  6.07it/s]"
     ]
    },
    {
     "name": "stdout",
     "output_type": "stream",
     "text": [
      "✓ 11_png.rf.f6805cde487a6fdc9c6d032efaa36a6e.jpg: Found 1 objects\n",
      "\n",
      "0: 640x640 1 mess, 28.7ms\n",
      "Speed: 3.4ms preprocess, 28.7ms inference, 1.9ms postprocess per image at shape (1, 3, 640, 640)\n"
     ]
    },
    {
     "name": "stderr",
     "output_type": "stream",
     "text": [
      "Processing images:   3%|▎         | 18/576 [00:03<01:31,  6.07it/s]"
     ]
    },
    {
     "name": "stdout",
     "output_type": "stream",
     "text": [
      "✓ 11_png.rf.fe6b595d9f26ee5601e925eaf0a9e2af.jpg: Found 1 objects\n",
      "\n",
      "0: 640x640 1 mess, 28.8ms\n",
      "Speed: 3.3ms preprocess, 28.8ms inference, 2.0ms postprocess per image at shape (1, 3, 640, 640)\n"
     ]
    },
    {
     "name": "stderr",
     "output_type": "stream",
     "text": [
      "Processing images:   3%|▎         | 19/576 [00:03<01:27,  6.38it/s]"
     ]
    },
    {
     "name": "stdout",
     "output_type": "stream",
     "text": [
      "✓ 12_png.rf.0afc6ce4f884cc6b77852b736b7def09.jpg: Found 1 objects\n",
      "\n",
      "0: 640x640 1 mess, 28.5ms\n",
      "Speed: 3.3ms preprocess, 28.5ms inference, 2.1ms postprocess per image at shape (1, 3, 640, 640)\n"
     ]
    },
    {
     "name": "stderr",
     "output_type": "stream",
     "text": [
      "Processing images:   3%|▎         | 20/576 [00:03<01:24,  6.61it/s]"
     ]
    },
    {
     "name": "stdout",
     "output_type": "stream",
     "text": [
      "✓ 12_png.rf.0b95d72b85660dc75ac80adbc5c91ce0.jpg: Found 1 objects\n",
      "\n",
      "0: 640x640 1 mess, 28.7ms\n",
      "Speed: 4.3ms preprocess, 28.7ms inference, 2.6ms postprocess per image at shape (1, 3, 640, 640)\n"
     ]
    },
    {
     "name": "stderr",
     "output_type": "stream",
     "text": [
      "Processing images:   4%|▎         | 21/576 [00:03<01:22,  6.70it/s]"
     ]
    },
    {
     "name": "stdout",
     "output_type": "stream",
     "text": [
      "✓ 12_png.rf.606564e115465265e1025149dd1ed1c8.jpg: Found 1 objects\n",
      "\n",
      "0: 640x640 3 messs, 28.6ms\n",
      "Speed: 3.5ms preprocess, 28.6ms inference, 2.2ms postprocess per image at shape (1, 3, 640, 640)\n"
     ]
    },
    {
     "name": "stderr",
     "output_type": "stream",
     "text": [
      "Processing images:   4%|▍         | 22/576 [00:03<01:26,  6.42it/s]"
     ]
    },
    {
     "name": "stdout",
     "output_type": "stream",
     "text": [
      "✓ 12_png.rf.6797cb3230ae6023d3854a33c83602ff.jpg: Found 3 objects\n",
      "\n",
      "0: 640x640 4 messs, 28.6ms\n",
      "Speed: 3.8ms preprocess, 28.6ms inference, 2.6ms postprocess per image at shape (1, 3, 640, 640)\n"
     ]
    },
    {
     "name": "stderr",
     "output_type": "stream",
     "text": [
      "Processing images:   4%|▍         | 23/576 [00:03<01:28,  6.22it/s]"
     ]
    },
    {
     "name": "stdout",
     "output_type": "stream",
     "text": [
      "✓ 12_png.rf.7a38df426783164fb64e934762f8842e.jpg: Found 4 objects\n",
      "\n",
      "0: 640x640 4 messs, 28.5ms\n",
      "Speed: 3.5ms preprocess, 28.5ms inference, 2.2ms postprocess per image at shape (1, 3, 640, 640)\n"
     ]
    },
    {
     "name": "stderr",
     "output_type": "stream",
     "text": [
      "Processing images:   4%|▍         | 24/576 [00:04<01:30,  6.12it/s]"
     ]
    },
    {
     "name": "stdout",
     "output_type": "stream",
     "text": [
      "✓ 12_png.rf.a642116b35cdfc944b67befb626f23f9.jpg: Found 4 objects\n",
      "\n",
      "0: 640x640 1 mess, 28.7ms\n",
      "Speed: 3.5ms preprocess, 28.7ms inference, 2.4ms postprocess per image at shape (1, 3, 640, 640)\n"
     ]
    },
    {
     "name": "stderr",
     "output_type": "stream",
     "text": [
      "Processing images:   4%|▍         | 25/576 [00:04<01:30,  6.07it/s]"
     ]
    },
    {
     "name": "stdout",
     "output_type": "stream",
     "text": [
      "✓ 13_png.rf.080db74874ab13b97bfa23e8d494ac49.jpg: Found 1 objects\n",
      "\n",
      "0: 640x640 2 messs, 28.7ms\n",
      "Speed: 3.6ms preprocess, 28.7ms inference, 2.2ms postprocess per image at shape (1, 3, 640, 640)\n"
     ]
    },
    {
     "name": "stderr",
     "output_type": "stream",
     "text": [
      "Processing images:   5%|▍         | 26/576 [00:04<01:30,  6.06it/s]"
     ]
    },
    {
     "name": "stdout",
     "output_type": "stream",
     "text": [
      "✓ 13_png.rf.816cd417da9b040ccd9740557bf0879c.jpg: Found 2 objects\n",
      "\n",
      "0: 640x640 1 mess, 28.6ms\n",
      "Speed: 3.7ms preprocess, 28.6ms inference, 2.5ms postprocess per image at shape (1, 3, 640, 640)\n"
     ]
    },
    {
     "name": "stderr",
     "output_type": "stream",
     "text": [
      "Processing images:   5%|▍         | 27/576 [00:04<01:31,  6.02it/s]"
     ]
    },
    {
     "name": "stdout",
     "output_type": "stream",
     "text": [
      "✓ 13_png.rf.a23d34f84a18deb0b444536fb16c930e.jpg: Found 1 objects\n",
      "\n",
      "0: 640x640 2 messs, 28.7ms\n",
      "Speed: 4.1ms preprocess, 28.7ms inference, 2.2ms postprocess per image at shape (1, 3, 640, 640)\n"
     ]
    },
    {
     "name": "stderr",
     "output_type": "stream",
     "text": [
      "Processing images:   5%|▍         | 28/576 [00:04<01:30,  6.08it/s]"
     ]
    },
    {
     "name": "stdout",
     "output_type": "stream",
     "text": [
      "✓ 13_png.rf.b48932b77b687473beb5540689667912.jpg: Found 2 objects\n",
      "\n",
      "0: 640x640 2 messs, 28.6ms\n",
      "Speed: 3.4ms preprocess, 28.6ms inference, 2.0ms postprocess per image at shape (1, 3, 640, 640)\n"
     ]
    },
    {
     "name": "stderr",
     "output_type": "stream",
     "text": [
      "Processing images:   5%|▌         | 29/576 [00:04<01:28,  6.16it/s]"
     ]
    },
    {
     "name": "stdout",
     "output_type": "stream",
     "text": [
      "✓ 13_png.rf.c74654ae7176e57f114502c4385bf8f4.jpg: Found 2 objects\n",
      "\n",
      "0: 640x640 1 mess, 28.6ms\n",
      "Speed: 3.6ms preprocess, 28.6ms inference, 2.3ms postprocess per image at shape (1, 3, 640, 640)\n"
     ]
    },
    {
     "name": "stderr",
     "output_type": "stream",
     "text": [
      "Processing images:   5%|▌         | 30/576 [00:05<01:28,  6.18it/s]"
     ]
    },
    {
     "name": "stdout",
     "output_type": "stream",
     "text": [
      "✓ 13_png.rf.cc679600a025d588aa95af9afdf565dd.jpg: Found 1 objects\n",
      "\n",
      "0: 640x640 (no detections), 28.7ms\n",
      "Speed: 6.3ms preprocess, 28.7ms inference, 1.2ms postprocess per image at shape (1, 3, 640, 640)\n",
      "✗ 14_png.rf.0541a61fde54a7e0954d38d05f092348.jpg: No objects detected\n",
      "\n",
      "0: 640x640 1 mess, 28.6ms\n",
      "Speed: 3.7ms preprocess, 28.6ms inference, 1.9ms postprocess per image at shape (1, 3, 640, 640)\n"
     ]
    },
    {
     "name": "stderr",
     "output_type": "stream",
     "text": [
      "Processing images:   6%|▌         | 32/576 [00:05<01:09,  7.88it/s]"
     ]
    },
    {
     "name": "stdout",
     "output_type": "stream",
     "text": [
      "✓ 14_png.rf.0f868a82d9be9a3addfc873547bd492b.jpg: Found 1 objects\n",
      "\n",
      "0: 640x640 3 messs, 28.6ms\n",
      "Speed: 3.9ms preprocess, 28.6ms inference, 1.9ms postprocess per image at shape (1, 3, 640, 640)\n"
     ]
    },
    {
     "name": "stderr",
     "output_type": "stream",
     "text": [
      "Processing images:   6%|▌         | 33/576 [00:05<01:14,  7.24it/s]"
     ]
    },
    {
     "name": "stdout",
     "output_type": "stream",
     "text": [
      "✓ 14_png.rf.462b78aa92fd5e2ec87d8efb37e81758.jpg: Found 3 objects\n",
      "\n",
      "0: 640x640 1 mess, 28.6ms\n",
      "Speed: 3.6ms preprocess, 28.6ms inference, 1.9ms postprocess per image at shape (1, 3, 640, 640)\n"
     ]
    },
    {
     "name": "stderr",
     "output_type": "stream",
     "text": [
      "Processing images:   6%|▌         | 34/576 [00:05<01:12,  7.46it/s]"
     ]
    },
    {
     "name": "stdout",
     "output_type": "stream",
     "text": [
      "✓ 14_png.rf.7a4fd5579e9b734e597962209879fe19.jpg: Found 1 objects\n",
      "\n",
      "0: 640x640 2 messs, 28.6ms\n",
      "Speed: 3.5ms preprocess, 28.6ms inference, 1.9ms postprocess per image at shape (1, 3, 640, 640)\n"
     ]
    },
    {
     "name": "stderr",
     "output_type": "stream",
     "text": [
      "Processing images:   6%|▌         | 35/576 [00:05<01:17,  6.96it/s]"
     ]
    },
    {
     "name": "stdout",
     "output_type": "stream",
     "text": [
      "✓ 14_png.rf.87395c7a446386033def489cac873612.jpg: Found 2 objects\n",
      "\n",
      "0: 640x640 4 messs, 28.7ms\n",
      "Speed: 3.3ms preprocess, 28.7ms inference, 2.0ms postprocess per image at shape (1, 3, 640, 640)\n"
     ]
    },
    {
     "name": "stderr",
     "output_type": "stream",
     "text": [
      "Processing images:   6%|▋         | 36/576 [00:05<01:21,  6.62it/s]"
     ]
    },
    {
     "name": "stdout",
     "output_type": "stream",
     "text": [
      "✓ 14_png.rf.f2ba7f3c53b48d5ba4254787d8ae2c21.jpg: Found 4 objects\n",
      "\n",
      "0: 640x640 (no detections), 28.6ms\n",
      "Speed: 3.3ms preprocess, 28.6ms inference, 1.1ms postprocess per image at shape (1, 3, 640, 640)\n",
      "✗ 15_png.rf.10bdd2f6ad95c261d23d030c91595b09.jpg: No objects detected\n",
      "\n",
      "0: 640x640 2 messs, 28.6ms\n",
      "Speed: 3.6ms preprocess, 28.6ms inference, 1.9ms postprocess per image at shape (1, 3, 640, 640)\n"
     ]
    },
    {
     "name": "stderr",
     "output_type": "stream",
     "text": [
      "Processing images:   7%|▋         | 38/576 [00:06<01:09,  7.69it/s]"
     ]
    },
    {
     "name": "stdout",
     "output_type": "stream",
     "text": [
      "✓ 15_png.rf.2d27d4fed758aac72baf5f12305a16a9.jpg: Found 2 objects\n",
      "\n",
      "0: 640x640 (no detections), 28.6ms\n",
      "Speed: 3.9ms preprocess, 28.6ms inference, 1.0ms postprocess per image at shape (1, 3, 640, 640)\n",
      "✗ 15_png.rf.5caff476005636ad13ad53444d0a7d40.jpg: No objects detected\n",
      "\n",
      "0: 640x640 3 messs, 28.6ms\n",
      "Speed: 4.0ms preprocess, 28.6ms inference, 2.1ms postprocess per image at shape (1, 3, 640, 640)\n"
     ]
    },
    {
     "name": "stderr",
     "output_type": "stream",
     "text": [
      "Processing images:   7%|▋         | 40/576 [00:06<01:04,  8.26it/s]"
     ]
    },
    {
     "name": "stdout",
     "output_type": "stream",
     "text": [
      "✓ 15_png.rf.d5a753f10dec528aac7c6357d907aca4.jpg: Found 3 objects\n",
      "\n",
      "0: 640x640 2 messs, 28.6ms\n",
      "Speed: 4.3ms preprocess, 28.6ms inference, 2.3ms postprocess per image at shape (1, 3, 640, 640)\n"
     ]
    },
    {
     "name": "stderr",
     "output_type": "stream",
     "text": [
      "Processing images:   7%|▋         | 41/576 [00:06<01:10,  7.63it/s]"
     ]
    },
    {
     "name": "stdout",
     "output_type": "stream",
     "text": [
      "✓ 15_png.rf.d700879bd7a0404e3dd161c4aeef889d.jpg: Found 2 objects\n",
      "\n",
      "0: 640x640 (no detections), 28.6ms\n",
      "Speed: 5.1ms preprocess, 28.6ms inference, 1.0ms postprocess per image at shape (1, 3, 640, 640)\n",
      "✗ 15_png.rf.f2a434d2c35eb4faff75364b20dee6a9.jpg: No objects detected\n",
      "\n",
      "0: 640x640 3 messs, 28.6ms\n",
      "Speed: 3.9ms preprocess, 28.6ms inference, 3.7ms postprocess per image at shape (1, 3, 640, 640)\n"
     ]
    },
    {
     "name": "stderr",
     "output_type": "stream",
     "text": [
      "Processing images:   7%|▋         | 43/576 [00:06<01:04,  8.23it/s]"
     ]
    },
    {
     "name": "stdout",
     "output_type": "stream",
     "text": [
      "✓ 16_png.rf.025279f3b15d388318afcbe7443ba1f0.jpg: Found 3 objects\n",
      "\n",
      "0: 640x640 1 mess, 28.6ms\n",
      "Speed: 3.7ms preprocess, 28.6ms inference, 2.1ms postprocess per image at shape (1, 3, 640, 640)\n"
     ]
    },
    {
     "name": "stderr",
     "output_type": "stream",
     "text": [
      "Processing images:   8%|▊         | 44/576 [00:06<01:06,  7.97it/s]"
     ]
    },
    {
     "name": "stdout",
     "output_type": "stream",
     "text": [
      "✓ 16_png.rf.0fdde2c3b4b4b704781325f132bce8b4.jpg: Found 1 objects\n",
      "\n",
      "0: 640x640 1 mess, 28.7ms\n",
      "Speed: 3.5ms preprocess, 28.7ms inference, 2.2ms postprocess per image at shape (1, 3, 640, 640)\n"
     ]
    },
    {
     "name": "stderr",
     "output_type": "stream",
     "text": [
      "Processing images:   8%|▊         | 45/576 [00:06<01:07,  7.83it/s]"
     ]
    },
    {
     "name": "stdout",
     "output_type": "stream",
     "text": [
      "✓ 16_png.rf.264dadb6dcebe87bd22d8b8fd47def89.jpg: Found 1 objects\n",
      "\n",
      "0: 640x640 1 mess, 28.6ms\n",
      "Speed: 3.5ms preprocess, 28.6ms inference, 2.2ms postprocess per image at shape (1, 3, 640, 640)\n"
     ]
    },
    {
     "name": "stderr",
     "output_type": "stream",
     "text": [
      "Processing images:   8%|▊         | 46/576 [00:07<01:09,  7.65it/s]"
     ]
    },
    {
     "name": "stdout",
     "output_type": "stream",
     "text": [
      "✓ 16_png.rf.5c89d22e6a00d363b2e454adba6b3aeb.jpg: Found 1 objects\n",
      "\n",
      "0: 640x640 3 messs, 28.5ms\n",
      "Speed: 3.4ms preprocess, 28.5ms inference, 2.2ms postprocess per image at shape (1, 3, 640, 640)\n"
     ]
    },
    {
     "name": "stderr",
     "output_type": "stream",
     "text": [
      "Processing images:   8%|▊         | 47/576 [00:07<01:13,  7.20it/s]"
     ]
    },
    {
     "name": "stdout",
     "output_type": "stream",
     "text": [
      "✓ 16_png.rf.b719d7106a2da4f1f5e5d1acfe7869b2.jpg: Found 3 objects\n",
      "\n",
      "0: 640x640 3 messs, 28.6ms\n",
      "Speed: 3.7ms preprocess, 28.6ms inference, 2.6ms postprocess per image at shape (1, 3, 640, 640)\n"
     ]
    },
    {
     "name": "stderr",
     "output_type": "stream",
     "text": [
      "Processing images:   8%|▊         | 48/576 [00:07<01:16,  6.88it/s]"
     ]
    },
    {
     "name": "stdout",
     "output_type": "stream",
     "text": [
      "✓ 16_png.rf.c5b9e1ac05d59d13c70dfb8a470e0ce8.jpg: Found 3 objects\n",
      "\n",
      "0: 640x640 1 mess, 28.7ms\n",
      "Speed: 3.6ms preprocess, 28.7ms inference, 2.0ms postprocess per image at shape (1, 3, 640, 640)\n"
     ]
    },
    {
     "name": "stderr",
     "output_type": "stream",
     "text": [
      "Processing images:   9%|▊         | 49/576 [00:07<01:13,  7.20it/s]"
     ]
    },
    {
     "name": "stdout",
     "output_type": "stream",
     "text": [
      "✓ 17_png.rf.39f61108841cdb00a97ddcec3a755ba2.jpg: Found 1 objects\n",
      "\n",
      "0: 640x640 2 messs, 28.7ms\n",
      "Speed: 4.0ms preprocess, 28.7ms inference, 2.3ms postprocess per image at shape (1, 3, 640, 640)\n"
     ]
    },
    {
     "name": "stderr",
     "output_type": "stream",
     "text": [
      "Processing images:   9%|▊         | 50/576 [00:07<01:14,  7.11it/s]"
     ]
    },
    {
     "name": "stdout",
     "output_type": "stream",
     "text": [
      "✓ 17_png.rf.437a89280060800da59b8c71226fd2ae.jpg: Found 2 objects\n",
      "\n",
      "0: 640x640 1 mess, 28.6ms\n",
      "Speed: 3.5ms preprocess, 28.6ms inference, 2.2ms postprocess per image at shape (1, 3, 640, 640)\n"
     ]
    },
    {
     "name": "stderr",
     "output_type": "stream",
     "text": [
      "Processing images:   9%|▉         | 51/576 [00:07<01:11,  7.36it/s]"
     ]
    },
    {
     "name": "stdout",
     "output_type": "stream",
     "text": [
      "✓ 17_png.rf.bd698f3d8ce24c6a6e699478db755f5f.jpg: Found 1 objects\n",
      "\n",
      "0: 640x640 3 messs, 28.6ms\n",
      "Speed: 3.2ms preprocess, 28.6ms inference, 2.1ms postprocess per image at shape (1, 3, 640, 640)\n"
     ]
    },
    {
     "name": "stderr",
     "output_type": "stream",
     "text": [
      "Processing images:   9%|▉         | 52/576 [00:07<01:12,  7.24it/s]"
     ]
    },
    {
     "name": "stdout",
     "output_type": "stream",
     "text": [
      "✓ 17_png.rf.dd6ffdc9d76d9296f48fcf4dc360abfc.jpg: Found 3 objects\n",
      "\n",
      "0: 640x640 3 messs, 28.5ms\n",
      "Speed: 3.1ms preprocess, 28.5ms inference, 2.0ms postprocess per image at shape (1, 3, 640, 640)\n"
     ]
    },
    {
     "name": "stderr",
     "output_type": "stream",
     "text": [
      "Processing images:   9%|▉         | 53/576 [00:08<01:12,  7.17it/s]"
     ]
    },
    {
     "name": "stdout",
     "output_type": "stream",
     "text": [
      "✓ 17_png.rf.dde7f96a8aa75f319afe3ff4dff21ecf.jpg: Found 3 objects\n",
      "\n",
      "0: 640x640 1 mess, 28.6ms\n",
      "Speed: 3.6ms preprocess, 28.6ms inference, 3.3ms postprocess per image at shape (1, 3, 640, 640)\n"
     ]
    },
    {
     "name": "stderr",
     "output_type": "stream",
     "text": [
      "Processing images:   9%|▉         | 54/576 [00:08<01:11,  7.32it/s]"
     ]
    },
    {
     "name": "stdout",
     "output_type": "stream",
     "text": [
      "✓ 17_png.rf.ff4a1f80898871ac6dd50be56eed17e3.jpg: Found 1 objects\n",
      "\n",
      "0: 640x640 3 messs, 29.0ms\n",
      "Speed: 3.6ms preprocess, 29.0ms inference, 2.1ms postprocess per image at shape (1, 3, 640, 640)\n"
     ]
    },
    {
     "name": "stderr",
     "output_type": "stream",
     "text": [
      "Processing images:  10%|▉         | 55/576 [00:08<01:13,  7.08it/s]"
     ]
    },
    {
     "name": "stdout",
     "output_type": "stream",
     "text": [
      "✓ 18_png.rf.09b65b11a852c344a7f0755e80653a7e.jpg: Found 3 objects\n",
      "\n",
      "0: 640x640 3 messs, 28.6ms\n",
      "Speed: 3.6ms preprocess, 28.6ms inference, 2.0ms postprocess per image at shape (1, 3, 640, 640)\n"
     ]
    },
    {
     "name": "stderr",
     "output_type": "stream",
     "text": [
      "Processing images:  10%|▉         | 56/576 [00:08<01:14,  7.00it/s]"
     ]
    },
    {
     "name": "stdout",
     "output_type": "stream",
     "text": [
      "✓ 18_png.rf.47f3ae31bf14ec748ca0674528aaff14.jpg: Found 3 objects\n",
      "\n",
      "0: 640x640 1 mess, 28.6ms\n",
      "Speed: 3.5ms preprocess, 28.6ms inference, 1.9ms postprocess per image at shape (1, 3, 640, 640)\n"
     ]
    },
    {
     "name": "stderr",
     "output_type": "stream",
     "text": [
      "Processing images:  10%|▉         | 57/576 [00:08<01:16,  6.75it/s]"
     ]
    },
    {
     "name": "stdout",
     "output_type": "stream",
     "text": [
      "✓ 18_png.rf.69c354a940dacc49acf6726759a372be.jpg: Found 1 objects\n",
      "\n",
      "0: 640x640 1 mess, 28.7ms\n",
      "Speed: 3.7ms preprocess, 28.7ms inference, 2.2ms postprocess per image at shape (1, 3, 640, 640)\n"
     ]
    },
    {
     "name": "stderr",
     "output_type": "stream",
     "text": [
      "Processing images:  10%|█         | 58/576 [00:08<01:18,  6.56it/s]"
     ]
    },
    {
     "name": "stdout",
     "output_type": "stream",
     "text": [
      "✓ 18_png.rf.a109747363f3aac106629526739c63b6.jpg: Found 1 objects\n",
      "\n",
      "0: 640x640 1 mess, 28.6ms\n",
      "Speed: 3.3ms preprocess, 28.6ms inference, 2.3ms postprocess per image at shape (1, 3, 640, 640)\n"
     ]
    },
    {
     "name": "stderr",
     "output_type": "stream",
     "text": [
      "Processing images:  10%|█         | 59/576 [00:08<01:20,  6.44it/s]"
     ]
    },
    {
     "name": "stdout",
     "output_type": "stream",
     "text": [
      "✓ 18_png.rf.dada1797060af6404e88dd402666703e.jpg: Found 1 objects\n",
      "\n",
      "0: 640x640 4 messs, 28.6ms\n",
      "Speed: 3.3ms preprocess, 28.6ms inference, 2.1ms postprocess per image at shape (1, 3, 640, 640)\n"
     ]
    },
    {
     "name": "stderr",
     "output_type": "stream",
     "text": [
      "Processing images:  10%|█         | 60/576 [00:09<01:18,  6.55it/s]"
     ]
    },
    {
     "name": "stdout",
     "output_type": "stream",
     "text": [
      "✓ 18_png.rf.eb426b518f2b7c11417e7a45c8354c5a.jpg: Found 4 objects\n",
      "\n",
      "0: 640x640 1 mess, 28.7ms\n",
      "Speed: 3.8ms preprocess, 28.7ms inference, 2.0ms postprocess per image at shape (1, 3, 640, 640)\n"
     ]
    },
    {
     "name": "stderr",
     "output_type": "stream",
     "text": [
      "Processing images:  11%|█         | 61/576 [00:09<01:18,  6.60it/s]"
     ]
    },
    {
     "name": "stdout",
     "output_type": "stream",
     "text": [
      "✓ 19_png.rf.10e3c2edb4d9e0eef868617eb7f9c0e1.jpg: Found 1 objects\n",
      "\n",
      "0: 640x640 6 messs, 28.6ms\n",
      "Speed: 3.4ms preprocess, 28.6ms inference, 2.1ms postprocess per image at shape (1, 3, 640, 640)\n"
     ]
    },
    {
     "name": "stderr",
     "output_type": "stream",
     "text": [
      "Processing images:  11%|█         | 62/576 [00:09<01:16,  6.72it/s]"
     ]
    },
    {
     "name": "stdout",
     "output_type": "stream",
     "text": [
      "✓ 19_png.rf.55e7d4e63b0d2a126e50c72c2a48b21b.jpg: Found 6 objects\n",
      "\n",
      "0: 640x640 6 messs, 28.6ms\n",
      "Speed: 3.2ms preprocess, 28.6ms inference, 2.0ms postprocess per image at shape (1, 3, 640, 640)\n"
     ]
    },
    {
     "name": "stderr",
     "output_type": "stream",
     "text": [
      "Processing images:  11%|█         | 63/576 [00:09<01:14,  6.87it/s]"
     ]
    },
    {
     "name": "stdout",
     "output_type": "stream",
     "text": [
      "✓ 19_png.rf.611d8acf11e5fc657ec699394cb00f25.jpg: Found 6 objects\n",
      "\n",
      "0: 640x640 (no detections), 28.6ms\n",
      "Speed: 3.4ms preprocess, 28.6ms inference, 1.4ms postprocess per image at shape (1, 3, 640, 640)\n",
      "✗ 19_png.rf.6bca7fa762907a29df77c908767e6700.jpg: No objects detected\n",
      "\n",
      "0: 640x640 1 mess, 28.7ms\n",
      "Speed: 3.8ms preprocess, 28.7ms inference, 2.1ms postprocess per image at shape (1, 3, 640, 640)\n"
     ]
    },
    {
     "name": "stderr",
     "output_type": "stream",
     "text": [
      "Processing images:  11%|█▏        | 65/576 [00:09<01:03,  8.06it/s]"
     ]
    },
    {
     "name": "stdout",
     "output_type": "stream",
     "text": [
      "✓ 19_png.rf.87c3f88145669a311024371d7c4b4317.jpg: Found 1 objects\n",
      "\n",
      "0: 640x640 6 messs, 28.6ms\n",
      "Speed: 3.5ms preprocess, 28.6ms inference, 2.1ms postprocess per image at shape (1, 3, 640, 640)\n"
     ]
    },
    {
     "name": "stderr",
     "output_type": "stream",
     "text": [
      "Processing images:  11%|█▏        | 66/576 [00:09<01:05,  7.83it/s]"
     ]
    },
    {
     "name": "stdout",
     "output_type": "stream",
     "text": [
      "✓ 19_png.rf.d2fc3875fe4be1538f8d98de5bbf37cb.jpg: Found 6 objects\n",
      "\n",
      "0: 640x640 5 messs, 28.5ms\n",
      "Speed: 3.9ms preprocess, 28.5ms inference, 2.0ms postprocess per image at shape (1, 3, 640, 640)\n",
      "✓ 1_png.rf.3080becd4bf82d2c83917a7852f51e5e.jpg: Found 5 objects"
     ]
    },
    {
     "name": "stderr",
     "output_type": "stream",
     "text": [
      "Processing images:  12%|█▏        | 67/576 [00:10<01:14,  6.86it/s]"
     ]
    },
    {
     "name": "stdout",
     "output_type": "stream",
     "text": [
      "\n",
      "\n",
      "0: 640x640 1 mess, 28.6ms\n",
      "Speed: 3.6ms preprocess, 28.6ms inference, 2.1ms postprocess per image at shape (1, 3, 640, 640)\n"
     ]
    },
    {
     "name": "stderr",
     "output_type": "stream",
     "text": [
      "Processing images:  12%|█▏        | 68/576 [00:10<01:14,  6.85it/s]"
     ]
    },
    {
     "name": "stdout",
     "output_type": "stream",
     "text": [
      "✓ 1_png.rf.329cf271009e766f03c58eb49d073f56.jpg: Found 1 objects\n",
      "\n",
      "0: 640x640 7 messs, 28.6ms\n",
      "Speed: 5.4ms preprocess, 28.6ms inference, 2.1ms postprocess per image at shape (1, 3, 640, 640)\n"
     ]
    },
    {
     "name": "stderr",
     "output_type": "stream",
     "text": [
      "Processing images:  12%|█▏        | 69/576 [00:10<01:21,  6.21it/s]"
     ]
    },
    {
     "name": "stdout",
     "output_type": "stream",
     "text": [
      "✓ 1_png.rf.5a76254fc6aef2e07e3bcd55e5f63fb6.jpg: Found 7 objects\n",
      "\n",
      "0: 640x640 5 messs, 28.7ms\n",
      "Speed: 4.8ms preprocess, 28.7ms inference, 2.2ms postprocess per image at shape (1, 3, 640, 640)\n"
     ]
    },
    {
     "name": "stderr",
     "output_type": "stream",
     "text": [
      "Processing images:  12%|█▏        | 70/576 [00:10<01:27,  5.80it/s]"
     ]
    },
    {
     "name": "stdout",
     "output_type": "stream",
     "text": [
      "✓ 1_png.rf.5bd51fe2a93ee20d5db7b28beb1f522c.jpg: Found 5 objects\n",
      "\n",
      "0: 640x640 (no detections), 28.6ms\n",
      "Speed: 3.7ms preprocess, 28.6ms inference, 1.0ms postprocess per image at shape (1, 3, 640, 640)\n",
      "✗ 1_png.rf.aae6a67b1ee3953dfbfac5c8895c693f.jpg: No objects detected\n",
      "\n",
      "0: 640x640 (no detections), 28.6ms\n",
      "Speed: 3.9ms preprocess, 28.6ms inference, 1.1ms postprocess per image at shape (1, 3, 640, 640)\n",
      "✗ 1_png.rf.d04bae37897c2c8aa5941fe83e16c815.jpg: No objects detected\n",
      "\n",
      "0: 640x640 3 messs, 28.6ms\n",
      "Speed: 3.4ms preprocess, 28.6ms inference, 2.2ms postprocess per image at shape (1, 3, 640, 640)\n"
     ]
    },
    {
     "name": "stderr",
     "output_type": "stream",
     "text": [
      "Processing images:  13%|█▎        | 73/576 [00:10<01:01,  8.13it/s]"
     ]
    },
    {
     "name": "stdout",
     "output_type": "stream",
     "text": [
      "✓ 20_png.rf.067e9b345bbdc77ef742f12803247196.jpg: Found 3 objects\n",
      "\n",
      "0: 640x640 (no detections), 28.6ms\n",
      "Speed: 3.5ms preprocess, 28.6ms inference, 1.1ms postprocess per image at shape (1, 3, 640, 640)\n",
      "✗ 20_png.rf.65ff09da09087c4061fd9cc31410f190.jpg: No objects detected\n",
      "\n",
      "0: 640x640 1 mess, 28.6ms\n",
      "Speed: 3.5ms preprocess, 28.6ms inference, 2.2ms postprocess per image at shape (1, 3, 640, 640)\n",
      "✓ 20_png.rf.68cc0436c17b79e02506e6cc6c1fb2ac.jpg: Found 1 objects"
     ]
    },
    {
     "name": "stderr",
     "output_type": "stream",
     "text": [
      "Processing images:  13%|█▎        | 75/576 [00:11<00:57,  8.68it/s]"
     ]
    },
    {
     "name": "stdout",
     "output_type": "stream",
     "text": [
      "\n",
      "\n",
      "0: 640x640 3 messs, 28.9ms\n",
      "Speed: 3.6ms preprocess, 28.9ms inference, 2.7ms postprocess per image at shape (1, 3, 640, 640)\n"
     ]
    },
    {
     "name": "stderr",
     "output_type": "stream",
     "text": [
      "Processing images:  13%|█▎        | 76/576 [00:11<01:02,  7.96it/s]"
     ]
    },
    {
     "name": "stdout",
     "output_type": "stream",
     "text": [
      "✓ 20_png.rf.8429f8de4e0ef0bd1e7c1e5168b00f67.jpg: Found 3 objects\n",
      "\n",
      "0: 640x640 2 messs, 28.6ms\n",
      "Speed: 3.5ms preprocess, 28.6ms inference, 2.1ms postprocess per image at shape (1, 3, 640, 640)\n"
     ]
    },
    {
     "name": "stderr",
     "output_type": "stream",
     "text": [
      "Processing images:  13%|█▎        | 77/576 [00:11<01:05,  7.57it/s]"
     ]
    },
    {
     "name": "stdout",
     "output_type": "stream",
     "text": [
      "✓ 20_png.rf.86e3743759009aae6b60d37dbfc19239.jpg: Found 2 objects\n",
      "\n",
      "0: 640x640 (no detections), 28.6ms\n",
      "Speed: 3.9ms preprocess, 28.6ms inference, 1.2ms postprocess per image at shape (1, 3, 640, 640)\n",
      "✗ 20_png.rf.bffdcff1c6c3860b1d29549f8b283874.jpg: No objects detected\n",
      "\n",
      "0: 640x640 1 mess, 28.6ms\n",
      "Speed: 3.5ms preprocess, 28.6ms inference, 2.0ms postprocess per image at shape (1, 3, 640, 640)\n"
     ]
    },
    {
     "name": "stderr",
     "output_type": "stream",
     "text": [
      "Processing images:  14%|█▎        | 79/576 [00:11<00:57,  8.62it/s]"
     ]
    },
    {
     "name": "stdout",
     "output_type": "stream",
     "text": [
      "✓ 21_png.rf.04860833bd2cb5a8f49501086a721722.jpg: Found 1 objects\n",
      "\n",
      "0: 640x640 2 messs, 28.6ms\n",
      "Speed: 3.3ms preprocess, 28.6ms inference, 2.1ms postprocess per image at shape (1, 3, 640, 640)\n"
     ]
    },
    {
     "name": "stderr",
     "output_type": "stream",
     "text": [
      "Processing images:  14%|█▍        | 80/576 [00:11<01:00,  8.26it/s]"
     ]
    },
    {
     "name": "stdout",
     "output_type": "stream",
     "text": [
      "✓ 21_png.rf.540fa011e86f5c05beedacdb177cd208.jpg: Found 2 objects\n",
      "\n",
      "0: 640x640 2 messs, 29.3ms\n",
      "Speed: 3.8ms preprocess, 29.3ms inference, 2.5ms postprocess per image at shape (1, 3, 640, 640)\n"
     ]
    },
    {
     "name": "stderr",
     "output_type": "stream",
     "text": [
      "Processing images:  14%|█▍        | 81/576 [00:11<01:04,  7.68it/s]"
     ]
    },
    {
     "name": "stdout",
     "output_type": "stream",
     "text": [
      "✓ 21_png.rf.5702cebfcb45133e42330d186f2860cb.jpg: Found 2 objects\n",
      "\n",
      "0: 640x640 1 mess, 28.6ms\n",
      "Speed: 3.6ms preprocess, 28.6ms inference, 2.1ms postprocess per image at shape (1, 3, 640, 640)\n"
     ]
    },
    {
     "name": "stderr",
     "output_type": "stream",
     "text": [
      "Processing images:  14%|█▍        | 82/576 [00:12<01:05,  7.56it/s]"
     ]
    },
    {
     "name": "stdout",
     "output_type": "stream",
     "text": [
      "✓ 21_png.rf.91223591b1325f3d62cbc5432a88d581.jpg: Found 1 objects\n",
      "\n",
      "0: 640x640 2 messs, 28.6ms\n",
      "Speed: 3.5ms preprocess, 28.6ms inference, 2.1ms postprocess per image at shape (1, 3, 640, 640)\n"
     ]
    },
    {
     "name": "stderr",
     "output_type": "stream",
     "text": [
      "Processing images:  14%|█▍        | 83/576 [00:12<01:08,  7.21it/s]"
     ]
    },
    {
     "name": "stdout",
     "output_type": "stream",
     "text": [
      "✓ 21_png.rf.ddbd9e618658c3adec61f16f880115b5.jpg: Found 2 objects\n",
      "\n",
      "0: 640x640 2 messs, 28.7ms\n",
      "Speed: 3.7ms preprocess, 28.7ms inference, 4.9ms postprocess per image at shape (1, 3, 640, 640)\n"
     ]
    },
    {
     "name": "stderr",
     "output_type": "stream",
     "text": [
      "Processing images:  15%|█▍        | 84/576 [00:12<01:11,  6.84it/s]"
     ]
    },
    {
     "name": "stdout",
     "output_type": "stream",
     "text": [
      "✓ 21_png.rf.df73628fb92d7af33421e42725067ae8.jpg: Found 2 objects\n",
      "\n",
      "0: 640x640 4 messs, 28.6ms\n",
      "Speed: 3.3ms preprocess, 28.6ms inference, 2.5ms postprocess per image at shape (1, 3, 640, 640)\n"
     ]
    },
    {
     "name": "stderr",
     "output_type": "stream",
     "text": [
      "Processing images:  15%|█▍        | 85/576 [00:12<01:14,  6.56it/s]"
     ]
    },
    {
     "name": "stdout",
     "output_type": "stream",
     "text": [
      "✓ 22_png.rf.062f168984a06ace9e517d1d4cf44cb5.jpg: Found 4 objects\n",
      "\n",
      "0: 640x640 1 mess, 28.7ms\n",
      "Speed: 3.5ms preprocess, 28.7ms inference, 2.0ms postprocess per image at shape (1, 3, 640, 640)\n"
     ]
    },
    {
     "name": "stderr",
     "output_type": "stream",
     "text": [
      "Processing images:  15%|█▍        | 86/576 [00:12<01:10,  6.98it/s]"
     ]
    },
    {
     "name": "stdout",
     "output_type": "stream",
     "text": [
      "✓ 22_png.rf.350a6d3693084bfd5dcf9cec206fbbca.jpg: Found 1 objects\n",
      "\n",
      "0: 640x640 1 mess, 28.6ms\n",
      "Speed: 3.7ms preprocess, 28.6ms inference, 2.4ms postprocess per image at shape (1, 3, 640, 640)\n",
      "✓ 22_png.rf.3ba760f6c744100f7dce723c0b606cc1.jpg: Found 1 objects\n"
     ]
    },
    {
     "name": "stderr",
     "output_type": "stream",
     "text": [
      "Processing images:  15%|█▌        | 87/576 [00:12<01:07,  7.29it/s]"
     ]
    },
    {
     "name": "stdout",
     "output_type": "stream",
     "text": [
      "\n",
      "0: 640x640 5 messs, 28.6ms\n",
      "Speed: 3.3ms preprocess, 28.6ms inference, 2.2ms postprocess per image at shape (1, 3, 640, 640)\n"
     ]
    },
    {
     "name": "stderr",
     "output_type": "stream",
     "text": [
      "Processing images:  15%|█▌        | 88/576 [00:12<01:11,  6.82it/s]"
     ]
    },
    {
     "name": "stdout",
     "output_type": "stream",
     "text": [
      "✓ 22_png.rf.d72bc4e6ec5a341a184ef6dc00deeb02.jpg: Found 5 objects\n",
      "\n",
      "0: 640x640 1 mess, 28.6ms\n",
      "Speed: 3.1ms preprocess, 28.6ms inference, 4.3ms postprocess per image at shape (1, 3, 640, 640)\n"
     ]
    },
    {
     "name": "stderr",
     "output_type": "stream",
     "text": [
      "Processing images:  15%|█▌        | 89/576 [00:13<01:08,  7.08it/s]"
     ]
    },
    {
     "name": "stdout",
     "output_type": "stream",
     "text": [
      "✓ 22_png.rf.e2982c2ba9d753578c807c16db6d293c.jpg: Found 1 objects\n",
      "\n",
      "0: 640x640 6 messs, 28.6ms\n",
      "Speed: 3.5ms preprocess, 28.6ms inference, 2.4ms postprocess per image at shape (1, 3, 640, 640)\n"
     ]
    },
    {
     "name": "stderr",
     "output_type": "stream",
     "text": [
      "Processing images:  16%|█▌        | 90/576 [00:13<01:12,  6.68it/s]"
     ]
    },
    {
     "name": "stdout",
     "output_type": "stream",
     "text": [
      "✓ 22_png.rf.fa495ff1f4b59fac715b832839139b34.jpg: Found 6 objects\n",
      "\n",
      "0: 640x640 2 messs, 28.6ms\n",
      "Speed: 3.3ms preprocess, 28.6ms inference, 2.2ms postprocess per image at shape (1, 3, 640, 640)\n"
     ]
    },
    {
     "name": "stderr",
     "output_type": "stream",
     "text": [
      "Processing images:  16%|█▌        | 91/576 [00:13<01:21,  5.98it/s]"
     ]
    },
    {
     "name": "stdout",
     "output_type": "stream",
     "text": [
      "✓ 23_png.rf.2269e77b437c052f673edfeff2709fb0.jpg: Found 2 objects\n",
      "\n",
      "0: 640x640 1 mess, 28.7ms\n",
      "Speed: 3.9ms preprocess, 28.7ms inference, 2.3ms postprocess per image at shape (1, 3, 640, 640)\n"
     ]
    },
    {
     "name": "stderr",
     "output_type": "stream",
     "text": [
      "Processing images:  16%|█▌        | 92/576 [00:13<01:17,  6.26it/s]"
     ]
    },
    {
     "name": "stdout",
     "output_type": "stream",
     "text": [
      "✓ 23_png.rf.59dc29f951015084c6a049bcc39b946e.jpg: Found 1 objects\n",
      "\n",
      "0: 640x640 2 messs, 28.6ms\n",
      "Speed: 3.5ms preprocess, 28.6ms inference, 2.2ms postprocess per image at shape (1, 3, 640, 640)\n",
      "✓ 23_png.rf.7453901e4e85e4590c3c5379e7155982.jpg: Found 2 objects"
     ]
    },
    {
     "name": "stderr",
     "output_type": "stream",
     "text": [
      "Processing images:  16%|█▌        | 93/576 [00:13<01:23,  5.80it/s]"
     ]
    },
    {
     "name": "stdout",
     "output_type": "stream",
     "text": [
      "\n",
      "\n",
      "0: 640x640 1 mess, 28.7ms\n",
      "Speed: 3.6ms preprocess, 28.7ms inference, 5.2ms postprocess per image at shape (1, 3, 640, 640)\n"
     ]
    },
    {
     "name": "stderr",
     "output_type": "stream",
     "text": [
      "Processing images:  16%|█▋        | 94/576 [00:13<01:18,  6.10it/s]"
     ]
    },
    {
     "name": "stdout",
     "output_type": "stream",
     "text": [
      "✓ 23_png.rf.7ee4bf6afd718843b053f79729d2a5dc.jpg: Found 1 objects\n",
      "\n",
      "0: 640x640 2 messs, 28.7ms\n",
      "Speed: 3.8ms preprocess, 28.7ms inference, 2.1ms postprocess per image at shape (1, 3, 640, 640)\n"
     ]
    },
    {
     "name": "stderr",
     "output_type": "stream",
     "text": [
      "Processing images:  16%|█▋        | 95/576 [00:14<01:25,  5.65it/s]"
     ]
    },
    {
     "name": "stdout",
     "output_type": "stream",
     "text": [
      "✓ 23_png.rf.9b9ab8fc394801128fe5877d3bd493be.jpg: Found 2 objects\n",
      "\n",
      "0: 640x640 1 mess, 28.7ms\n",
      "Speed: 3.3ms preprocess, 28.7ms inference, 2.1ms postprocess per image at shape (1, 3, 640, 640)\n"
     ]
    },
    {
     "name": "stderr",
     "output_type": "stream",
     "text": [
      "Processing images:  17%|█▋        | 96/576 [00:14<01:18,  6.11it/s]"
     ]
    },
    {
     "name": "stdout",
     "output_type": "stream",
     "text": [
      "✓ 23_png.rf.9f48658b54e7029312643af147666b72.jpg: Found 1 objects\n",
      "\n",
      "0: 640x640 2 messs, 28.7ms\n",
      "Speed: 3.1ms preprocess, 28.7ms inference, 2.3ms postprocess per image at shape (1, 3, 640, 640)\n"
     ]
    },
    {
     "name": "stderr",
     "output_type": "stream",
     "text": [
      "Processing images:  17%|█▋        | 97/576 [00:14<01:19,  6.06it/s]"
     ]
    },
    {
     "name": "stdout",
     "output_type": "stream",
     "text": [
      "✓ 24_png.rf.22ba84c5292dafa6adfe9fa567f4803d.jpg: Found 2 objects\n",
      "\n",
      "0: 640x640 (no detections), 28.6ms\n",
      "Speed: 3.7ms preprocess, 28.6ms inference, 1.3ms postprocess per image at shape (1, 3, 640, 640)\n",
      "✗ 24_png.rf.2385851ca67130c091cd03308fb1a26b.jpg: No objects detected\n",
      "\n",
      "0: 640x640 1 mess, 28.6ms\n",
      "Speed: 4.1ms preprocess, 28.6ms inference, 2.0ms postprocess per image at shape (1, 3, 640, 640)\n"
     ]
    },
    {
     "name": "stderr",
     "output_type": "stream",
     "text": [
      "Processing images:  17%|█▋        | 99/576 [00:14<01:06,  7.15it/s]"
     ]
    },
    {
     "name": "stdout",
     "output_type": "stream",
     "text": [
      "✓ 24_png.rf.34c90f06ed0842efe54ff8df8493aa5e.jpg: Found 1 objects\n",
      "\n",
      "0: 640x640 (no detections), 28.6ms\n",
      "Speed: 3.4ms preprocess, 28.6ms inference, 1.0ms postprocess per image at shape (1, 3, 640, 640)\n",
      "✗ 24_png.rf.53859e4e157c4f815899365af34b9841.jpg: No objects detected\n",
      "\n",
      "0: 640x640 (no detections), 28.6ms\n",
      "Speed: 3.5ms preprocess, 28.6ms inference, 1.7ms postprocess per image at shape (1, 3, 640, 640)\n",
      "✗ 24_png.rf.cd3b84bf1e163952ab5b91e321072279.jpg: No objects detected\n",
      "\n",
      "0: 640x640 1 mess, 28.6ms\n",
      "Speed: 3.7ms preprocess, 28.6ms inference, 2.0ms postprocess per image at shape (1, 3, 640, 640)\n"
     ]
    },
    {
     "name": "stderr",
     "output_type": "stream",
     "text": [
      "Processing images:  18%|█▊        | 102/576 [00:14<00:54,  8.76it/s]"
     ]
    },
    {
     "name": "stdout",
     "output_type": "stream",
     "text": [
      "✓ 24_png.rf.eb3ba42296394724c73565c983486945.jpg: Found 1 objects\n",
      "\n",
      "0: 640x640 1 mess, 28.6ms\n",
      "Speed: 3.3ms preprocess, 28.6ms inference, 2.0ms postprocess per image at shape (1, 3, 640, 640)\n",
      "✓ 25_png.rf.0e69ef4c0ec031881954c5ca494ccd2c.jpg: Found 1 objects\n",
      "\n",
      "0: 640x640 3 messs, 28.6ms\n",
      "Speed: 3.9ms preprocess, 28.6ms inference, 2.3ms postprocess per image at shape (1, 3, 640, 640)\n"
     ]
    },
    {
     "name": "stderr",
     "output_type": "stream",
     "text": [
      "Processing images:  18%|█▊        | 104/576 [00:15<00:56,  8.41it/s]"
     ]
    },
    {
     "name": "stdout",
     "output_type": "stream",
     "text": [
      "✓ 25_png.rf.2fa616451fae523e8ed3dd5e6027cf8c.jpg: Found 3 objects\n",
      "\n",
      "0: 640x640 5 messs, 28.7ms\n",
      "Speed: 3.7ms preprocess, 28.7ms inference, 2.2ms postprocess per image at shape (1, 3, 640, 640)\n"
     ]
    },
    {
     "name": "stderr",
     "output_type": "stream",
     "text": [
      "Processing images:  18%|█▊        | 105/576 [00:15<01:00,  7.83it/s]"
     ]
    },
    {
     "name": "stdout",
     "output_type": "stream",
     "text": [
      "✓ 25_png.rf.3181c847aad4f5b9a798f505fe35aedd.jpg: Found 5 objects\n",
      "\n",
      "0: 640x640 1 mess, 28.7ms\n",
      "Speed: 3.0ms preprocess, 28.7ms inference, 2.0ms postprocess per image at shape (1, 3, 640, 640)\n"
     ]
    },
    {
     "name": "stderr",
     "output_type": "stream",
     "text": [
      "Processing images:  18%|█▊        | 106/576 [00:15<00:57,  8.20it/s]"
     ]
    },
    {
     "name": "stdout",
     "output_type": "stream",
     "text": [
      "✓ 25_png.rf.701d2ed73956b3054ca45e687b975ff6.jpg: Found 1 objects\n",
      "\n",
      "0: 640x640 1 mess, 28.6ms\n",
      "Speed: 3.3ms preprocess, 28.6ms inference, 2.0ms postprocess per image at shape (1, 3, 640, 640)\n",
      "✓ 25_png.rf.99a5cb50d1d6fc0de9a093afc03aa31e.jpg: Found 1 objects\n",
      "\n",
      "0: 640x640 5 messs, 28.6ms\n",
      "Speed: 3.6ms preprocess, 28.6ms inference, 2.2ms postprocess per image at shape (1, 3, 640, 640)\n",
      "✓ 25_png.rf.cce5150657aaf61adb40033f7ae5f108.jpg: Found 5 objects\n"
     ]
    },
    {
     "name": "stderr",
     "output_type": "stream",
     "text": [
      "Processing images:  19%|█▉        | 108/576 [00:15<00:58,  8.04it/s]"
     ]
    },
    {
     "name": "stdout",
     "output_type": "stream",
     "text": [
      "\n",
      "0: 640x640 5 messs, 28.6ms\n",
      "Speed: 3.2ms preprocess, 28.6ms inference, 2.8ms postprocess per image at shape (1, 3, 640, 640)\n"
     ]
    },
    {
     "name": "stderr",
     "output_type": "stream",
     "text": [
      "Processing images:  19%|█▉        | 109/576 [00:15<01:00,  7.70it/s]"
     ]
    },
    {
     "name": "stdout",
     "output_type": "stream",
     "text": [
      "✓ 26_png.rf.0bdbfd6eefc772bb0e6f6e0b1bb80fb4.jpg: Found 5 objects\n",
      "\n",
      "0: 640x640 1 mess, 28.5ms\n",
      "Speed: 4.9ms preprocess, 28.5ms inference, 2.0ms postprocess per image at shape (1, 3, 640, 640)\n"
     ]
    },
    {
     "name": "stderr",
     "output_type": "stream",
     "text": [
      "Processing images:  19%|█▉        | 110/576 [00:16<01:04,  7.28it/s]"
     ]
    },
    {
     "name": "stdout",
     "output_type": "stream",
     "text": [
      "✓ 26_png.rf.4cd091d7f6bf4205e5177dd5ce0bfac4.jpg: Found 1 objects\n",
      "\n",
      "0: 640x640 1 mess, 28.6ms\n",
      "Speed: 3.8ms preprocess, 28.6ms inference, 2.0ms postprocess per image at shape (1, 3, 640, 640)\n"
     ]
    },
    {
     "name": "stderr",
     "output_type": "stream",
     "text": [
      "Processing images:  19%|█▉        | 111/576 [00:16<01:06,  6.98it/s]"
     ]
    },
    {
     "name": "stdout",
     "output_type": "stream",
     "text": [
      "✓ 26_png.rf.7167f6d107c89818d961f834df0992ac.jpg: Found 1 objects\n",
      "\n",
      "0: 640x640 6 messs, 28.5ms\n",
      "Speed: 3.3ms preprocess, 28.5ms inference, 2.2ms postprocess per image at shape (1, 3, 640, 640)\n"
     ]
    },
    {
     "name": "stderr",
     "output_type": "stream",
     "text": [
      "Processing images:  19%|█▉        | 112/576 [00:16<01:06,  6.93it/s]"
     ]
    },
    {
     "name": "stdout",
     "output_type": "stream",
     "text": [
      "✓ 26_png.rf.89375126a381e17d4f381eac52311cef.jpg: Found 6 objects\n",
      "\n",
      "0: 640x640 4 messs, 28.6ms\n",
      "Speed: 3.4ms preprocess, 28.6ms inference, 2.2ms postprocess per image at shape (1, 3, 640, 640)\n"
     ]
    },
    {
     "name": "stderr",
     "output_type": "stream",
     "text": [
      "Processing images:  20%|█▉        | 113/576 [00:16<01:07,  6.87it/s]"
     ]
    },
    {
     "name": "stdout",
     "output_type": "stream",
     "text": [
      "✓ 26_png.rf.a06ab36ff9e4f8b0bffde7a43b2f89ec.jpg: Found 4 objects\n",
      "\n",
      "0: 640x640 2 messs, 28.6ms\n",
      "Speed: 4.2ms preprocess, 28.6ms inference, 3.1ms postprocess per image at shape (1, 3, 640, 640)\n"
     ]
    },
    {
     "name": "stderr",
     "output_type": "stream",
     "text": [
      "Processing images:  20%|█▉        | 114/576 [00:16<01:09,  6.67it/s]"
     ]
    },
    {
     "name": "stdout",
     "output_type": "stream",
     "text": [
      "✓ 26_png.rf.f3199a8541fa80c0c9f758ceb7f9d676.jpg: Found 2 objects\n",
      "\n",
      "0: 640x640 (no detections), 28.7ms\n",
      "Speed: 3.5ms preprocess, 28.7ms inference, 1.0ms postprocess per image at shape (1, 3, 640, 640)\n",
      "✗ 27_png.rf.0add56dbd8f511a3a1fc791f55a40281.jpg: No objects detected\n",
      "\n",
      "0: 640x640 1 mess, 28.6ms\n",
      "Speed: 3.6ms preprocess, 28.6ms inference, 2.0ms postprocess per image at shape (1, 3, 640, 640)\n"
     ]
    },
    {
     "name": "stderr",
     "output_type": "stream",
     "text": [
      "Processing images:  20%|██        | 116/576 [00:16<01:00,  7.60it/s]"
     ]
    },
    {
     "name": "stdout",
     "output_type": "stream",
     "text": [
      "✓ 27_png.rf.3f47457f2cf4eadf21feba2b0b18c5c7.jpg: Found 1 objects\n",
      "\n",
      "0: 640x640 (no detections), 28.5ms\n",
      "Speed: 3.5ms preprocess, 28.5ms inference, 1.4ms postprocess per image at shape (1, 3, 640, 640)\n",
      "✗ 27_png.rf.42e8fe8696a29109004d56691533c9c3.jpg: No objects detected\n",
      "\n",
      "0: 640x640 1 mess, 28.6ms\n",
      "Speed: 3.9ms preprocess, 28.6ms inference, 4.3ms postprocess per image at shape (1, 3, 640, 640)\n"
     ]
    },
    {
     "name": "stderr",
     "output_type": "stream",
     "text": [
      "Processing images:  20%|██        | 118/576 [00:17<00:57,  8.01it/s]"
     ]
    },
    {
     "name": "stdout",
     "output_type": "stream",
     "text": [
      "✓ 27_png.rf.4e3f4eb369be376bb575dd60a2c9f52b.jpg: Found 1 objects\n",
      "\n",
      "0: 640x640 1 mess, 28.7ms\n",
      "Speed: 3.9ms preprocess, 28.7ms inference, 2.1ms postprocess per image at shape (1, 3, 640, 640)\n",
      "✓ 27_png.rf.8564b710db8f1fe0778123a59664379d.jpg: Found 1 objects"
     ]
    },
    {
     "name": "stderr",
     "output_type": "stream",
     "text": [
      "Processing images:  21%|██        | 119/576 [00:17<01:02,  7.26it/s]"
     ]
    },
    {
     "name": "stdout",
     "output_type": "stream",
     "text": [
      "\n",
      "\n",
      "0: 640x640 (no detections), 28.8ms\n",
      "Speed: 3.8ms preprocess, 28.8ms inference, 1.1ms postprocess per image at shape (1, 3, 640, 640)\n",
      "✗ 27_png.rf.a6105b193a3893aa0c2343685cb5eddd.jpg: No objects detected\n",
      "\n",
      "0: 640x640 2 messs, 28.7ms\n",
      "Speed: 3.6ms preprocess, 28.7ms inference, 2.2ms postprocess per image at shape (1, 3, 640, 640)\n"
     ]
    },
    {
     "name": "stderr",
     "output_type": "stream",
     "text": [
      "Processing images:  21%|██        | 121/576 [00:17<00:57,  7.95it/s]"
     ]
    },
    {
     "name": "stdout",
     "output_type": "stream",
     "text": [
      "✓ 28_png.rf.07bb34f20bdda26268b42edd495d91a1.jpg: Found 2 objects\n",
      "\n",
      "0: 640x640 2 messs, 28.6ms\n",
      "Speed: 3.5ms preprocess, 28.6ms inference, 2.2ms postprocess per image at shape (1, 3, 640, 640)\n"
     ]
    },
    {
     "name": "stderr",
     "output_type": "stream",
     "text": [
      "Processing images:  21%|██        | 122/576 [00:17<00:58,  7.75it/s]"
     ]
    },
    {
     "name": "stdout",
     "output_type": "stream",
     "text": [
      "✓ 28_png.rf.28065b5843b4ba93a548f00bcdf56a46.jpg: Found 2 objects\n",
      "\n",
      "0: 640x640 1 mess, 28.9ms\n",
      "Speed: 3.4ms preprocess, 28.9ms inference, 2.5ms postprocess per image at shape (1, 3, 640, 640)\n"
     ]
    },
    {
     "name": "stderr",
     "output_type": "stream",
     "text": [
      "Processing images:  21%|██▏       | 123/576 [00:17<01:02,  7.30it/s]"
     ]
    },
    {
     "name": "stdout",
     "output_type": "stream",
     "text": [
      "✓ 28_png.rf.57f2f9c475561267ed332ef18bf0933d.jpg: Found 1 objects\n",
      "\n",
      "0: 640x640 1 mess, 28.6ms\n",
      "Speed: 3.8ms preprocess, 28.6ms inference, 2.2ms postprocess per image at shape (1, 3, 640, 640)\n"
     ]
    },
    {
     "name": "stderr",
     "output_type": "stream",
     "text": [
      "Processing images:  22%|██▏       | 124/576 [00:17<01:05,  6.95it/s]"
     ]
    },
    {
     "name": "stdout",
     "output_type": "stream",
     "text": [
      "✓ 28_png.rf.6a2c0cec6e59176b8f56dc0859b86c26.jpg: Found 1 objects\n",
      "\n",
      "0: 640x640 2 messs, 28.6ms\n",
      "Speed: 3.7ms preprocess, 28.6ms inference, 2.1ms postprocess per image at shape (1, 3, 640, 640)\n"
     ]
    },
    {
     "name": "stderr",
     "output_type": "stream",
     "text": [
      "Processing images:  22%|██▏       | 125/576 [00:18<01:05,  6.89it/s]"
     ]
    },
    {
     "name": "stdout",
     "output_type": "stream",
     "text": [
      "✓ 28_png.rf.85ec2be685a95d8a93fb84fe7fdccac4.jpg: Found 2 objects\n",
      "\n",
      "0: 640x640 2 messs, 28.6ms\n",
      "Speed: 4.1ms preprocess, 28.6ms inference, 2.3ms postprocess per image at shape (1, 3, 640, 640)\n"
     ]
    },
    {
     "name": "stderr",
     "output_type": "stream",
     "text": [
      "Processing images:  22%|██▏       | 126/576 [00:18<01:06,  6.81it/s]"
     ]
    },
    {
     "name": "stdout",
     "output_type": "stream",
     "text": [
      "✓ 28_png.rf.a3cc488f7698a8c675b00025d7264c62.jpg: Found 2 objects\n",
      "\n",
      "0: 640x640 3 messs, 28.6ms\n",
      "Speed: 3.5ms preprocess, 28.6ms inference, 2.1ms postprocess per image at shape (1, 3, 640, 640)\n"
     ]
    },
    {
     "name": "stderr",
     "output_type": "stream",
     "text": [
      "Processing images:  22%|██▏       | 127/576 [00:18<01:05,  6.81it/s]"
     ]
    },
    {
     "name": "stdout",
     "output_type": "stream",
     "text": [
      "✓ 29_png.rf.0ebdbfc4e8a192309a30a02233e71a93.jpg: Found 3 objects\n",
      "\n",
      "0: 640x640 2 messs, 28.5ms\n",
      "Speed: 4.6ms preprocess, 28.5ms inference, 2.0ms postprocess per image at shape (1, 3, 640, 640)\n"
     ]
    },
    {
     "name": "stderr",
     "output_type": "stream",
     "text": [
      "Processing images:  22%|██▏       | 128/576 [00:18<01:05,  6.82it/s]"
     ]
    },
    {
     "name": "stdout",
     "output_type": "stream",
     "text": [
      "✓ 29_png.rf.1e184bce0abd55b288a25d810a1e5591.jpg: Found 2 objects\n",
      "\n",
      "0: 640x640 (no detections), 29.0ms\n",
      "Speed: 4.0ms preprocess, 29.0ms inference, 1.8ms postprocess per image at shape (1, 3, 640, 640)\n",
      "✗ 29_png.rf.20de20ee644e89befee04af19f7b34d0.jpg: No objects detected\n",
      "\n",
      "0: 640x640 5 messs, 28.7ms\n",
      "Speed: 4.4ms preprocess, 28.7ms inference, 2.1ms postprocess per image at shape (1, 3, 640, 640)\n",
      "✓ 29_png.rf.3b38ea740b5636f1a4f2fa02d4ee7195.jpg: Found 5 objects"
     ]
    },
    {
     "name": "stderr",
     "output_type": "stream",
     "text": [
      "Processing images:  23%|██▎       | 130/576 [00:18<00:56,  7.86it/s]"
     ]
    },
    {
     "name": "stdout",
     "output_type": "stream",
     "text": [
      "\n",
      "\n",
      "0: 640x640 (no detections), 28.7ms\n",
      "Speed: 3.7ms preprocess, 28.7ms inference, 0.9ms postprocess per image at shape (1, 3, 640, 640)\n",
      "✗ 29_png.rf.bc35d88a1ab8d601eaa77f503a468bd6.jpg: No objects detected\n",
      "\n",
      "0: 640x640 (no detections), 28.6ms\n",
      "Speed: 3.4ms preprocess, 28.6ms inference, 1.7ms postprocess per image at shape (1, 3, 640, 640)\n",
      "✗ 29_png.rf.d58502c357f627d986910f41091f01f7.jpg: No objects detected\n",
      "\n",
      "0: 640x640 3 messs, 28.7ms\n",
      "Speed: 3.9ms preprocess, 28.7ms inference, 2.2ms postprocess per image at shape (1, 3, 640, 640)\n",
      "✓ 2_png.rf.38083b89f3100e4932b80515dafc19f9.jpg: Found 3 objects\n"
     ]
    },
    {
     "name": "stderr",
     "output_type": "stream",
     "text": [
      "Processing images:  23%|██▎       | 133/576 [00:18<00:46,  9.54it/s]"
     ]
    },
    {
     "name": "stdout",
     "output_type": "stream",
     "text": [
      "\n",
      "0: 640x640 2 messs, 24.7ms\n",
      "Speed: 4.1ms preprocess, 24.7ms inference, 2.1ms postprocess per image at shape (1, 3, 640, 640)\n"
     ]
    },
    {
     "name": "stderr",
     "output_type": "stream",
     "text": [
      "Processing images:  23%|██▎       | 134/576 [00:19<00:49,  8.95it/s]"
     ]
    },
    {
     "name": "stdout",
     "output_type": "stream",
     "text": [
      "✓ 2_png.rf.38caac55ee6c1440f19c1bb388e2dd53.jpg: Found 2 objects\n",
      "\n",
      "0: 640x640 (no detections), 24.8ms\n",
      "Speed: 4.1ms preprocess, 24.8ms inference, 0.8ms postprocess per image at shape (1, 3, 640, 640)\n",
      "✗ 2_png.rf.4c5e44e6332b38856a841241334fdb29.jpg: No objects detected\n",
      "\n",
      "0: 640x640 2 messs, 24.8ms\n",
      "Speed: 3.3ms preprocess, 24.8ms inference, 1.9ms postprocess per image at shape (1, 3, 640, 640)\n"
     ]
    },
    {
     "name": "stderr",
     "output_type": "stream",
     "text": [
      "Processing images:  24%|██▎       | 136/576 [00:19<00:45,  9.60it/s]"
     ]
    },
    {
     "name": "stdout",
     "output_type": "stream",
     "text": [
      "✓ 2_png.rf.69b6501374186ccd8ad31707588e0958.jpg: Found 2 objects\n",
      "\n",
      "0: 640x640 2 messs, 24.8ms\n",
      "Speed: 4.0ms preprocess, 24.8ms inference, 2.6ms postprocess per image at shape (1, 3, 640, 640)\n"
     ]
    },
    {
     "name": "stderr",
     "output_type": "stream",
     "text": [
      "Processing images:  24%|██▍       | 137/576 [00:19<00:49,  8.92it/s]"
     ]
    },
    {
     "name": "stdout",
     "output_type": "stream",
     "text": [
      "✓ 2_png.rf.babae5d90c2af71270c2ca1376129508.jpg: Found 2 objects\n",
      "\n",
      "0: 640x640 3 messs, 24.9ms\n",
      "Speed: 3.6ms preprocess, 24.9ms inference, 2.0ms postprocess per image at shape (1, 3, 640, 640)\n"
     ]
    },
    {
     "name": "stderr",
     "output_type": "stream",
     "text": [
      "Processing images:  24%|██▍       | 138/576 [00:19<00:52,  8.38it/s]"
     ]
    },
    {
     "name": "stdout",
     "output_type": "stream",
     "text": [
      "✓ 2_png.rf.cfbb8b1dafce5686cefe166256f1f154.jpg: Found 3 objects\n",
      "\n",
      "0: 640x640 1 mess, 24.9ms\n",
      "Speed: 5.7ms preprocess, 24.9ms inference, 2.2ms postprocess per image at shape (1, 3, 640, 640)\n"
     ]
    },
    {
     "name": "stderr",
     "output_type": "stream",
     "text": [
      "Processing images:  24%|██▍       | 139/576 [00:19<00:56,  7.70it/s]"
     ]
    },
    {
     "name": "stdout",
     "output_type": "stream",
     "text": [
      "✓ 30_png.rf.88b5b206d0cf7e2aff2997d050f7f598.jpg: Found 1 objects\n",
      "\n",
      "0: 640x640 4 messs, 25.2ms\n",
      "Speed: 3.6ms preprocess, 25.2ms inference, 2.2ms postprocess per image at shape (1, 3, 640, 640)\n"
     ]
    },
    {
     "name": "stderr",
     "output_type": "stream",
     "text": [
      "Processing images:  24%|██▍       | 140/576 [00:19<00:59,  7.28it/s]"
     ]
    },
    {
     "name": "stdout",
     "output_type": "stream",
     "text": [
      "✓ 30_png.rf.8bd40805ea46f7fc390961fc0fce9170.jpg: Found 4 objects\n",
      "\n",
      "0: 640x640 1 mess, 24.8ms\n",
      "Speed: 3.5ms preprocess, 24.8ms inference, 2.2ms postprocess per image at shape (1, 3, 640, 640)\n"
     ]
    },
    {
     "name": "stderr",
     "output_type": "stream",
     "text": [
      "Processing images:  24%|██▍       | 141/576 [00:20<01:01,  7.02it/s]"
     ]
    },
    {
     "name": "stdout",
     "output_type": "stream",
     "text": [
      "✓ 30_png.rf.a976725cc589eacd644655b251702721.jpg: Found 1 objects\n",
      "\n",
      "0: 640x640 4 messs, 24.8ms\n",
      "Speed: 3.8ms preprocess, 24.8ms inference, 2.3ms postprocess per image at shape (1, 3, 640, 640)\n"
     ]
    },
    {
     "name": "stderr",
     "output_type": "stream",
     "text": [
      "Processing images:  25%|██▍       | 142/576 [00:20<01:04,  6.70it/s]"
     ]
    },
    {
     "name": "stdout",
     "output_type": "stream",
     "text": [
      "✓ 30_png.rf.d59e4d70eda39dafb0b81591a384c5c1.jpg: Found 4 objects\n",
      "\n",
      "0: 640x640 4 messs, 24.9ms\n",
      "Speed: 3.8ms preprocess, 24.9ms inference, 2.2ms postprocess per image at shape (1, 3, 640, 640)\n"
     ]
    },
    {
     "name": "stderr",
     "output_type": "stream",
     "text": [
      "Processing images:  25%|██▍       | 143/576 [00:20<01:06,  6.55it/s]"
     ]
    },
    {
     "name": "stdout",
     "output_type": "stream",
     "text": [
      "✓ 30_png.rf.d8d522f9d93bdf88247bbe3954b14cbd.jpg: Found 4 objects\n",
      "\n",
      "0: 640x640 1 mess, 25.0ms\n",
      "Speed: 3.5ms preprocess, 25.0ms inference, 2.3ms postprocess per image at shape (1, 3, 640, 640)\n"
     ]
    },
    {
     "name": "stderr",
     "output_type": "stream",
     "text": [
      "Processing images:  25%|██▌       | 144/576 [00:20<01:06,  6.52it/s]"
     ]
    },
    {
     "name": "stdout",
     "output_type": "stream",
     "text": [
      "✓ 30_png.rf.e677e0e1b6cf64571331d3cea7e0e024.jpg: Found 1 objects\n",
      "\n",
      "0: 640x640 1 mess, 24.7ms\n",
      "Speed: 3.4ms preprocess, 24.7ms inference, 2.3ms postprocess per image at shape (1, 3, 640, 640)\n"
     ]
    },
    {
     "name": "stderr",
     "output_type": "stream",
     "text": [
      "Processing images:  25%|██▌       | 145/576 [00:20<01:06,  6.48it/s]"
     ]
    },
    {
     "name": "stdout",
     "output_type": "stream",
     "text": [
      "✓ 31_png.rf.2f746ca54d218d8703a771a21442957e.jpg: Found 1 objects\n",
      "\n",
      "0: 640x640 (no detections), 27.9ms\n",
      "Speed: 3.8ms preprocess, 27.9ms inference, 1.0ms postprocess per image at shape (1, 3, 640, 640)\n",
      "✗ 31_png.rf.446e273108b5aedfc9aafa77cdf0b59d.jpg: No objects detected\n",
      "\n",
      "0: 640x640 1 mess, 28.6ms\n",
      "Speed: 3.9ms preprocess, 28.6ms inference, 2.1ms postprocess per image at shape (1, 3, 640, 640)\n"
     ]
    },
    {
     "name": "stderr",
     "output_type": "stream",
     "text": [
      "Processing images:  26%|██▌       | 147/576 [00:20<00:52,  8.11it/s]"
     ]
    },
    {
     "name": "stdout",
     "output_type": "stream",
     "text": [
      "✓ 31_png.rf.6449999fe9041e400153b2fd0bd81e61.jpg: Found 1 objects\n",
      "\n",
      "0: 640x640 1 mess, 28.7ms\n",
      "Speed: 3.6ms preprocess, 28.7ms inference, 2.2ms postprocess per image at shape (1, 3, 640, 640)\n",
      "✓ 31_png.rf.9993916873be97f5f6cf3573bb6d90d8.jpg: Found 1 objects\n"
     ]
    },
    {
     "name": "stderr",
     "output_type": "stream",
     "text": [
      "Processing images:  26%|██▌       | 148/576 [00:21<00:52,  8.11it/s]"
     ]
    },
    {
     "name": "stdout",
     "output_type": "stream",
     "text": [
      "\n",
      "0: 640x640 2 messs, 26.1ms\n",
      "Speed: 3.5ms preprocess, 26.1ms inference, 2.0ms postprocess per image at shape (1, 3, 640, 640)\n"
     ]
    },
    {
     "name": "stderr",
     "output_type": "stream",
     "text": [
      "Processing images:  26%|██▌       | 149/576 [00:21<00:56,  7.54it/s]"
     ]
    },
    {
     "name": "stdout",
     "output_type": "stream",
     "text": [
      "✓ 31_png.rf.aa5b5567787d2e4bca7b6eecc9cb674e.jpg: Found 2 objects\n",
      "\n",
      "0: 640x640 2 messs, 26.1ms\n",
      "Speed: 3.5ms preprocess, 26.1ms inference, 2.1ms postprocess per image at shape (1, 3, 640, 640)\n"
     ]
    },
    {
     "name": "stderr",
     "output_type": "stream",
     "text": [
      "Processing images:  26%|██▌       | 150/576 [00:21<00:59,  7.15it/s]"
     ]
    },
    {
     "name": "stdout",
     "output_type": "stream",
     "text": [
      "✓ 31_png.rf.c69978df0ccb75510ee5ccc668ddb4e5.jpg: Found 2 objects\n",
      "\n",
      "0: 640x640 (no detections), 25.9ms\n",
      "Speed: 3.1ms preprocess, 25.9ms inference, 1.1ms postprocess per image at shape (1, 3, 640, 640)\n",
      "✗ 32_png.rf.03ae8ab0e7141e3864e2aed07ee95c02.jpg: No objects detected\n",
      "\n",
      "0: 640x640 1 mess, 25.8ms\n",
      "Speed: 3.9ms preprocess, 25.8ms inference, 2.1ms postprocess per image at shape (1, 3, 640, 640)\n"
     ]
    },
    {
     "name": "stderr",
     "output_type": "stream",
     "text": [
      "Processing images:  26%|██▋       | 152/576 [00:21<00:52,  8.13it/s]"
     ]
    },
    {
     "name": "stdout",
     "output_type": "stream",
     "text": [
      "✓ 32_png.rf.58f6876a5eb2218661ff1456ac97f3ec.jpg: Found 1 objects\n",
      "\n",
      "0: 640x640 5 messs, 26.0ms\n",
      "Speed: 3.6ms preprocess, 26.0ms inference, 2.0ms postprocess per image at shape (1, 3, 640, 640)\n"
     ]
    },
    {
     "name": "stderr",
     "output_type": "stream",
     "text": [
      "Processing images:  27%|██▋       | 153/576 [00:21<00:53,  7.88it/s]"
     ]
    },
    {
     "name": "stdout",
     "output_type": "stream",
     "text": [
      "✓ 32_png.rf.6702fe993467245f2e6693ca33c6fa17.jpg: Found 5 objects\n",
      "\n",
      "0: 640x640 4 messs, 25.9ms\n",
      "Speed: 3.7ms preprocess, 25.9ms inference, 2.0ms postprocess per image at shape (1, 3, 640, 640)\n"
     ]
    },
    {
     "name": "stderr",
     "output_type": "stream",
     "text": [
      "Processing images:  27%|██▋       | 154/576 [00:21<00:54,  7.72it/s]"
     ]
    },
    {
     "name": "stdout",
     "output_type": "stream",
     "text": [
      "✓ 32_png.rf.6c1774fc90d80bf432dbe3c934e7aabc.jpg: Found 4 objects\n",
      "\n",
      "0: 640x640 4 messs, 26.1ms\n",
      "Speed: 3.8ms preprocess, 26.1ms inference, 2.1ms postprocess per image at shape (1, 3, 640, 640)\n"
     ]
    },
    {
     "name": "stderr",
     "output_type": "stream",
     "text": [
      "Processing images:  27%|██▋       | 155/576 [00:21<00:55,  7.52it/s]"
     ]
    },
    {
     "name": "stdout",
     "output_type": "stream",
     "text": [
      "✓ 32_png.rf.6e8da9bd1a392009848abe4a8c566aee.jpg: Found 4 objects\n",
      "\n",
      "0: 640x640 1 mess, 25.9ms\n",
      "Speed: 3.8ms preprocess, 25.9ms inference, 2.2ms postprocess per image at shape (1, 3, 640, 640)\n"
     ]
    },
    {
     "name": "stderr",
     "output_type": "stream",
     "text": [
      "Processing images:  27%|██▋       | 156/576 [00:22<00:59,  7.08it/s]"
     ]
    },
    {
     "name": "stdout",
     "output_type": "stream",
     "text": [
      "✓ 32_png.rf.9f19edcd3c813626bf2964c894b34458.jpg: Found 1 objects\n",
      "\n",
      "0: 640x640 (no detections), 25.9ms\n",
      "Speed: 3.3ms preprocess, 25.9ms inference, 1.0ms postprocess per image at shape (1, 3, 640, 640)\n",
      "✗ 33_png.rf.0a185ad22260bd10d4ee0a5ae01de66c.jpg: No objects detected\n",
      "\n",
      "0: 640x640 8 messs, 25.9ms\n",
      "Speed: 3.9ms preprocess, 25.9ms inference, 2.5ms postprocess per image at shape (1, 3, 640, 640)\n"
     ]
    },
    {
     "name": "stderr",
     "output_type": "stream",
     "text": [
      "Processing images:  27%|██▋       | 158/576 [00:22<00:51,  8.07it/s]"
     ]
    },
    {
     "name": "stdout",
     "output_type": "stream",
     "text": [
      "✓ 33_png.rf.10bba45b9799e7498a0ec403eeeb936f.jpg: Found 8 objects\n",
      "\n",
      "0: 640x640 8 messs, 26.0ms\n",
      "Speed: 3.8ms preprocess, 26.0ms inference, 2.3ms postprocess per image at shape (1, 3, 640, 640)\n"
     ]
    },
    {
     "name": "stderr",
     "output_type": "stream",
     "text": [
      "Processing images:  28%|██▊       | 159/576 [00:22<00:56,  7.44it/s]"
     ]
    },
    {
     "name": "stdout",
     "output_type": "stream",
     "text": [
      "✓ 33_png.rf.2c0888a1f5ec935a8742b82f2dad1aa2.jpg: Found 8 objects\n",
      "\n",
      "0: 640x640 (no detections), 25.9ms\n",
      "Speed: 3.7ms preprocess, 25.9ms inference, 1.1ms postprocess per image at shape (1, 3, 640, 640)\n",
      "✗ 33_png.rf.9c363ecd51301f30b782aa62f9d32f1f.jpg: No objects detected\n",
      "\n",
      "0: 640x640 (no detections), 25.8ms\n",
      "Speed: 3.8ms preprocess, 25.8ms inference, 0.9ms postprocess per image at shape (1, 3, 640, 640)\n",
      "✗ 33_png.rf.b5a76de20b0ba04a69c488de0b5b4620.jpg: No objects detected\n",
      "\n",
      "0: 640x640 7 messs, 26.0ms\n",
      "Speed: 4.7ms preprocess, 26.0ms inference, 2.3ms postprocess per image at shape (1, 3, 640, 640)\n"
     ]
    },
    {
     "name": "stderr",
     "output_type": "stream",
     "text": [
      "Processing images:  28%|██▊       | 162/576 [00:22<00:45,  9.20it/s]"
     ]
    },
    {
     "name": "stdout",
     "output_type": "stream",
     "text": [
      "✓ 33_png.rf.d8bef3c86705fc4d5751c912c7bb002e.jpg: Found 7 objects\n",
      "\n",
      "0: 640x640 2 messs, 28.6ms\n",
      "Speed: 5.8ms preprocess, 28.6ms inference, 2.1ms postprocess per image at shape (1, 3, 640, 640)\n"
     ]
    },
    {
     "name": "stderr",
     "output_type": "stream",
     "text": [
      "Processing images:  28%|██▊       | 163/576 [00:22<00:48,  8.45it/s]"
     ]
    },
    {
     "name": "stdout",
     "output_type": "stream",
     "text": [
      "✓ 34_png.rf.19e1330abb4c48fdcc6599024c2236f7.jpg: Found 2 objects\n",
      "\n",
      "0: 640x640 2 messs, 28.6ms\n",
      "Speed: 4.0ms preprocess, 28.6ms inference, 2.5ms postprocess per image at shape (1, 3, 640, 640)\n"
     ]
    },
    {
     "name": "stderr",
     "output_type": "stream",
     "text": [
      "Processing images:  28%|██▊       | 164/576 [00:23<00:53,  7.73it/s]"
     ]
    },
    {
     "name": "stdout",
     "output_type": "stream",
     "text": [
      "✓ 34_png.rf.3dd40e65dc80a6972ee59a12f49ef884.jpg: Found 2 objects\n",
      "\n",
      "0: 640x640 2 messs, 28.5ms\n",
      "Speed: 3.5ms preprocess, 28.5ms inference, 1.9ms postprocess per image at shape (1, 3, 640, 640)\n"
     ]
    },
    {
     "name": "stderr",
     "output_type": "stream",
     "text": [
      "Processing images:  29%|██▊       | 165/576 [00:23<00:55,  7.41it/s]"
     ]
    },
    {
     "name": "stdout",
     "output_type": "stream",
     "text": [
      "✓ 34_png.rf.4700fcaf2324b4dbd80b94ad2d05af2f.jpg: Found 2 objects\n",
      "\n",
      "0: 640x640 2 messs, 28.6ms\n",
      "Speed: 4.2ms preprocess, 28.6ms inference, 2.1ms postprocess per image at shape (1, 3, 640, 640)\n"
     ]
    },
    {
     "name": "stderr",
     "output_type": "stream",
     "text": [
      "Processing images:  29%|██▉       | 166/576 [00:23<00:58,  7.00it/s]"
     ]
    },
    {
     "name": "stdout",
     "output_type": "stream",
     "text": [
      "✓ 34_png.rf.4e9f667780a9bf7e9866e558e54d361d.jpg: Found 2 objects\n",
      "\n",
      "0: 640x640 1 mess, 28.6ms\n",
      "Speed: 3.6ms preprocess, 28.6ms inference, 2.4ms postprocess per image at shape (1, 3, 640, 640)\n"
     ]
    },
    {
     "name": "stderr",
     "output_type": "stream",
     "text": [
      "Processing images:  29%|██▉       | 167/576 [00:23<01:00,  6.78it/s]"
     ]
    },
    {
     "name": "stdout",
     "output_type": "stream",
     "text": [
      "✓ 34_png.rf.bbfabd6b48ce12726b675b795e7ed603.jpg: Found 1 objects\n",
      "\n",
      "0: 640x640 2 messs, 28.6ms\n",
      "Speed: 3.7ms preprocess, 28.6ms inference, 2.1ms postprocess per image at shape (1, 3, 640, 640)\n"
     ]
    },
    {
     "name": "stderr",
     "output_type": "stream",
     "text": [
      "Processing images:  29%|██▉       | 168/576 [00:23<01:02,  6.53it/s]"
     ]
    },
    {
     "name": "stdout",
     "output_type": "stream",
     "text": [
      "✓ 34_png.rf.efaa799be3a993ab5f42cfd8f1747ad3.jpg: Found 2 objects\n",
      "\n",
      "0: 640x640 3 messs, 28.6ms\n",
      "Speed: 3.5ms preprocess, 28.6ms inference, 2.1ms postprocess per image at shape (1, 3, 640, 640)\n"
     ]
    },
    {
     "name": "stderr",
     "output_type": "stream",
     "text": [
      "Processing images:  29%|██▉       | 169/576 [00:23<01:03,  6.41it/s]"
     ]
    },
    {
     "name": "stdout",
     "output_type": "stream",
     "text": [
      "✓ 35_png.rf.0c883a6983b5e8bbf2e3ceafdf2fae1a.jpg: Found 3 objects\n",
      "\n",
      "0: 640x640 2 messs, 28.6ms\n",
      "Speed: 3.3ms preprocess, 28.6ms inference, 2.0ms postprocess per image at shape (1, 3, 640, 640)\n"
     ]
    },
    {
     "name": "stderr",
     "output_type": "stream",
     "text": [
      "Processing images:  30%|██▉       | 170/576 [00:23<01:00,  6.70it/s]"
     ]
    },
    {
     "name": "stdout",
     "output_type": "stream",
     "text": [
      "✓ 35_png.rf.2f9debaa12dd3bd5a643e2b11452c3d9.jpg: Found 2 objects\n",
      "\n",
      "0: 640x640 3 messs, 28.6ms\n",
      "Speed: 3.7ms preprocess, 28.6ms inference, 2.5ms postprocess per image at shape (1, 3, 640, 640)\n"
     ]
    },
    {
     "name": "stderr",
     "output_type": "stream",
     "text": [
      "Processing images:  30%|██▉       | 171/576 [00:24<01:02,  6.53it/s]"
     ]
    },
    {
     "name": "stdout",
     "output_type": "stream",
     "text": [
      "✓ 35_png.rf.53ebcf09ff4250393dbff989de921fcd.jpg: Found 3 objects\n",
      "\n",
      "0: 640x640 2 messs, 28.6ms\n",
      "Speed: 3.3ms preprocess, 28.6ms inference, 2.2ms postprocess per image at shape (1, 3, 640, 640)\n"
     ]
    },
    {
     "name": "stderr",
     "output_type": "stream",
     "text": [
      "Processing images:  30%|██▉       | 172/576 [00:24<00:59,  6.80it/s]"
     ]
    },
    {
     "name": "stdout",
     "output_type": "stream",
     "text": [
      "✓ 35_png.rf.570362ec7816127782b64046781a4f25.jpg: Found 2 objects\n",
      "\n",
      "0: 640x640 3 messs, 28.7ms\n",
      "Speed: 3.3ms preprocess, 28.7ms inference, 2.1ms postprocess per image at shape (1, 3, 640, 640)\n"
     ]
    },
    {
     "name": "stderr",
     "output_type": "stream",
     "text": [
      "Processing images:  30%|███       | 173/576 [00:24<00:57,  6.95it/s]"
     ]
    },
    {
     "name": "stdout",
     "output_type": "stream",
     "text": [
      "✓ 35_png.rf.d6ebb5201a10cf9ecf3f79741d0a7a76.jpg: Found 3 objects\n",
      "\n",
      "0: 640x640 4 messs, 28.5ms\n",
      "Speed: 5.1ms preprocess, 28.5ms inference, 2.7ms postprocess per image at shape (1, 3, 640, 640)\n"
     ]
    },
    {
     "name": "stderr",
     "output_type": "stream",
     "text": [
      "Processing images:  30%|███       | 174/576 [00:24<01:01,  6.49it/s]"
     ]
    },
    {
     "name": "stdout",
     "output_type": "stream",
     "text": [
      "✓ 35_png.rf.ec579a13ccdc187f7ea69f49046df116.jpg: Found 4 objects\n",
      "\n",
      "0: 640x640 1 mess, 28.6ms\n",
      "Speed: 3.3ms preprocess, 28.6ms inference, 2.1ms postprocess per image at shape (1, 3, 640, 640)\n"
     ]
    },
    {
     "name": "stderr",
     "output_type": "stream",
     "text": [
      "Processing images:  30%|███       | 175/576 [00:24<00:59,  6.78it/s]"
     ]
    },
    {
     "name": "stdout",
     "output_type": "stream",
     "text": [
      "✓ 36_png.rf.2f830c719a649648c37b491c97b336e5.jpg: Found 1 objects\n",
      "\n",
      "0: 640x640 8 messs, 28.6ms\n",
      "Speed: 3.5ms preprocess, 28.6ms inference, 2.3ms postprocess per image at shape (1, 3, 640, 640)\n"
     ]
    },
    {
     "name": "stderr",
     "output_type": "stream",
     "text": [
      "Processing images:  31%|███       | 176/576 [00:24<00:59,  6.71it/s]"
     ]
    },
    {
     "name": "stdout",
     "output_type": "stream",
     "text": [
      "✓ 36_png.rf.5dd12db82139f249a75fb0a114090120.jpg: Found 8 objects\n",
      "\n",
      "0: 640x640 8 messs, 28.7ms\n",
      "Speed: 3.7ms preprocess, 28.7ms inference, 2.6ms postprocess per image at shape (1, 3, 640, 640)\n"
     ]
    },
    {
     "name": "stderr",
     "output_type": "stream",
     "text": [
      "Processing images:  31%|███       | 177/576 [00:25<00:59,  6.67it/s]"
     ]
    },
    {
     "name": "stdout",
     "output_type": "stream",
     "text": [
      "✓ 36_png.rf.82a24ae427c078fffe483e1cb72bf091.jpg: Found 8 objects\n",
      "\n",
      "0: 640x640 1 mess, 28.6ms\n",
      "Speed: 3.2ms preprocess, 28.6ms inference, 1.9ms postprocess per image at shape (1, 3, 640, 640)\n"
     ]
    },
    {
     "name": "stderr",
     "output_type": "stream",
     "text": [
      "Processing images:  31%|███       | 178/576 [00:25<00:57,  6.89it/s]"
     ]
    },
    {
     "name": "stdout",
     "output_type": "stream",
     "text": [
      "✓ 36_png.rf.b448cee89a89a30fc57388c3f9b57348.jpg: Found 1 objects\n",
      "\n",
      "0: 640x640 1 mess, 28.6ms\n",
      "Speed: 3.4ms preprocess, 28.6ms inference, 1.9ms postprocess per image at shape (1, 3, 640, 640)\n"
     ]
    },
    {
     "name": "stderr",
     "output_type": "stream",
     "text": [
      "Processing images:  31%|███       | 179/576 [00:25<00:56,  7.06it/s]"
     ]
    },
    {
     "name": "stdout",
     "output_type": "stream",
     "text": [
      "✓ 36_png.rf.ce3903ecacb763094c7177e8c4c04996.jpg: Found 1 objects\n",
      "\n",
      "0: 640x640 8 messs, 28.6ms\n",
      "Speed: 3.6ms preprocess, 28.6ms inference, 2.8ms postprocess per image at shape (1, 3, 640, 640)\n"
     ]
    },
    {
     "name": "stderr",
     "output_type": "stream",
     "text": [
      "Processing images:  31%|███▏      | 180/576 [00:25<00:57,  6.84it/s]"
     ]
    },
    {
     "name": "stdout",
     "output_type": "stream",
     "text": [
      "✓ 36_png.rf.e705962c16cb0faa456b45572d10fddd.jpg: Found 8 objects\n",
      "\n",
      "0: 640x640 3 messs, 28.7ms\n",
      "Speed: 3.6ms preprocess, 28.7ms inference, 2.5ms postprocess per image at shape (1, 3, 640, 640)\n"
     ]
    },
    {
     "name": "stderr",
     "output_type": "stream",
     "text": [
      "Processing images:  31%|███▏      | 181/576 [00:25<00:59,  6.59it/s]"
     ]
    },
    {
     "name": "stdout",
     "output_type": "stream",
     "text": [
      "✓ 37_png.rf.0b1407f5236aae31d18b5697fb607c20.jpg: Found 3 objects\n",
      "\n",
      "0: 640x640 5 messs, 29.1ms\n",
      "Speed: 3.8ms preprocess, 29.1ms inference, 3.0ms postprocess per image at shape (1, 3, 640, 640)\n"
     ]
    },
    {
     "name": "stderr",
     "output_type": "stream",
     "text": [
      "Processing images:  32%|███▏      | 182/576 [00:25<01:02,  6.34it/s]"
     ]
    },
    {
     "name": "stdout",
     "output_type": "stream",
     "text": [
      "✓ 37_png.rf.2442f391fa38bf7e955a955638a2e79e.jpg: Found 5 objects\n",
      "\n",
      "0: 640x640 3 messs, 28.6ms\n",
      "Speed: 3.5ms preprocess, 28.6ms inference, 3.0ms postprocess per image at shape (1, 3, 640, 640)\n"
     ]
    },
    {
     "name": "stderr",
     "output_type": "stream",
     "text": [
      "Processing images:  32%|███▏      | 183/576 [00:25<01:03,  6.23it/s]"
     ]
    },
    {
     "name": "stdout",
     "output_type": "stream",
     "text": [
      "✓ 37_png.rf.7ae33e49188bae0a4b4358c4a2c5bcce.jpg: Found 3 objects\n",
      "\n",
      "0: 640x640 (no detections), 28.6ms\n",
      "Speed: 3.5ms preprocess, 28.6ms inference, 1.2ms postprocess per image at shape (1, 3, 640, 640)\n",
      "✗ 37_png.rf.8bb4bc7b3de2e797c13b3008c7e7f36e.jpg: No objects detected\n",
      "\n",
      "0: 640x640 (no detections), 28.6ms\n",
      "Speed: 3.9ms preprocess, 28.6ms inference, 1.0ms postprocess per image at shape (1, 3, 640, 640)\n",
      "✗ 37_png.rf.a1d0fb7db478fdf82ab0b145479c0848.jpg: No objects detected\n",
      "\n",
      "0: 640x640 (no detections), 28.6ms\n",
      "Speed: 3.8ms preprocess, 28.6ms inference, 0.9ms postprocess per image at shape (1, 3, 640, 640)\n"
     ]
    },
    {
     "name": "stderr",
     "output_type": "stream",
     "text": [
      "Processing images:  32%|███▏      | 186/576 [00:26<00:37, 10.41it/s]"
     ]
    },
    {
     "name": "stdout",
     "output_type": "stream",
     "text": [
      "✗ 37_png.rf.ed4aa046b12dc362c1d3000c0f57ed75.jpg: No objects detected\n",
      "\n",
      "0: 640x640 1 mess, 26.4ms\n",
      "Speed: 3.6ms preprocess, 26.4ms inference, 2.8ms postprocess per image at shape (1, 3, 640, 640)\n",
      "✓ 38_png.rf.9309e27a6a43a08e4e5b908ecb1d57e2.jpg: Found 1 objects\n",
      "\n",
      "0: 640x640 1 mess, 24.9ms\n",
      "Speed: 3.8ms preprocess, 24.9ms inference, 2.6ms postprocess per image at shape (1, 3, 640, 640)\n"
     ]
    },
    {
     "name": "stderr",
     "output_type": "stream",
     "text": [
      "Processing images:  33%|███▎      | 188/576 [00:26<00:44,  8.65it/s]"
     ]
    },
    {
     "name": "stdout",
     "output_type": "stream",
     "text": [
      "✓ 38_png.rf.9a2bb4626a2aa903939f1341f7d4485f.jpg: Found 1 objects\n",
      "\n",
      "0: 640x640 1 mess, 24.7ms\n",
      "Speed: 3.5ms preprocess, 24.7ms inference, 2.0ms postprocess per image at shape (1, 3, 640, 640)\n"
     ]
    },
    {
     "name": "stderr",
     "output_type": "stream",
     "text": [
      "Processing images:  33%|███▎      | 189/576 [00:26<00:47,  8.07it/s]"
     ]
    },
    {
     "name": "stdout",
     "output_type": "stream",
     "text": [
      "✓ 38_png.rf.a6e7a8421472e46d707f20cc33bc3542.jpg: Found 1 objects\n",
      "\n",
      "0: 640x640 1 mess, 24.8ms\n",
      "Speed: 3.6ms preprocess, 24.8ms inference, 2.6ms postprocess per image at shape (1, 3, 640, 640)\n"
     ]
    },
    {
     "name": "stderr",
     "output_type": "stream",
     "text": [
      "Processing images:  33%|███▎      | 190/576 [00:26<00:50,  7.58it/s]"
     ]
    },
    {
     "name": "stdout",
     "output_type": "stream",
     "text": [
      "✓ 38_png.rf.d75df666a930574f1865c97cd6bdb7bb.jpg: Found 1 objects\n",
      "\n",
      "0: 640x640 1 mess, 24.8ms\n",
      "Speed: 3.8ms preprocess, 24.8ms inference, 1.8ms postprocess per image at shape (1, 3, 640, 640)\n"
     ]
    },
    {
     "name": "stderr",
     "output_type": "stream",
     "text": [
      "Processing images:  33%|███▎      | 191/576 [00:26<00:53,  7.21it/s]"
     ]
    },
    {
     "name": "stdout",
     "output_type": "stream",
     "text": [
      "✓ 38_png.rf.edae1ddffeb5af85872eb2573cc3fa8a.jpg: Found 1 objects\n",
      "\n",
      "0: 640x640 1 mess, 24.9ms\n",
      "Speed: 3.7ms preprocess, 24.9ms inference, 1.9ms postprocess per image at shape (1, 3, 640, 640)\n"
     ]
    },
    {
     "name": "stderr",
     "output_type": "stream",
     "text": [
      "Processing images:  33%|███▎      | 192/576 [00:27<00:53,  7.12it/s]"
     ]
    },
    {
     "name": "stdout",
     "output_type": "stream",
     "text": [
      "✓ 38_png.rf.fa1e0c54e1ef8cd91ec4d0b798f0e735.jpg: Found 1 objects\n",
      "\n",
      "0: 640x640 2 messs, 24.7ms\n",
      "Speed: 3.6ms preprocess, 24.7ms inference, 2.0ms postprocess per image at shape (1, 3, 640, 640)\n"
     ]
    },
    {
     "name": "stderr",
     "output_type": "stream",
     "text": [
      "Processing images:  34%|███▎      | 193/576 [00:27<00:53,  7.14it/s]"
     ]
    },
    {
     "name": "stdout",
     "output_type": "stream",
     "text": [
      "✓ 39_png.rf.08fd677bb851f96004b2e40fa468dd96.jpg: Found 2 objects\n",
      "\n",
      "0: 640x640 6 messs, 24.6ms\n",
      "Speed: 3.2ms preprocess, 24.6ms inference, 2.0ms postprocess per image at shape (1, 3, 640, 640)\n"
     ]
    },
    {
     "name": "stderr",
     "output_type": "stream",
     "text": [
      "Processing images:  34%|███▎      | 194/576 [00:27<00:53,  7.08it/s]"
     ]
    },
    {
     "name": "stdout",
     "output_type": "stream",
     "text": [
      "✓ 39_png.rf.106eb3110457f3dd3507a559adffe1d7.jpg: Found 6 objects\n",
      "\n",
      "0: 640x640 7 messs, 24.7ms\n",
      "Speed: 3.1ms preprocess, 24.7ms inference, 5.5ms postprocess per image at shape (1, 3, 640, 640)\n"
     ]
    },
    {
     "name": "stderr",
     "output_type": "stream",
     "text": [
      "Processing images:  34%|███▍      | 195/576 [00:27<00:54,  6.94it/s]"
     ]
    },
    {
     "name": "stdout",
     "output_type": "stream",
     "text": [
      "✓ 39_png.rf.55fd20e40e6e73e241bd26219c08bbe5.jpg: Found 7 objects\n",
      "\n",
      "0: 640x640 1 mess, 24.7ms\n",
      "Speed: 3.8ms preprocess, 24.7ms inference, 1.9ms postprocess per image at shape (1, 3, 640, 640)\n"
     ]
    },
    {
     "name": "stderr",
     "output_type": "stream",
     "text": [
      "Processing images:  34%|███▍      | 196/576 [00:27<00:54,  6.98it/s]"
     ]
    },
    {
     "name": "stdout",
     "output_type": "stream",
     "text": [
      "✓ 39_png.rf.b72a64b8e25057a0fb9ff95a4bff2113.jpg: Found 1 objects\n",
      "\n",
      "0: 640x640 6 messs, 24.7ms\n",
      "Speed: 3.3ms preprocess, 24.7ms inference, 2.1ms postprocess per image at shape (1, 3, 640, 640)\n"
     ]
    },
    {
     "name": "stderr",
     "output_type": "stream",
     "text": [
      "Processing images:  34%|███▍      | 197/576 [00:27<00:54,  6.97it/s]"
     ]
    },
    {
     "name": "stdout",
     "output_type": "stream",
     "text": [
      "✓ 39_png.rf.e9580ec7763995ff0fc89111a5afcfc6.jpg: Found 6 objects\n",
      "\n",
      "0: 640x640 1 mess, 24.7ms\n",
      "Speed: 3.6ms preprocess, 24.7ms inference, 2.0ms postprocess per image at shape (1, 3, 640, 640)\n"
     ]
    },
    {
     "name": "stderr",
     "output_type": "stream",
     "text": [
      "Processing images:  34%|███▍      | 198/576 [00:27<00:53,  7.07it/s]"
     ]
    },
    {
     "name": "stdout",
     "output_type": "stream",
     "text": [
      "✓ 39_png.rf.f0ad4a2cc1c703bba1dec7d7c53a15ca.jpg: Found 1 objects\n",
      "\n",
      "0: 640x640 (no detections), 24.8ms\n",
      "Speed: 3.5ms preprocess, 24.8ms inference, 0.9ms postprocess per image at shape (1, 3, 640, 640)\n",
      "✗ 3_png.rf.255534ab652e8f2190b10e4a7a2c3032.jpg: No objects detected\n",
      "\n",
      "0: 640x640 2 messs, 28.5ms\n",
      "Speed: 3.4ms preprocess, 28.5ms inference, 2.0ms postprocess per image at shape (1, 3, 640, 640)\n"
     ]
    },
    {
     "name": "stderr",
     "output_type": "stream",
     "text": [
      "Processing images:  35%|███▍      | 200/576 [00:28<00:47,  8.00it/s]"
     ]
    },
    {
     "name": "stdout",
     "output_type": "stream",
     "text": [
      "✓ 3_png.rf.3014e7cf2bc84aa7c7d069518507d518.jpg: Found 2 objects\n",
      "\n",
      "0: 640x640 (no detections), 28.7ms\n",
      "Speed: 3.6ms preprocess, 28.7ms inference, 0.9ms postprocess per image at shape (1, 3, 640, 640)\n",
      "✗ 3_png.rf.8f3cfe4e721ee05dcf3635d64757bd17.jpg: No objects detected\n",
      "\n",
      "0: 640x640 1 mess, 28.6ms\n",
      "Speed: 4.6ms preprocess, 28.6ms inference, 2.1ms postprocess per image at shape (1, 3, 640, 640)\n",
      "✓ 3_png.rf.91dda4f636fe3900583c6b7a03e7e538.jpg: Found 1 objects"
     ]
    },
    {
     "name": "stderr",
     "output_type": "stream",
     "text": [
      "Processing images:  35%|███▌      | 202/576 [00:28<00:43,  8.52it/s]"
     ]
    },
    {
     "name": "stdout",
     "output_type": "stream",
     "text": [
      "\n",
      "\n",
      "0: 640x640 (no detections), 28.7ms\n",
      "Speed: 3.4ms preprocess, 28.7ms inference, 0.9ms postprocess per image at shape (1, 3, 640, 640)\n",
      "✗ 3_png.rf.ae6bc878a6261ad29a6bd8649f8cef80.jpg: No objects detected\n",
      "\n",
      "0: 640x640 1 mess, 28.6ms\n",
      "Speed: 3.6ms preprocess, 28.6ms inference, 2.1ms postprocess per image at shape (1, 3, 640, 640)\n",
      "✓ 3_png.rf.c041f99250a248babc6089e6039e73f2.jpg: Found 1 objects\n"
     ]
    },
    {
     "name": "stderr",
     "output_type": "stream",
     "text": [
      "Processing images:  35%|███▌      | 204/576 [00:28<00:41,  8.88it/s]"
     ]
    },
    {
     "name": "stdout",
     "output_type": "stream",
     "text": [
      "\n",
      "0: 640x640 2 messs, 28.6ms\n",
      "Speed: 5.0ms preprocess, 28.6ms inference, 2.2ms postprocess per image at shape (1, 3, 640, 640)\n"
     ]
    },
    {
     "name": "stderr",
     "output_type": "stream",
     "text": [
      "Processing images:  36%|███▌      | 205/576 [00:28<00:42,  8.71it/s]"
     ]
    },
    {
     "name": "stdout",
     "output_type": "stream",
     "text": [
      "✓ 40_png.rf.0395c889398938e19877b199e3d13d15.jpg: Found 2 objects\n",
      "\n",
      "0: 640x640 2 messs, 28.6ms\n",
      "Speed: 3.8ms preprocess, 28.6ms inference, 2.1ms postprocess per image at shape (1, 3, 640, 640)\n"
     ]
    },
    {
     "name": "stderr",
     "output_type": "stream",
     "text": [
      "Processing images:  36%|███▌      | 206/576 [00:28<00:43,  8.53it/s]"
     ]
    },
    {
     "name": "stdout",
     "output_type": "stream",
     "text": [
      "✓ 40_png.rf.057aafaaf55447f3f296499b57a9e6d1.jpg: Found 2 objects\n",
      "\n",
      "0: 640x640 8 messs, 28.7ms\n",
      "Speed: 3.7ms preprocess, 28.7ms inference, 4.0ms postprocess per image at shape (1, 3, 640, 640)\n"
     ]
    },
    {
     "name": "stderr",
     "output_type": "stream",
     "text": [
      "Processing images:  36%|███▌      | 207/576 [00:28<00:47,  7.74it/s]"
     ]
    },
    {
     "name": "stdout",
     "output_type": "stream",
     "text": [
      "✓ 40_png.rf.991ff310bcadea612816bf0f13885746.jpg: Found 8 objects\n",
      "\n",
      "0: 640x640 2 messs, 28.6ms\n",
      "Speed: 4.4ms preprocess, 28.6ms inference, 2.0ms postprocess per image at shape (1, 3, 640, 640)\n"
     ]
    },
    {
     "name": "stderr",
     "output_type": "stream",
     "text": [
      "Processing images:  36%|███▌      | 208/576 [00:29<00:47,  7.82it/s]"
     ]
    },
    {
     "name": "stdout",
     "output_type": "stream",
     "text": [
      "✓ 40_png.rf.cc768e10c3203f8b9245020a010b1217.jpg: Found 2 objects\n",
      "\n",
      "0: 640x640 5 messs, 28.6ms\n",
      "Speed: 3.6ms preprocess, 28.6ms inference, 2.1ms postprocess per image at shape (1, 3, 640, 640)\n"
     ]
    },
    {
     "name": "stderr",
     "output_type": "stream",
     "text": [
      "Processing images:  36%|███▋      | 209/576 [00:29<00:49,  7.36it/s]"
     ]
    },
    {
     "name": "stdout",
     "output_type": "stream",
     "text": [
      "✓ 40_png.rf.d8831fc494b813e58a6b29db0f4c895c.jpg: Found 5 objects\n",
      "\n",
      "0: 640x640 7 messs, 28.6ms\n",
      "Speed: 3.8ms preprocess, 28.6ms inference, 1.9ms postprocess per image at shape (1, 3, 640, 640)\n"
     ]
    },
    {
     "name": "stderr",
     "output_type": "stream",
     "text": [
      "Processing images:  36%|███▋      | 210/576 [00:29<00:52,  6.95it/s]"
     ]
    },
    {
     "name": "stdout",
     "output_type": "stream",
     "text": [
      "✓ 40_png.rf.f63c8d015abeca2d2cc278bcbfe44237.jpg: Found 7 objects\n",
      "\n",
      "0: 640x640 1 mess, 28.6ms\n",
      "Speed: 3.8ms preprocess, 28.6ms inference, 2.0ms postprocess per image at shape (1, 3, 640, 640)\n"
     ]
    },
    {
     "name": "stderr",
     "output_type": "stream",
     "text": [
      "Processing images:  37%|███▋      | 211/576 [00:29<00:51,  7.14it/s]"
     ]
    },
    {
     "name": "stdout",
     "output_type": "stream",
     "text": [
      "✓ 41_png.rf.015b45e71ac7c4b4a4d47c7b4f383fba.jpg: Found 1 objects\n",
      "\n",
      "0: 640x640 1 mess, 28.5ms\n",
      "Speed: 4.9ms preprocess, 28.5ms inference, 2.1ms postprocess per image at shape (1, 3, 640, 640)\n"
     ]
    },
    {
     "name": "stderr",
     "output_type": "stream",
     "text": [
      "Processing images:  37%|███▋      | 212/576 [00:29<00:49,  7.34it/s]"
     ]
    },
    {
     "name": "stdout",
     "output_type": "stream",
     "text": [
      "✓ 41_png.rf.4e88d5597ab2744025d64d1bbfeb56fe.jpg: Found 1 objects\n",
      "\n",
      "0: 640x640 2 messs, 28.6ms\n",
      "Speed: 3.6ms preprocess, 28.6ms inference, 2.1ms postprocess per image at shape (1, 3, 640, 640)\n"
     ]
    },
    {
     "name": "stderr",
     "output_type": "stream",
     "text": [
      "Processing images:  37%|███▋      | 213/576 [00:29<00:49,  7.36it/s]"
     ]
    },
    {
     "name": "stdout",
     "output_type": "stream",
     "text": [
      "✓ 41_png.rf.868c6e1ab043ce119d56afe8cd79eaa4.jpg: Found 2 objects\n",
      "\n",
      "0: 640x640 3 messs, 28.6ms\n",
      "Speed: 3.5ms preprocess, 28.6ms inference, 1.9ms postprocess per image at shape (1, 3, 640, 640)\n"
     ]
    },
    {
     "name": "stderr",
     "output_type": "stream",
     "text": [
      "Processing images:  37%|███▋      | 214/576 [00:29<00:49,  7.31it/s]"
     ]
    },
    {
     "name": "stdout",
     "output_type": "stream",
     "text": [
      "✓ 41_png.rf.917b329835d7672314ce2ad250fc30a9.jpg: Found 3 objects\n",
      "\n",
      "0: 640x640 1 mess, 28.6ms\n",
      "Speed: 3.6ms preprocess, 28.6ms inference, 2.0ms postprocess per image at shape (1, 3, 640, 640)\n"
     ]
    },
    {
     "name": "stderr",
     "output_type": "stream",
     "text": [
      "Processing images:  37%|███▋      | 215/576 [00:30<00:48,  7.45it/s]"
     ]
    },
    {
     "name": "stdout",
     "output_type": "stream",
     "text": [
      "✓ 41_png.rf.943e95c92d6f4334d7d6217d1a0679d7.jpg: Found 1 objects\n",
      "\n",
      "0: 640x640 3 messs, 28.6ms\n",
      "Speed: 3.5ms preprocess, 28.6ms inference, 2.0ms postprocess per image at shape (1, 3, 640, 640)\n"
     ]
    },
    {
     "name": "stderr",
     "output_type": "stream",
     "text": [
      "Processing images:  38%|███▊      | 216/576 [00:30<00:48,  7.43it/s]"
     ]
    },
    {
     "name": "stdout",
     "output_type": "stream",
     "text": [
      "✓ 41_png.rf.f9107bc2744716e47264ea0ee382d5e5.jpg: Found 3 objects\n",
      "\n",
      "0: 640x640 1 mess, 28.5ms\n",
      "Speed: 3.4ms preprocess, 28.5ms inference, 1.9ms postprocess per image at shape (1, 3, 640, 640)\n"
     ]
    },
    {
     "name": "stderr",
     "output_type": "stream",
     "text": [
      "Processing images:  38%|███▊      | 217/576 [00:30<00:49,  7.25it/s]"
     ]
    },
    {
     "name": "stdout",
     "output_type": "stream",
     "text": [
      "✓ 42_png.rf.41c06a7d92cb54d6aba784a57cbec22b.jpg: Found 1 objects\n",
      "\n",
      "0: 640x640 1 mess, 28.6ms\n",
      "Speed: 3.6ms preprocess, 28.6ms inference, 2.3ms postprocess per image at shape (1, 3, 640, 640)\n"
     ]
    },
    {
     "name": "stderr",
     "output_type": "stream",
     "text": [
      "Processing images:  38%|███▊      | 218/576 [00:30<00:50,  7.10it/s]"
     ]
    },
    {
     "name": "stdout",
     "output_type": "stream",
     "text": [
      "✓ 42_png.rf.63eef5b25d38c7fcf0ca9bb68aba9613.jpg: Found 1 objects\n",
      "\n",
      "0: 640x640 1 mess, 28.6ms\n",
      "Speed: 3.5ms preprocess, 28.6ms inference, 2.2ms postprocess per image at shape (1, 3, 640, 640)\n"
     ]
    },
    {
     "name": "stderr",
     "output_type": "stream",
     "text": [
      "Processing images:  38%|███▊      | 219/576 [00:30<00:51,  6.97it/s]"
     ]
    },
    {
     "name": "stdout",
     "output_type": "stream",
     "text": [
      "✓ 42_png.rf.65408ce4e69b5f46ef6b45d941c5c32a.jpg: Found 1 objects\n",
      "\n",
      "0: 640x640 5 messs, 28.6ms\n",
      "Speed: 3.5ms preprocess, 28.6ms inference, 2.0ms postprocess per image at shape (1, 3, 640, 640)\n"
     ]
    },
    {
     "name": "stderr",
     "output_type": "stream",
     "text": [
      "Processing images:  38%|███▊      | 220/576 [00:30<00:51,  6.95it/s]"
     ]
    },
    {
     "name": "stdout",
     "output_type": "stream",
     "text": [
      "✓ 42_png.rf.84060417ab526af7eb142b26072ae786.jpg: Found 5 objects\n",
      "\n",
      "0: 640x640 5 messs, 28.6ms\n",
      "Speed: 3.8ms preprocess, 28.6ms inference, 2.1ms postprocess per image at shape (1, 3, 640, 640)\n"
     ]
    },
    {
     "name": "stderr",
     "output_type": "stream",
     "text": [
      "Processing images:  38%|███▊      | 221/576 [00:30<00:51,  6.89it/s]"
     ]
    },
    {
     "name": "stdout",
     "output_type": "stream",
     "text": [
      "✓ 42_png.rf.872289e6a269cfdf6e819ddc0ce3cdeb.jpg: Found 5 objects\n",
      "\n",
      "0: 640x640 4 messs, 28.6ms\n",
      "Speed: 3.7ms preprocess, 28.6ms inference, 2.0ms postprocess per image at shape (1, 3, 640, 640)\n"
     ]
    },
    {
     "name": "stderr",
     "output_type": "stream",
     "text": [
      "Processing images:  39%|███▊      | 222/576 [00:31<00:51,  6.85it/s]"
     ]
    },
    {
     "name": "stdout",
     "output_type": "stream",
     "text": [
      "✓ 42_png.rf.f795bf744a66c6df0aa90c9094b3b674.jpg: Found 4 objects\n",
      "\n",
      "0: 640x640 2 messs, 28.6ms\n",
      "Speed: 3.7ms preprocess, 28.6ms inference, 2.3ms postprocess per image at shape (1, 3, 640, 640)\n"
     ]
    },
    {
     "name": "stderr",
     "output_type": "stream",
     "text": [
      "Processing images:  39%|███▊      | 223/576 [00:31<00:52,  6.68it/s]"
     ]
    },
    {
     "name": "stdout",
     "output_type": "stream",
     "text": [
      "✓ 43_png.rf.2645467026a32c1c9a6d9127a090ca63.jpg: Found 2 objects\n",
      "\n",
      "0: 640x640 1 mess, 28.6ms\n",
      "Speed: 3.8ms preprocess, 28.6ms inference, 1.9ms postprocess per image at shape (1, 3, 640, 640)\n"
     ]
    },
    {
     "name": "stderr",
     "output_type": "stream",
     "text": [
      "Processing images:  39%|███▉      | 224/576 [00:31<00:51,  6.90it/s]"
     ]
    },
    {
     "name": "stdout",
     "output_type": "stream",
     "text": [
      "✓ 43_png.rf.2fd5a184d3b928887c61f63e0ce99589.jpg: Found 1 objects\n",
      "\n",
      "0: 640x640 1 mess, 28.6ms\n",
      "Speed: 3.4ms preprocess, 28.6ms inference, 1.9ms postprocess per image at shape (1, 3, 640, 640)\n"
     ]
    },
    {
     "name": "stderr",
     "output_type": "stream",
     "text": [
      "Processing images:  39%|███▉      | 225/576 [00:31<00:49,  7.08it/s]"
     ]
    },
    {
     "name": "stdout",
     "output_type": "stream",
     "text": [
      "✓ 43_png.rf.46af5d5a07dcc447267537648d5faa6b.jpg: Found 1 objects\n",
      "\n",
      "0: 640x640 2 messs, 28.5ms\n",
      "Speed: 3.5ms preprocess, 28.5ms inference, 2.0ms postprocess per image at shape (1, 3, 640, 640)\n"
     ]
    },
    {
     "name": "stderr",
     "output_type": "stream",
     "text": [
      "Processing images:  39%|███▉      | 226/576 [00:31<00:51,  6.84it/s]"
     ]
    },
    {
     "name": "stdout",
     "output_type": "stream",
     "text": [
      "✓ 43_png.rf.7e0ccd27d5b084dc5b3c4f2fd3829742.jpg: Found 2 objects\n",
      "\n",
      "0: 640x640 2 messs, 28.6ms\n",
      "Speed: 3.9ms preprocess, 28.6ms inference, 2.1ms postprocess per image at shape (1, 3, 640, 640)\n"
     ]
    },
    {
     "name": "stderr",
     "output_type": "stream",
     "text": [
      "Processing images:  39%|███▉      | 227/576 [00:31<00:49,  7.04it/s]"
     ]
    },
    {
     "name": "stdout",
     "output_type": "stream",
     "text": [
      "✓ 43_png.rf.b620b9d2caccd408fa3c64dfaa73df2b.jpg: Found 2 objects\n",
      "\n",
      "0: 640x640 2 messs, 28.6ms\n",
      "Speed: 3.4ms preprocess, 28.6ms inference, 2.0ms postprocess per image at shape (1, 3, 640, 640)\n"
     ]
    },
    {
     "name": "stderr",
     "output_type": "stream",
     "text": [
      "Processing images:  40%|███▉      | 228/576 [00:31<00:50,  6.85it/s]"
     ]
    },
    {
     "name": "stdout",
     "output_type": "stream",
     "text": [
      "✓ 43_png.rf.c135409b5fd96f3c931076d10d2ed594.jpg: Found 2 objects\n",
      "\n",
      "0: 640x640 1 mess, 28.6ms\n",
      "Speed: 5.8ms preprocess, 28.6ms inference, 1.9ms postprocess per image at shape (1, 3, 640, 640)\n"
     ]
    },
    {
     "name": "stderr",
     "output_type": "stream",
     "text": [
      "Processing images:  40%|███▉      | 229/576 [00:32<00:50,  6.88it/s]"
     ]
    },
    {
     "name": "stdout",
     "output_type": "stream",
     "text": [
      "✓ 44_png.rf.005731b74e50f765cce0266081d4eb2a.jpg: Found 1 objects\n",
      "\n",
      "0: 640x640 2 messs, 28.6ms\n",
      "Speed: 3.1ms preprocess, 28.6ms inference, 2.0ms postprocess per image at shape (1, 3, 640, 640)\n"
     ]
    },
    {
     "name": "stderr",
     "output_type": "stream",
     "text": [
      "Processing images:  40%|███▉      | 230/576 [00:32<00:49,  7.02it/s]"
     ]
    },
    {
     "name": "stdout",
     "output_type": "stream",
     "text": [
      "✓ 44_png.rf.34ea253b1a5836a53b6c15cb47336d7b.jpg: Found 2 objects\n",
      "\n",
      "0: 640x640 1 mess, 28.5ms\n",
      "Speed: 3.3ms preprocess, 28.5ms inference, 2.0ms postprocess per image at shape (1, 3, 640, 640)\n"
     ]
    },
    {
     "name": "stderr",
     "output_type": "stream",
     "text": [
      "Processing images:  40%|████      | 231/576 [00:32<00:48,  7.06it/s]"
     ]
    },
    {
     "name": "stdout",
     "output_type": "stream",
     "text": [
      "✓ 44_png.rf.763817e125ba498d687bab8d584c6742.jpg: Found 1 objects\n",
      "\n",
      "0: 640x640 1 mess, 28.6ms\n",
      "Speed: 3.3ms preprocess, 28.6ms inference, 1.9ms postprocess per image at shape (1, 3, 640, 640)\n"
     ]
    },
    {
     "name": "stderr",
     "output_type": "stream",
     "text": [
      "Processing images:  40%|████      | 232/576 [00:32<00:48,  7.11it/s]"
     ]
    },
    {
     "name": "stdout",
     "output_type": "stream",
     "text": [
      "✓ 44_png.rf.7f6c5ee269a6966c51347b76f6941290.jpg: Found 1 objects\n",
      "\n",
      "0: 640x640 1 mess, 28.6ms\n",
      "Speed: 3.7ms preprocess, 28.6ms inference, 2.0ms postprocess per image at shape (1, 3, 640, 640)\n"
     ]
    },
    {
     "name": "stderr",
     "output_type": "stream",
     "text": [
      "Processing images:  40%|████      | 233/576 [00:32<00:48,  7.04it/s]"
     ]
    },
    {
     "name": "stdout",
     "output_type": "stream",
     "text": [
      "✓ 44_png.rf.93db38880c6070a134bc4f73ce9c11b2.jpg: Found 1 objects\n",
      "\n",
      "0: 640x640 1 mess, 28.6ms\n",
      "Speed: 3.8ms preprocess, 28.6ms inference, 2.0ms postprocess per image at shape (1, 3, 640, 640)\n"
     ]
    },
    {
     "name": "stderr",
     "output_type": "stream",
     "text": [
      "Processing images:  41%|████      | 234/576 [00:32<00:48,  7.05it/s]"
     ]
    },
    {
     "name": "stdout",
     "output_type": "stream",
     "text": [
      "✓ 44_png.rf.ffe6b25b38c5dbd4475b064306efef3b.jpg: Found 1 objects\n",
      "\n",
      "0: 640x640 3 messs, 28.6ms\n",
      "Speed: 3.8ms preprocess, 28.6ms inference, 2.0ms postprocess per image at shape (1, 3, 640, 640)\n"
     ]
    },
    {
     "name": "stderr",
     "output_type": "stream",
     "text": [
      "Processing images:  41%|████      | 235/576 [00:32<00:50,  6.81it/s]"
     ]
    },
    {
     "name": "stdout",
     "output_type": "stream",
     "text": [
      "✓ 45_png.rf.01a5f6c6b80e6184cc67a3ea68968139.jpg: Found 3 objects\n",
      "\n",
      "0: 640x640 1 mess, 28.6ms\n",
      "Speed: 3.5ms preprocess, 28.6ms inference, 1.9ms postprocess per image at shape (1, 3, 640, 640)\n"
     ]
    },
    {
     "name": "stderr",
     "output_type": "stream",
     "text": [
      "Processing images:  41%|████      | 236/576 [00:33<00:47,  7.17it/s]"
     ]
    },
    {
     "name": "stdout",
     "output_type": "stream",
     "text": [
      "✓ 45_png.rf.02501858af45a10e15e12ba160aa5dae.jpg: Found 1 objects\n",
      "\n",
      "0: 640x640 (no detections), 28.6ms\n",
      "Speed: 3.7ms preprocess, 28.6ms inference, 0.9ms postprocess per image at shape (1, 3, 640, 640)\n",
      "✗ 45_png.rf.452a3871ed3658658d38fe4e5342dc18.jpg: No objects detected\n",
      "\n",
      "0: 640x640 3 messs, 28.7ms\n",
      "Speed: 3.5ms preprocess, 28.7ms inference, 1.9ms postprocess per image at shape (1, 3, 640, 640)\n",
      "✓ 45_png.rf.85d5c5cc8ba87e96bd8154f223a14fd7.jpg: Found 3 objects"
     ]
    },
    {
     "name": "stderr",
     "output_type": "stream",
     "text": [
      "Processing images:  41%|████▏     | 238/576 [00:33<00:41,  8.23it/s]"
     ]
    },
    {
     "name": "stdout",
     "output_type": "stream",
     "text": [
      "\n",
      "\n",
      "0: 640x640 2 messs, 28.6ms\n",
      "Speed: 3.5ms preprocess, 28.6ms inference, 1.8ms postprocess per image at shape (1, 3, 640, 640)\n"
     ]
    },
    {
     "name": "stderr",
     "output_type": "stream",
     "text": [
      "Processing images:  41%|████▏     | 239/576 [00:33<00:41,  8.21it/s]"
     ]
    },
    {
     "name": "stdout",
     "output_type": "stream",
     "text": [
      "✓ 45_png.rf.8d6c37da911e1a077729f1a363ba2ece.jpg: Found 2 objects\n",
      "\n",
      "0: 640x640 1 mess, 28.6ms\n",
      "Speed: 3.3ms preprocess, 28.6ms inference, 2.2ms postprocess per image at shape (1, 3, 640, 640)\n"
     ]
    },
    {
     "name": "stderr",
     "output_type": "stream",
     "text": [
      "Processing images:  42%|████▏     | 240/576 [00:33<00:44,  7.55it/s]"
     ]
    },
    {
     "name": "stdout",
     "output_type": "stream",
     "text": [
      "✓ 45_png.rf.ea9f62a8deeca5a0221d22f55e11dda0.jpg: Found 1 objects\n",
      "\n",
      "0: 640x640 7 messs, 28.6ms\n",
      "Speed: 3.3ms preprocess, 28.6ms inference, 2.1ms postprocess per image at shape (1, 3, 640, 640)\n"
     ]
    },
    {
     "name": "stderr",
     "output_type": "stream",
     "text": [
      "Processing images:  42%|████▏     | 241/576 [00:33<00:45,  7.38it/s]"
     ]
    },
    {
     "name": "stdout",
     "output_type": "stream",
     "text": [
      "✓ 46_png.rf.12058e33417ac3e1ebcd27fd24ab3c51.jpg: Found 7 objects\n",
      "\n",
      "0: 640x640 6 messs, 28.6ms\n",
      "Speed: 3.5ms preprocess, 28.6ms inference, 2.0ms postprocess per image at shape (1, 3, 640, 640)\n"
     ]
    },
    {
     "name": "stderr",
     "output_type": "stream",
     "text": [
      "Processing images:  42%|████▏     | 242/576 [00:33<00:46,  7.25it/s]"
     ]
    },
    {
     "name": "stdout",
     "output_type": "stream",
     "text": [
      "✓ 46_png.rf.8075e59e72d88b417d10a901fa2313e4.jpg: Found 6 objects\n",
      "\n",
      "0: 640x640 6 messs, 28.6ms\n",
      "Speed: 3.6ms preprocess, 28.6ms inference, 2.4ms postprocess per image at shape (1, 3, 640, 640)\n"
     ]
    },
    {
     "name": "stderr",
     "output_type": "stream",
     "text": [
      "Processing images:  42%|████▏     | 243/576 [00:33<00:46,  7.11it/s]"
     ]
    },
    {
     "name": "stdout",
     "output_type": "stream",
     "text": [
      "✓ 46_png.rf.983e8896039f97811cdbb959aa07028b.jpg: Found 6 objects\n",
      "\n",
      "0: 640x640 (no detections), 28.6ms\n",
      "Speed: 3.5ms preprocess, 28.6ms inference, 0.9ms postprocess per image at shape (1, 3, 640, 640)\n",
      "✗ 46_png.rf.98dd39d4e078a1b7da4cc7c88823218e.jpg: No objects detected\n",
      "\n",
      "0: 640x640 1 mess, 28.6ms\n",
      "Speed: 4.2ms preprocess, 28.6ms inference, 1.7ms postprocess per image at shape (1, 3, 640, 640)\n",
      "✓ 46_png.rf.c2252b770f2d585eaa325e61997bf81d.jpg: Found 1 objects"
     ]
    },
    {
     "name": "stderr",
     "output_type": "stream",
     "text": [
      "Processing images:  43%|████▎     | 245/576 [00:34<00:39,  8.41it/s]"
     ]
    },
    {
     "name": "stdout",
     "output_type": "stream",
     "text": [
      "\n",
      "\n",
      "0: 640x640 2 messs, 28.6ms\n",
      "Speed: 3.6ms preprocess, 28.6ms inference, 2.6ms postprocess per image at shape (1, 3, 640, 640)\n"
     ]
    },
    {
     "name": "stderr",
     "output_type": "stream",
     "text": [
      "Processing images:  43%|████▎     | 246/576 [00:34<00:40,  8.07it/s]"
     ]
    },
    {
     "name": "stdout",
     "output_type": "stream",
     "text": [
      "✓ 46_png.rf.d8fbc9df03b3e6783fb57148f06ed445.jpg: Found 2 objects\n",
      "\n",
      "0: 640x640 2 messs, 28.6ms\n",
      "Speed: 3.6ms preprocess, 28.6ms inference, 2.4ms postprocess per image at shape (1, 3, 640, 640)\n"
     ]
    },
    {
     "name": "stderr",
     "output_type": "stream",
     "text": [
      "Processing images:  43%|████▎     | 247/576 [00:34<00:44,  7.43it/s]"
     ]
    },
    {
     "name": "stdout",
     "output_type": "stream",
     "text": [
      "✓ 47_png.rf.1610b760f77b3bb6bf78b9c06304e0cb.jpg: Found 2 objects\n",
      "\n",
      "0: 640x640 (no detections), 28.6ms\n",
      "Speed: 3.9ms preprocess, 28.6ms inference, 1.1ms postprocess per image at shape (1, 3, 640, 640)\n",
      "✗ 47_png.rf.24a8c6baea56eca6b60b137da0d83d44.jpg: No objects detected\n",
      "\n",
      "0: 640x640 2 messs, 28.5ms\n",
      "Speed: 3.5ms preprocess, 28.5ms inference, 1.9ms postprocess per image at shape (1, 3, 640, 640)\n",
      "✓ 47_png.rf.3735f0a7acc08628fd65cf19afdadde7.jpg: Found 2 objects"
     ]
    },
    {
     "name": "stderr",
     "output_type": "stream",
     "text": [
      "Processing images:  43%|████▎     | 249/576 [00:34<00:40,  8.13it/s]"
     ]
    },
    {
     "name": "stdout",
     "output_type": "stream",
     "text": [
      "\n",
      "\n",
      "0: 640x640 (no detections), 28.5ms\n",
      "Speed: 3.8ms preprocess, 28.5ms inference, 0.9ms postprocess per image at shape (1, 3, 640, 640)\n",
      "✗ 47_png.rf.9634f619e4d1708bc5b38010dcf9ae04.jpg: No objects detected\n",
      "\n",
      "0: 640x640 2 messs, 28.6ms\n",
      "Speed: 3.4ms preprocess, 28.6ms inference, 2.1ms postprocess per image at shape (1, 3, 640, 640)\n"
     ]
    },
    {
     "name": "stderr",
     "output_type": "stream",
     "text": [
      "Processing images:  44%|████▎     | 251/576 [00:34<00:37,  8.57it/s]"
     ]
    },
    {
     "name": "stdout",
     "output_type": "stream",
     "text": [
      "✓ 47_png.rf.a1da0f30cd496e6281fbcc0ed7523089.jpg: Found 2 objects\n",
      "\n",
      "0: 640x640 (no detections), 28.6ms\n",
      "Speed: 3.5ms preprocess, 28.6ms inference, 0.9ms postprocess per image at shape (1, 3, 640, 640)\n",
      "✗ 47_png.rf.db5c27cd1fd14724015af841aca3d19f.jpg: No objects detected\n",
      "\n",
      "0: 640x640 4 messs, 28.6ms\n",
      "Speed: 3.6ms preprocess, 28.6ms inference, 2.1ms postprocess per image at shape (1, 3, 640, 640)\n",
      "✓ 48_png.rf.1349f048c305db9f241ca68377a5977a.jpg: Found 4 objects"
     ]
    },
    {
     "name": "stderr",
     "output_type": "stream",
     "text": [
      "Processing images:  44%|████▍     | 253/576 [00:35<00:34,  9.28it/s]"
     ]
    },
    {
     "name": "stdout",
     "output_type": "stream",
     "text": [
      "\n",
      "\n",
      "0: 640x640 (no detections), 28.6ms\n",
      "Speed: 3.8ms preprocess, 28.6ms inference, 1.0ms postprocess per image at shape (1, 3, 640, 640)\n",
      "✗ 48_png.rf.2258a27bc344e291455f79e918f5e554.jpg: No objects detected\n",
      "\n",
      "0: 640x640 5 messs, 28.6ms\n",
      "Speed: 3.0ms preprocess, 28.6ms inference, 2.0ms postprocess per image at shape (1, 3, 640, 640)\n",
      "✓ 48_png.rf.226e598a08cc3178f38e52229412341b.jpg: Found 5 objects\n"
     ]
    },
    {
     "name": "stderr",
     "output_type": "stream",
     "text": [
      "Processing images:  44%|████▍     | 255/576 [00:35<00:32,  9.77it/s]"
     ]
    },
    {
     "name": "stdout",
     "output_type": "stream",
     "text": [
      "\n",
      "0: 640x640 (no detections), 28.6ms\n",
      "Speed: 3.3ms preprocess, 28.6ms inference, 0.9ms postprocess per image at shape (1, 3, 640, 640)\n",
      "✗ 48_png.rf.66dd21704e5046cd6350e5d51fc0311c.jpg: No objects detected\n",
      "\n",
      "0: 640x640 (no detections), 28.6ms\n",
      "Speed: 3.5ms preprocess, 28.6ms inference, 0.9ms postprocess per image at shape (1, 3, 640, 640)\n",
      "✗ 48_png.rf.ddea873d7e42f691094c2144f45d1e0d.jpg: No objects detected\n",
      "\n",
      "0: 640x640 4 messs, 28.5ms\n",
      "Speed: 3.5ms preprocess, 28.5ms inference, 1.8ms postprocess per image at shape (1, 3, 640, 640)\n",
      "✓ 48_png.rf.f77750cbd63788fc6c45fb38128332b3.jpg: Found 4 objects\n"
     ]
    },
    {
     "name": "stderr",
     "output_type": "stream",
     "text": [
      "Processing images:  45%|████▍     | 258/576 [00:35<00:29, 10.89it/s]"
     ]
    },
    {
     "name": "stdout",
     "output_type": "stream",
     "text": [
      "\n",
      "0: 640x640 1 mess, 28.6ms\n",
      "Speed: 3.3ms preprocess, 28.6ms inference, 2.0ms postprocess per image at shape (1, 3, 640, 640)\n",
      "✓ 49_png.rf.0d64b5e33cb446edafd9b36fae9602a4.jpg: Found 1 objects\n",
      "\n",
      "0: 640x640 1 mess, 28.6ms\n",
      "Speed: 3.4ms preprocess, 28.6ms inference, 1.8ms postprocess per image at shape (1, 3, 640, 640)\n"
     ]
    },
    {
     "name": "stderr",
     "output_type": "stream",
     "text": [
      "Processing images:  45%|████▌     | 260/576 [00:35<00:32,  9.71it/s]"
     ]
    },
    {
     "name": "stdout",
     "output_type": "stream",
     "text": [
      "✓ 49_png.rf.20c26c11242658af2a1ea8748fa3badf.jpg: Found 1 objects\n",
      "\n",
      "0: 640x640 1 mess, 28.7ms\n",
      "Speed: 4.0ms preprocess, 28.7ms inference, 2.2ms postprocess per image at shape (1, 3, 640, 640)\n"
     ]
    },
    {
     "name": "stderr",
     "output_type": "stream",
     "text": [
      "Processing images:  45%|████▌     | 261/576 [00:35<00:34,  9.08it/s]"
     ]
    },
    {
     "name": "stdout",
     "output_type": "stream",
     "text": [
      "✓ 49_png.rf.3bf2f4d77ce5a1a7a0f4a6bdd9a2df6e.jpg: Found 1 objects\n",
      "\n",
      "0: 640x640 1 mess, 28.7ms\n",
      "Speed: 3.2ms preprocess, 28.7ms inference, 2.0ms postprocess per image at shape (1, 3, 640, 640)\n"
     ]
    },
    {
     "name": "stderr",
     "output_type": "stream",
     "text": [
      "Processing images:  45%|████▌     | 262/576 [00:36<00:36,  8.62it/s]"
     ]
    },
    {
     "name": "stdout",
     "output_type": "stream",
     "text": [
      "✓ 49_png.rf.61d07b65930fde43dcb60a8ddf701c0f.jpg: Found 1 objects\n",
      "\n",
      "0: 640x640 2 messs, 28.7ms\n",
      "Speed: 3.2ms preprocess, 28.7ms inference, 2.0ms postprocess per image at shape (1, 3, 640, 640)\n"
     ]
    },
    {
     "name": "stderr",
     "output_type": "stream",
     "text": [
      "Processing images:  46%|████▌     | 263/576 [00:36<00:37,  8.24it/s]"
     ]
    },
    {
     "name": "stdout",
     "output_type": "stream",
     "text": [
      "✓ 49_png.rf.ca643710acdfeb18ce724ac68becbd65.jpg: Found 2 objects\n",
      "\n",
      "0: 640x640 2 messs, 28.5ms\n",
      "Speed: 3.0ms preprocess, 28.5ms inference, 2.1ms postprocess per image at shape (1, 3, 640, 640)\n"
     ]
    },
    {
     "name": "stderr",
     "output_type": "stream",
     "text": [
      "Processing images:  46%|████▌     | 264/576 [00:36<00:38,  8.06it/s]"
     ]
    },
    {
     "name": "stdout",
     "output_type": "stream",
     "text": [
      "✓ 49_png.rf.de640703acf7c2941b5d935d544de3ba.jpg: Found 2 objects\n",
      "\n",
      "0: 640x640 2 messs, 28.6ms\n",
      "Speed: 3.6ms preprocess, 28.6ms inference, 1.9ms postprocess per image at shape (1, 3, 640, 640)\n"
     ]
    },
    {
     "name": "stderr",
     "output_type": "stream",
     "text": [
      "Processing images:  46%|████▌     | 265/576 [00:36<00:38,  8.00it/s]"
     ]
    },
    {
     "name": "stdout",
     "output_type": "stream",
     "text": [
      "✓ 4_png.rf.18386521df09499723454f07de38d60e.jpg: Found 2 objects\n",
      "\n",
      "0: 640x640 3 messs, 28.6ms\n",
      "Speed: 3.8ms preprocess, 28.6ms inference, 2.2ms postprocess per image at shape (1, 3, 640, 640)\n"
     ]
    },
    {
     "name": "stderr",
     "output_type": "stream",
     "text": [
      "Processing images:  46%|████▌     | 266/576 [00:36<00:42,  7.34it/s]"
     ]
    },
    {
     "name": "stdout",
     "output_type": "stream",
     "text": [
      "✓ 4_png.rf.1e4569ba4177e6c02c5737b561469e08.jpg: Found 3 objects\n",
      "\n",
      "0: 640x640 2 messs, 28.6ms\n",
      "Speed: 4.5ms preprocess, 28.6ms inference, 2.0ms postprocess per image at shape (1, 3, 640, 640)\n"
     ]
    },
    {
     "name": "stderr",
     "output_type": "stream",
     "text": [
      "Processing images:  46%|████▋     | 267/576 [00:36<00:44,  6.94it/s]"
     ]
    },
    {
     "name": "stdout",
     "output_type": "stream",
     "text": [
      "✓ 4_png.rf.274f45ba4ba82992125410d0afd91f3f.jpg: Found 2 objects\n",
      "\n",
      "0: 640x640 1 mess, 28.6ms\n",
      "Speed: 3.0ms preprocess, 28.6ms inference, 1.9ms postprocess per image at shape (1, 3, 640, 640)\n"
     ]
    },
    {
     "name": "stderr",
     "output_type": "stream",
     "text": [
      "Processing images:  47%|████▋     | 268/576 [00:36<00:42,  7.18it/s]"
     ]
    },
    {
     "name": "stdout",
     "output_type": "stream",
     "text": [
      "✓ 4_png.rf.2c62e119e81d1e8bf6ade4ebd74a0180.jpg: Found 1 objects\n",
      "\n",
      "0: 640x640 2 messs, 28.6ms\n",
      "Speed: 3.2ms preprocess, 28.6ms inference, 1.9ms postprocess per image at shape (1, 3, 640, 640)\n"
     ]
    },
    {
     "name": "stderr",
     "output_type": "stream",
     "text": [
      "Processing images:  47%|████▋     | 269/576 [00:37<00:41,  7.35it/s]"
     ]
    },
    {
     "name": "stdout",
     "output_type": "stream",
     "text": [
      "✓ 4_png.rf.61373fe3f176344cb7720c9498c58c27.jpg: Found 2 objects\n",
      "\n",
      "0: 640x640 3 messs, 29.1ms\n",
      "Speed: 3.4ms preprocess, 29.1ms inference, 2.7ms postprocess per image at shape (1, 3, 640, 640)\n"
     ]
    },
    {
     "name": "stderr",
     "output_type": "stream",
     "text": [
      "Processing images:  47%|████▋     | 270/576 [00:37<00:44,  6.82it/s]"
     ]
    },
    {
     "name": "stdout",
     "output_type": "stream",
     "text": [
      "✓ 4_png.rf.91f13f9581ee6215f1db32071b7db3f3.jpg: Found 3 objects\n",
      "\n",
      "0: 640x640 1 mess, 28.7ms\n",
      "Speed: 4.3ms preprocess, 28.7ms inference, 2.0ms postprocess per image at shape (1, 3, 640, 640)\n"
     ]
    },
    {
     "name": "stderr",
     "output_type": "stream",
     "text": [
      "Processing images:  47%|████▋     | 271/576 [00:37<00:44,  6.91it/s]"
     ]
    },
    {
     "name": "stdout",
     "output_type": "stream",
     "text": [
      "✓ 50_png.rf.0b871a0d6fd786b0f76aa3746d8549ef.jpg: Found 1 objects\n",
      "\n",
      "0: 640x640 1 mess, 28.6ms\n",
      "Speed: 3.3ms preprocess, 28.6ms inference, 1.9ms postprocess per image at shape (1, 3, 640, 640)\n"
     ]
    },
    {
     "name": "stderr",
     "output_type": "stream",
     "text": [
      "Processing images:  47%|████▋     | 272/576 [00:37<00:43,  6.96it/s]"
     ]
    },
    {
     "name": "stdout",
     "output_type": "stream",
     "text": [
      "✓ 50_png.rf.1fae9ec65baede4f1795f47737e9d815.jpg: Found 1 objects\n",
      "\n",
      "0: 640x640 1 mess, 28.6ms\n",
      "Speed: 3.5ms preprocess, 28.6ms inference, 1.9ms postprocess per image at shape (1, 3, 640, 640)\n"
     ]
    },
    {
     "name": "stderr",
     "output_type": "stream",
     "text": [
      "Processing images:  47%|████▋     | 273/576 [00:37<00:42,  7.05it/s]"
     ]
    },
    {
     "name": "stdout",
     "output_type": "stream",
     "text": [
      "✓ 50_png.rf.8c288217627cdb0c007a3cee4920a961.jpg: Found 1 objects\n",
      "\n",
      "0: 640x640 2 messs, 28.8ms\n",
      "Speed: 3.7ms preprocess, 28.8ms inference, 2.1ms postprocess per image at shape (1, 3, 640, 640)\n"
     ]
    },
    {
     "name": "stderr",
     "output_type": "stream",
     "text": [
      "Processing images:  48%|████▊     | 274/576 [00:37<00:43,  6.96it/s]"
     ]
    },
    {
     "name": "stdout",
     "output_type": "stream",
     "text": [
      "✓ 50_png.rf.8ca9774a48c6eecbfa3614ca5b0ce029.jpg: Found 2 objects\n",
      "\n",
      "0: 640x640 1 mess, 28.6ms\n",
      "Speed: 3.3ms preprocess, 28.6ms inference, 2.0ms postprocess per image at shape (1, 3, 640, 640)\n"
     ]
    },
    {
     "name": "stderr",
     "output_type": "stream",
     "text": [
      "Processing images:  48%|████▊     | 275/576 [00:37<00:43,  6.94it/s]"
     ]
    },
    {
     "name": "stdout",
     "output_type": "stream",
     "text": [
      "✓ 50_png.rf.b79546bcabf298f3e42149bf1c70c5dc.jpg: Found 1 objects\n",
      "\n",
      "0: 640x640 1 mess, 28.6ms\n",
      "Speed: 3.5ms preprocess, 28.6ms inference, 2.0ms postprocess per image at shape (1, 3, 640, 640)\n"
     ]
    },
    {
     "name": "stderr",
     "output_type": "stream",
     "text": [
      "Processing images:  48%|████▊     | 276/576 [00:38<00:43,  6.90it/s]"
     ]
    },
    {
     "name": "stdout",
     "output_type": "stream",
     "text": [
      "✓ 50_png.rf.d5706b62f6972130e80bcfb700f9a329.jpg: Found 1 objects\n",
      "\n",
      "0: 640x640 3 messs, 28.6ms\n",
      "Speed: 3.4ms preprocess, 28.6ms inference, 2.0ms postprocess per image at shape (1, 3, 640, 640)\n"
     ]
    },
    {
     "name": "stderr",
     "output_type": "stream",
     "text": [
      "Processing images:  48%|████▊     | 277/576 [00:38<00:43,  6.82it/s]"
     ]
    },
    {
     "name": "stdout",
     "output_type": "stream",
     "text": [
      "✓ 51_png.rf.2921cabcc01da596383e0a42faabc6ff.jpg: Found 3 objects\n",
      "\n",
      "0: 640x640 3 messs, 28.6ms\n",
      "Speed: 4.1ms preprocess, 28.6ms inference, 2.3ms postprocess per image at shape (1, 3, 640, 640)\n"
     ]
    },
    {
     "name": "stderr",
     "output_type": "stream",
     "text": [
      "Processing images:  48%|████▊     | 278/576 [00:38<00:44,  6.71it/s]"
     ]
    },
    {
     "name": "stdout",
     "output_type": "stream",
     "text": [
      "✓ 51_png.rf.37ffd49c185382361f248d1bb1cd81b4.jpg: Found 3 objects\n",
      "\n",
      "0: 640x640 1 mess, 28.6ms\n",
      "Speed: 5.5ms preprocess, 28.6ms inference, 2.0ms postprocess per image at shape (1, 3, 640, 640)\n"
     ]
    },
    {
     "name": "stderr",
     "output_type": "stream",
     "text": [
      "Processing images:  48%|████▊     | 279/576 [00:38<00:43,  6.76it/s]"
     ]
    },
    {
     "name": "stdout",
     "output_type": "stream",
     "text": [
      "✓ 51_png.rf.506f2ecb974917434919eca0df0536a2.jpg: Found 1 objects\n",
      "\n",
      "0: 640x640 1 mess, 28.6ms\n",
      "Speed: 3.3ms preprocess, 28.6ms inference, 1.9ms postprocess per image at shape (1, 3, 640, 640)\n"
     ]
    },
    {
     "name": "stderr",
     "output_type": "stream",
     "text": [
      "Processing images:  49%|████▊     | 280/576 [00:38<00:44,  6.72it/s]"
     ]
    },
    {
     "name": "stdout",
     "output_type": "stream",
     "text": [
      "✓ 51_png.rf.cbdb3884974f310f783f9f156c8ed4fd.jpg: Found 1 objects\n",
      "\n",
      "0: 640x640 1 mess, 28.6ms\n",
      "Speed: 3.6ms preprocess, 28.6ms inference, 2.0ms postprocess per image at shape (1, 3, 640, 640)\n"
     ]
    },
    {
     "name": "stderr",
     "output_type": "stream",
     "text": [
      "Processing images:  49%|████▉     | 281/576 [00:38<00:43,  6.75it/s]"
     ]
    },
    {
     "name": "stdout",
     "output_type": "stream",
     "text": [
      "✓ 51_png.rf.f2d8613eedec951053a27c5f43c2425c.jpg: Found 1 objects\n",
      "\n",
      "0: 640x640 1 mess, 28.6ms\n",
      "Speed: 3.3ms preprocess, 28.6ms inference, 2.1ms postprocess per image at shape (1, 3, 640, 640)\n"
     ]
    },
    {
     "name": "stderr",
     "output_type": "stream",
     "text": [
      "Processing images:  49%|████▉     | 282/576 [00:38<00:42,  6.84it/s]"
     ]
    },
    {
     "name": "stdout",
     "output_type": "stream",
     "text": [
      "✓ 51_png.rf.f68a81bbc802ddbecac8ab0519ced7de.jpg: Found 1 objects\n",
      "\n",
      "0: 640x640 1 mess, 28.6ms\n",
      "Speed: 3.4ms preprocess, 28.6ms inference, 2.0ms postprocess per image at shape (1, 3, 640, 640)\n"
     ]
    },
    {
     "name": "stderr",
     "output_type": "stream",
     "text": [
      "Processing images:  49%|████▉     | 283/576 [00:39<00:41,  7.00it/s]"
     ]
    },
    {
     "name": "stdout",
     "output_type": "stream",
     "text": [
      "✓ 52_png.rf.258365b8c8ecdf43e0936f755ac73304.jpg: Found 1 objects\n",
      "\n",
      "0: 640x640 2 messs, 28.6ms\n",
      "Speed: 4.5ms preprocess, 28.6ms inference, 1.9ms postprocess per image at shape (1, 3, 640, 640)\n"
     ]
    },
    {
     "name": "stderr",
     "output_type": "stream",
     "text": [
      "Processing images:  49%|████▉     | 284/576 [00:39<00:44,  6.52it/s]"
     ]
    },
    {
     "name": "stdout",
     "output_type": "stream",
     "text": [
      "✓ 52_png.rf.2f54f5d49cc515e2a6c5d49670c78284.jpg: Found 2 objects\n",
      "\n",
      "0: 640x640 1 mess, 28.6ms\n",
      "Speed: 3.5ms preprocess, 28.6ms inference, 1.9ms postprocess per image at shape (1, 3, 640, 640)\n"
     ]
    },
    {
     "name": "stderr",
     "output_type": "stream",
     "text": [
      "Processing images:  49%|████▉     | 285/576 [00:39<00:43,  6.76it/s]"
     ]
    },
    {
     "name": "stdout",
     "output_type": "stream",
     "text": [
      "✓ 52_png.rf.7501bd0fa835bef3b88b394019f34840.jpg: Found 1 objects\n",
      "\n",
      "0: 640x640 1 mess, 28.7ms\n",
      "Speed: 3.7ms preprocess, 28.7ms inference, 2.2ms postprocess per image at shape (1, 3, 640, 640)\n"
     ]
    },
    {
     "name": "stderr",
     "output_type": "stream",
     "text": [
      "Processing images:  50%|████▉     | 286/576 [00:39<00:41,  6.91it/s]"
     ]
    },
    {
     "name": "stdout",
     "output_type": "stream",
     "text": [
      "✓ 52_png.rf.773c554c99314c4a9dfe3612ecd78a1d.jpg: Found 1 objects\n",
      "\n",
      "0: 640x640 2 messs, 28.6ms\n",
      "Speed: 3.9ms preprocess, 28.6ms inference, 2.0ms postprocess per image at shape (1, 3, 640, 640)\n"
     ]
    },
    {
     "name": "stderr",
     "output_type": "stream",
     "text": [
      "Processing images:  50%|████▉     | 287/576 [00:39<00:44,  6.48it/s]"
     ]
    },
    {
     "name": "stdout",
     "output_type": "stream",
     "text": [
      "✓ 52_png.rf.d2a843bc38cbe742c47f811f57c935bb.jpg: Found 2 objects\n",
      "\n",
      "0: 640x640 3 messs, 28.5ms\n",
      "Speed: 3.3ms preprocess, 28.5ms inference, 2.0ms postprocess per image at shape (1, 3, 640, 640)\n"
     ]
    },
    {
     "name": "stderr",
     "output_type": "stream",
     "text": [
      "Processing images:  50%|█████     | 288/576 [00:39<00:46,  6.24it/s]"
     ]
    },
    {
     "name": "stdout",
     "output_type": "stream",
     "text": [
      "✓ 52_png.rf.dc1c0fcbfd0f7370f16cc4fdbb1aa3e1.jpg: Found 3 objects\n",
      "\n",
      "0: 640x640 (no detections), 28.7ms\n",
      "Speed: 4.3ms preprocess, 28.7ms inference, 0.9ms postprocess per image at shape (1, 3, 640, 640)\n",
      "✗ 53_png.rf.512b2091165c632f0a9481cb0721ef9d.jpg: No objects detected\n",
      "\n",
      "0: 640x640 3 messs, 28.6ms\n",
      "Speed: 3.4ms preprocess, 28.6ms inference, 1.8ms postprocess per image at shape (1, 3, 640, 640)\n",
      "✓ 53_png.rf.8102ca764626e08ecb789fcf69adcb23.jpg: Found 3 objects"
     ]
    },
    {
     "name": "stderr",
     "output_type": "stream",
     "text": [
      "Processing images:  50%|█████     | 290/576 [00:40<00:37,  7.54it/s]"
     ]
    },
    {
     "name": "stdout",
     "output_type": "stream",
     "text": [
      "\n",
      "\n",
      "0: 640x640 2 messs, 28.6ms\n",
      "Speed: 3.1ms preprocess, 28.6ms inference, 2.2ms postprocess per image at shape (1, 3, 640, 640)\n"
     ]
    },
    {
     "name": "stderr",
     "output_type": "stream",
     "text": [
      "Processing images:  51%|█████     | 291/576 [00:40<00:39,  7.18it/s]"
     ]
    },
    {
     "name": "stdout",
     "output_type": "stream",
     "text": [
      "✓ 53_png.rf.9530493e8648209ac29a10727a2f7d02.jpg: Found 2 objects\n",
      "\n",
      "0: 640x640 (no detections), 28.6ms\n",
      "Speed: 3.7ms preprocess, 28.6ms inference, 1.0ms postprocess per image at shape (1, 3, 640, 640)\n",
      "✗ 53_png.rf.9971c4939617ec5c015c994249b3c106.jpg: No objects detected\n",
      "\n",
      "0: 640x640 (no detections), 28.6ms\n",
      "Speed: 3.6ms preprocess, 28.6ms inference, 0.8ms postprocess per image at shape (1, 3, 640, 640)\n",
      "✗ 53_png.rf.ae516994c6a398b515e2536541f94296.jpg: No objects detected\n",
      "\n",
      "0: 640x640 1 mess, 28.6ms\n",
      "Speed: 3.6ms preprocess, 28.6ms inference, 1.8ms postprocess per image at shape (1, 3, 640, 640)\n"
     ]
    },
    {
     "name": "stderr",
     "output_type": "stream",
     "text": [
      "Processing images:  51%|█████     | 294/576 [00:40<00:31,  9.02it/s]"
     ]
    },
    {
     "name": "stdout",
     "output_type": "stream",
     "text": [
      "✓ 53_png.rf.fb8ee076706bd3b3f224e5812434115e.jpg: Found 1 objects\n",
      "\n",
      "0: 640x640 1 mess, 28.7ms\n",
      "Speed: 3.5ms preprocess, 28.7ms inference, 1.9ms postprocess per image at shape (1, 3, 640, 640)\n"
     ]
    },
    {
     "name": "stderr",
     "output_type": "stream",
     "text": [
      "Processing images:  51%|█████     | 295/576 [00:40<00:33,  8.37it/s]"
     ]
    },
    {
     "name": "stdout",
     "output_type": "stream",
     "text": [
      "✓ 54_png.rf.15cafa641b024041dbce709cd2d0ec77.jpg: Found 1 objects\n",
      "\n",
      "0: 640x640 1 mess, 28.6ms\n",
      "Speed: 3.9ms preprocess, 28.6ms inference, 1.9ms postprocess per image at shape (1, 3, 640, 640)\n"
     ]
    },
    {
     "name": "stderr",
     "output_type": "stream",
     "text": [
      "Processing images:  51%|█████▏    | 296/576 [00:40<00:35,  7.91it/s]"
     ]
    },
    {
     "name": "stdout",
     "output_type": "stream",
     "text": [
      "✓ 54_png.rf.2e46a44ed48201ca10585f71433ad558.jpg: Found 1 objects\n",
      "\n",
      "0: 640x640 3 messs, 28.6ms\n",
      "Speed: 3.8ms preprocess, 28.6ms inference, 1.9ms postprocess per image at shape (1, 3, 640, 640)\n"
     ]
    },
    {
     "name": "stderr",
     "output_type": "stream",
     "text": [
      "Processing images:  52%|█████▏    | 297/576 [00:40<00:36,  7.55it/s]"
     ]
    },
    {
     "name": "stdout",
     "output_type": "stream",
     "text": [
      "✓ 54_png.rf.489fa51c3bf9eafa53fbdf87ea94c8b6.jpg: Found 3 objects\n",
      "\n",
      "0: 640x640 (no detections), 28.5ms\n",
      "Speed: 3.6ms preprocess, 28.5ms inference, 1.0ms postprocess per image at shape (1, 3, 640, 640)\n",
      "✗ 54_png.rf.76d3782019905987e39bd6f62656ccdf.jpg: No objects detected\n",
      "\n",
      "0: 640x640 2 messs, 28.6ms\n",
      "Speed: 3.3ms preprocess, 28.6ms inference, 1.8ms postprocess per image at shape (1, 3, 640, 640)\n"
     ]
    },
    {
     "name": "stderr",
     "output_type": "stream",
     "text": [
      "Processing images:  52%|█████▏    | 299/576 [00:41<00:32,  8.50it/s]"
     ]
    },
    {
     "name": "stdout",
     "output_type": "stream",
     "text": [
      "✓ 54_png.rf.a619121643ff7b0adc73a1a3c3de008a.jpg: Found 2 objects\n",
      "\n",
      "0: 640x640 2 messs, 28.5ms\n",
      "Speed: 3.4ms preprocess, 28.5ms inference, 2.0ms postprocess per image at shape (1, 3, 640, 640)\n"
     ]
    },
    {
     "name": "stderr",
     "output_type": "stream",
     "text": [
      "Processing images:  52%|█████▏    | 300/576 [00:41<00:34,  7.95it/s]"
     ]
    },
    {
     "name": "stdout",
     "output_type": "stream",
     "text": [
      "✓ 54_png.rf.ccf6d763b25eebf51d10a74c19cdfbfa.jpg: Found 2 objects\n",
      "\n",
      "0: 640x640 4 messs, 28.6ms\n",
      "Speed: 3.5ms preprocess, 28.6ms inference, 2.0ms postprocess per image at shape (1, 3, 640, 640)\n"
     ]
    },
    {
     "name": "stderr",
     "output_type": "stream",
     "text": [
      "Processing images:  52%|█████▏    | 301/576 [00:41<00:37,  7.35it/s]"
     ]
    },
    {
     "name": "stdout",
     "output_type": "stream",
     "text": [
      "✓ 55_png.rf.72a06c8460b2e0df267616a397aab6b1.jpg: Found 4 objects\n",
      "\n",
      "0: 640x640 1 mess, 28.6ms\n",
      "Speed: 3.6ms preprocess, 28.6ms inference, 1.8ms postprocess per image at shape (1, 3, 640, 640)\n"
     ]
    },
    {
     "name": "stderr",
     "output_type": "stream",
     "text": [
      "Processing images:  52%|█████▏    | 302/576 [00:41<00:36,  7.41it/s]"
     ]
    },
    {
     "name": "stdout",
     "output_type": "stream",
     "text": [
      "✓ 55_png.rf.98a097a6c8b2712bffbe1740e43cda6c.jpg: Found 1 objects\n",
      "\n",
      "0: 640x640 5 messs, 28.6ms\n",
      "Speed: 3.5ms preprocess, 28.6ms inference, 2.0ms postprocess per image at shape (1, 3, 640, 640)\n"
     ]
    },
    {
     "name": "stderr",
     "output_type": "stream",
     "text": [
      "Processing images:  53%|█████▎    | 303/576 [00:41<00:39,  6.94it/s]"
     ]
    },
    {
     "name": "stdout",
     "output_type": "stream",
     "text": [
      "✓ 55_png.rf.a9509a41443130554706bd47cbdccd87.jpg: Found 5 objects\n",
      "\n",
      "0: 640x640 2 messs, 28.6ms\n",
      "Speed: 3.5ms preprocess, 28.6ms inference, 2.0ms postprocess per image at shape (1, 3, 640, 640)\n"
     ]
    },
    {
     "name": "stderr",
     "output_type": "stream",
     "text": [
      "Processing images:  53%|█████▎    | 304/576 [00:41<00:38,  7.06it/s]"
     ]
    },
    {
     "name": "stdout",
     "output_type": "stream",
     "text": [
      "✓ 55_png.rf.d523bf0c0356628545a7b727cfc662db.jpg: Found 2 objects\n",
      "\n",
      "0: 640x640 4 messs, 28.6ms\n",
      "Speed: 3.2ms preprocess, 28.6ms inference, 1.9ms postprocess per image at shape (1, 3, 640, 640)\n"
     ]
    },
    {
     "name": "stderr",
     "output_type": "stream",
     "text": [
      "Processing images:  53%|█████▎    | 305/576 [00:42<00:40,  6.72it/s]"
     ]
    },
    {
     "name": "stdout",
     "output_type": "stream",
     "text": [
      "✓ 55_png.rf.e9721a7be9722b35e32e611dd7166ada.jpg: Found 4 objects\n",
      "\n",
      "0: 640x640 1 mess, 28.6ms\n",
      "Speed: 3.6ms preprocess, 28.6ms inference, 2.0ms postprocess per image at shape (1, 3, 640, 640)\n"
     ]
    },
    {
     "name": "stderr",
     "output_type": "stream",
     "text": [
      "Processing images:  53%|█████▎    | 306/576 [00:42<00:39,  6.92it/s]"
     ]
    },
    {
     "name": "stdout",
     "output_type": "stream",
     "text": [
      "✓ 55_png.rf.ffa4f9283adb9e3e593aacaf977d3e18.jpg: Found 1 objects\n",
      "\n",
      "0: 640x640 1 mess, 28.6ms\n",
      "Speed: 3.6ms preprocess, 28.6ms inference, 1.9ms postprocess per image at shape (1, 3, 640, 640)\n"
     ]
    },
    {
     "name": "stderr",
     "output_type": "stream",
     "text": [
      "Processing images:  53%|█████▎    | 307/576 [00:42<00:39,  6.84it/s]"
     ]
    },
    {
     "name": "stdout",
     "output_type": "stream",
     "text": [
      "✓ 56_png.rf.52de799365210d3bc88b3d400f65a971.jpg: Found 1 objects\n",
      "\n",
      "0: 640x640 1 mess, 28.9ms\n",
      "Speed: 3.7ms preprocess, 28.9ms inference, 2.0ms postprocess per image at shape (1, 3, 640, 640)\n"
     ]
    },
    {
     "name": "stderr",
     "output_type": "stream",
     "text": [
      "Processing images:  53%|█████▎    | 308/576 [00:42<00:39,  6.77it/s]"
     ]
    },
    {
     "name": "stdout",
     "output_type": "stream",
     "text": [
      "✓ 56_png.rf.5b0744d85858da3d8eaee7d7595d4926.jpg: Found 1 objects\n",
      "\n",
      "0: 640x640 2 messs, 28.6ms\n",
      "Speed: 4.0ms preprocess, 28.6ms inference, 2.1ms postprocess per image at shape (1, 3, 640, 640)\n"
     ]
    },
    {
     "name": "stderr",
     "output_type": "stream",
     "text": [
      "Processing images:  54%|█████▎    | 309/576 [00:42<00:39,  6.75it/s]"
     ]
    },
    {
     "name": "stdout",
     "output_type": "stream",
     "text": [
      "✓ 56_png.rf.718f50e4c2e77e09c08970497c8b9e75.jpg: Found 2 objects\n",
      "\n",
      "0: 640x640 1 mess, 28.6ms\n",
      "Speed: 3.0ms preprocess, 28.6ms inference, 2.2ms postprocess per image at shape (1, 3, 640, 640)\n"
     ]
    },
    {
     "name": "stderr",
     "output_type": "stream",
     "text": [
      "Processing images:  54%|█████▍    | 310/576 [00:42<00:39,  6.75it/s]"
     ]
    },
    {
     "name": "stdout",
     "output_type": "stream",
     "text": [
      "✓ 56_png.rf.73bff7114688607ce9c541c741cbf565.jpg: Found 1 objects\n",
      "\n",
      "0: 640x640 2 messs, 28.7ms\n",
      "Speed: 3.5ms preprocess, 28.7ms inference, 2.1ms postprocess per image at shape (1, 3, 640, 640)\n"
     ]
    },
    {
     "name": "stderr",
     "output_type": "stream",
     "text": [
      "Processing images:  54%|█████▍    | 311/576 [00:42<00:39,  6.75it/s]"
     ]
    },
    {
     "name": "stdout",
     "output_type": "stream",
     "text": [
      "✓ 56_png.rf.bf87d84d4fda5b24455031d1b85c29fa.jpg: Found 2 objects\n",
      "\n",
      "0: 640x640 1 mess, 28.6ms\n",
      "Speed: 3.5ms preprocess, 28.6ms inference, 1.9ms postprocess per image at shape (1, 3, 640, 640)\n"
     ]
    },
    {
     "name": "stderr",
     "output_type": "stream",
     "text": [
      "Processing images:  54%|█████▍    | 312/576 [00:43<00:39,  6.70it/s]"
     ]
    },
    {
     "name": "stdout",
     "output_type": "stream",
     "text": [
      "✓ 56_png.rf.d519d6d0ddff4aa41e8a04b645929fad.jpg: Found 1 objects\n",
      "\n",
      "0: 640x640 9 messs, 28.6ms\n",
      "Speed: 3.3ms preprocess, 28.6ms inference, 2.1ms postprocess per image at shape (1, 3, 640, 640)\n"
     ]
    },
    {
     "name": "stderr",
     "output_type": "stream",
     "text": [
      "Processing images:  54%|█████▍    | 313/576 [00:43<00:40,  6.54it/s]"
     ]
    },
    {
     "name": "stdout",
     "output_type": "stream",
     "text": [
      "✓ 57_png.rf.45ee9811ee326ee30b67b7ce1607dc03.jpg: Found 9 objects\n",
      "\n",
      "0: 640x640 2 messs, 28.5ms\n",
      "Speed: 6.4ms preprocess, 28.5ms inference, 1.8ms postprocess per image at shape (1, 3, 640, 640)\n"
     ]
    },
    {
     "name": "stderr",
     "output_type": "stream",
     "text": [
      "Processing images:  55%|█████▍    | 314/576 [00:43<00:40,  6.43it/s]"
     ]
    },
    {
     "name": "stdout",
     "output_type": "stream",
     "text": [
      "✓ 57_png.rf.5ce4b5228865ae9ad1f5cf564499b019.jpg: Found 2 objects\n",
      "\n",
      "0: 640x640 1 mess, 28.6ms\n",
      "Speed: 3.4ms preprocess, 28.6ms inference, 2.0ms postprocess per image at shape (1, 3, 640, 640)\n"
     ]
    },
    {
     "name": "stderr",
     "output_type": "stream",
     "text": [
      "Processing images:  55%|█████▍    | 315/576 [00:43<00:40,  6.37it/s]"
     ]
    },
    {
     "name": "stdout",
     "output_type": "stream",
     "text": [
      "✓ 57_png.rf.97a64d60a55478e74a9c4379172f1127.jpg: Found 1 objects\n",
      "\n",
      "0: 640x640 1 mess, 29.6ms\n",
      "Speed: 3.4ms preprocess, 29.6ms inference, 2.0ms postprocess per image at shape (1, 3, 640, 640)\n"
     ]
    },
    {
     "name": "stderr",
     "output_type": "stream",
     "text": [
      "Processing images:  55%|█████▍    | 316/576 [00:43<00:41,  6.28it/s]"
     ]
    },
    {
     "name": "stdout",
     "output_type": "stream",
     "text": [
      "✓ 57_png.rf.9d2191d57539ae6de06f106397e16d67.jpg: Found 1 objects\n",
      "\n",
      "0: 640x640 7 messs, 28.6ms\n",
      "Speed: 3.7ms preprocess, 28.6ms inference, 2.1ms postprocess per image at shape (1, 3, 640, 640)\n"
     ]
    },
    {
     "name": "stderr",
     "output_type": "stream",
     "text": [
      "Processing images:  55%|█████▌    | 317/576 [00:43<00:41,  6.21it/s]"
     ]
    },
    {
     "name": "stdout",
     "output_type": "stream",
     "text": [
      "✓ 57_png.rf.bcbb6d1f6c7d23b6057189d0a8645f48.jpg: Found 7 objects\n",
      "\n",
      "0: 640x640 7 messs, 28.5ms\n",
      "Speed: 3.6ms preprocess, 28.5ms inference, 2.0ms postprocess per image at shape (1, 3, 640, 640)\n"
     ]
    },
    {
     "name": "stderr",
     "output_type": "stream",
     "text": [
      "Processing images:  55%|█████▌    | 318/576 [00:44<00:41,  6.16it/s]"
     ]
    },
    {
     "name": "stdout",
     "output_type": "stream",
     "text": [
      "✓ 57_png.rf.e3cc3120f6498c576a89d4270485afd0.jpg: Found 7 objects\n",
      "\n",
      "0: 640x640 (no detections), 28.5ms\n",
      "Speed: 3.6ms preprocess, 28.5ms inference, 0.9ms postprocess per image at shape (1, 3, 640, 640)\n",
      "✗ 58_png.rf.43a9acb87ed5246dc57810703616faac.jpg: No objects detected\n",
      "\n",
      "0: 640x640 (no detections), 28.7ms\n",
      "Speed: 3.6ms preprocess, 28.7ms inference, 0.9ms postprocess per image at shape (1, 3, 640, 640)\n",
      "✗ 58_png.rf.46dc6e639c3f67d1e18367bc42b52cfa.jpg: No objects detected\n",
      "\n",
      "0: 640x640 1 mess, 28.6ms\n",
      "Speed: 4.1ms preprocess, 28.6ms inference, 2.1ms postprocess per image at shape (1, 3, 640, 640)\n"
     ]
    },
    {
     "name": "stderr",
     "output_type": "stream",
     "text": [
      "Processing images:  56%|█████▌    | 321/576 [00:44<00:30,  8.39it/s]"
     ]
    },
    {
     "name": "stdout",
     "output_type": "stream",
     "text": [
      "✓ 58_png.rf.4b97aa1030e4f4376ca476c03f257511.jpg: Found 1 objects\n",
      "\n",
      "0: 640x640 (no detections), 28.7ms\n",
      "Speed: 3.9ms preprocess, 28.7ms inference, 0.9ms postprocess per image at shape (1, 3, 640, 640)\n",
      "✗ 58_png.rf.a3625d5d24d54c21c5b99f0df0b0a84d.jpg: No objects detected\n",
      "\n",
      "0: 640x640 (no detections), 28.5ms\n",
      "Speed: 3.6ms preprocess, 28.5ms inference, 0.9ms postprocess per image at shape (1, 3, 640, 640)\n",
      "✗ 58_png.rf.df7778fcc7936d2a2ab058dc71f41e23.jpg: No objects detected\n",
      "\n",
      "0: 640x640 1 mess, 28.5ms\n",
      "Speed: 3.3ms preprocess, 28.5ms inference, 1.9ms postprocess per image at shape (1, 3, 640, 640)\n"
     ]
    },
    {
     "name": "stderr",
     "output_type": "stream",
     "text": [
      "Processing images:  56%|█████▋    | 324/576 [00:44<00:26,  9.56it/s]"
     ]
    },
    {
     "name": "stdout",
     "output_type": "stream",
     "text": [
      "✓ 58_png.rf.e48ec6150b45198faf84bbbd82cf6bd6.jpg: Found 1 objects\n",
      "\n",
      "0: 640x640 1 mess, 24.7ms\n",
      "Speed: 3.2ms preprocess, 24.7ms inference, 1.9ms postprocess per image at shape (1, 3, 640, 640)\n"
     ]
    },
    {
     "name": "stderr",
     "output_type": "stream",
     "text": [
      "Processing images:  56%|█████▋    | 325/576 [00:44<00:27,  9.26it/s]"
     ]
    },
    {
     "name": "stdout",
     "output_type": "stream",
     "text": [
      "✓ 59_png.rf.042fcb4baa2c180f26fd110e4344c511.jpg: Found 1 objects\n",
      "\n",
      "0: 640x640 4 messs, 25.0ms\n",
      "Speed: 3.3ms preprocess, 25.0ms inference, 2.1ms postprocess per image at shape (1, 3, 640, 640)\n"
     ]
    },
    {
     "name": "stderr",
     "output_type": "stream",
     "text": [
      "Processing images:  57%|█████▋    | 326/576 [00:44<00:30,  8.11it/s]"
     ]
    },
    {
     "name": "stdout",
     "output_type": "stream",
     "text": [
      "✓ 59_png.rf.1a8726d7e0e2c905c546dbce315f96fc.jpg: Found 4 objects\n",
      "\n",
      "0: 640x640 3 messs, 24.8ms\n",
      "Speed: 3.4ms preprocess, 24.8ms inference, 1.9ms postprocess per image at shape (1, 3, 640, 640)\n",
      "✓ 59_png.rf.339777f2b621333814d7dbb5b7f49fc8.jpg: Found 3 objects"
     ]
    },
    {
     "name": "stderr",
     "output_type": "stream",
     "text": [
      "Processing images:  57%|█████▋    | 327/576 [00:45<00:33,  7.33it/s]"
     ]
    },
    {
     "name": "stdout",
     "output_type": "stream",
     "text": [
      "\n",
      "\n",
      "0: 640x640 1 mess, 25.2ms\n",
      "Speed: 3.8ms preprocess, 25.2ms inference, 2.0ms postprocess per image at shape (1, 3, 640, 640)\n"
     ]
    },
    {
     "name": "stderr",
     "output_type": "stream",
     "text": [
      "Processing images:  57%|█████▋    | 328/576 [00:45<00:33,  7.43it/s]"
     ]
    },
    {
     "name": "stdout",
     "output_type": "stream",
     "text": [
      "✓ 59_png.rf.40239881ce8cb90e57a9bdccf0ef3219.jpg: Found 1 objects\n",
      "\n",
      "0: 640x640 3 messs, 24.7ms\n",
      "Speed: 3.8ms preprocess, 24.7ms inference, 2.5ms postprocess per image at shape (1, 3, 640, 640)\n",
      "✓ 59_png.rf.c0f97b6f16acadc78c7ba2907fb8d723.jpg: Found 3 objects"
     ]
    },
    {
     "name": "stderr",
     "output_type": "stream",
     "text": [
      "Processing images:  57%|█████▋    | 329/576 [00:45<00:36,  6.77it/s]"
     ]
    },
    {
     "name": "stdout",
     "output_type": "stream",
     "text": [
      "\n",
      "\n",
      "0: 640x640 1 mess, 24.7ms\n",
      "Speed: 3.3ms preprocess, 24.7ms inference, 1.9ms postprocess per image at shape (1, 3, 640, 640)\n"
     ]
    },
    {
     "name": "stderr",
     "output_type": "stream",
     "text": [
      "Processing images:  57%|█████▋    | 330/576 [00:45<00:34,  7.05it/s]"
     ]
    },
    {
     "name": "stdout",
     "output_type": "stream",
     "text": [
      "✓ 59_png.rf.d67414a2ad07a922437a5bb591bc00fc.jpg: Found 1 objects\n",
      "\n",
      "0: 640x640 (no detections), 25.0ms\n",
      "Speed: 3.5ms preprocess, 25.0ms inference, 0.8ms postprocess per image at shape (1, 3, 640, 640)\n",
      "✗ 5_png.rf.08208f48440f7d0b6dcedba94c96a6b8.jpg: No objects detected\n",
      "\n",
      "0: 640x640 4 messs, 24.7ms\n",
      "Speed: 3.5ms preprocess, 24.7ms inference, 2.3ms postprocess per image at shape (1, 3, 640, 640)\n",
      "✓ 5_png.rf.0c6b59d398f328dcfbcd915db626b6af.jpg: Found 4 objects"
     ]
    },
    {
     "name": "stderr",
     "output_type": "stream",
     "text": [
      "Processing images:  58%|█████▊    | 332/576 [00:45<00:29,  8.14it/s]"
     ]
    },
    {
     "name": "stdout",
     "output_type": "stream",
     "text": [
      "\n",
      "\n",
      "0: 640x640 1 mess, 24.8ms\n",
      "Speed: 3.8ms preprocess, 24.8ms inference, 1.8ms postprocess per image at shape (1, 3, 640, 640)\n"
     ]
    },
    {
     "name": "stderr",
     "output_type": "stream",
     "text": [
      "Processing images:  58%|█████▊    | 333/576 [00:45<00:30,  8.09it/s]"
     ]
    },
    {
     "name": "stdout",
     "output_type": "stream",
     "text": [
      "✓ 5_png.rf.246fe94a597b9fd6964bbb7d25b47d2b.jpg: Found 1 objects\n",
      "\n",
      "0: 640x640 3 messs, 24.8ms\n",
      "Speed: 3.2ms preprocess, 24.8ms inference, 1.9ms postprocess per image at shape (1, 3, 640, 640)\n"
     ]
    },
    {
     "name": "stderr",
     "output_type": "stream",
     "text": [
      "Processing images:  58%|█████▊    | 334/576 [00:46<00:31,  7.58it/s]"
     ]
    },
    {
     "name": "stdout",
     "output_type": "stream",
     "text": [
      "✓ 5_png.rf.94f633703d971a3157c5da00ab13fc9d.jpg: Found 3 objects\n",
      "\n",
      "0: 640x640 (no detections), 24.7ms\n",
      "Speed: 3.5ms preprocess, 24.7ms inference, 0.9ms postprocess per image at shape (1, 3, 640, 640)\n",
      "✗ 5_png.rf.95aca6902bee09d146900a138f111997.jpg: No objects detected\n",
      "\n",
      "0: 640x640 4 messs, 24.7ms\n",
      "Speed: 3.2ms preprocess, 24.7ms inference, 2.1ms postprocess per image at shape (1, 3, 640, 640)\n"
     ]
    },
    {
     "name": "stderr",
     "output_type": "stream",
     "text": [
      "Processing images:  58%|█████▊    | 336/576 [00:46<00:28,  8.45it/s]"
     ]
    },
    {
     "name": "stdout",
     "output_type": "stream",
     "text": [
      "✓ 5_png.rf.e835433bbb7797c0ebb3a879333e0d61.jpg: Found 4 objects\n",
      "\n",
      "0: 640x640 3 messs, 24.8ms\n",
      "Speed: 3.4ms preprocess, 24.8ms inference, 2.1ms postprocess per image at shape (1, 3, 640, 640)\n"
     ]
    },
    {
     "name": "stderr",
     "output_type": "stream",
     "text": [
      "Processing images:  59%|█████▊    | 337/576 [00:46<00:29,  8.07it/s]"
     ]
    },
    {
     "name": "stdout",
     "output_type": "stream",
     "text": [
      "✓ 60_png.rf.17549baa6b4ad62816b1186f4df390d7.jpg: Found 3 objects\n",
      "\n",
      "0: 640x640 3 messs, 28.5ms\n",
      "Speed: 3.3ms preprocess, 28.5ms inference, 1.9ms postprocess per image at shape (1, 3, 640, 640)\n"
     ]
    },
    {
     "name": "stderr",
     "output_type": "stream",
     "text": [
      "Processing images:  59%|█████▊    | 338/576 [00:46<00:31,  7.45it/s]"
     ]
    },
    {
     "name": "stdout",
     "output_type": "stream",
     "text": [
      "✓ 60_png.rf.52106b5ab1eb35c34cafbb9b60b618a4.jpg: Found 3 objects\n",
      "\n",
      "0: 640x640 3 messs, 28.6ms\n",
      "Speed: 3.6ms preprocess, 28.6ms inference, 2.0ms postprocess per image at shape (1, 3, 640, 640)\n"
     ]
    },
    {
     "name": "stderr",
     "output_type": "stream",
     "text": [
      "Processing images:  59%|█████▉    | 339/576 [00:46<00:32,  7.27it/s]"
     ]
    },
    {
     "name": "stdout",
     "output_type": "stream",
     "text": [
      "✓ 60_png.rf.7d11a44021974adb25aed5de35994ac2.jpg: Found 3 objects\n",
      "\n",
      "0: 640x640 3 messs, 28.7ms\n",
      "Speed: 3.6ms preprocess, 28.7ms inference, 2.1ms postprocess per image at shape (1, 3, 640, 640)\n"
     ]
    },
    {
     "name": "stderr",
     "output_type": "stream",
     "text": [
      "Processing images:  59%|█████▉    | 340/576 [00:46<00:33,  7.13it/s]"
     ]
    },
    {
     "name": "stdout",
     "output_type": "stream",
     "text": [
      "✓ 60_png.rf.93857563724a7461041a2a0e545a3737.jpg: Found 3 objects\n",
      "\n",
      "0: 640x640 4 messs, 28.5ms\n",
      "Speed: 3.7ms preprocess, 28.5ms inference, 2.0ms postprocess per image at shape (1, 3, 640, 640)\n"
     ]
    },
    {
     "name": "stderr",
     "output_type": "stream",
     "text": [
      "Processing images:  59%|█████▉    | 341/576 [00:46<00:34,  6.77it/s]"
     ]
    },
    {
     "name": "stdout",
     "output_type": "stream",
     "text": [
      "✓ 60_png.rf.c2b28a5a728e19b2994ceee39d0e8146.jpg: Found 4 objects\n",
      "\n",
      "0: 640x640 5 messs, 28.9ms\n",
      "Speed: 3.6ms preprocess, 28.9ms inference, 1.8ms postprocess per image at shape (1, 3, 640, 640)\n"
     ]
    },
    {
     "name": "stderr",
     "output_type": "stream",
     "text": [
      "Processing images:  59%|█████▉    | 342/576 [00:47<00:35,  6.55it/s]"
     ]
    },
    {
     "name": "stdout",
     "output_type": "stream",
     "text": [
      "✓ 60_png.rf.f4415d7c989d7802a82a0d5ff6374c40.jpg: Found 5 objects\n",
      "\n",
      "0: 640x640 1 mess, 28.6ms\n",
      "Speed: 3.2ms preprocess, 28.6ms inference, 1.9ms postprocess per image at shape (1, 3, 640, 640)\n"
     ]
    },
    {
     "name": "stderr",
     "output_type": "stream",
     "text": [
      "Processing images:  60%|█████▉    | 343/576 [00:47<00:35,  6.53it/s]"
     ]
    },
    {
     "name": "stdout",
     "output_type": "stream",
     "text": [
      "✓ 61_png.rf.2a0514d5bcc6e762cdcd69daa52621df.jpg: Found 1 objects\n",
      "\n",
      "0: 640x640 1 mess, 28.6ms\n",
      "Speed: 3.9ms preprocess, 28.6ms inference, 1.9ms postprocess per image at shape (1, 3, 640, 640)\n"
     ]
    },
    {
     "name": "stderr",
     "output_type": "stream",
     "text": [
      "Processing images:  60%|█████▉    | 344/576 [00:47<00:35,  6.46it/s]"
     ]
    },
    {
     "name": "stdout",
     "output_type": "stream",
     "text": [
      "✓ 61_png.rf.3dc2d13cb11e6bdca4c53459ca48ef04.jpg: Found 1 objects\n",
      "\n",
      "0: 640x640 3 messs, 28.6ms\n",
      "Speed: 3.3ms preprocess, 28.6ms inference, 1.9ms postprocess per image at shape (1, 3, 640, 640)\n"
     ]
    },
    {
     "name": "stderr",
     "output_type": "stream",
     "text": [
      "Processing images:  60%|█████▉    | 345/576 [00:47<00:35,  6.42it/s]"
     ]
    },
    {
     "name": "stdout",
     "output_type": "stream",
     "text": [
      "✓ 61_png.rf.48d5a280fcc30b16711ce8ea40b23644.jpg: Found 3 objects\n",
      "\n",
      "0: 640x640 1 mess, 28.5ms\n",
      "Speed: 3.3ms preprocess, 28.5ms inference, 1.9ms postprocess per image at shape (1, 3, 640, 640)\n"
     ]
    },
    {
     "name": "stderr",
     "output_type": "stream",
     "text": [
      "Processing images:  60%|██████    | 346/576 [00:47<00:34,  6.61it/s]"
     ]
    },
    {
     "name": "stdout",
     "output_type": "stream",
     "text": [
      "✓ 61_png.rf.86495e6dca73ad372221491b9b2c3c48.jpg: Found 1 objects\n",
      "\n",
      "0: 640x640 2 messs, 28.6ms\n",
      "Speed: 3.6ms preprocess, 28.6ms inference, 2.1ms postprocess per image at shape (1, 3, 640, 640)\n"
     ]
    },
    {
     "name": "stderr",
     "output_type": "stream",
     "text": [
      "Processing images:  60%|██████    | 347/576 [00:47<00:34,  6.72it/s]"
     ]
    },
    {
     "name": "stdout",
     "output_type": "stream",
     "text": [
      "✓ 61_png.rf.9923f56d5e3ac265621bf37220bec259.jpg: Found 2 objects\n",
      "\n",
      "0: 640x640 4 messs, 28.5ms\n",
      "Speed: 3.3ms preprocess, 28.5ms inference, 2.1ms postprocess per image at shape (1, 3, 640, 640)\n"
     ]
    },
    {
     "name": "stderr",
     "output_type": "stream",
     "text": [
      "Processing images:  60%|██████    | 348/576 [00:48<00:33,  6.82it/s]"
     ]
    },
    {
     "name": "stdout",
     "output_type": "stream",
     "text": [
      "✓ 61_png.rf.b6cdb5fd738d1da16ce7646557bcc544.jpg: Found 4 objects\n",
      "\n",
      "0: 640x640 2 messs, 28.5ms\n",
      "Speed: 3.5ms preprocess, 28.5ms inference, 1.9ms postprocess per image at shape (1, 3, 640, 640)\n"
     ]
    },
    {
     "name": "stderr",
     "output_type": "stream",
     "text": [
      "Processing images:  61%|██████    | 349/576 [00:48<00:34,  6.67it/s]"
     ]
    },
    {
     "name": "stdout",
     "output_type": "stream",
     "text": [
      "✓ 62_png.rf.1a5cc1e2f430e32ae7e35744cfd66f37.jpg: Found 2 objects\n",
      "\n",
      "0: 640x640 4 messs, 28.5ms\n",
      "Speed: 3.6ms preprocess, 28.5ms inference, 1.9ms postprocess per image at shape (1, 3, 640, 640)\n"
     ]
    },
    {
     "name": "stderr",
     "output_type": "stream",
     "text": [
      "Processing images:  61%|██████    | 350/576 [00:48<00:35,  6.35it/s]"
     ]
    },
    {
     "name": "stdout",
     "output_type": "stream",
     "text": [
      "✓ 62_png.rf.81aa232f08262b1b35b2a179847162e5.jpg: Found 4 objects\n",
      "\n",
      "0: 640x640 2 messs, 28.6ms\n",
      "Speed: 3.5ms preprocess, 28.6ms inference, 1.8ms postprocess per image at shape (1, 3, 640, 640)\n"
     ]
    },
    {
     "name": "stderr",
     "output_type": "stream",
     "text": [
      "Processing images:  61%|██████    | 351/576 [00:48<00:35,  6.33it/s]"
     ]
    },
    {
     "name": "stdout",
     "output_type": "stream",
     "text": [
      "✓ 62_png.rf.c9cce3d8b681e149a3918d7ad817878e.jpg: Found 2 objects\n",
      "\n",
      "0: 640x640 3 messs, 28.6ms\n",
      "Speed: 3.2ms preprocess, 28.6ms inference, 1.9ms postprocess per image at shape (1, 3, 640, 640)\n"
     ]
    },
    {
     "name": "stderr",
     "output_type": "stream",
     "text": [
      "Processing images:  61%|██████    | 352/576 [00:48<00:36,  6.09it/s]"
     ]
    },
    {
     "name": "stdout",
     "output_type": "stream",
     "text": [
      "✓ 62_png.rf.d1170f895f463b58c13f2ff41aac33e1.jpg: Found 3 objects\n",
      "\n",
      "0: 640x640 4 messs, 28.5ms\n",
      "Speed: 4.6ms preprocess, 28.5ms inference, 2.1ms postprocess per image at shape (1, 3, 640, 640)\n"
     ]
    },
    {
     "name": "stderr",
     "output_type": "stream",
     "text": [
      "Processing images:  61%|██████▏   | 353/576 [00:48<00:37,  5.94it/s]"
     ]
    },
    {
     "name": "stdout",
     "output_type": "stream",
     "text": [
      "✓ 62_png.rf.e497dee2805fc0a145821b664d279273.jpg: Found 4 objects\n",
      "\n",
      "0: 640x640 2 messs, 28.6ms\n",
      "Speed: 3.6ms preprocess, 28.6ms inference, 2.2ms postprocess per image at shape (1, 3, 640, 640)\n"
     ]
    },
    {
     "name": "stderr",
     "output_type": "stream",
     "text": [
      "Processing images:  61%|██████▏   | 354/576 [00:49<00:36,  6.01it/s]"
     ]
    },
    {
     "name": "stdout",
     "output_type": "stream",
     "text": [
      "✓ 62_png.rf.eba4bebe9e8092486a480b78cdd79ef3.jpg: Found 2 objects\n",
      "\n",
      "0: 640x640 2 messs, 28.5ms\n",
      "Speed: 4.3ms preprocess, 28.5ms inference, 1.8ms postprocess per image at shape (1, 3, 640, 640)\n"
     ]
    },
    {
     "name": "stderr",
     "output_type": "stream",
     "text": [
      "Processing images:  62%|██████▏   | 355/576 [00:49<00:36,  6.04it/s]"
     ]
    },
    {
     "name": "stdout",
     "output_type": "stream",
     "text": [
      "✓ 63_png.rf.03dd9baef21f60ddcfb6f490cdc87f11.jpg: Found 2 objects\n",
      "\n",
      "0: 640x640 2 messs, 28.6ms\n",
      "Speed: 4.0ms preprocess, 28.6ms inference, 1.8ms postprocess per image at shape (1, 3, 640, 640)\n"
     ]
    },
    {
     "name": "stderr",
     "output_type": "stream",
     "text": [
      "Processing images:  62%|██████▏   | 356/576 [00:49<00:36,  6.03it/s]"
     ]
    },
    {
     "name": "stdout",
     "output_type": "stream",
     "text": [
      "✓ 63_png.rf.0715e5b1a2cf1a0798da7851f93a0595.jpg: Found 2 objects\n",
      "\n",
      "0: 640x640 2 messs, 28.6ms\n",
      "Speed: 3.4ms preprocess, 28.6ms inference, 1.7ms postprocess per image at shape (1, 3, 640, 640)\n"
     ]
    },
    {
     "name": "stderr",
     "output_type": "stream",
     "text": [
      "Processing images:  62%|██████▏   | 357/576 [00:49<00:35,  6.09it/s]"
     ]
    },
    {
     "name": "stdout",
     "output_type": "stream",
     "text": [
      "✓ 63_png.rf.4dda3eacd34cc86249451819be6a615d.jpg: Found 2 objects\n",
      "\n",
      "0: 640x640 1 mess, 28.6ms\n",
      "Speed: 3.3ms preprocess, 28.6ms inference, 1.9ms postprocess per image at shape (1, 3, 640, 640)\n"
     ]
    },
    {
     "name": "stderr",
     "output_type": "stream",
     "text": [
      "Processing images:  62%|██████▏   | 358/576 [00:49<00:32,  6.65it/s]"
     ]
    },
    {
     "name": "stdout",
     "output_type": "stream",
     "text": [
      "✓ 63_png.rf.55b2fbd871a42699a3c7ef9e10e02feb.jpg: Found 1 objects\n",
      "\n",
      "0: 640x640 1 mess, 28.7ms\n",
      "Speed: 4.0ms preprocess, 28.7ms inference, 2.0ms postprocess per image at shape (1, 3, 640, 640)\n"
     ]
    },
    {
     "name": "stderr",
     "output_type": "stream",
     "text": [
      "Processing images:  62%|██████▏   | 359/576 [00:49<00:30,  7.05it/s]"
     ]
    },
    {
     "name": "stdout",
     "output_type": "stream",
     "text": [
      "✓ 63_png.rf.a1a1921d83b7ec91f1dab8a34e512dc4.jpg: Found 1 objects\n",
      "\n",
      "0: 640x640 1 mess, 28.6ms\n",
      "Speed: 3.8ms preprocess, 28.6ms inference, 2.0ms postprocess per image at shape (1, 3, 640, 640)\n"
     ]
    },
    {
     "name": "stderr",
     "output_type": "stream",
     "text": [
      "Processing images:  62%|██████▎   | 360/576 [00:49<00:29,  7.41it/s]"
     ]
    },
    {
     "name": "stdout",
     "output_type": "stream",
     "text": [
      "✓ 63_png.rf.f58dd2b5d63d571c9c59d0e558a1fef2.jpg: Found 1 objects\n",
      "\n",
      "0: 640x640 3 messs, 28.6ms\n",
      "Speed: 5.4ms preprocess, 28.6ms inference, 2.0ms postprocess per image at shape (1, 3, 640, 640)\n"
     ]
    },
    {
     "name": "stderr",
     "output_type": "stream",
     "text": [
      "Processing images:  63%|██████▎   | 361/576 [00:50<00:31,  6.79it/s]"
     ]
    },
    {
     "name": "stdout",
     "output_type": "stream",
     "text": [
      "✓ 64_png.rf.0314471ee99df55bb0a076207b4869f4.jpg: Found 3 objects\n",
      "\n",
      "0: 640x640 3 messs, 28.6ms\n",
      "Speed: 5.2ms preprocess, 28.6ms inference, 2.0ms postprocess per image at shape (1, 3, 640, 640)\n",
      "✓ 64_png.rf.20318effbaeea08fe5408b552cc2794b.jpg: Found 3 objects"
     ]
    },
    {
     "name": "stderr",
     "output_type": "stream",
     "text": [
      "Processing images:  63%|██████▎   | 362/576 [00:50<00:33,  6.31it/s]"
     ]
    },
    {
     "name": "stdout",
     "output_type": "stream",
     "text": [
      "\n",
      "\n",
      "0: 640x640 1 mess, 28.6ms\n",
      "Speed: 3.9ms preprocess, 28.6ms inference, 2.1ms postprocess per image at shape (1, 3, 640, 640)\n"
     ]
    },
    {
     "name": "stderr",
     "output_type": "stream",
     "text": [
      "Processing images:  63%|██████▎   | 363/576 [00:50<00:32,  6.60it/s]"
     ]
    },
    {
     "name": "stdout",
     "output_type": "stream",
     "text": [
      "✓ 64_png.rf.3451ff4de6af8dd4d2d71e2844bfc562.jpg: Found 1 objects\n",
      "\n",
      "0: 640x640 1 mess, 28.6ms\n",
      "Speed: 3.4ms preprocess, 28.6ms inference, 4.3ms postprocess per image at shape (1, 3, 640, 640)\n"
     ]
    },
    {
     "name": "stderr",
     "output_type": "stream",
     "text": [
      "Processing images:  63%|██████▎   | 364/576 [00:50<00:31,  6.74it/s]"
     ]
    },
    {
     "name": "stdout",
     "output_type": "stream",
     "text": [
      "✓ 64_png.rf.7617f4f052c2c44e5ba9cc08705e4ecc.jpg: Found 1 objects\n",
      "\n",
      "0: 640x640 2 messs, 28.6ms\n",
      "Speed: 5.9ms preprocess, 28.6ms inference, 1.8ms postprocess per image at shape (1, 3, 640, 640)\n"
     ]
    },
    {
     "name": "stderr",
     "output_type": "stream",
     "text": [
      "Processing images:  63%|██████▎   | 365/576 [00:50<00:33,  6.39it/s]"
     ]
    },
    {
     "name": "stdout",
     "output_type": "stream",
     "text": [
      "✓ 64_png.rf.cefc395ccb84f60a9cd050af59bb1f54.jpg: Found 2 objects\n",
      "\n",
      "0: 640x640 1 mess, 28.7ms\n",
      "Speed: 3.5ms preprocess, 28.7ms inference, 1.9ms postprocess per image at shape (1, 3, 640, 640)\n"
     ]
    },
    {
     "name": "stderr",
     "output_type": "stream",
     "text": [
      "Processing images:  64%|██████▎   | 366/576 [00:50<00:31,  6.64it/s]"
     ]
    },
    {
     "name": "stdout",
     "output_type": "stream",
     "text": [
      "✓ 64_png.rf.d8164af86b1b37f8bcb2dbfe3789e7fe.jpg: Found 1 objects\n",
      "\n",
      "0: 640x640 2 messs, 28.6ms\n",
      "Speed: 3.9ms preprocess, 28.6ms inference, 1.8ms postprocess per image at shape (1, 3, 640, 640)\n"
     ]
    },
    {
     "name": "stderr",
     "output_type": "stream",
     "text": [
      "Processing images:  64%|██████▎   | 367/576 [00:51<00:32,  6.42it/s]"
     ]
    },
    {
     "name": "stdout",
     "output_type": "stream",
     "text": [
      "✓ 65_png.rf.0f596bf19d586efdfe5c0e078405c4fd.jpg: Found 2 objects\n",
      "\n",
      "0: 640x640 2 messs, 28.5ms\n",
      "Speed: 4.0ms preprocess, 28.5ms inference, 1.8ms postprocess per image at shape (1, 3, 640, 640)\n"
     ]
    },
    {
     "name": "stderr",
     "output_type": "stream",
     "text": [
      "Processing images:  64%|██████▍   | 368/576 [00:51<00:30,  6.80it/s]"
     ]
    },
    {
     "name": "stdout",
     "output_type": "stream",
     "text": [
      "✓ 65_png.rf.2b2caaea88414ca250e872052d9eca19.jpg: Found 2 objects\n",
      "\n",
      "0: 640x640 2 messs, 28.6ms\n",
      "Speed: 3.7ms preprocess, 28.6ms inference, 1.9ms postprocess per image at shape (1, 3, 640, 640)\n",
      "✓ 65_png.rf.40b1e296f7391804fce8db5b968616f6.jpg: Found 2 objects\n"
     ]
    },
    {
     "name": "stderr",
     "output_type": "stream",
     "text": [
      "Processing images:  64%|██████▍   | 369/576 [00:51<00:29,  7.12it/s]"
     ]
    },
    {
     "name": "stdout",
     "output_type": "stream",
     "text": [
      "\n",
      "0: 640x640 2 messs, 28.7ms\n",
      "Speed: 3.6ms preprocess, 28.7ms inference, 2.0ms postprocess per image at shape (1, 3, 640, 640)\n"
     ]
    },
    {
     "name": "stderr",
     "output_type": "stream",
     "text": [
      "Processing images:  64%|██████▍   | 370/576 [00:51<00:30,  6.72it/s]"
     ]
    },
    {
     "name": "stdout",
     "output_type": "stream",
     "text": [
      "✓ 65_png.rf.76a4f807e032d0f0514c3c8c93715d47.jpg: Found 2 objects\n",
      "\n",
      "0: 640x640 3 messs, 28.6ms\n",
      "Speed: 3.6ms preprocess, 28.6ms inference, 1.9ms postprocess per image at shape (1, 3, 640, 640)\n"
     ]
    },
    {
     "name": "stderr",
     "output_type": "stream",
     "text": [
      "Processing images:  64%|██████▍   | 371/576 [00:51<00:29,  7.04it/s]"
     ]
    },
    {
     "name": "stdout",
     "output_type": "stream",
     "text": [
      "✓ 65_png.rf.b1f4e8ad5e89e95ffd94ae029693043f.jpg: Found 3 objects\n",
      "\n",
      "0: 640x640 2 messs, 28.6ms\n",
      "Speed: 3.5ms preprocess, 28.6ms inference, 2.0ms postprocess per image at shape (1, 3, 640, 640)\n"
     ]
    },
    {
     "name": "stderr",
     "output_type": "stream",
     "text": [
      "Processing images:  65%|██████▍   | 372/576 [00:51<00:30,  6.66it/s]"
     ]
    },
    {
     "name": "stdout",
     "output_type": "stream",
     "text": [
      "✓ 65_png.rf.eee87cc18aab34c5eb97c9dd0850f8bf.jpg: Found 2 objects\n",
      "\n",
      "0: 640x640 (no detections), 28.7ms\n",
      "Speed: 3.7ms preprocess, 28.7ms inference, 0.9ms postprocess per image at shape (1, 3, 640, 640)\n",
      "✗ 66_png.rf.406de0adefd03252f92d5616c21cebb7.jpg: No objects detected\n",
      "\n",
      "0: 640x640 3 messs, 28.7ms\n",
      "Speed: 3.7ms preprocess, 28.7ms inference, 1.9ms postprocess per image at shape (1, 3, 640, 640)\n"
     ]
    },
    {
     "name": "stderr",
     "output_type": "stream",
     "text": [
      "Processing images:  65%|██████▍   | 374/576 [00:51<00:25,  7.85it/s]"
     ]
    },
    {
     "name": "stdout",
     "output_type": "stream",
     "text": [
      "✓ 66_png.rf.4cd4cb7d689cedf1f0d5fe0dd44ec7bc.jpg: Found 3 objects\n",
      "\n",
      "0: 640x640 3 messs, 28.6ms\n",
      "Speed: 3.7ms preprocess, 28.6ms inference, 1.9ms postprocess per image at shape (1, 3, 640, 640)\n"
     ]
    },
    {
     "name": "stderr",
     "output_type": "stream",
     "text": [
      "Processing images:  65%|██████▌   | 375/576 [00:52<00:27,  7.31it/s]"
     ]
    },
    {
     "name": "stdout",
     "output_type": "stream",
     "text": [
      "✓ 66_png.rf.5b9ce8b63e51a40124bac313e757caff.jpg: Found 3 objects\n",
      "\n",
      "0: 640x640 3 messs, 28.6ms\n",
      "Speed: 3.3ms preprocess, 28.6ms inference, 1.8ms postprocess per image at shape (1, 3, 640, 640)\n"
     ]
    },
    {
     "name": "stderr",
     "output_type": "stream",
     "text": [
      "Processing images:  65%|██████▌   | 376/576 [00:52<00:28,  7.04it/s]"
     ]
    },
    {
     "name": "stdout",
     "output_type": "stream",
     "text": [
      "✓ 66_png.rf.7a339bd0eaf64d351242f3f2088fc8f3.jpg: Found 3 objects\n",
      "\n",
      "0: 640x640 1 mess, 28.5ms\n",
      "Speed: 4.1ms preprocess, 28.5ms inference, 1.9ms postprocess per image at shape (1, 3, 640, 640)\n"
     ]
    },
    {
     "name": "stderr",
     "output_type": "stream",
     "text": [
      "Processing images:  65%|██████▌   | 377/576 [00:52<00:28,  7.09it/s]"
     ]
    },
    {
     "name": "stdout",
     "output_type": "stream",
     "text": [
      "✓ 66_png.rf.c3bd8c216cb7888960780684ea8dfbf8.jpg: Found 1 objects\n",
      "\n",
      "0: 640x640 (no detections), 28.6ms\n",
      "Speed: 3.7ms preprocess, 28.6ms inference, 0.9ms postprocess per image at shape (1, 3, 640, 640)\n",
      "✗ 66_png.rf.efeb13f4314a4cbe87b173b812988a97.jpg: No objects detected\n",
      "\n",
      "0: 640x640 2 messs, 28.5ms\n",
      "Speed: 3.1ms preprocess, 28.5ms inference, 1.8ms postprocess per image at shape (1, 3, 640, 640)\n"
     ]
    },
    {
     "name": "stderr",
     "output_type": "stream",
     "text": [
      "Processing images:  66%|██████▌   | 379/576 [00:52<00:24,  8.09it/s]"
     ]
    },
    {
     "name": "stdout",
     "output_type": "stream",
     "text": [
      "✓ 67_png.rf.27bc46d055e1af9b2aeff842bfc015db.jpg: Found 2 objects\n",
      "\n",
      "0: 640x640 1 mess, 28.6ms\n",
      "Speed: 3.3ms preprocess, 28.6ms inference, 1.9ms postprocess per image at shape (1, 3, 640, 640)\n"
     ]
    },
    {
     "name": "stderr",
     "output_type": "stream",
     "text": [
      "Processing images:  66%|██████▌   | 380/576 [00:52<00:25,  7.69it/s]"
     ]
    },
    {
     "name": "stdout",
     "output_type": "stream",
     "text": [
      "✓ 67_png.rf.3281a360cfc0e9edc8a4433e2b35ef4d.jpg: Found 1 objects\n",
      "\n",
      "0: 640x640 1 mess, 28.5ms\n",
      "Speed: 3.2ms preprocess, 28.5ms inference, 2.0ms postprocess per image at shape (1, 3, 640, 640)\n"
     ]
    },
    {
     "name": "stderr",
     "output_type": "stream",
     "text": [
      "Processing images:  66%|██████▌   | 381/576 [00:52<00:26,  7.23it/s]"
     ]
    },
    {
     "name": "stdout",
     "output_type": "stream",
     "text": [
      "✓ 67_png.rf.549d4c243bdf83fcedb4a019427d9152.jpg: Found 1 objects\n",
      "\n",
      "0: 640x640 1 mess, 28.7ms\n",
      "Speed: 3.9ms preprocess, 28.7ms inference, 2.1ms postprocess per image at shape (1, 3, 640, 640)\n"
     ]
    },
    {
     "name": "stderr",
     "output_type": "stream",
     "text": [
      "Processing images:  66%|██████▋   | 382/576 [00:53<00:28,  6.89it/s]"
     ]
    },
    {
     "name": "stdout",
     "output_type": "stream",
     "text": [
      "✓ 67_png.rf.7d2359dc5f2ad15388b4c2a980d8ea95.jpg: Found 1 objects\n",
      "\n",
      "0: 640x640 2 messs, 28.7ms\n",
      "Speed: 3.4ms preprocess, 28.7ms inference, 2.0ms postprocess per image at shape (1, 3, 640, 640)\n"
     ]
    },
    {
     "name": "stderr",
     "output_type": "stream",
     "text": [
      "Processing images:  66%|██████▋   | 383/576 [00:53<00:29,  6.64it/s]"
     ]
    },
    {
     "name": "stdout",
     "output_type": "stream",
     "text": [
      "✓ 67_png.rf.9853299060b8aa422390f510fdc9aae6.jpg: Found 2 objects\n",
      "\n",
      "0: 640x640 1 mess, 28.5ms\n",
      "Speed: 3.3ms preprocess, 28.5ms inference, 1.9ms postprocess per image at shape (1, 3, 640, 640)\n"
     ]
    },
    {
     "name": "stderr",
     "output_type": "stream",
     "text": [
      "Processing images:  67%|██████▋   | 384/576 [00:53<00:29,  6.52it/s]"
     ]
    },
    {
     "name": "stdout",
     "output_type": "stream",
     "text": [
      "✓ 67_png.rf.c422034b2c2a400d7d616cecc87f4b06.jpg: Found 1 objects\n",
      "\n",
      "0: 640x640 (no detections), 28.6ms\n",
      "Speed: 3.6ms preprocess, 28.6ms inference, 0.8ms postprocess per image at shape (1, 3, 640, 640)\n",
      "✗ 68_png.rf.0bd025fde0518fbeb67aec13b3a67d56.jpg: No objects detected\n",
      "\n",
      "0: 640x640 2 messs, 28.6ms\n",
      "Speed: 3.7ms preprocess, 28.6ms inference, 1.9ms postprocess per image at shape (1, 3, 640, 640)\n",
      "✓ 68_png.rf.488f4039d1d2e40ca6155b4a3c8f1e71.jpg: Found 2 objects"
     ]
    },
    {
     "name": "stderr",
     "output_type": "stream",
     "text": [
      "Processing images:  67%|██████▋   | 386/576 [00:53<00:24,  7.81it/s]"
     ]
    },
    {
     "name": "stdout",
     "output_type": "stream",
     "text": [
      "\n",
      "\n",
      "0: 640x640 2 messs, 28.6ms\n",
      "Speed: 3.6ms preprocess, 28.6ms inference, 2.1ms postprocess per image at shape (1, 3, 640, 640)\n"
     ]
    },
    {
     "name": "stderr",
     "output_type": "stream",
     "text": [
      "Processing images:  67%|██████▋   | 387/576 [00:53<00:25,  7.47it/s]"
     ]
    },
    {
     "name": "stdout",
     "output_type": "stream",
     "text": [
      "✓ 68_png.rf.5642bfcd222129662a562109fcec4962.jpg: Found 2 objects\n",
      "\n",
      "0: 640x640 2 messs, 28.6ms\n",
      "Speed: 3.4ms preprocess, 28.6ms inference, 1.9ms postprocess per image at shape (1, 3, 640, 640)\n"
     ]
    },
    {
     "name": "stderr",
     "output_type": "stream",
     "text": [
      "Processing images:  67%|██████▋   | 388/576 [00:53<00:25,  7.26it/s]"
     ]
    },
    {
     "name": "stdout",
     "output_type": "stream",
     "text": [
      "✓ 68_png.rf.a807f913d4445cc29e43a8185019d17c.jpg: Found 2 objects\n",
      "\n",
      "0: 640x640 (no detections), 28.7ms\n",
      "Speed: 5.0ms preprocess, 28.7ms inference, 0.9ms postprocess per image at shape (1, 3, 640, 640)\n",
      "✗ 68_png.rf.ad5641ef32fd1b255d0b33da08bdd699.jpg: No objects detected\n",
      "\n",
      "0: 640x640 (no detections), 28.5ms\n",
      "Speed: 3.3ms preprocess, 28.5ms inference, 0.8ms postprocess per image at shape (1, 3, 640, 640)\n",
      "✗ 68_png.rf.b5c5452f849673c276f17e787f05a9e8.jpg: No objects detected\n",
      "\n",
      "0: 640x640 (no detections), 28.5ms\n",
      "Speed: 3.5ms preprocess, 28.5ms inference, 0.9ms postprocess per image at shape (1, 3, 640, 640)\n"
     ]
    },
    {
     "name": "stderr",
     "output_type": "stream",
     "text": [
      "Processing images:  68%|██████▊   | 391/576 [00:54<00:16, 11.20it/s]"
     ]
    },
    {
     "name": "stdout",
     "output_type": "stream",
     "text": [
      "✗ 69_png.rf.3e4042249be031fc94996eaa1fc45ba8.jpg: No objects detected\n",
      "\n",
      "0: 640x640 1 mess, 28.5ms\n",
      "Speed: 3.6ms preprocess, 28.5ms inference, 1.9ms postprocess per image at shape (1, 3, 640, 640)\n",
      "✓ 69_png.rf.5d969423fee1cc5869980ec16964fc42.jpg: Found 1 objects\n",
      "\n",
      "0: 640x640 1 mess, 21.6ms\n",
      "Speed: 3.8ms preprocess, 21.6ms inference, 2.8ms postprocess per image at shape (1, 3, 640, 640)\n"
     ]
    },
    {
     "name": "stderr",
     "output_type": "stream",
     "text": [
      "Processing images:  68%|██████▊   | 393/576 [00:54<00:20,  8.96it/s]"
     ]
    },
    {
     "name": "stdout",
     "output_type": "stream",
     "text": [
      "✓ 69_png.rf.84524b3b9798ef2ef9c89893e4d92cab.jpg: Found 1 objects\n",
      "\n",
      "0: 640x640 1 mess, 21.4ms\n",
      "Speed: 3.6ms preprocess, 21.4ms inference, 2.0ms postprocess per image at shape (1, 3, 640, 640)\n",
      "✓ 69_png.rf.a05c8c452e6375dd6505e0515887a199.jpg: Found 1 objects\n",
      "\n",
      "0: 640x640 1 mess, 21.5ms\n",
      "Speed: 3.7ms preprocess, 21.5ms inference, 1.7ms postprocess per image at shape (1, 3, 640, 640)\n"
     ]
    },
    {
     "name": "stderr",
     "output_type": "stream",
     "text": [
      "Processing images:  69%|██████▊   | 395/576 [00:54<00:21,  8.36it/s]"
     ]
    },
    {
     "name": "stdout",
     "output_type": "stream",
     "text": [
      "✓ 69_png.rf.a99a40ab4396c54c5f0d296189b2fce6.jpg: Found 1 objects\n",
      "\n",
      "0: 640x640 (no detections), 21.6ms\n",
      "Speed: 3.5ms preprocess, 21.6ms inference, 0.8ms postprocess per image at shape (1, 3, 640, 640)\n",
      "✗ 69_png.rf.c429937be039b5cf19b556fe46279e9c.jpg: No objects detected\n",
      "\n",
      "0: 640x640 4 messs, 21.5ms\n",
      "Speed: 3.4ms preprocess, 21.5ms inference, 1.9ms postprocess per image at shape (1, 3, 640, 640)\n"
     ]
    },
    {
     "name": "stderr",
     "output_type": "stream",
     "text": [
      "Processing images:  69%|██████▉   | 397/576 [00:54<00:20,  8.71it/s]"
     ]
    },
    {
     "name": "stdout",
     "output_type": "stream",
     "text": [
      "✓ 6_png.rf.26cfc2b5d6708824785b5812224b2d6f.jpg: Found 4 objects\n",
      "\n",
      "0: 640x640 (no detections), 21.5ms\n",
      "Speed: 3.7ms preprocess, 21.5ms inference, 0.9ms postprocess per image at shape (1, 3, 640, 640)\n",
      "✗ 6_png.rf.647d366f8414941e1ca03a8f59f952cf.jpg: No objects detected\n",
      "\n",
      "0: 640x640 (no detections), 21.4ms\n",
      "Speed: 4.1ms preprocess, 21.4ms inference, 0.9ms postprocess per image at shape (1, 3, 640, 640)\n",
      "✗ 6_png.rf.7d20d99a45d6f4983c722945bc7157db.jpg: No objects detected\n",
      "\n",
      "0: 640x640 4 messs, 21.4ms\n",
      "Speed: 3.3ms preprocess, 21.4ms inference, 1.8ms postprocess per image at shape (1, 3, 640, 640)\n"
     ]
    },
    {
     "name": "stderr",
     "output_type": "stream",
     "text": [
      "Processing images:  69%|██████▉   | 400/576 [00:55<00:17,  9.84it/s]"
     ]
    },
    {
     "name": "stdout",
     "output_type": "stream",
     "text": [
      "✓ 6_png.rf.8de84b845c2e3b7b5051eb321f15de75.jpg: Found 4 objects\n",
      "\n",
      "0: 640x640 (no detections), 21.4ms\n",
      "Speed: 3.3ms preprocess, 21.4ms inference, 0.7ms postprocess per image at shape (1, 3, 640, 640)\n",
      "✗ 6_png.rf.945e399ae8cb98fd4ece747aaaa6ad7b.jpg: No objects detected\n",
      "\n",
      "0: 640x640 5 messs, 21.5ms\n",
      "Speed: 3.2ms preprocess, 21.5ms inference, 1.8ms postprocess per image at shape (1, 3, 640, 640)\n",
      "✓ 6_png.rf.f16c9145becb523560a8e81257164815.jpg: Found 5 objects"
     ]
    },
    {
     "name": "stderr",
     "output_type": "stream",
     "text": [
      "Processing images:  70%|██████▉   | 402/576 [00:55<00:17,  9.85it/s]"
     ]
    },
    {
     "name": "stdout",
     "output_type": "stream",
     "text": [
      "\n",
      "\n",
      "0: 640x640 2 messs, 21.5ms\n",
      "Speed: 3.7ms preprocess, 21.5ms inference, 1.9ms postprocess per image at shape (1, 3, 640, 640)\n",
      "✓ 70_png.rf.47f017bcacba35425e35028df42e0c92.jpg: Found 2 objects\n",
      "\n",
      "0: 640x640 1 mess, 21.7ms\n",
      "Speed: 3.0ms preprocess, 21.7ms inference, 2.2ms postprocess per image at shape (1, 3, 640, 640)\n"
     ]
    },
    {
     "name": "stderr",
     "output_type": "stream",
     "text": [
      "Processing images:  70%|███████   | 404/576 [00:55<00:19,  8.69it/s]"
     ]
    },
    {
     "name": "stdout",
     "output_type": "stream",
     "text": [
      "✓ 70_png.rf.4eb1dc5e2de64a8d4a88da3879e2d912.jpg: Found 1 objects\n",
      "\n",
      "0: 640x640 4 messs, 21.5ms\n",
      "Speed: 3.5ms preprocess, 21.5ms inference, 1.8ms postprocess per image at shape (1, 3, 640, 640)\n"
     ]
    },
    {
     "name": "stderr",
     "output_type": "stream",
     "text": [
      "Processing images:  70%|███████   | 405/576 [00:55<00:20,  8.20it/s]"
     ]
    },
    {
     "name": "stdout",
     "output_type": "stream",
     "text": [
      "✓ 70_png.rf.6263672bab75b9c07f40b3ea7fb470ad.jpg: Found 4 objects\n",
      "\n",
      "0: 640x640 2 messs, 21.6ms\n",
      "Speed: 2.9ms preprocess, 21.6ms inference, 1.8ms postprocess per image at shape (1, 3, 640, 640)\n"
     ]
    },
    {
     "name": "stderr",
     "output_type": "stream",
     "text": [
      "Processing images:  70%|███████   | 406/576 [00:55<00:21,  7.79it/s]"
     ]
    },
    {
     "name": "stdout",
     "output_type": "stream",
     "text": [
      "✓ 70_png.rf.a688c79b2bbc682e2f3273dd46b5b2a3.jpg: Found 2 objects\n",
      "\n",
      "0: 640x640 1 mess, 21.5ms\n",
      "Speed: 3.2ms preprocess, 21.5ms inference, 3.8ms postprocess per image at shape (1, 3, 640, 640)\n"
     ]
    },
    {
     "name": "stderr",
     "output_type": "stream",
     "text": [
      "Processing images:  71%|███████   | 407/576 [00:56<00:22,  7.58it/s]"
     ]
    },
    {
     "name": "stdout",
     "output_type": "stream",
     "text": [
      "✓ 70_png.rf.b00d64a5e206992a23b188f668560cc5.jpg: Found 1 objects\n",
      "\n",
      "0: 640x640 1 mess, 29.0ms\n",
      "Speed: 3.6ms preprocess, 29.0ms inference, 2.0ms postprocess per image at shape (1, 3, 640, 640)\n"
     ]
    },
    {
     "name": "stderr",
     "output_type": "stream",
     "text": [
      "Processing images:  71%|███████   | 408/576 [00:56<00:22,  7.32it/s]"
     ]
    },
    {
     "name": "stdout",
     "output_type": "stream",
     "text": [
      "✓ 70_png.rf.f8f208e6ef7195b0dcdc1734c285b3e9.jpg: Found 1 objects\n",
      "\n",
      "0: 640x640 1 mess, 28.6ms\n",
      "Speed: 3.3ms preprocess, 28.6ms inference, 1.9ms postprocess per image at shape (1, 3, 640, 640)\n"
     ]
    },
    {
     "name": "stderr",
     "output_type": "stream",
     "text": [
      "Processing images:  71%|███████   | 409/576 [00:56<00:23,  7.12it/s]"
     ]
    },
    {
     "name": "stdout",
     "output_type": "stream",
     "text": [
      "✓ 71_png.rf.2d2869282ffff97fea3aee68fbd1b852.jpg: Found 1 objects\n",
      "\n",
      "0: 640x640 3 messs, 28.6ms\n",
      "Speed: 3.3ms preprocess, 28.6ms inference, 2.0ms postprocess per image at shape (1, 3, 640, 640)\n"
     ]
    },
    {
     "name": "stderr",
     "output_type": "stream",
     "text": [
      "Processing images:  71%|███████   | 410/576 [00:56<00:23,  6.93it/s]"
     ]
    },
    {
     "name": "stdout",
     "output_type": "stream",
     "text": [
      "✓ 71_png.rf.57167f230491d4c00ad6cc177e1608e0.jpg: Found 3 objects\n",
      "\n",
      "0: 640x640 3 messs, 28.6ms\n",
      "Speed: 3.6ms preprocess, 28.6ms inference, 2.4ms postprocess per image at shape (1, 3, 640, 640)\n"
     ]
    },
    {
     "name": "stderr",
     "output_type": "stream",
     "text": [
      "Processing images:  71%|███████▏  | 411/576 [00:56<00:24,  6.77it/s]"
     ]
    },
    {
     "name": "stdout",
     "output_type": "stream",
     "text": [
      "✓ 71_png.rf.802111cf0ed4440a20311f70a8e4ca62.jpg: Found 3 objects\n",
      "\n",
      "0: 640x640 1 mess, 28.6ms\n",
      "Speed: 3.4ms preprocess, 28.6ms inference, 2.0ms postprocess per image at shape (1, 3, 640, 640)\n"
     ]
    },
    {
     "name": "stderr",
     "output_type": "stream",
     "text": [
      "Processing images:  72%|███████▏  | 412/576 [00:56<00:24,  6.65it/s]"
     ]
    },
    {
     "name": "stdout",
     "output_type": "stream",
     "text": [
      "✓ 71_png.rf.8807bcbd90aa8915508fb119c3604cf0.jpg: Found 1 objects\n",
      "\n",
      "0: 640x640 2 messs, 28.6ms\n",
      "Speed: 3.5ms preprocess, 28.6ms inference, 2.0ms postprocess per image at shape (1, 3, 640, 640)\n"
     ]
    },
    {
     "name": "stderr",
     "output_type": "stream",
     "text": [
      "Processing images:  72%|███████▏  | 413/576 [00:56<00:24,  6.60it/s]"
     ]
    },
    {
     "name": "stdout",
     "output_type": "stream",
     "text": [
      "✓ 71_png.rf.9b474c99018808a97827487c7ad9468b.jpg: Found 2 objects\n",
      "\n",
      "0: 640x640 3 messs, 28.6ms\n",
      "Speed: 5.1ms preprocess, 28.6ms inference, 2.0ms postprocess per image at shape (1, 3, 640, 640)\n"
     ]
    },
    {
     "name": "stderr",
     "output_type": "stream",
     "text": [
      "Processing images:  72%|███████▏  | 414/576 [00:57<00:24,  6.49it/s]"
     ]
    },
    {
     "name": "stdout",
     "output_type": "stream",
     "text": [
      "✓ 71_png.rf.ecddeb6fd700dd6f33b989c04558bd07.jpg: Found 3 objects\n",
      "\n",
      "0: 640x640 (no detections), 28.6ms\n",
      "Speed: 4.9ms preprocess, 28.6ms inference, 1.5ms postprocess per image at shape (1, 3, 640, 640)\n",
      "✗ 72_png.rf.84e1e7606d7f1a4a74eb1d276e9e13c5.jpg: No objects detected\n",
      "\n",
      "0: 640x640 5 messs, 28.6ms\n",
      "Speed: 3.6ms preprocess, 28.6ms inference, 2.1ms postprocess per image at shape (1, 3, 640, 640)\n",
      "✓ 72_png.rf.89f0dad147d1e43917eec174d9aed06e.jpg: Found 5 objects"
     ]
    },
    {
     "name": "stderr",
     "output_type": "stream",
     "text": [
      "Processing images:  72%|███████▏  | 416/576 [00:57<00:20,  7.78it/s]"
     ]
    },
    {
     "name": "stdout",
     "output_type": "stream",
     "text": [
      "\n",
      "\n",
      "0: 640x640 5 messs, 28.6ms\n",
      "Speed: 3.8ms preprocess, 28.6ms inference, 2.3ms postprocess per image at shape (1, 3, 640, 640)\n"
     ]
    },
    {
     "name": "stderr",
     "output_type": "stream",
     "text": [
      "Processing images:  72%|███████▏  | 417/576 [00:57<00:21,  7.53it/s]"
     ]
    },
    {
     "name": "stdout",
     "output_type": "stream",
     "text": [
      "✓ 72_png.rf.b657372c1ec1f3ce882eca2083502ebb.jpg: Found 5 objects\n",
      "\n",
      "0: 640x640 (no detections), 28.6ms\n",
      "Speed: 3.9ms preprocess, 28.6ms inference, 1.1ms postprocess per image at shape (1, 3, 640, 640)\n",
      "✗ 72_png.rf.c69d9ec6b9d06e5bf0b9f90ac775fd80.jpg: No objects detected\n",
      "\n",
      "0: 640x640 (no detections), 28.6ms\n",
      "Speed: 4.1ms preprocess, 28.6ms inference, 1.0ms postprocess per image at shape (1, 3, 640, 640)\n",
      "✗ 72_png.rf.cca302f1af2cd1c4854cd63817ca0136.jpg: No objects detected\n",
      "\n",
      "0: 640x640 5 messs, 28.6ms\n",
      "Speed: 3.6ms preprocess, 28.6ms inference, 2.4ms postprocess per image at shape (1, 3, 640, 640)\n",
      "✓ 72_png.rf.fd32b513f2f9713c15fb70b788c1a0cb.jpg: Found 5 objects\n"
     ]
    },
    {
     "name": "stderr",
     "output_type": "stream",
     "text": [
      "Processing images:  73%|███████▎  | 420/576 [00:57<00:16,  9.42it/s]"
     ]
    },
    {
     "name": "stdout",
     "output_type": "stream",
     "text": [
      "\n",
      "0: 640x640 1 mess, 28.5ms\n",
      "Speed: 3.4ms preprocess, 28.5ms inference, 2.0ms postprocess per image at shape (1, 3, 640, 640)\n"
     ]
    },
    {
     "name": "stderr",
     "output_type": "stream",
     "text": [
      "Processing images:  73%|███████▎  | 421/576 [00:57<00:18,  8.57it/s]"
     ]
    },
    {
     "name": "stdout",
     "output_type": "stream",
     "text": [
      "✓ 73_png.rf.439b7dd528a6852ae737043653b0fa30.jpg: Found 1 objects\n",
      "\n",
      "0: 640x640 2 messs, 28.7ms\n",
      "Speed: 3.9ms preprocess, 28.7ms inference, 2.1ms postprocess per image at shape (1, 3, 640, 640)\n"
     ]
    },
    {
     "name": "stderr",
     "output_type": "stream",
     "text": [
      "Processing images:  73%|███████▎  | 422/576 [00:58<00:19,  8.01it/s]"
     ]
    },
    {
     "name": "stdout",
     "output_type": "stream",
     "text": [
      "✓ 73_png.rf.784202cca6df7cea8525eeb60f64d77a.jpg: Found 2 objects\n",
      "\n",
      "0: 640x640 1 mess, 28.5ms\n",
      "Speed: 3.8ms preprocess, 28.5ms inference, 2.0ms postprocess per image at shape (1, 3, 640, 640)\n"
     ]
    },
    {
     "name": "stderr",
     "output_type": "stream",
     "text": [
      "Processing images:  73%|███████▎  | 423/576 [00:58<00:20,  7.52it/s]"
     ]
    },
    {
     "name": "stdout",
     "output_type": "stream",
     "text": [
      "✓ 73_png.rf.91e0a856b91b74cabeb47a00f88ebdfc.jpg: Found 1 objects\n",
      "\n",
      "0: 640x640 1 mess, 28.7ms\n",
      "Speed: 3.7ms preprocess, 28.7ms inference, 1.9ms postprocess per image at shape (1, 3, 640, 640)\n"
     ]
    },
    {
     "name": "stderr",
     "output_type": "stream",
     "text": [
      "Processing images:  74%|███████▎  | 424/576 [00:58<00:21,  7.23it/s]"
     ]
    },
    {
     "name": "stdout",
     "output_type": "stream",
     "text": [
      "✓ 73_png.rf.db267bc9cdf85b1b5bf7ac18bfc012f3.jpg: Found 1 objects\n",
      "\n",
      "0: 640x640 1 mess, 28.5ms\n",
      "Speed: 3.6ms preprocess, 28.5ms inference, 2.0ms postprocess per image at shape (1, 3, 640, 640)\n"
     ]
    },
    {
     "name": "stderr",
     "output_type": "stream",
     "text": [
      "Processing images:  74%|███████▍  | 425/576 [00:58<00:21,  6.99it/s]"
     ]
    },
    {
     "name": "stdout",
     "output_type": "stream",
     "text": [
      "✓ 73_png.rf.eec3535543e417b005238d5f7c3b9345.jpg: Found 1 objects\n",
      "\n",
      "0: 640x640 2 messs, 28.6ms\n",
      "Speed: 3.1ms preprocess, 28.6ms inference, 2.0ms postprocess per image at shape (1, 3, 640, 640)\n"
     ]
    },
    {
     "name": "stderr",
     "output_type": "stream",
     "text": [
      "Processing images:  74%|███████▍  | 426/576 [00:58<00:21,  6.85it/s]"
     ]
    },
    {
     "name": "stdout",
     "output_type": "stream",
     "text": [
      "✓ 73_png.rf.fa9e41ad036aa4fe76d30a68cba85b0e.jpg: Found 2 objects\n",
      "\n",
      "0: 640x640 1 mess, 28.6ms\n",
      "Speed: 3.5ms preprocess, 28.6ms inference, 2.0ms postprocess per image at shape (1, 3, 640, 640)\n"
     ]
    },
    {
     "name": "stderr",
     "output_type": "stream",
     "text": [
      "Processing images:  74%|███████▍  | 427/576 [00:58<00:23,  6.45it/s]"
     ]
    },
    {
     "name": "stdout",
     "output_type": "stream",
     "text": [
      "✓ 74_png.rf.074ca0ecc66e5a5d77e74dc354079ed6.jpg: Found 1 objects\n",
      "\n",
      "0: 640x640 3 messs, 28.6ms\n",
      "Speed: 3.8ms preprocess, 28.6ms inference, 2.0ms postprocess per image at shape (1, 3, 640, 640)\n"
     ]
    },
    {
     "name": "stderr",
     "output_type": "stream",
     "text": [
      "Processing images:  74%|███████▍  | 428/576 [00:58<00:23,  6.25it/s]"
     ]
    },
    {
     "name": "stdout",
     "output_type": "stream",
     "text": [
      "✓ 74_png.rf.431097834570c269e9331ea07e97301c.jpg: Found 3 objects\n",
      "\n",
      "0: 640x640 1 mess, 28.6ms\n",
      "Speed: 3.6ms preprocess, 28.6ms inference, 1.9ms postprocess per image at shape (1, 3, 640, 640)\n"
     ]
    },
    {
     "name": "stderr",
     "output_type": "stream",
     "text": [
      "Processing images:  74%|███████▍  | 429/576 [00:59<00:23,  6.29it/s]"
     ]
    },
    {
     "name": "stdout",
     "output_type": "stream",
     "text": [
      "✓ 74_png.rf.44c0b936a344a946067c36e5ff6564c4.jpg: Found 1 objects\n",
      "\n",
      "0: 640x640 2 messs, 28.7ms\n",
      "Speed: 3.4ms preprocess, 28.7ms inference, 1.9ms postprocess per image at shape (1, 3, 640, 640)\n"
     ]
    },
    {
     "name": "stderr",
     "output_type": "stream",
     "text": [
      "Processing images:  75%|███████▍  | 430/576 [00:59<00:22,  6.35it/s]"
     ]
    },
    {
     "name": "stdout",
     "output_type": "stream",
     "text": [
      "✓ 74_png.rf.64592b805667e8c794ede28d88886e5e.jpg: Found 2 objects\n",
      "\n",
      "0: 640x640 3 messs, 28.6ms\n",
      "Speed: 3.3ms preprocess, 28.6ms inference, 2.1ms postprocess per image at shape (1, 3, 640, 640)\n"
     ]
    },
    {
     "name": "stderr",
     "output_type": "stream",
     "text": [
      "Processing images:  75%|███████▍  | 431/576 [00:59<00:23,  6.28it/s]"
     ]
    },
    {
     "name": "stdout",
     "output_type": "stream",
     "text": [
      "✓ 74_png.rf.8e4a2c41446862830bf6c0e09e8f013f.jpg: Found 3 objects\n",
      "\n",
      "0: 640x640 2 messs, 29.1ms\n",
      "Speed: 3.7ms preprocess, 29.1ms inference, 2.0ms postprocess per image at shape (1, 3, 640, 640)\n"
     ]
    },
    {
     "name": "stderr",
     "output_type": "stream",
     "text": [
      "Processing images:  75%|███████▌  | 432/576 [00:59<00:23,  6.03it/s]"
     ]
    },
    {
     "name": "stdout",
     "output_type": "stream",
     "text": [
      "✓ 74_png.rf.cc9be7929aecccf9db9f8299d419d9c9.jpg: Found 2 objects\n",
      "\n",
      "0: 640x640 2 messs, 28.6ms\n",
      "Speed: 3.5ms preprocess, 28.6ms inference, 2.0ms postprocess per image at shape (1, 3, 640, 640)\n"
     ]
    },
    {
     "name": "stderr",
     "output_type": "stream",
     "text": [
      "Processing images:  75%|███████▌  | 433/576 [00:59<00:23,  6.05it/s]"
     ]
    },
    {
     "name": "stdout",
     "output_type": "stream",
     "text": [
      "✓ 75_png.rf.664a1ac2d4ce0df0d34ff28904c5e163.jpg: Found 2 objects\n",
      "\n",
      "0: 640x640 2 messs, 28.7ms\n",
      "Speed: 3.8ms preprocess, 28.7ms inference, 2.0ms postprocess per image at shape (1, 3, 640, 640)\n"
     ]
    },
    {
     "name": "stderr",
     "output_type": "stream",
     "text": [
      "Processing images:  75%|███████▌  | 434/576 [00:59<00:22,  6.20it/s]"
     ]
    },
    {
     "name": "stdout",
     "output_type": "stream",
     "text": [
      "✓ 75_png.rf.8fc725a72f4357d56af40592098cfc4a.jpg: Found 2 objects\n",
      "\n",
      "0: 640x640 3 messs, 28.6ms\n",
      "Speed: 3.6ms preprocess, 28.6ms inference, 2.0ms postprocess per image at shape (1, 3, 640, 640)\n"
     ]
    },
    {
     "name": "stderr",
     "output_type": "stream",
     "text": [
      "Processing images:  76%|███████▌  | 435/576 [01:00<00:22,  6.15it/s]"
     ]
    },
    {
     "name": "stdout",
     "output_type": "stream",
     "text": [
      "✓ 75_png.rf.98e8d47b062ddd781b871daed9c57ea9.jpg: Found 3 objects\n",
      "\n",
      "0: 640x640 2 messs, 28.6ms\n",
      "Speed: 6.1ms preprocess, 28.6ms inference, 2.0ms postprocess per image at shape (1, 3, 640, 640)\n"
     ]
    },
    {
     "name": "stderr",
     "output_type": "stream",
     "text": [
      "Processing images:  76%|███████▌  | 436/576 [01:00<00:22,  6.11it/s]"
     ]
    },
    {
     "name": "stdout",
     "output_type": "stream",
     "text": [
      "✓ 75_png.rf.b86cd176117da028542a5f5bcb3b7418.jpg: Found 2 objects\n",
      "\n",
      "0: 640x640 2 messs, 29.7ms\n",
      "Speed: 3.6ms preprocess, 29.7ms inference, 2.0ms postprocess per image at shape (1, 3, 640, 640)\n"
     ]
    },
    {
     "name": "stderr",
     "output_type": "stream",
     "text": [
      "Processing images:  76%|███████▌  | 437/576 [01:00<00:22,  6.22it/s]"
     ]
    },
    {
     "name": "stdout",
     "output_type": "stream",
     "text": [
      "✓ 75_png.rf.e6b67f5da1f27df4c1be2f0b53c997d6.jpg: Found 2 objects\n",
      "\n",
      "0: 640x640 2 messs, 28.7ms\n",
      "Speed: 3.6ms preprocess, 28.7ms inference, 2.0ms postprocess per image at shape (1, 3, 640, 640)\n"
     ]
    },
    {
     "name": "stderr",
     "output_type": "stream",
     "text": [
      "Processing images:  76%|███████▌  | 438/576 [01:00<00:21,  6.40it/s]"
     ]
    },
    {
     "name": "stdout",
     "output_type": "stream",
     "text": [
      "✓ 75_png.rf.ef4d701a893b63be891de698932e5326.jpg: Found 2 objects\n",
      "\n",
      "0: 640x640 (no detections), 28.7ms\n",
      "Speed: 3.3ms preprocess, 28.7ms inference, 0.9ms postprocess per image at shape (1, 3, 640, 640)\n",
      "✗ 76_png.rf.08b03dd04750aee5852be4557eb88ecf.jpg: No objects detected\n",
      "\n",
      "0: 640x640 3 messs, 28.6ms\n",
      "Speed: 3.7ms preprocess, 28.6ms inference, 2.1ms postprocess per image at shape (1, 3, 640, 640)\n",
      "✓ 76_png.rf.132d8f28dd3ae27daf04f323439ea716.jpg: Found 3 objects"
     ]
    },
    {
     "name": "stderr",
     "output_type": "stream",
     "text": [
      "Processing images:  76%|███████▋  | 440/576 [01:00<00:17,  7.69it/s]"
     ]
    },
    {
     "name": "stdout",
     "output_type": "stream",
     "text": [
      "\n",
      "\n",
      "0: 640x640 (no detections), 28.6ms\n",
      "Speed: 3.5ms preprocess, 28.6ms inference, 1.0ms postprocess per image at shape (1, 3, 640, 640)\n",
      "✗ 76_png.rf.331fb2742e8027500b4f48c147a8c97f.jpg: No objects detected\n",
      "\n",
      "0: 640x640 3 messs, 28.6ms\n",
      "Speed: 3.6ms preprocess, 28.6ms inference, 2.0ms postprocess per image at shape (1, 3, 640, 640)\n",
      "✓ 76_png.rf.790ccb820573a59b547b70e1f25b1f15.jpg: Found 3 objects\n"
     ]
    },
    {
     "name": "stderr",
     "output_type": "stream",
     "text": [
      "Processing images:  77%|███████▋  | 442/576 [01:00<00:15,  8.49it/s]"
     ]
    },
    {
     "name": "stdout",
     "output_type": "stream",
     "text": [
      "\n",
      "0: 640x640 3 messs, 28.7ms\n",
      "Speed: 3.5ms preprocess, 28.7ms inference, 2.0ms postprocess per image at shape (1, 3, 640, 640)\n"
     ]
    },
    {
     "name": "stderr",
     "output_type": "stream",
     "text": [
      "Processing images:  77%|███████▋  | 443/576 [01:01<00:16,  7.98it/s]"
     ]
    },
    {
     "name": "stdout",
     "output_type": "stream",
     "text": [
      "✓ 76_png.rf.cba94dd872eb13d90582ca429648b4ad.jpg: Found 3 objects\n",
      "\n",
      "0: 640x640 (no detections), 28.5ms\n",
      "Speed: 6.1ms preprocess, 28.5ms inference, 0.9ms postprocess per image at shape (1, 3, 640, 640)\n",
      "✗ 76_png.rf.da0507c4bcf5062778b707cdef9f673c.jpg: No objects detected\n",
      "\n",
      "0: 640x640 1 mess, 28.5ms\n",
      "Speed: 3.8ms preprocess, 28.5ms inference, 2.0ms postprocess per image at shape (1, 3, 640, 640)\n",
      "✓ 77_png.rf.39fa75443d01c30e2125cbd18473c749.jpg: Found 1 objects"
     ]
    },
    {
     "name": "stderr",
     "output_type": "stream",
     "text": [
      "Processing images:  77%|███████▋  | 445/576 [01:01<00:14,  8.82it/s]"
     ]
    },
    {
     "name": "stdout",
     "output_type": "stream",
     "text": [
      "\n",
      "\n",
      "0: 640x640 1 mess, 28.6ms\n",
      "Speed: 3.7ms preprocess, 28.6ms inference, 2.0ms postprocess per image at shape (1, 3, 640, 640)\n"
     ]
    },
    {
     "name": "stderr",
     "output_type": "stream",
     "text": [
      "Processing images:  77%|███████▋  | 446/576 [01:01<00:15,  8.15it/s]"
     ]
    },
    {
     "name": "stdout",
     "output_type": "stream",
     "text": [
      "✓ 77_png.rf.3e18bdb72d92b971c88feb62e5c5abfc.jpg: Found 1 objects\n",
      "\n",
      "0: 640x640 2 messs, 28.6ms\n",
      "Speed: 3.8ms preprocess, 28.6ms inference, 4.5ms postprocess per image at shape (1, 3, 640, 640)\n"
     ]
    },
    {
     "name": "stderr",
     "output_type": "stream",
     "text": [
      "Processing images:  78%|███████▊  | 447/576 [01:01<00:16,  7.75it/s]"
     ]
    },
    {
     "name": "stdout",
     "output_type": "stream",
     "text": [
      "✓ 77_png.rf.52013f014fb33dc34a714ad2ba74e31d.jpg: Found 2 objects\n",
      "\n",
      "0: 640x640 1 mess, 28.6ms\n",
      "Speed: 3.5ms preprocess, 28.6ms inference, 1.9ms postprocess per image at shape (1, 3, 640, 640)\n"
     ]
    },
    {
     "name": "stderr",
     "output_type": "stream",
     "text": [
      "Processing images:  78%|███████▊  | 448/576 [01:01<00:17,  7.45it/s]"
     ]
    },
    {
     "name": "stdout",
     "output_type": "stream",
     "text": [
      "✓ 77_png.rf.7fb1905e72993e2ffdc581b422b6b77c.jpg: Found 1 objects\n",
      "\n",
      "0: 640x640 1 mess, 28.6ms\n",
      "Speed: 3.9ms preprocess, 28.6ms inference, 1.9ms postprocess per image at shape (1, 3, 640, 640)\n"
     ]
    },
    {
     "name": "stderr",
     "output_type": "stream",
     "text": [
      "Processing images:  78%|███████▊  | 449/576 [01:01<00:17,  7.32it/s]"
     ]
    },
    {
     "name": "stdout",
     "output_type": "stream",
     "text": [
      "✓ 77_png.rf.9737f892a0ca10b92fe063ea0bbd4277.jpg: Found 1 objects\n",
      "\n",
      "0: 640x640 1 mess, 28.7ms\n",
      "Speed: 3.6ms preprocess, 28.7ms inference, 2.3ms postprocess per image at shape (1, 3, 640, 640)\n"
     ]
    },
    {
     "name": "stderr",
     "output_type": "stream",
     "text": [
      "Processing images:  78%|███████▊  | 450/576 [01:02<00:17,  7.00it/s]"
     ]
    },
    {
     "name": "stdout",
     "output_type": "stream",
     "text": [
      "✓ 77_png.rf.9daf26820a3d414fef2d9974d0034c9a.jpg: Found 1 objects\n",
      "\n",
      "0: 640x640 2 messs, 28.6ms\n",
      "Speed: 3.6ms preprocess, 28.6ms inference, 2.2ms postprocess per image at shape (1, 3, 640, 640)\n"
     ]
    },
    {
     "name": "stderr",
     "output_type": "stream",
     "text": [
      "Processing images:  78%|███████▊  | 451/576 [01:02<00:18,  6.66it/s]"
     ]
    },
    {
     "name": "stdout",
     "output_type": "stream",
     "text": [
      "✓ 78_png.rf.107e2ceada1fd1f8d61973ca6791432e.jpg: Found 2 objects\n",
      "\n",
      "0: 640x640 2 messs, 28.6ms\n",
      "Speed: 3.7ms preprocess, 28.6ms inference, 2.0ms postprocess per image at shape (1, 3, 640, 640)\n"
     ]
    },
    {
     "name": "stderr",
     "output_type": "stream",
     "text": [
      "Processing images:  78%|███████▊  | 452/576 [01:02<00:19,  6.44it/s]"
     ]
    },
    {
     "name": "stdout",
     "output_type": "stream",
     "text": [
      "✓ 78_png.rf.6059f7050a0c1d1e802c5d6efd428994.jpg: Found 2 objects\n",
      "\n",
      "0: 640x640 1 mess, 28.6ms\n",
      "Speed: 3.7ms preprocess, 28.6ms inference, 2.2ms postprocess per image at shape (1, 3, 640, 640)\n"
     ]
    },
    {
     "name": "stderr",
     "output_type": "stream",
     "text": [
      "Processing images:  79%|███████▊  | 453/576 [01:02<00:18,  6.54it/s]"
     ]
    },
    {
     "name": "stdout",
     "output_type": "stream",
     "text": [
      "✓ 78_png.rf.83799b87bf95c660bb98f75fdd3638b5.jpg: Found 1 objects\n",
      "\n",
      "0: 640x640 2 messs, 28.5ms\n",
      "Speed: 4.3ms preprocess, 28.5ms inference, 1.9ms postprocess per image at shape (1, 3, 640, 640)\n"
     ]
    },
    {
     "name": "stderr",
     "output_type": "stream",
     "text": [
      "Processing images:  79%|███████▉  | 454/576 [01:02<00:19,  6.41it/s]"
     ]
    },
    {
     "name": "stdout",
     "output_type": "stream",
     "text": [
      "✓ 78_png.rf.991e0f48a8b2e9a59c7d883df1a4c8a4.jpg: Found 2 objects\n",
      "\n",
      "0: 640x640 1 mess, 28.5ms\n",
      "Speed: 3.5ms preprocess, 28.5ms inference, 1.9ms postprocess per image at shape (1, 3, 640, 640)\n"
     ]
    },
    {
     "name": "stderr",
     "output_type": "stream",
     "text": [
      "Processing images:  79%|███████▉  | 455/576 [01:02<00:18,  6.55it/s]"
     ]
    },
    {
     "name": "stdout",
     "output_type": "stream",
     "text": [
      "✓ 78_png.rf.ada781901d791cdb21d886d732fafd56.jpg: Found 1 objects\n",
      "\n",
      "0: 640x640 1 mess, 28.6ms\n",
      "Speed: 3.8ms preprocess, 28.6ms inference, 2.0ms postprocess per image at shape (1, 3, 640, 640)\n"
     ]
    },
    {
     "name": "stderr",
     "output_type": "stream",
     "text": [
      "Processing images:  79%|███████▉  | 456/576 [01:03<00:18,  6.65it/s]"
     ]
    },
    {
     "name": "stdout",
     "output_type": "stream",
     "text": [
      "✓ 78_png.rf.b16744cd8bb93238e9f606ce5e5b9c30.jpg: Found 1 objects\n",
      "\n",
      "0: 640x640 2 messs, 28.6ms\n",
      "Speed: 4.1ms preprocess, 28.6ms inference, 2.0ms postprocess per image at shape (1, 3, 640, 640)\n"
     ]
    },
    {
     "name": "stderr",
     "output_type": "stream",
     "text": [
      "Processing images:  79%|███████▉  | 457/576 [01:03<00:18,  6.54it/s]"
     ]
    },
    {
     "name": "stdout",
     "output_type": "stream",
     "text": [
      "✓ 79_png.rf.02705dee5d2cb5eb344ba1d1b3d23894.jpg: Found 2 objects\n",
      "\n",
      "0: 640x640 4 messs, 28.6ms\n",
      "Speed: 3.2ms preprocess, 28.6ms inference, 2.3ms postprocess per image at shape (1, 3, 640, 640)\n"
     ]
    },
    {
     "name": "stderr",
     "output_type": "stream",
     "text": [
      "Processing images:  80%|███████▉  | 458/576 [01:03<00:18,  6.56it/s]"
     ]
    },
    {
     "name": "stdout",
     "output_type": "stream",
     "text": [
      "✓ 79_png.rf.12f68a59505999f709997c90662d3619.jpg: Found 4 objects\n",
      "\n",
      "0: 640x640 2 messs, 28.6ms\n",
      "Speed: 3.5ms preprocess, 28.6ms inference, 2.0ms postprocess per image at shape (1, 3, 640, 640)\n"
     ]
    },
    {
     "name": "stderr",
     "output_type": "stream",
     "text": [
      "Processing images:  80%|███████▉  | 459/576 [01:03<00:17,  6.53it/s]"
     ]
    },
    {
     "name": "stdout",
     "output_type": "stream",
     "text": [
      "✓ 79_png.rf.3210010dc390026fdf6f1142030ec95f.jpg: Found 2 objects\n",
      "\n",
      "0: 640x640 4 messs, 28.7ms\n",
      "Speed: 3.6ms preprocess, 28.7ms inference, 2.0ms postprocess per image at shape (1, 3, 640, 640)\n"
     ]
    },
    {
     "name": "stderr",
     "output_type": "stream",
     "text": [
      "Processing images:  80%|███████▉  | 460/576 [01:03<00:17,  6.57it/s]"
     ]
    },
    {
     "name": "stdout",
     "output_type": "stream",
     "text": [
      "✓ 79_png.rf.7b65f30f4fa022d14d7e40671dffd592.jpg: Found 4 objects\n",
      "\n",
      "0: 640x640 4 messs, 28.5ms\n",
      "Speed: 4.6ms preprocess, 28.5ms inference, 2.0ms postprocess per image at shape (1, 3, 640, 640)\n"
     ]
    },
    {
     "name": "stderr",
     "output_type": "stream",
     "text": [
      "Processing images:  80%|████████  | 461/576 [01:03<00:17,  6.58it/s]"
     ]
    },
    {
     "name": "stdout",
     "output_type": "stream",
     "text": [
      "✓ 79_png.rf.bb92236f1fd69a5d2a17eb44da07051a.jpg: Found 4 objects\n",
      "\n",
      "0: 640x640 2 messs, 28.5ms\n",
      "Speed: 3.8ms preprocess, 28.5ms inference, 2.1ms postprocess per image at shape (1, 3, 640, 640)\n"
     ]
    },
    {
     "name": "stderr",
     "output_type": "stream",
     "text": [
      "Processing images:  80%|████████  | 462/576 [01:03<00:17,  6.43it/s]"
     ]
    },
    {
     "name": "stdout",
     "output_type": "stream",
     "text": [
      "✓ 79_png.rf.f70d3cc507db089d89b7e2f9287babcf.jpg: Found 2 objects\n",
      "\n",
      "0: 640x640 (no detections), 28.6ms\n",
      "Speed: 6.7ms preprocess, 28.6ms inference, 0.8ms postprocess per image at shape (1, 3, 640, 640)\n",
      "✗ 7_png.rf.8661539335d9dd5e7a23f77288e71500.jpg: No objects detected\n",
      "\n",
      "0: 640x640 5 messs, 28.6ms\n",
      "Speed: 4.0ms preprocess, 28.6ms inference, 1.9ms postprocess per image at shape (1, 3, 640, 640)\n"
     ]
    },
    {
     "name": "stderr",
     "output_type": "stream",
     "text": [
      "Processing images:  81%|████████  | 464/576 [01:04<00:14,  7.59it/s]"
     ]
    },
    {
     "name": "stdout",
     "output_type": "stream",
     "text": [
      "✓ 7_png.rf.8fbe2373106f1137327fa48120f1b1a6.jpg: Found 5 objects\n",
      "\n",
      "0: 640x640 1 mess, 28.6ms\n",
      "Speed: 3.4ms preprocess, 28.6ms inference, 2.0ms postprocess per image at shape (1, 3, 640, 640)\n"
     ]
    },
    {
     "name": "stderr",
     "output_type": "stream",
     "text": [
      "Processing images:  81%|████████  | 465/576 [01:04<00:14,  7.47it/s]"
     ]
    },
    {
     "name": "stdout",
     "output_type": "stream",
     "text": [
      "✓ 7_png.rf.9b7e3cdea1d4eefe8e6c5971fe663917.jpg: Found 1 objects\n",
      "\n",
      "0: 640x640 5 messs, 28.6ms\n",
      "Speed: 3.4ms preprocess, 28.6ms inference, 2.0ms postprocess per image at shape (1, 3, 640, 640)\n"
     ]
    },
    {
     "name": "stderr",
     "output_type": "stream",
     "text": [
      "Processing images:  81%|████████  | 466/576 [01:04<00:15,  7.18it/s]"
     ]
    },
    {
     "name": "stdout",
     "output_type": "stream",
     "text": [
      "✓ 7_png.rf.bc4837ecbe775a5823c767b85243d37b.jpg: Found 5 objects\n",
      "\n",
      "0: 640x640 (no detections), 28.6ms\n",
      "Speed: 3.7ms preprocess, 28.6ms inference, 0.9ms postprocess per image at shape (1, 3, 640, 640)\n",
      "✗ 7_png.rf.f357f29023ef631f599acbc04a22a428.jpg: No objects detected\n",
      "\n",
      "0: 640x640 5 messs, 28.6ms\n",
      "Speed: 3.4ms preprocess, 28.6ms inference, 1.9ms postprocess per image at shape (1, 3, 640, 640)\n",
      "✓ 7_png.rf.fbe126c3267289b8cf88becbbe58f967.jpg: Found 5 objects"
     ]
    },
    {
     "name": "stderr",
     "output_type": "stream",
     "text": [
      "Processing images:  81%|████████▏ | 468/576 [01:04<00:13,  8.16it/s]"
     ]
    },
    {
     "name": "stdout",
     "output_type": "stream",
     "text": [
      "\n",
      "\n",
      "0: 640x640 1 mess, 28.5ms\n",
      "Speed: 4.0ms preprocess, 28.5ms inference, 1.9ms postprocess per image at shape (1, 3, 640, 640)\n"
     ]
    },
    {
     "name": "stderr",
     "output_type": "stream",
     "text": [
      "Processing images:  81%|████████▏ | 469/576 [01:04<00:13,  7.68it/s]"
     ]
    },
    {
     "name": "stdout",
     "output_type": "stream",
     "text": [
      "✓ 80_png.rf.091fec2cfd79ad6b76b5911641608470.jpg: Found 1 objects\n",
      "\n",
      "0: 640x640 1 mess, 28.5ms\n",
      "Speed: 3.8ms preprocess, 28.5ms inference, 2.0ms postprocess per image at shape (1, 3, 640, 640)\n"
     ]
    },
    {
     "name": "stderr",
     "output_type": "stream",
     "text": [
      "Processing images:  82%|████████▏ | 470/576 [01:04<00:14,  7.22it/s]"
     ]
    },
    {
     "name": "stdout",
     "output_type": "stream",
     "text": [
      "✓ 80_png.rf.32069a83a7f17bc08e4d8e54d17f851a.jpg: Found 1 objects\n",
      "\n",
      "0: 640x640 1 mess, 28.7ms\n",
      "Speed: 5.2ms preprocess, 28.7ms inference, 1.9ms postprocess per image at shape (1, 3, 640, 640)\n"
     ]
    },
    {
     "name": "stderr",
     "output_type": "stream",
     "text": [
      "Processing images:  82%|████████▏ | 471/576 [01:05<00:15,  6.94it/s]"
     ]
    },
    {
     "name": "stdout",
     "output_type": "stream",
     "text": [
      "✓ 80_png.rf.32ce5ba6ab6cca151bc7cb1f76328273.jpg: Found 1 objects\n",
      "\n",
      "0: 640x640 2 messs, 28.6ms\n",
      "Speed: 3.6ms preprocess, 28.6ms inference, 1.9ms postprocess per image at shape (1, 3, 640, 640)\n"
     ]
    },
    {
     "name": "stderr",
     "output_type": "stream",
     "text": [
      "Processing images:  82%|████████▏ | 472/576 [01:05<00:15,  6.71it/s]"
     ]
    },
    {
     "name": "stdout",
     "output_type": "stream",
     "text": [
      "✓ 80_png.rf.46fd361593b269f652b6171d47dcf35a.jpg: Found 2 objects\n",
      "\n",
      "0: 640x640 3 messs, 28.6ms\n",
      "Speed: 3.3ms preprocess, 28.6ms inference, 1.9ms postprocess per image at shape (1, 3, 640, 640)\n"
     ]
    },
    {
     "name": "stderr",
     "output_type": "stream",
     "text": [
      "Processing images:  82%|████████▏ | 473/576 [01:05<00:15,  6.52it/s]"
     ]
    },
    {
     "name": "stdout",
     "output_type": "stream",
     "text": [
      "✓ 80_png.rf.c636520910c1675569f46fd03ad6fbfd.jpg: Found 3 objects\n",
      "\n",
      "0: 640x640 2 messs, 28.5ms\n",
      "Speed: 3.5ms preprocess, 28.5ms inference, 1.9ms postprocess per image at shape (1, 3, 640, 640)\n"
     ]
    },
    {
     "name": "stderr",
     "output_type": "stream",
     "text": [
      "Processing images:  82%|████████▏ | 474/576 [01:05<00:15,  6.40it/s]"
     ]
    },
    {
     "name": "stdout",
     "output_type": "stream",
     "text": [
      "✓ 80_png.rf.f9ca704fb62e44f449d8edef43961e93.jpg: Found 2 objects\n",
      "\n",
      "0: 640x640 (no detections), 28.6ms\n",
      "Speed: 3.7ms preprocess, 28.6ms inference, 0.9ms postprocess per image at shape (1, 3, 640, 640)\n",
      "✗ 81_png.rf.0c1bae7716c04dfa753ee9c04495fb7a.jpg: No objects detected\n",
      "\n",
      "0: 640x640 3 messs, 28.7ms\n",
      "Speed: 3.5ms preprocess, 28.7ms inference, 1.9ms postprocess per image at shape (1, 3, 640, 640)\n"
     ]
    },
    {
     "name": "stderr",
     "output_type": "stream",
     "text": [
      "Processing images:  83%|████████▎ | 476/576 [01:05<00:13,  7.48it/s]"
     ]
    },
    {
     "name": "stdout",
     "output_type": "stream",
     "text": [
      "✓ 81_png.rf.11b226317865e711de4c5b3b6e0bee1b.jpg: Found 3 objects\n",
      "\n",
      "0: 640x640 3 messs, 28.6ms\n",
      "Speed: 3.4ms preprocess, 28.6ms inference, 1.9ms postprocess per image at shape (1, 3, 640, 640)\n"
     ]
    },
    {
     "name": "stderr",
     "output_type": "stream",
     "text": [
      "Processing images:  83%|████████▎ | 477/576 [01:06<00:13,  7.07it/s]"
     ]
    },
    {
     "name": "stdout",
     "output_type": "stream",
     "text": [
      "✓ 81_png.rf.275dc5fe435747bee3b9a9d3907022f9.jpg: Found 3 objects\n",
      "\n",
      "0: 640x640 (no detections), 28.7ms\n",
      "Speed: 4.6ms preprocess, 28.7ms inference, 1.2ms postprocess per image at shape (1, 3, 640, 640)\n",
      "✗ 81_png.rf.6d1dc8b54604064f164b448a166ff929.jpg: No objects detected\n",
      "\n",
      "0: 640x640 (no detections), 28.7ms\n",
      "Speed: 3.3ms preprocess, 28.7ms inference, 0.8ms postprocess per image at shape (1, 3, 640, 640)\n",
      "✗ 81_png.rf.8c361f08ce931d0d351dfdbebc802ab3.jpg: No objects detected\n",
      "\n",
      "0: 640x640 3 messs, 28.6ms\n",
      "Speed: 3.3ms preprocess, 28.6ms inference, 2.0ms postprocess per image at shape (1, 3, 640, 640)\n"
     ]
    },
    {
     "name": "stderr",
     "output_type": "stream",
     "text": [
      "Processing images:  83%|████████▎ | 480/576 [01:06<00:11,  8.73it/s]"
     ]
    },
    {
     "name": "stdout",
     "output_type": "stream",
     "text": [
      "✓ 81_png.rf.e9a423922963303e97227b456f7faf5c.jpg: Found 3 objects\n",
      "\n",
      "0: 640x640 1 mess, 28.7ms\n",
      "Speed: 3.2ms preprocess, 28.7ms inference, 2.0ms postprocess per image at shape (1, 3, 640, 640)\n"
     ]
    },
    {
     "name": "stderr",
     "output_type": "stream",
     "text": [
      "Processing images:  84%|████████▎ | 481/576 [01:06<00:11,  8.30it/s]"
     ]
    },
    {
     "name": "stdout",
     "output_type": "stream",
     "text": [
      "✓ 82_png.rf.3a433e7ac1e0be0cc9bdba9ffa20b533.jpg: Found 1 objects\n",
      "\n",
      "0: 640x640 1 mess, 28.6ms\n",
      "Speed: 3.6ms preprocess, 28.6ms inference, 1.8ms postprocess per image at shape (1, 3, 640, 640)\n"
     ]
    },
    {
     "name": "stderr",
     "output_type": "stream",
     "text": [
      "Processing images:  84%|████████▎ | 482/576 [01:06<00:11,  8.00it/s]"
     ]
    },
    {
     "name": "stdout",
     "output_type": "stream",
     "text": [
      "✓ 82_png.rf.50ee740d2ca71100c02ed6416d84ccd0.jpg: Found 1 objects\n",
      "\n",
      "0: 640x640 2 messs, 28.6ms\n",
      "Speed: 3.2ms preprocess, 28.6ms inference, 1.9ms postprocess per image at shape (1, 3, 640, 640)\n"
     ]
    },
    {
     "name": "stderr",
     "output_type": "stream",
     "text": [
      "Processing images:  84%|████████▍ | 483/576 [01:06<00:11,  7.78it/s]"
     ]
    },
    {
     "name": "stdout",
     "output_type": "stream",
     "text": [
      "✓ 82_png.rf.6e96e17cf281d4357f15570fabbf1414.jpg: Found 2 objects\n",
      "\n",
      "0: 640x640 2 messs, 28.5ms\n",
      "Speed: 3.1ms preprocess, 28.5ms inference, 1.8ms postprocess per image at shape (1, 3, 640, 640)\n"
     ]
    },
    {
     "name": "stderr",
     "output_type": "stream",
     "text": [
      "Processing images:  84%|████████▍ | 484/576 [01:06<00:12,  7.57it/s]"
     ]
    },
    {
     "name": "stdout",
     "output_type": "stream",
     "text": [
      "✓ 82_png.rf.92d782378b40e3589281b6faeac1cfef.jpg: Found 2 objects\n",
      "\n",
      "0: 640x640 2 messs, 28.6ms\n",
      "Speed: 3.3ms preprocess, 28.6ms inference, 2.0ms postprocess per image at shape (1, 3, 640, 640)\n"
     ]
    },
    {
     "name": "stderr",
     "output_type": "stream",
     "text": [
      "Processing images:  84%|████████▍ | 485/576 [01:06<00:12,  7.37it/s]"
     ]
    },
    {
     "name": "stdout",
     "output_type": "stream",
     "text": [
      "✓ 82_png.rf.bd4933cdeff51c5ab475dd20a6bfaf11.jpg: Found 2 objects\n",
      "\n",
      "0: 640x640 1 mess, 28.6ms\n",
      "Speed: 3.6ms preprocess, 28.6ms inference, 2.0ms postprocess per image at shape (1, 3, 640, 640)\n"
     ]
    },
    {
     "name": "stderr",
     "output_type": "stream",
     "text": [
      "Processing images:  84%|████████▍ | 486/576 [01:07<00:12,  7.25it/s]"
     ]
    },
    {
     "name": "stdout",
     "output_type": "stream",
     "text": [
      "✓ 82_png.rf.ca88667d1c5a4be8815b9b365e853492.jpg: Found 1 objects\n",
      "\n",
      "0: 640x640 1 mess, 28.6ms\n",
      "Speed: 3.4ms preprocess, 28.6ms inference, 1.9ms postprocess per image at shape (1, 3, 640, 640)\n"
     ]
    },
    {
     "name": "stderr",
     "output_type": "stream",
     "text": [
      "Processing images:  85%|████████▍ | 487/576 [01:07<00:11,  7.53it/s]"
     ]
    },
    {
     "name": "stdout",
     "output_type": "stream",
     "text": [
      "✓ 83_png.rf.0fe88ba7282d92775c9f3679e39b523f.jpg: Found 1 objects\n",
      "\n",
      "0: 640x640 1 mess, 28.6ms\n",
      "Speed: 3.6ms preprocess, 28.6ms inference, 1.9ms postprocess per image at shape (1, 3, 640, 640)\n"
     ]
    },
    {
     "name": "stderr",
     "output_type": "stream",
     "text": [
      "Processing images:  85%|████████▍ | 488/576 [01:07<00:12,  7.06it/s]"
     ]
    },
    {
     "name": "stdout",
     "output_type": "stream",
     "text": [
      "✓ 83_png.rf.181c337ae8c5d5bc25d73fa946aa39ed.jpg: Found 1 objects\n",
      "\n",
      "0: 640x640 2 messs, 28.6ms\n",
      "Speed: 3.4ms preprocess, 28.6ms inference, 2.1ms postprocess per image at shape (1, 3, 640, 640)\n"
     ]
    },
    {
     "name": "stderr",
     "output_type": "stream",
     "text": [
      "Processing images:  85%|████████▍ | 489/576 [01:07<00:12,  6.74it/s]"
     ]
    },
    {
     "name": "stdout",
     "output_type": "stream",
     "text": [
      "✓ 83_png.rf.6c458ebd2483848b0e0de703ad5b60ad.jpg: Found 2 objects\n",
      "\n",
      "0: 640x640 3 messs, 28.5ms\n",
      "Speed: 3.5ms preprocess, 28.5ms inference, 2.0ms postprocess per image at shape (1, 3, 640, 640)\n"
     ]
    },
    {
     "name": "stderr",
     "output_type": "stream",
     "text": [
      "Processing images:  85%|████████▌ | 490/576 [01:07<00:13,  6.54it/s]"
     ]
    },
    {
     "name": "stdout",
     "output_type": "stream",
     "text": [
      "✓ 83_png.rf.6ed538403296d723bc613974397a2cef.jpg: Found 3 objects\n",
      "\n",
      "0: 640x640 1 mess, 28.6ms\n",
      "Speed: 3.6ms preprocess, 28.6ms inference, 1.9ms postprocess per image at shape (1, 3, 640, 640)\n"
     ]
    },
    {
     "name": "stderr",
     "output_type": "stream",
     "text": [
      "Processing images:  85%|████████▌ | 491/576 [01:07<00:12,  7.02it/s]"
     ]
    },
    {
     "name": "stdout",
     "output_type": "stream",
     "text": [
      "✓ 83_png.rf.cebb073e546c6cdbaccf7e417268ea0c.jpg: Found 1 objects\n",
      "\n",
      "0: 640x640 1 mess, 28.6ms\n",
      "Speed: 3.9ms preprocess, 28.6ms inference, 1.8ms postprocess per image at shape (1, 3, 640, 640)\n",
      "✓ 83_png.rf.ffc64f5bc3d40f456915fa6ceac3362d.jpg: Found 1 objects\n"
     ]
    },
    {
     "name": "stderr",
     "output_type": "stream",
     "text": [
      "Processing images:  85%|████████▌ | 492/576 [01:07<00:11,  7.40it/s]"
     ]
    },
    {
     "name": "stdout",
     "output_type": "stream",
     "text": [
      "\n",
      "0: 640x640 3 messs, 28.6ms\n",
      "Speed: 3.6ms preprocess, 28.6ms inference, 2.1ms postprocess per image at shape (1, 3, 640, 640)\n"
     ]
    },
    {
     "name": "stderr",
     "output_type": "stream",
     "text": [
      "Processing images:  86%|████████▌ | 493/576 [01:08<00:11,  7.22it/s]"
     ]
    },
    {
     "name": "stdout",
     "output_type": "stream",
     "text": [
      "✓ 84_png.rf.00b6113b335ed744e9816a297d2470ab.jpg: Found 3 objects\n",
      "\n",
      "0: 640x640 2 messs, 28.6ms\n",
      "Speed: 3.2ms preprocess, 28.6ms inference, 1.8ms postprocess per image at shape (1, 3, 640, 640)\n"
     ]
    },
    {
     "name": "stderr",
     "output_type": "stream",
     "text": [
      "Processing images:  86%|████████▌ | 494/576 [01:08<00:12,  6.69it/s]"
     ]
    },
    {
     "name": "stdout",
     "output_type": "stream",
     "text": [
      "✓ 84_png.rf.2fd681dae6a8b8207f53f89021743571.jpg: Found 2 objects\n",
      "\n",
      "0: 640x640 2 messs, 28.7ms\n",
      "Speed: 3.4ms preprocess, 28.7ms inference, 1.9ms postprocess per image at shape (1, 3, 640, 640)\n"
     ]
    },
    {
     "name": "stderr",
     "output_type": "stream",
     "text": [
      "Processing images:  86%|████████▌ | 495/576 [01:08<00:12,  6.33it/s]"
     ]
    },
    {
     "name": "stdout",
     "output_type": "stream",
     "text": [
      "✓ 84_png.rf.8d415b0987ee52f91c4d37b5a1951502.jpg: Found 2 objects\n",
      "\n",
      "0: 640x640 1 mess, 28.7ms\n",
      "Speed: 3.5ms preprocess, 28.7ms inference, 1.9ms postprocess per image at shape (1, 3, 640, 640)\n"
     ]
    },
    {
     "name": "stderr",
     "output_type": "stream",
     "text": [
      "Processing images:  86%|████████▌ | 496/576 [01:08<00:12,  6.49it/s]"
     ]
    },
    {
     "name": "stdout",
     "output_type": "stream",
     "text": [
      "✓ 84_png.rf.93b5178c495daae5189666ff4814ea93.jpg: Found 1 objects\n",
      "\n",
      "0: 640x640 1 mess, 28.6ms\n",
      "Speed: 3.6ms preprocess, 28.6ms inference, 2.3ms postprocess per image at shape (1, 3, 640, 640)\n"
     ]
    },
    {
     "name": "stderr",
     "output_type": "stream",
     "text": [
      "Processing images:  86%|████████▋ | 497/576 [01:08<00:11,  6.60it/s]"
     ]
    },
    {
     "name": "stdout",
     "output_type": "stream",
     "text": [
      "✓ 84_png.rf.b5321b1724ee27c14e6d7c0b85b5dcb3.jpg: Found 1 objects\n",
      "\n",
      "0: 640x640 2 messs, 28.6ms\n",
      "Speed: 3.6ms preprocess, 28.6ms inference, 1.9ms postprocess per image at shape (1, 3, 640, 640)\n"
     ]
    },
    {
     "name": "stderr",
     "output_type": "stream",
     "text": [
      "Processing images:  86%|████████▋ | 498/576 [01:08<00:12,  6.30it/s]"
     ]
    },
    {
     "name": "stdout",
     "output_type": "stream",
     "text": [
      "✓ 84_png.rf.d519dc62989c56840340c206efc754ed.jpg: Found 2 objects\n",
      "\n",
      "0: 640x640 1 mess, 28.8ms\n",
      "Speed: 3.4ms preprocess, 28.8ms inference, 1.8ms postprocess per image at shape (1, 3, 640, 640)\n"
     ]
    },
    {
     "name": "stderr",
     "output_type": "stream",
     "text": [
      "Processing images:  87%|████████▋ | 499/576 [01:09<00:12,  6.41it/s]"
     ]
    },
    {
     "name": "stdout",
     "output_type": "stream",
     "text": [
      "✓ 85_png.rf.0b1fce7622b8565bef217f7ab642d97d.jpg: Found 1 objects\n",
      "\n",
      "0: 640x640 (no detections), 28.6ms\n",
      "Speed: 3.6ms preprocess, 28.6ms inference, 0.9ms postprocess per image at shape (1, 3, 640, 640)\n",
      "✗ 85_png.rf.3045bf3ee13e5506ec7c26b186ec2c59.jpg: No objects detected\n",
      "\n",
      "0: 640x640 1 mess, 28.7ms\n",
      "Speed: 3.6ms preprocess, 28.7ms inference, 2.0ms postprocess per image at shape (1, 3, 640, 640)\n",
      "✓ 85_png.rf.5c4bb6865f2a3dcbd3ee281503a09ebc.jpg: Found 1 objects"
     ]
    },
    {
     "name": "stderr",
     "output_type": "stream",
     "text": [
      "Processing images:  87%|████████▋ | 501/576 [01:09<00:09,  7.70it/s]"
     ]
    },
    {
     "name": "stdout",
     "output_type": "stream",
     "text": [
      "\n",
      "\n",
      "0: 640x640 (no detections), 28.7ms\n",
      "Speed: 3.7ms preprocess, 28.7ms inference, 1.0ms postprocess per image at shape (1, 3, 640, 640)\n",
      "✗ 85_png.rf.782b7c3529777326be822ca8ca10a669.jpg: No objects detected\n",
      "\n",
      "0: 640x640 1 mess, 28.6ms\n",
      "Speed: 3.7ms preprocess, 28.6ms inference, 2.0ms postprocess per image at shape (1, 3, 640, 640)\n",
      "✓ 85_png.rf.804bcab9906c1ccfd1550f77675e0e2f.jpg: Found 1 objects\n"
     ]
    },
    {
     "name": "stderr",
     "output_type": "stream",
     "text": [
      "Processing images:  87%|████████▋ | 503/576 [01:09<00:08,  8.47it/s]"
     ]
    },
    {
     "name": "stdout",
     "output_type": "stream",
     "text": [
      "\n",
      "0: 640x640 (no detections), 28.6ms\n",
      "Speed: 3.6ms preprocess, 28.6ms inference, 1.0ms postprocess per image at shape (1, 3, 640, 640)\n",
      "✗ 85_png.rf.df42d16e79e4c574c9678bd757b1974b.jpg: No objects detected\n",
      "\n",
      "0: 640x640 2 messs, 28.5ms\n",
      "Speed: 3.6ms preprocess, 28.5ms inference, 2.0ms postprocess per image at shape (1, 3, 640, 640)\n",
      "✓ 86_png.rf.0c892df717b9a903471f2341d981cc57.jpg: Found 2 objects\n"
     ]
    },
    {
     "name": "stderr",
     "output_type": "stream",
     "text": [
      "Processing images:  88%|████████▊ | 505/576 [01:09<00:07,  9.20it/s]"
     ]
    },
    {
     "name": "stdout",
     "output_type": "stream",
     "text": [
      "\n",
      "0: 640x640 4 messs, 28.6ms\n",
      "Speed: 5.9ms preprocess, 28.6ms inference, 2.1ms postprocess per image at shape (1, 3, 640, 640)\n"
     ]
    },
    {
     "name": "stderr",
     "output_type": "stream",
     "text": [
      "Processing images:  88%|████████▊ | 506/576 [01:09<00:08,  8.54it/s]"
     ]
    },
    {
     "name": "stdout",
     "output_type": "stream",
     "text": [
      "✓ 86_png.rf.0e8448f9c58bc2def9a0ab288f207ba8.jpg: Found 4 objects\n",
      "\n",
      "0: 640x640 4 messs, 28.7ms\n",
      "Speed: 3.8ms preprocess, 28.7ms inference, 2.2ms postprocess per image at shape (1, 3, 640, 640)\n"
     ]
    },
    {
     "name": "stderr",
     "output_type": "stream",
     "text": [
      "Processing images:  88%|████████▊ | 507/576 [01:09<00:08,  8.03it/s]"
     ]
    },
    {
     "name": "stdout",
     "output_type": "stream",
     "text": [
      "✓ 86_png.rf.753849a606c13c03124e3b81f72f3d7a.jpg: Found 4 objects\n",
      "\n",
      "0: 640x640 2 messs, 28.5ms\n",
      "Speed: 3.4ms preprocess, 28.5ms inference, 2.0ms postprocess per image at shape (1, 3, 640, 640)\n"
     ]
    },
    {
     "name": "stderr",
     "output_type": "stream",
     "text": [
      "Processing images:  88%|████████▊ | 508/576 [01:10<00:08,  7.88it/s]"
     ]
    },
    {
     "name": "stdout",
     "output_type": "stream",
     "text": [
      "✓ 86_png.rf.b887b3c48c54bbe66dcf8600a580b136.jpg: Found 2 objects\n",
      "\n",
      "0: 640x640 2 messs, 28.6ms\n",
      "Speed: 3.3ms preprocess, 28.6ms inference, 2.0ms postprocess per image at shape (1, 3, 640, 640)\n"
     ]
    },
    {
     "name": "stderr",
     "output_type": "stream",
     "text": [
      "Processing images:  88%|████████▊ | 509/576 [01:10<00:08,  7.80it/s]"
     ]
    },
    {
     "name": "stdout",
     "output_type": "stream",
     "text": [
      "✓ 86_png.rf.c0dbb662135da0922278aa31dd7f673e.jpg: Found 2 objects\n",
      "\n",
      "0: 640x640 3 messs, 28.6ms\n",
      "Speed: 3.8ms preprocess, 28.6ms inference, 2.1ms postprocess per image at shape (1, 3, 640, 640)\n"
     ]
    },
    {
     "name": "stderr",
     "output_type": "stream",
     "text": [
      "Processing images:  89%|████████▊ | 510/576 [01:10<00:08,  7.50it/s]"
     ]
    },
    {
     "name": "stdout",
     "output_type": "stream",
     "text": [
      "✓ 86_png.rf.e8e644f89565ecc00ac09232d250f044.jpg: Found 3 objects\n",
      "\n",
      "0: 640x640 (no detections), 28.6ms\n",
      "Speed: 6.0ms preprocess, 28.6ms inference, 0.9ms postprocess per image at shape (1, 3, 640, 640)\n",
      "✗ 87_png.rf.095534938c8a894f1fb7c98e422b13cb.jpg: No objects detected\n",
      "\n",
      "0: 640x640 1 mess, 28.6ms\n",
      "Speed: 3.7ms preprocess, 28.6ms inference, 1.9ms postprocess per image at shape (1, 3, 640, 640)\n"
     ]
    },
    {
     "name": "stderr",
     "output_type": "stream",
     "text": [
      "Processing images:  89%|████████▉ | 512/576 [01:10<00:07,  8.45it/s]"
     ]
    },
    {
     "name": "stdout",
     "output_type": "stream",
     "text": [
      "✓ 87_png.rf.15f1c8681313de9fa9e2eafe2fa21911.jpg: Found 1 objects\n",
      "\n",
      "0: 640x640 2 messs, 28.6ms\n",
      "Speed: 3.4ms preprocess, 28.6ms inference, 2.1ms postprocess per image at shape (1, 3, 640, 640)\n"
     ]
    },
    {
     "name": "stderr",
     "output_type": "stream",
     "text": [
      "Processing images:  89%|████████▉ | 513/576 [01:10<00:07,  8.08it/s]"
     ]
    },
    {
     "name": "stdout",
     "output_type": "stream",
     "text": [
      "✓ 87_png.rf.a1e3e781295b3b91c36e9a5d21b70475.jpg: Found 2 objects\n",
      "\n",
      "0: 640x640 2 messs, 28.9ms\n",
      "Speed: 6.6ms preprocess, 28.9ms inference, 2.6ms postprocess per image at shape (1, 3, 640, 640)\n"
     ]
    },
    {
     "name": "stderr",
     "output_type": "stream",
     "text": [
      "Processing images:  89%|████████▉ | 514/576 [01:10<00:08,  7.73it/s]"
     ]
    },
    {
     "name": "stdout",
     "output_type": "stream",
     "text": [
      "✓ 87_png.rf.e3f5d85cdc2f460637d64d13d785bb5d.jpg: Found 2 objects\n",
      "\n",
      "0: 640x640 2 messs, 28.6ms\n",
      "Speed: 3.8ms preprocess, 28.6ms inference, 2.1ms postprocess per image at shape (1, 3, 640, 640)\n"
     ]
    },
    {
     "name": "stderr",
     "output_type": "stream",
     "text": [
      "Processing images:  89%|████████▉ | 515/576 [01:11<00:07,  7.63it/s]"
     ]
    },
    {
     "name": "stdout",
     "output_type": "stream",
     "text": [
      "✓ 87_png.rf.f825a9a3b01c067cbe79d029e3b52935.jpg: Found 2 objects\n",
      "\n",
      "0: 640x640 (no detections), 28.6ms\n",
      "Speed: 3.4ms preprocess, 28.6ms inference, 1.0ms postprocess per image at shape (1, 3, 640, 640)\n",
      "✗ 87_png.rf.fddfc33b07bb173078d7af7996b1805e.jpg: No objects detected\n",
      "\n",
      "0: 640x640 4 messs, 28.6ms\n",
      "Speed: 3.8ms preprocess, 28.6ms inference, 2.2ms postprocess per image at shape (1, 3, 640, 640)\n"
     ]
    },
    {
     "name": "stderr",
     "output_type": "stream",
     "text": [
      "Processing images:  90%|████████▉ | 517/576 [01:11<00:07,  8.41it/s]"
     ]
    },
    {
     "name": "stdout",
     "output_type": "stream",
     "text": [
      "✓ 88_png.rf.0a9ade63987d3c4ef445e3b4f499a3e6.jpg: Found 4 objects\n",
      "\n",
      "0: 640x640 2 messs, 28.5ms\n",
      "Speed: 3.8ms preprocess, 28.5ms inference, 2.2ms postprocess per image at shape (1, 3, 640, 640)\n"
     ]
    },
    {
     "name": "stderr",
     "output_type": "stream",
     "text": [
      "Processing images:  90%|████████▉ | 518/576 [01:11<00:07,  8.13it/s]"
     ]
    },
    {
     "name": "stdout",
     "output_type": "stream",
     "text": [
      "✓ 88_png.rf.7fe5c002a31c5adfda3cd052e884f907.jpg: Found 2 objects\n",
      "\n",
      "0: 640x640 2 messs, 28.6ms\n",
      "Speed: 3.4ms preprocess, 28.6ms inference, 2.0ms postprocess per image at shape (1, 3, 640, 640)\n"
     ]
    },
    {
     "name": "stderr",
     "output_type": "stream",
     "text": [
      "Processing images:  90%|█████████ | 519/576 [01:11<00:07,  7.79it/s]"
     ]
    },
    {
     "name": "stdout",
     "output_type": "stream",
     "text": [
      "✓ 88_png.rf.9a1a2eb0e9678db3e4f9f78bd8435b69.jpg: Found 2 objects\n",
      "\n",
      "0: 640x640 2 messs, 28.7ms\n",
      "Speed: 4.3ms preprocess, 28.7ms inference, 2.2ms postprocess per image at shape (1, 3, 640, 640)\n"
     ]
    },
    {
     "name": "stderr",
     "output_type": "stream",
     "text": [
      "Processing images:  90%|█████████ | 520/576 [01:11<00:07,  7.60it/s]"
     ]
    },
    {
     "name": "stdout",
     "output_type": "stream",
     "text": [
      "✓ 88_png.rf.9bbf12b37525cc4b1d359c4079f279ae.jpg: Found 2 objects\n",
      "\n",
      "0: 640x640 3 messs, 28.6ms\n",
      "Speed: 4.0ms preprocess, 28.6ms inference, 2.2ms postprocess per image at shape (1, 3, 640, 640)\n"
     ]
    },
    {
     "name": "stderr",
     "output_type": "stream",
     "text": [
      "Processing images:  90%|█████████ | 521/576 [01:11<00:07,  7.10it/s]"
     ]
    },
    {
     "name": "stdout",
     "output_type": "stream",
     "text": [
      "✓ 88_png.rf.9f7acad7002783784362eef9b24d1ff7.jpg: Found 3 objects\n",
      "\n",
      "0: 640x640 2 messs, 28.5ms\n",
      "Speed: 3.9ms preprocess, 28.5ms inference, 2.0ms postprocess per image at shape (1, 3, 640, 640)\n"
     ]
    },
    {
     "name": "stderr",
     "output_type": "stream",
     "text": [
      "Processing images:  91%|█████████ | 522/576 [01:11<00:08,  6.75it/s]"
     ]
    },
    {
     "name": "stdout",
     "output_type": "stream",
     "text": [
      "✓ 88_png.rf.ba7cce4eedc52302bf66128e19447987.jpg: Found 2 objects\n",
      "\n",
      "0: 640x640 5 messs, 28.7ms\n",
      "Speed: 3.8ms preprocess, 28.7ms inference, 2.0ms postprocess per image at shape (1, 3, 640, 640)\n"
     ]
    },
    {
     "name": "stderr",
     "output_type": "stream",
     "text": [
      "Processing images:  91%|█████████ | 523/576 [01:12<00:08,  6.53it/s]"
     ]
    },
    {
     "name": "stdout",
     "output_type": "stream",
     "text": [
      "✓ 89_png.rf.60e053eee68844260afd94c67d7b87fa.jpg: Found 5 objects\n",
      "\n",
      "0: 640x640 2 messs, 28.6ms\n",
      "Speed: 3.3ms preprocess, 28.6ms inference, 2.1ms postprocess per image at shape (1, 3, 640, 640)\n"
     ]
    },
    {
     "name": "stderr",
     "output_type": "stream",
     "text": [
      "Processing images:  91%|█████████ | 524/576 [01:12<00:07,  7.06it/s]"
     ]
    },
    {
     "name": "stdout",
     "output_type": "stream",
     "text": [
      "✓ 89_png.rf.62fdfc6b9ea460410d3e04400f5223a5.jpg: Found 2 objects\n",
      "\n",
      "0: 640x640 1 mess, 28.6ms\n",
      "Speed: 3.6ms preprocess, 28.6ms inference, 2.0ms postprocess per image at shape (1, 3, 640, 640)\n",
      "✓ 89_png.rf.64f8e702340a1c7673e53eed515c42db.jpg: Found 1 objects\n"
     ]
    },
    {
     "name": "stderr",
     "output_type": "stream",
     "text": [
      "Processing images:  91%|█████████ | 525/576 [01:12<00:06,  7.49it/s]"
     ]
    },
    {
     "name": "stdout",
     "output_type": "stream",
     "text": [
      "\n",
      "0: 640x640 3 messs, 28.6ms\n",
      "Speed: 3.3ms preprocess, 28.6ms inference, 2.1ms postprocess per image at shape (1, 3, 640, 640)\n"
     ]
    },
    {
     "name": "stderr",
     "output_type": "stream",
     "text": [
      "Processing images:  91%|█████████▏| 526/576 [01:12<00:06,  7.87it/s]"
     ]
    },
    {
     "name": "stdout",
     "output_type": "stream",
     "text": [
      "✓ 89_png.rf.a1f1d19e07e58332e6b8588381bbb83c.jpg: Found 3 objects\n",
      "\n",
      "0: 640x640 6 messs, 28.6ms\n",
      "Speed: 3.5ms preprocess, 28.6ms inference, 2.0ms postprocess per image at shape (1, 3, 640, 640)\n"
     ]
    },
    {
     "name": "stderr",
     "output_type": "stream",
     "text": [
      "Processing images:  91%|█████████▏| 527/576 [01:12<00:06,  7.27it/s]"
     ]
    },
    {
     "name": "stdout",
     "output_type": "stream",
     "text": [
      "✓ 89_png.rf.a58d38909e4451a29cd112150dcca67b.jpg: Found 6 objects\n",
      "\n",
      "0: 640x640 4 messs, 28.6ms\n",
      "Speed: 3.8ms preprocess, 28.6ms inference, 2.3ms postprocess per image at shape (1, 3, 640, 640)\n"
     ]
    },
    {
     "name": "stderr",
     "output_type": "stream",
     "text": [
      "Processing images:  92%|█████████▏| 528/576 [01:12<00:06,  6.88it/s]"
     ]
    },
    {
     "name": "stdout",
     "output_type": "stream",
     "text": [
      "✓ 89_png.rf.ff0bc2ce3a0396a57fa4371b8a6b879c.jpg: Found 4 objects\n",
      "\n",
      "0: 640x640 2 messs, 28.6ms\n",
      "Speed: 3.6ms preprocess, 28.6ms inference, 2.1ms postprocess per image at shape (1, 3, 640, 640)\n"
     ]
    },
    {
     "name": "stderr",
     "output_type": "stream",
     "text": [
      "Processing images:  92%|█████████▏| 529/576 [01:12<00:06,  6.83it/s]"
     ]
    },
    {
     "name": "stdout",
     "output_type": "stream",
     "text": [
      "✓ 8_png.rf.01454ca11af7d863b404fca6915fc660.jpg: Found 2 objects\n",
      "\n",
      "0: 640x640 2 messs, 28.6ms\n",
      "Speed: 3.9ms preprocess, 28.6ms inference, 1.9ms postprocess per image at shape (1, 3, 640, 640)\n"
     ]
    },
    {
     "name": "stderr",
     "output_type": "stream",
     "text": [
      "Processing images:  92%|█████████▏| 530/576 [01:13<00:06,  6.69it/s]"
     ]
    },
    {
     "name": "stdout",
     "output_type": "stream",
     "text": [
      "✓ 8_png.rf.0593c78a2d062e2ea46e94612b6bbabb.jpg: Found 2 objects\n",
      "\n",
      "0: 640x640 2 messs, 28.6ms\n",
      "Speed: 3.9ms preprocess, 28.6ms inference, 1.8ms postprocess per image at shape (1, 3, 640, 640)\n"
     ]
    },
    {
     "name": "stderr",
     "output_type": "stream",
     "text": [
      "Processing images:  92%|█████████▏| 531/576 [01:13<00:06,  6.57it/s]"
     ]
    },
    {
     "name": "stdout",
     "output_type": "stream",
     "text": [
      "✓ 8_png.rf.306e1d896ecfc5ca3e74763de10eda77.jpg: Found 2 objects\n",
      "\n",
      "0: 640x640 3 messs, 28.6ms\n",
      "Speed: 4.0ms preprocess, 28.6ms inference, 2.9ms postprocess per image at shape (1, 3, 640, 640)\n"
     ]
    },
    {
     "name": "stderr",
     "output_type": "stream",
     "text": [
      "Processing images:  92%|█████████▏| 532/576 [01:13<00:06,  6.47it/s]"
     ]
    },
    {
     "name": "stdout",
     "output_type": "stream",
     "text": [
      "✓ 8_png.rf.7bb175ddec7f4c108599fd77c7e8e4c9.jpg: Found 3 objects\n",
      "\n",
      "0: 640x640 2 messs, 28.7ms\n",
      "Speed: 3.9ms preprocess, 28.7ms inference, 2.2ms postprocess per image at shape (1, 3, 640, 640)\n"
     ]
    },
    {
     "name": "stderr",
     "output_type": "stream",
     "text": [
      "Processing images:  93%|█████████▎| 533/576 [01:13<00:06,  6.39it/s]"
     ]
    },
    {
     "name": "stdout",
     "output_type": "stream",
     "text": [
      "✓ 8_png.rf.9d0d7ca6f8196e59ccc2367d5e3aead4.jpg: Found 2 objects\n",
      "\n",
      "0: 640x640 3 messs, 28.7ms\n",
      "Speed: 4.4ms preprocess, 28.7ms inference, 2.1ms postprocess per image at shape (1, 3, 640, 640)\n"
     ]
    },
    {
     "name": "stderr",
     "output_type": "stream",
     "text": [
      "Processing images:  93%|█████████▎| 534/576 [01:13<00:06,  6.45it/s]"
     ]
    },
    {
     "name": "stdout",
     "output_type": "stream",
     "text": [
      "✓ 8_png.rf.af40bd781bcedaa322721a3f072d98fe.jpg: Found 3 objects\n",
      "\n",
      "0: 640x640 4 messs, 28.7ms\n",
      "Speed: 3.7ms preprocess, 28.7ms inference, 2.0ms postprocess per image at shape (1, 3, 640, 640)\n"
     ]
    },
    {
     "name": "stderr",
     "output_type": "stream",
     "text": [
      "Processing images:  93%|█████████▎| 535/576 [01:13<00:06,  6.46it/s]"
     ]
    },
    {
     "name": "stdout",
     "output_type": "stream",
     "text": [
      "✓ 90_png.rf.11b43b01a616ed6281fa1b0a47ff621f.jpg: Found 4 objects\n",
      "\n",
      "0: 640x640 (no detections), 28.6ms\n",
      "Speed: 3.3ms preprocess, 28.6ms inference, 1.0ms postprocess per image at shape (1, 3, 640, 640)\n",
      "✗ 90_png.rf.5007a43182ae8e73b08f86bb4f2a1a60.jpg: No objects detected\n",
      "\n",
      "0: 640x640 (no detections), 28.5ms\n",
      "Speed: 3.9ms preprocess, 28.5ms inference, 0.8ms postprocess per image at shape (1, 3, 640, 640)\n",
      "✗ 90_png.rf.8ef35fb1945082f8551383622bb1de07.jpg: No objects detected\n",
      "\n",
      "0: 640x640 5 messs, 28.6ms\n",
      "Speed: 4.8ms preprocess, 28.6ms inference, 2.0ms postprocess per image at shape (1, 3, 640, 640)\n"
     ]
    },
    {
     "name": "stderr",
     "output_type": "stream",
     "text": [
      "Processing images:  93%|█████████▎| 538/576 [01:14<00:04,  8.74it/s]"
     ]
    },
    {
     "name": "stdout",
     "output_type": "stream",
     "text": [
      "✓ 90_png.rf.ccb6d231d67dfc10df7553fda29df049.jpg: Found 5 objects\n",
      "\n",
      "0: 640x640 4 messs, 25.9ms\n",
      "Speed: 4.5ms preprocess, 25.9ms inference, 1.9ms postprocess per image at shape (1, 3, 640, 640)\n"
     ]
    },
    {
     "name": "stderr",
     "output_type": "stream",
     "text": [
      "Processing images:  94%|█████████▎| 539/576 [01:14<00:04,  8.11it/s]"
     ]
    },
    {
     "name": "stdout",
     "output_type": "stream",
     "text": [
      "✓ 90_png.rf.f06f18d34efe370271de868c990ab6d9.jpg: Found 4 objects\n",
      "\n",
      "0: 640x640 (no detections), 26.0ms\n",
      "Speed: 3.5ms preprocess, 26.0ms inference, 2.2ms postprocess per image at shape (1, 3, 640, 640)\n",
      "✗ 90_png.rf.f370e2fe2cda5304b4b1170a6b82314e.jpg: No objects detected\n",
      "\n",
      "0: 640x640 (no detections), 25.9ms\n",
      "Speed: 4.1ms preprocess, 25.9ms inference, 0.9ms postprocess per image at shape (1, 3, 640, 640)\n",
      "✗ 91_png.rf.37b4cfef969b5ad8b1c3232a05ba28f9.jpg: No objects detected\n",
      "\n",
      "0: 640x640 1 mess, 25.9ms\n",
      "Speed: 3.6ms preprocess, 25.9ms inference, 2.0ms postprocess per image at shape (1, 3, 640, 640)\n",
      "✓ 91_png.rf.49e619516adb68841955472a8fe63067.jpg: Found 1 objects\n"
     ]
    },
    {
     "name": "stderr",
     "output_type": "stream",
     "text": [
      "Processing images:  94%|█████████▍| 542/576 [01:14<00:03,  9.73it/s]"
     ]
    },
    {
     "name": "stdout",
     "output_type": "stream",
     "text": [
      "\n",
      "0: 640x640 1 mess, 24.7ms\n",
      "Speed: 3.6ms preprocess, 24.7ms inference, 2.2ms postprocess per image at shape (1, 3, 640, 640)\n"
     ]
    },
    {
     "name": "stderr",
     "output_type": "stream",
     "text": [
      "Processing images:  94%|█████████▍| 543/576 [01:14<00:03,  8.94it/s]"
     ]
    },
    {
     "name": "stdout",
     "output_type": "stream",
     "text": [
      "✓ 91_png.rf.5360c3f801b084202d3525248995a65c.jpg: Found 1 objects\n",
      "\n",
      "0: 640x640 (no detections), 24.8ms\n",
      "Speed: 3.5ms preprocess, 24.8ms inference, 0.8ms postprocess per image at shape (1, 3, 640, 640)\n",
      "✗ 91_png.rf.6a79f548c726369354abae700252ce67.jpg: No objects detected\n",
      "\n",
      "0: 640x640 (no detections), 24.7ms\n",
      "Speed: 3.6ms preprocess, 24.7ms inference, 0.8ms postprocess per image at shape (1, 3, 640, 640)\n",
      "✗ 91_png.rf.705c7da5209deb6d913534a1aadf33d9.jpg: No objects detected\n",
      "\n",
      "0: 640x640 1 mess, 24.7ms\n",
      "Speed: 3.4ms preprocess, 24.7ms inference, 1.9ms postprocess per image at shape (1, 3, 640, 640)\n",
      "✓ 91_png.rf.c240547dc8304ad98f08840556e144ce.jpg: Found 1 objects\n"
     ]
    },
    {
     "name": "stderr",
     "output_type": "stream",
     "text": [
      "Processing images:  95%|█████████▍| 546/576 [01:14<00:02, 10.34it/s]"
     ]
    },
    {
     "name": "stdout",
     "output_type": "stream",
     "text": [
      "\n",
      "0: 640x640 (no detections), 24.7ms\n",
      "Speed: 4.1ms preprocess, 24.7ms inference, 0.9ms postprocess per image at shape (1, 3, 640, 640)\n",
      "✗ 92_png.rf.21e01ca8a39bba83694e28a94e4eb08c.jpg: No objects detected\n",
      "\n",
      "0: 640x640 5 messs, 24.7ms\n",
      "Speed: 3.3ms preprocess, 24.7ms inference, 1.8ms postprocess per image at shape (1, 3, 640, 640)\n"
     ]
    },
    {
     "name": "stderr",
     "output_type": "stream",
     "text": [
      "Processing images:  95%|█████████▌| 548/576 [01:15<00:02, 10.53it/s]"
     ]
    },
    {
     "name": "stdout",
     "output_type": "stream",
     "text": [
      "✓ 92_png.rf.3a25e96adfd46feb787082636739ed22.jpg: Found 5 objects\n",
      "\n",
      "0: 640x640 4 messs, 24.8ms\n",
      "Speed: 3.3ms preprocess, 24.8ms inference, 2.0ms postprocess per image at shape (1, 3, 640, 640)\n",
      "✓ 92_png.rf.5dc0e605b5c7a82a30eda7c9022fe23b.jpg: Found 4 objects\n",
      "\n",
      "0: 640x640 (no detections), 24.7ms\n",
      "Speed: 3.8ms preprocess, 24.7ms inference, 1.0ms postprocess per image at shape (1, 3, 640, 640)\n"
     ]
    },
    {
     "name": "stderr",
     "output_type": "stream",
     "text": [
      "Processing images:  95%|█████████▌| 550/576 [01:15<00:02, 10.58it/s]"
     ]
    },
    {
     "name": "stdout",
     "output_type": "stream",
     "text": [
      "✗ 92_png.rf.6a018e7e8f0401e76c555104290ce16a.jpg: No objects detected\n",
      "\n",
      "0: 640x640 4 messs, 24.8ms\n",
      "Speed: 6.0ms preprocess, 24.8ms inference, 2.0ms postprocess per image at shape (1, 3, 640, 640)\n",
      "✓ 92_png.rf.b5bc38345b23d693c3e4c06fcac41eba.jpg: Found 4 objects\n",
      "\n",
      "0: 640x640 (no detections), 24.8ms\n",
      "Speed: 3.1ms preprocess, 24.8ms inference, 0.9ms postprocess per image at shape (1, 3, 640, 640)\n"
     ]
    },
    {
     "name": "stderr",
     "output_type": "stream",
     "text": [
      "Processing images:  96%|█████████▌| 552/576 [01:15<00:02, 10.54it/s]"
     ]
    },
    {
     "name": "stdout",
     "output_type": "stream",
     "text": [
      "✗ 92_png.rf.b9205d8e9e600d0356bcb594c980e374.jpg: No objects detected\n",
      "\n",
      "0: 640x640 3 messs, 24.9ms\n",
      "Speed: 3.4ms preprocess, 24.9ms inference, 1.9ms postprocess per image at shape (1, 3, 640, 640)\n",
      "✓ 93_png.rf.4121808d8f532e6bb9401afa26d5bd5d.jpg: Found 3 objects\n",
      "\n",
      "0: 640x640 (no detections), 24.7ms\n",
      "Speed: 3.7ms preprocess, 24.7ms inference, 1.0ms postprocess per image at shape (1, 3, 640, 640)\n"
     ]
    },
    {
     "name": "stderr",
     "output_type": "stream",
     "text": [
      "Processing images:  96%|█████████▌| 554/576 [01:15<00:02, 10.54it/s]"
     ]
    },
    {
     "name": "stdout",
     "output_type": "stream",
     "text": [
      "✗ 93_png.rf.5c3168311ec906bf8f9fafe6f80c43c7.jpg: No objects detected\n",
      "\n",
      "0: 640x640 (no detections), 24.7ms\n",
      "Speed: 5.7ms preprocess, 24.7ms inference, 0.9ms postprocess per image at shape (1, 3, 640, 640)\n",
      "✗ 93_png.rf.b242a1528bd091ae9851b55393a2a0c2.jpg: No objects detected\n",
      "\n",
      "0: 640x640 2 messs, 24.7ms\n",
      "Speed: 3.6ms preprocess, 24.7ms inference, 1.9ms postprocess per image at shape (1, 3, 640, 640)\n",
      "✓ 93_png.rf.b357c4de72e06afee3d3a52af8c61935.jpg: Found 2 objects"
     ]
    },
    {
     "name": "stderr",
     "output_type": "stream",
     "text": [
      "Processing images:  97%|█████████▋| 556/576 [01:15<00:01, 10.49it/s]"
     ]
    },
    {
     "name": "stdout",
     "output_type": "stream",
     "text": [
      "\n",
      "\n",
      "0: 640x640 (no detections), 24.7ms\n",
      "Speed: 3.8ms preprocess, 24.7ms inference, 1.0ms postprocess per image at shape (1, 3, 640, 640)\n",
      "✗ 93_png.rf.ba09e398311737fbf5c70b7ebe9bb8f7.jpg: No objects detected\n",
      "\n",
      "0: 640x640 3 messs, 24.7ms\n",
      "Speed: 3.4ms preprocess, 24.7ms inference, 1.8ms postprocess per image at shape (1, 3, 640, 640)\n",
      "✓ 93_png.rf.ce39afac80a3df9db2759466d765f7e0.jpg: Found 3 objects\n"
     ]
    },
    {
     "name": "stderr",
     "output_type": "stream",
     "text": [
      "Processing images:  97%|█████████▋| 558/576 [01:16<00:01, 10.49it/s]"
     ]
    },
    {
     "name": "stdout",
     "output_type": "stream",
     "text": [
      "\n",
      "0: 640x640 4 messs, 24.7ms\n",
      "Speed: 3.3ms preprocess, 24.7ms inference, 2.0ms postprocess per image at shape (1, 3, 640, 640)\n",
      "✓ 94_png.rf.0f8d56ec8261f39b7948591bfd871f16.jpg: Found 4 objects\n",
      "\n",
      "0: 640x640 4 messs, 24.8ms\n",
      "Speed: 3.4ms preprocess, 24.8ms inference, 2.1ms postprocess per image at shape (1, 3, 640, 640)\n"
     ]
    },
    {
     "name": "stderr",
     "output_type": "stream",
     "text": [
      "Processing images:  97%|█████████▋| 560/576 [01:16<00:01,  8.68it/s]"
     ]
    },
    {
     "name": "stdout",
     "output_type": "stream",
     "text": [
      "✓ 94_png.rf.3b5d855a229ede99306d432c35110a35.jpg: Found 4 objects\n",
      "\n",
      "0: 640x640 3 messs, 28.7ms\n",
      "Speed: 3.7ms preprocess, 28.7ms inference, 2.1ms postprocess per image at shape (1, 3, 640, 640)\n"
     ]
    },
    {
     "name": "stderr",
     "output_type": "stream",
     "text": [
      "Processing images:  97%|█████████▋| 561/576 [01:16<00:01,  8.43it/s]"
     ]
    },
    {
     "name": "stdout",
     "output_type": "stream",
     "text": [
      "✓ 94_png.rf.ad125baf7a93ee981c600e42ff1f84ae.jpg: Found 3 objects\n",
      "\n",
      "0: 640x640 2 messs, 28.6ms\n",
      "Speed: 3.6ms preprocess, 28.6ms inference, 2.9ms postprocess per image at shape (1, 3, 640, 640)\n"
     ]
    },
    {
     "name": "stderr",
     "output_type": "stream",
     "text": [
      "Processing images:  98%|█████████▊| 562/576 [01:16<00:01,  8.20it/s]"
     ]
    },
    {
     "name": "stdout",
     "output_type": "stream",
     "text": [
      "✓ 94_png.rf.cd39eccda2e129f58dc22af6b1cc1ad7.jpg: Found 2 objects\n",
      "\n",
      "0: 640x640 2 messs, 28.6ms\n",
      "Speed: 4.0ms preprocess, 28.6ms inference, 2.0ms postprocess per image at shape (1, 3, 640, 640)\n"
     ]
    },
    {
     "name": "stderr",
     "output_type": "stream",
     "text": [
      "Processing images:  98%|█████████▊| 563/576 [01:16<00:01,  8.11it/s]"
     ]
    },
    {
     "name": "stdout",
     "output_type": "stream",
     "text": [
      "✓ 94_png.rf.d8700c7694c2650a81718f31b80d04b0.jpg: Found 2 objects\n",
      "\n",
      "0: 640x640 4 messs, 28.7ms\n",
      "Speed: 3.7ms preprocess, 28.7ms inference, 2.0ms postprocess per image at shape (1, 3, 640, 640)\n"
     ]
    },
    {
     "name": "stderr",
     "output_type": "stream",
     "text": [
      "Processing images:  98%|█████████▊| 564/576 [01:16<00:01,  7.47it/s]"
     ]
    },
    {
     "name": "stdout",
     "output_type": "stream",
     "text": [
      "✓ 94_png.rf.df266f95cfda991f7e570c9a2ddfa4c8.jpg: Found 4 objects\n",
      "\n",
      "0: 640x640 1 mess, 28.6ms\n",
      "Speed: 3.8ms preprocess, 28.6ms inference, 4.1ms postprocess per image at shape (1, 3, 640, 640)\n"
     ]
    },
    {
     "name": "stderr",
     "output_type": "stream",
     "text": [
      "Processing images:  98%|█████████▊| 565/576 [01:17<00:01,  7.53it/s]"
     ]
    },
    {
     "name": "stdout",
     "output_type": "stream",
     "text": [
      "✓ 95_png.rf.5f411c489624e6ae8e3c710c82da1377.jpg: Found 1 objects\n",
      "\n",
      "0: 640x640 6 messs, 28.6ms\n",
      "Speed: 3.4ms preprocess, 28.6ms inference, 2.0ms postprocess per image at shape (1, 3, 640, 640)\n",
      "✓ 95_png.rf.62829df1a14b0fcad80d2204236f7c13.jpg: Found 6 objects"
     ]
    },
    {
     "name": "stderr",
     "output_type": "stream",
     "text": [
      "Processing images:  98%|█████████▊| 566/576 [01:17<00:01,  6.90it/s]"
     ]
    },
    {
     "name": "stdout",
     "output_type": "stream",
     "text": [
      "\n",
      "\n",
      "0: 640x640 5 messs, 28.5ms\n",
      "Speed: 4.6ms preprocess, 28.5ms inference, 1.9ms postprocess per image at shape (1, 3, 640, 640)\n"
     ]
    },
    {
     "name": "stderr",
     "output_type": "stream",
     "text": [
      "Processing images:  98%|█████████▊| 567/576 [01:17<00:01,  6.49it/s]"
     ]
    },
    {
     "name": "stdout",
     "output_type": "stream",
     "text": [
      "✓ 95_png.rf.99010adc7f5436c124419b1a335395a7.jpg: Found 5 objects\n",
      "\n",
      "0: 640x640 1 mess, 28.5ms\n",
      "Speed: 3.6ms preprocess, 28.5ms inference, 1.9ms postprocess per image at shape (1, 3, 640, 640)\n"
     ]
    },
    {
     "name": "stderr",
     "output_type": "stream",
     "text": [
      "Processing images:  99%|█████████▊| 568/576 [01:17<00:01,  6.82it/s]"
     ]
    },
    {
     "name": "stdout",
     "output_type": "stream",
     "text": [
      "✓ 95_png.rf.9b5881b7e3178c660ce030b2eb431ff8.jpg: Found 1 objects\n",
      "\n",
      "0: 640x640 1 mess, 28.6ms\n",
      "Speed: 3.3ms preprocess, 28.6ms inference, 1.9ms postprocess per image at shape (1, 3, 640, 640)\n"
     ]
    },
    {
     "name": "stderr",
     "output_type": "stream",
     "text": [
      "Processing images:  99%|█████████▉| 569/576 [01:17<00:00,  7.08it/s]"
     ]
    },
    {
     "name": "stdout",
     "output_type": "stream",
     "text": [
      "✓ 95_png.rf.ba55eb2b2feca29867c467e5224d666e.jpg: Found 1 objects\n",
      "\n",
      "0: 640x640 4 messs, 28.6ms\n",
      "Speed: 3.4ms preprocess, 28.6ms inference, 2.0ms postprocess per image at shape (1, 3, 640, 640)\n"
     ]
    },
    {
     "name": "stderr",
     "output_type": "stream",
     "text": [
      "Processing images:  99%|█████████▉| 570/576 [01:17<00:00,  6.61it/s]"
     ]
    },
    {
     "name": "stdout",
     "output_type": "stream",
     "text": [
      "✓ 95_png.rf.ef508f693162124c59f709de7b7726c4.jpg: Found 4 objects\n",
      "\n",
      "0: 640x640 (no detections), 28.6ms\n",
      "Speed: 3.6ms preprocess, 28.6ms inference, 1.0ms postprocess per image at shape (1, 3, 640, 640)\n",
      "✗ 9_png.rf.1906192b8d12d8a30343fe779d175a11.jpg: No objects detected\n",
      "\n",
      "0: 640x640 3 messs, 28.5ms\n",
      "Speed: 4.1ms preprocess, 28.5ms inference, 2.0ms postprocess per image at shape (1, 3, 640, 640)\n"
     ]
    },
    {
     "name": "stderr",
     "output_type": "stream",
     "text": [
      "Processing images:  99%|█████████▉| 572/576 [01:18<00:00,  7.52it/s]"
     ]
    },
    {
     "name": "stdout",
     "output_type": "stream",
     "text": [
      "✓ 9_png.rf.3d5c9ef5bcac0b8e303c6e87625778a4.jpg: Found 3 objects\n",
      "\n",
      "0: 640x640 3 messs, 28.7ms\n",
      "Speed: 3.3ms preprocess, 28.7ms inference, 2.6ms postprocess per image at shape (1, 3, 640, 640)\n"
     ]
    },
    {
     "name": "stderr",
     "output_type": "stream",
     "text": [
      "Processing images:  99%|█████████▉| 573/576 [01:18<00:00,  6.93it/s]"
     ]
    },
    {
     "name": "stdout",
     "output_type": "stream",
     "text": [
      "✓ 9_png.rf.405d84b25b3ad1784ad2db06ee1b520e.jpg: Found 3 objects\n",
      "\n",
      "0: 640x640 3 messs, 28.7ms\n",
      "Speed: 3.8ms preprocess, 28.7ms inference, 2.0ms postprocess per image at shape (1, 3, 640, 640)\n",
      "✓ 9_png.rf.44420bef822be45c01f268d2d80639c4.jpg: Found 3 objects"
     ]
    },
    {
     "name": "stderr",
     "output_type": "stream",
     "text": [
      "Processing images: 100%|█████████▉| 574/576 [01:18<00:00,  6.56it/s]"
     ]
    },
    {
     "name": "stdout",
     "output_type": "stream",
     "text": [
      "\n",
      "\n",
      "0: 640x640 (no detections), 28.6ms\n",
      "Speed: 3.1ms preprocess, 28.6ms inference, 0.9ms postprocess per image at shape (1, 3, 640, 640)\n",
      "✗ 9_png.rf.cb38ba91759ec929667cce89bd893eac.jpg: No objects detected\n",
      "\n",
      "0: 640x640 (no detections), 28.7ms\n",
      "Speed: 3.4ms preprocess, 28.7ms inference, 0.9ms postprocess per image at shape (1, 3, 640, 640)\n"
     ]
    },
    {
     "name": "stderr",
     "output_type": "stream",
     "text": [
      "Processing images: 100%|██████████| 576/576 [01:18<00:00,  7.34it/s]"
     ]
    },
    {
     "name": "stdout",
     "output_type": "stream",
     "text": [
      "✗ 9_png.rf.d89ba63cc99b5e8d981b043d6be5f9e7.jpg: No objects detected\n",
      "\n",
      "Completed! Processed 576 images\n",
      "Results saved to: test_other_results.txt\n",
      "Images with detections saved to: test_other_prediction\n"
     ]
    },
    {
     "name": "stderr",
     "output_type": "stream",
     "text": [
      "\n"
     ]
    }
   ],
   "source": [
    "model = YOLO(\"./trained_models/mess_detector_best.pt\") \n",
    "\n",
    "from pathlib import Path\n",
    "import ultralytics\n",
    "from ultralytics import YOLO\n",
    "from PIL import Image, ImageDraw\n",
    "from tqdm import tqdm\n",
    "import os\n",
    "\n",
    "# Thay đổi đường dẫn folder ảnh muốn test\n",
    "test_folder = Path(\"./test_other\")  # Thay bằng đường dẫn thực tế\n",
    "list_data_test = list(test_folder.glob(\"*.jpg\")) + list(test_folder.glob(\"*.png\")) + list(test_folder.glob(\"*.jpeg\"))\n",
    "\n",
    "# Tạo folder để lưu kết quả\n",
    "prediction_folder = Path(\"./test_other_prediction\")\n",
    "prediction_folder.mkdir(exist_ok=True)\n",
    "\n",
    "answer_path = Path(\"./test_other_results.txt\")\n",
    "# Xóa file cũ nếu có\n",
    "if answer_path.exists():\n",
    "    answer_path.unlink()\n",
    "answer_path.touch()\n",
    "\n",
    "print(f\"Found {len(list_data_test)} images to process\")\n",
    "\n",
    "num = 0\n",
    "for img_path in tqdm(list_data_test, desc=\"Processing images\"):\n",
    "    try:\n",
    "        # Detect objects\n",
    "        results = model([img_path], conf=0.4)\n",
    "        result = results[0]\n",
    "        \n",
    "        # Vẽ bounding boxes và lưu ảnh\n",
    "        if len(result.boxes) > 0:  # Chỉ lưu ảnh có detection\n",
    "            im_array = result.plot()  # plot a BGR numpy array of predictions\n",
    "            im = Image.fromarray(im_array[..., ::-1])  # RGB PIL image\n",
    "            output_path = prediction_folder / f\"{img_path.stem}_detection.png\"\n",
    "            im.save(output_path)\n",
    "            \n",
    "            # Lưu thông tin detection\n",
    "            boxes = result.boxes\n",
    "            img = Image.open(img_path)\n",
    "            width, height = img.size\n",
    "            \n",
    "            with open(answer_path, \"a\") as file:\n",
    "                for bbox in boxes:\n",
    "                    x, y, w, h = map(float, bbox.xywh[0].tolist())\n",
    "                    conf = float(bbox.conf[0])  # Confidence score\n",
    "                    x_norm = x / width\n",
    "                    y_norm = y / height\n",
    "                    w_norm = w / width\n",
    "                    h_norm = h / height\n",
    "                    \n",
    "                    # Ghi kết quả với confidence score\n",
    "                    file.write(f\"{img_path.stem} 0 {x_norm:.6f} {y_norm:.6f} {w_norm:.6f} {h_norm:.6f} {conf:.4f}\\n\")\n",
    "            \n",
    "            print(f\"✓ {img_path.name}: Found {len(boxes)} objects\")\n",
    "        else:\n",
    "            print(f\"✗ {img_path.name}: No objects detected\")\n",
    "        \n",
    "        num += 1\n",
    "        \n",
    "    except Exception as e:\n",
    "        print(f\"Error processing {img_path.name}: {e}\")\n",
    "\n",
    "print(f\"\\nCompleted! Processed {num} images\")\n",
    "print(f\"Results saved to: {answer_path}\")\n",
    "print(f\"Images with detections saved to: {prediction_folder}\")"
   ]
  }
 ],
 "metadata": {
  "kernelspec": {
   "display_name": "Python 3",
   "language": "python",
   "name": "python3"
  },
  "language_info": {
   "codemirror_mode": {
    "name": "ipython",
    "version": 3
   },
   "file_extension": ".py",
   "mimetype": "text/x-python",
   "name": "python",
   "nbconvert_exporter": "python",
   "pygments_lexer": "ipython3",
   "version": "3.10.11"
  }
 },
 "nbformat": 4,
 "nbformat_minor": 5
}
